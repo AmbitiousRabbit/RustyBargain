{
 "cells": [
  {
   "cell_type": "markdown",
   "metadata": {},
   "source": [
    "# Introduction\n",
    "\n",
    "### Objective:\n",
    "Rusty Bargain used car sales service is developing an app to attract new customers. In that app, you can quickly find out the market value of your car. You have access to historical data: technical specifications, trim versions, and prices. You need to build the model to determine the value. \n",
    "\n",
    "### Goals:\n",
    "Rusty Bargain is interested in:\n",
    "\n",
    "- the quality of the prediction;\n",
    "- the speed of the prediction;\n",
    "- the time required for training"
   ]
  },
  {
   "cell_type": "markdown",
   "metadata": {},
   "source": [
    "# Initialization"
   ]
  },
  {
   "cell_type": "code",
   "execution_count": 1,
   "metadata": {},
   "outputs": [],
   "source": [
    "#Load Libraries Here\n",
    "import time\n",
    "import spacy\n",
    "import numpy as np\n",
    "import pandas as pd\n",
    "import seaborn as sns\n",
    "import xgboost as xgb\n",
    "import lightgbm as lgb\n",
    "import matplotlib.pyplot as plt\n",
    "from IPython.display import display\n",
    "from sklearn.decomposition import PCA\n",
    "from catboost import CatBoostRegressor\n",
    "from scipy.sparse import csr_matrix, hstack\n",
    "from sklearn.model_selection import GridSearchCV\n",
    "from sklearn.linear_model import LinearRegression\n",
    "from sklearn.ensemble import RandomForestRegressor\n",
    "from sklearn.model_selection import train_test_split\n",
    "from sklearn.preprocessing import StandardScaler, OneHotEncoder\n",
    "from sklearn.metrics  import f1_score, mean_squared_error, r2_score"
   ]
  },
  {
   "cell_type": "markdown",
   "metadata": {},
   "source": [
    "# Load Data"
   ]
  },
  {
   "cell_type": "code",
   "execution_count": 2,
   "metadata": {},
   "outputs": [],
   "source": [
    "#Load Data Here\n",
    "df = pd.read_csv('/datasets/car_data.csv')"
   ]
  },
  {
   "cell_type": "markdown",
   "metadata": {},
   "source": [
    "During the data pre-processing phase, the 'usual' was executed from getting a glimpse of what the data reveals (missing values, shape, dtypes, etc) to manipulating the data (dropping, renaming, and separting by numerical or categorical)."
   ]
  },
  {
   "cell_type": "markdown",
   "metadata": {},
   "source": [
    "## Data preparation"
   ]
  },
  {
   "cell_type": "code",
   "execution_count": 3,
   "metadata": {},
   "outputs": [
    {
     "data": {
      "text/html": [
       "<div>\n",
       "<style scoped>\n",
       "    .dataframe tbody tr th:only-of-type {\n",
       "        vertical-align: middle;\n",
       "    }\n",
       "\n",
       "    .dataframe tbody tr th {\n",
       "        vertical-align: top;\n",
       "    }\n",
       "\n",
       "    .dataframe thead th {\n",
       "        text-align: right;\n",
       "    }\n",
       "</style>\n",
       "<table border=\"1\" class=\"dataframe\">\n",
       "  <thead>\n",
       "    <tr style=\"text-align: right;\">\n",
       "      <th></th>\n",
       "      <th>DateCrawled</th>\n",
       "      <th>Price</th>\n",
       "      <th>VehicleType</th>\n",
       "      <th>RegistrationYear</th>\n",
       "      <th>Gearbox</th>\n",
       "      <th>Power</th>\n",
       "      <th>Model</th>\n",
       "      <th>Mileage</th>\n",
       "      <th>RegistrationMonth</th>\n",
       "      <th>FuelType</th>\n",
       "      <th>Brand</th>\n",
       "      <th>NotRepaired</th>\n",
       "      <th>DateCreated</th>\n",
       "      <th>NumberOfPictures</th>\n",
       "      <th>PostalCode</th>\n",
       "      <th>LastSeen</th>\n",
       "    </tr>\n",
       "  </thead>\n",
       "  <tbody>\n",
       "    <tr>\n",
       "      <th>0</th>\n",
       "      <td>24/03/2016 11:52</td>\n",
       "      <td>480</td>\n",
       "      <td>NaN</td>\n",
       "      <td>1993</td>\n",
       "      <td>manual</td>\n",
       "      <td>0</td>\n",
       "      <td>golf</td>\n",
       "      <td>150000</td>\n",
       "      <td>0</td>\n",
       "      <td>petrol</td>\n",
       "      <td>volkswagen</td>\n",
       "      <td>NaN</td>\n",
       "      <td>24/03/2016 00:00</td>\n",
       "      <td>0</td>\n",
       "      <td>70435</td>\n",
       "      <td>07/04/2016 03:16</td>\n",
       "    </tr>\n",
       "    <tr>\n",
       "      <th>1</th>\n",
       "      <td>24/03/2016 10:58</td>\n",
       "      <td>18300</td>\n",
       "      <td>coupe</td>\n",
       "      <td>2011</td>\n",
       "      <td>manual</td>\n",
       "      <td>190</td>\n",
       "      <td>NaN</td>\n",
       "      <td>125000</td>\n",
       "      <td>5</td>\n",
       "      <td>gasoline</td>\n",
       "      <td>audi</td>\n",
       "      <td>yes</td>\n",
       "      <td>24/03/2016 00:00</td>\n",
       "      <td>0</td>\n",
       "      <td>66954</td>\n",
       "      <td>07/04/2016 01:46</td>\n",
       "    </tr>\n",
       "    <tr>\n",
       "      <th>2</th>\n",
       "      <td>14/03/2016 12:52</td>\n",
       "      <td>9800</td>\n",
       "      <td>suv</td>\n",
       "      <td>2004</td>\n",
       "      <td>auto</td>\n",
       "      <td>163</td>\n",
       "      <td>grand</td>\n",
       "      <td>125000</td>\n",
       "      <td>8</td>\n",
       "      <td>gasoline</td>\n",
       "      <td>jeep</td>\n",
       "      <td>NaN</td>\n",
       "      <td>14/03/2016 00:00</td>\n",
       "      <td>0</td>\n",
       "      <td>90480</td>\n",
       "      <td>05/04/2016 12:47</td>\n",
       "    </tr>\n",
       "    <tr>\n",
       "      <th>3</th>\n",
       "      <td>17/03/2016 16:54</td>\n",
       "      <td>1500</td>\n",
       "      <td>small</td>\n",
       "      <td>2001</td>\n",
       "      <td>manual</td>\n",
       "      <td>75</td>\n",
       "      <td>golf</td>\n",
       "      <td>150000</td>\n",
       "      <td>6</td>\n",
       "      <td>petrol</td>\n",
       "      <td>volkswagen</td>\n",
       "      <td>no</td>\n",
       "      <td>17/03/2016 00:00</td>\n",
       "      <td>0</td>\n",
       "      <td>91074</td>\n",
       "      <td>17/03/2016 17:40</td>\n",
       "    </tr>\n",
       "    <tr>\n",
       "      <th>4</th>\n",
       "      <td>31/03/2016 17:25</td>\n",
       "      <td>3600</td>\n",
       "      <td>small</td>\n",
       "      <td>2008</td>\n",
       "      <td>manual</td>\n",
       "      <td>69</td>\n",
       "      <td>fabia</td>\n",
       "      <td>90000</td>\n",
       "      <td>7</td>\n",
       "      <td>gasoline</td>\n",
       "      <td>skoda</td>\n",
       "      <td>no</td>\n",
       "      <td>31/03/2016 00:00</td>\n",
       "      <td>0</td>\n",
       "      <td>60437</td>\n",
       "      <td>06/04/2016 10:17</td>\n",
       "    </tr>\n",
       "    <tr>\n",
       "      <th>5</th>\n",
       "      <td>04/04/2016 17:36</td>\n",
       "      <td>650</td>\n",
       "      <td>sedan</td>\n",
       "      <td>1995</td>\n",
       "      <td>manual</td>\n",
       "      <td>102</td>\n",
       "      <td>3er</td>\n",
       "      <td>150000</td>\n",
       "      <td>10</td>\n",
       "      <td>petrol</td>\n",
       "      <td>bmw</td>\n",
       "      <td>yes</td>\n",
       "      <td>04/04/2016 00:00</td>\n",
       "      <td>0</td>\n",
       "      <td>33775</td>\n",
       "      <td>06/04/2016 19:17</td>\n",
       "    </tr>\n",
       "    <tr>\n",
       "      <th>6</th>\n",
       "      <td>01/04/2016 20:48</td>\n",
       "      <td>2200</td>\n",
       "      <td>convertible</td>\n",
       "      <td>2004</td>\n",
       "      <td>manual</td>\n",
       "      <td>109</td>\n",
       "      <td>2_reihe</td>\n",
       "      <td>150000</td>\n",
       "      <td>8</td>\n",
       "      <td>petrol</td>\n",
       "      <td>peugeot</td>\n",
       "      <td>no</td>\n",
       "      <td>01/04/2016 00:00</td>\n",
       "      <td>0</td>\n",
       "      <td>67112</td>\n",
       "      <td>05/04/2016 18:18</td>\n",
       "    </tr>\n",
       "    <tr>\n",
       "      <th>7</th>\n",
       "      <td>21/03/2016 18:54</td>\n",
       "      <td>0</td>\n",
       "      <td>sedan</td>\n",
       "      <td>1980</td>\n",
       "      <td>manual</td>\n",
       "      <td>50</td>\n",
       "      <td>other</td>\n",
       "      <td>40000</td>\n",
       "      <td>7</td>\n",
       "      <td>petrol</td>\n",
       "      <td>volkswagen</td>\n",
       "      <td>no</td>\n",
       "      <td>21/03/2016 00:00</td>\n",
       "      <td>0</td>\n",
       "      <td>19348</td>\n",
       "      <td>25/03/2016 16:47</td>\n",
       "    </tr>\n",
       "    <tr>\n",
       "      <th>8</th>\n",
       "      <td>04/04/2016 23:42</td>\n",
       "      <td>14500</td>\n",
       "      <td>bus</td>\n",
       "      <td>2014</td>\n",
       "      <td>manual</td>\n",
       "      <td>125</td>\n",
       "      <td>c_max</td>\n",
       "      <td>30000</td>\n",
       "      <td>8</td>\n",
       "      <td>petrol</td>\n",
       "      <td>ford</td>\n",
       "      <td>NaN</td>\n",
       "      <td>04/04/2016 00:00</td>\n",
       "      <td>0</td>\n",
       "      <td>94505</td>\n",
       "      <td>04/04/2016 23:42</td>\n",
       "    </tr>\n",
       "    <tr>\n",
       "      <th>9</th>\n",
       "      <td>17/03/2016 10:53</td>\n",
       "      <td>999</td>\n",
       "      <td>small</td>\n",
       "      <td>1998</td>\n",
       "      <td>manual</td>\n",
       "      <td>101</td>\n",
       "      <td>golf</td>\n",
       "      <td>150000</td>\n",
       "      <td>0</td>\n",
       "      <td>NaN</td>\n",
       "      <td>volkswagen</td>\n",
       "      <td>NaN</td>\n",
       "      <td>17/03/2016 00:00</td>\n",
       "      <td>0</td>\n",
       "      <td>27472</td>\n",
       "      <td>31/03/2016 17:17</td>\n",
       "    </tr>\n",
       "    <tr>\n",
       "      <th>10</th>\n",
       "      <td>26/03/2016 19:54</td>\n",
       "      <td>2000</td>\n",
       "      <td>sedan</td>\n",
       "      <td>2004</td>\n",
       "      <td>manual</td>\n",
       "      <td>105</td>\n",
       "      <td>3_reihe</td>\n",
       "      <td>150000</td>\n",
       "      <td>12</td>\n",
       "      <td>petrol</td>\n",
       "      <td>mazda</td>\n",
       "      <td>no</td>\n",
       "      <td>26/03/2016 00:00</td>\n",
       "      <td>0</td>\n",
       "      <td>96224</td>\n",
       "      <td>06/04/2016 10:45</td>\n",
       "    </tr>\n",
       "    <tr>\n",
       "      <th>11</th>\n",
       "      <td>07/04/2016 10:06</td>\n",
       "      <td>2799</td>\n",
       "      <td>wagon</td>\n",
       "      <td>2005</td>\n",
       "      <td>manual</td>\n",
       "      <td>140</td>\n",
       "      <td>passat</td>\n",
       "      <td>150000</td>\n",
       "      <td>12</td>\n",
       "      <td>gasoline</td>\n",
       "      <td>volkswagen</td>\n",
       "      <td>yes</td>\n",
       "      <td>07/04/2016 00:00</td>\n",
       "      <td>0</td>\n",
       "      <td>57290</td>\n",
       "      <td>07/04/2016 10:25</td>\n",
       "    </tr>\n",
       "    <tr>\n",
       "      <th>12</th>\n",
       "      <td>15/03/2016 22:49</td>\n",
       "      <td>999</td>\n",
       "      <td>wagon</td>\n",
       "      <td>1995</td>\n",
       "      <td>manual</td>\n",
       "      <td>115</td>\n",
       "      <td>passat</td>\n",
       "      <td>150000</td>\n",
       "      <td>11</td>\n",
       "      <td>petrol</td>\n",
       "      <td>volkswagen</td>\n",
       "      <td>NaN</td>\n",
       "      <td>15/03/2016 00:00</td>\n",
       "      <td>0</td>\n",
       "      <td>37269</td>\n",
       "      <td>01/04/2016 13:16</td>\n",
       "    </tr>\n",
       "    <tr>\n",
       "      <th>13</th>\n",
       "      <td>21/03/2016 21:37</td>\n",
       "      <td>2500</td>\n",
       "      <td>wagon</td>\n",
       "      <td>2004</td>\n",
       "      <td>manual</td>\n",
       "      <td>131</td>\n",
       "      <td>passat</td>\n",
       "      <td>150000</td>\n",
       "      <td>2</td>\n",
       "      <td>NaN</td>\n",
       "      <td>volkswagen</td>\n",
       "      <td>no</td>\n",
       "      <td>21/03/2016 00:00</td>\n",
       "      <td>0</td>\n",
       "      <td>90762</td>\n",
       "      <td>23/03/2016 02:50</td>\n",
       "    </tr>\n",
       "    <tr>\n",
       "      <th>14</th>\n",
       "      <td>21/03/2016 12:57</td>\n",
       "      <td>17999</td>\n",
       "      <td>suv</td>\n",
       "      <td>2011</td>\n",
       "      <td>manual</td>\n",
       "      <td>190</td>\n",
       "      <td>navara</td>\n",
       "      <td>70000</td>\n",
       "      <td>3</td>\n",
       "      <td>gasoline</td>\n",
       "      <td>nissan</td>\n",
       "      <td>no</td>\n",
       "      <td>21/03/2016 00:00</td>\n",
       "      <td>0</td>\n",
       "      <td>4177</td>\n",
       "      <td>06/04/2016 07:45</td>\n",
       "    </tr>\n",
       "  </tbody>\n",
       "</table>\n",
       "</div>"
      ],
      "text/plain": [
       "         DateCrawled  Price  VehicleType  RegistrationYear Gearbox  Power  \\\n",
       "0   24/03/2016 11:52    480          NaN              1993  manual      0   \n",
       "1   24/03/2016 10:58  18300        coupe              2011  manual    190   \n",
       "2   14/03/2016 12:52   9800          suv              2004    auto    163   \n",
       "3   17/03/2016 16:54   1500        small              2001  manual     75   \n",
       "4   31/03/2016 17:25   3600        small              2008  manual     69   \n",
       "5   04/04/2016 17:36    650        sedan              1995  manual    102   \n",
       "6   01/04/2016 20:48   2200  convertible              2004  manual    109   \n",
       "7   21/03/2016 18:54      0        sedan              1980  manual     50   \n",
       "8   04/04/2016 23:42  14500          bus              2014  manual    125   \n",
       "9   17/03/2016 10:53    999        small              1998  manual    101   \n",
       "10  26/03/2016 19:54   2000        sedan              2004  manual    105   \n",
       "11  07/04/2016 10:06   2799        wagon              2005  manual    140   \n",
       "12  15/03/2016 22:49    999        wagon              1995  manual    115   \n",
       "13  21/03/2016 21:37   2500        wagon              2004  manual    131   \n",
       "14  21/03/2016 12:57  17999          suv              2011  manual    190   \n",
       "\n",
       "      Model  Mileage  RegistrationMonth  FuelType       Brand NotRepaired  \\\n",
       "0      golf   150000                  0    petrol  volkswagen         NaN   \n",
       "1       NaN   125000                  5  gasoline        audi         yes   \n",
       "2     grand   125000                  8  gasoline        jeep         NaN   \n",
       "3      golf   150000                  6    petrol  volkswagen          no   \n",
       "4     fabia    90000                  7  gasoline       skoda          no   \n",
       "5       3er   150000                 10    petrol         bmw         yes   \n",
       "6   2_reihe   150000                  8    petrol     peugeot          no   \n",
       "7     other    40000                  7    petrol  volkswagen          no   \n",
       "8     c_max    30000                  8    petrol        ford         NaN   \n",
       "9      golf   150000                  0       NaN  volkswagen         NaN   \n",
       "10  3_reihe   150000                 12    petrol       mazda          no   \n",
       "11   passat   150000                 12  gasoline  volkswagen         yes   \n",
       "12   passat   150000                 11    petrol  volkswagen         NaN   \n",
       "13   passat   150000                  2       NaN  volkswagen          no   \n",
       "14   navara    70000                  3  gasoline      nissan          no   \n",
       "\n",
       "         DateCreated  NumberOfPictures  PostalCode          LastSeen  \n",
       "0   24/03/2016 00:00                 0       70435  07/04/2016 03:16  \n",
       "1   24/03/2016 00:00                 0       66954  07/04/2016 01:46  \n",
       "2   14/03/2016 00:00                 0       90480  05/04/2016 12:47  \n",
       "3   17/03/2016 00:00                 0       91074  17/03/2016 17:40  \n",
       "4   31/03/2016 00:00                 0       60437  06/04/2016 10:17  \n",
       "5   04/04/2016 00:00                 0       33775  06/04/2016 19:17  \n",
       "6   01/04/2016 00:00                 0       67112  05/04/2016 18:18  \n",
       "7   21/03/2016 00:00                 0       19348  25/03/2016 16:47  \n",
       "8   04/04/2016 00:00                 0       94505  04/04/2016 23:42  \n",
       "9   17/03/2016 00:00                 0       27472  31/03/2016 17:17  \n",
       "10  26/03/2016 00:00                 0       96224  06/04/2016 10:45  \n",
       "11  07/04/2016 00:00                 0       57290  07/04/2016 10:25  \n",
       "12  15/03/2016 00:00                 0       37269  01/04/2016 13:16  \n",
       "13  21/03/2016 00:00                 0       90762  23/03/2016 02:50  \n",
       "14  21/03/2016 00:00                 0        4177  06/04/2016 07:45  "
      ]
     },
     "execution_count": 3,
     "metadata": {},
     "output_type": "execute_result"
    }
   ],
   "source": [
    "df.head(15)"
   ]
  },
  {
   "cell_type": "code",
   "execution_count": 4,
   "metadata": {},
   "outputs": [
    {
     "data": {
      "text/plain": [
       "(354369, 16)"
      ]
     },
     "execution_count": 4,
     "metadata": {},
     "output_type": "execute_result"
    }
   ],
   "source": [
    "df.shape"
   ]
  },
  {
   "cell_type": "code",
   "execution_count": 5,
   "metadata": {},
   "outputs": [
    {
     "name": "stdout",
     "output_type": "stream",
     "text": [
      "<class 'pandas.core.frame.DataFrame'>\n",
      "RangeIndex: 354369 entries, 0 to 354368\n",
      "Data columns (total 16 columns):\n",
      " #   Column             Non-Null Count   Dtype \n",
      "---  ------             --------------   ----- \n",
      " 0   DateCrawled        354369 non-null  object\n",
      " 1   Price              354369 non-null  int64 \n",
      " 2   VehicleType        316879 non-null  object\n",
      " 3   RegistrationYear   354369 non-null  int64 \n",
      " 4   Gearbox            334536 non-null  object\n",
      " 5   Power              354369 non-null  int64 \n",
      " 6   Model              334664 non-null  object\n",
      " 7   Mileage            354369 non-null  int64 \n",
      " 8   RegistrationMonth  354369 non-null  int64 \n",
      " 9   FuelType           321474 non-null  object\n",
      " 10  Brand              354369 non-null  object\n",
      " 11  NotRepaired        283215 non-null  object\n",
      " 12  DateCreated        354369 non-null  object\n",
      " 13  NumberOfPictures   354369 non-null  int64 \n",
      " 14  PostalCode         354369 non-null  int64 \n",
      " 15  LastSeen           354369 non-null  object\n",
      "dtypes: int64(7), object(9)\n",
      "memory usage: 43.3+ MB\n"
     ]
    }
   ],
   "source": [
    "df.info()"
   ]
  },
  {
   "cell_type": "code",
   "execution_count": 6,
   "metadata": {},
   "outputs": [
    {
     "data": {
      "text/plain": [
       "DateCrawled              0\n",
       "Price                    0\n",
       "VehicleType          37490\n",
       "RegistrationYear         0\n",
       "Gearbox              19833\n",
       "Power                    0\n",
       "Model                19705\n",
       "Mileage                  0\n",
       "RegistrationMonth        0\n",
       "FuelType             32895\n",
       "Brand                    0\n",
       "NotRepaired          71154\n",
       "DateCreated              0\n",
       "NumberOfPictures         0\n",
       "PostalCode               0\n",
       "LastSeen                 0\n",
       "dtype: int64"
      ]
     },
     "execution_count": 6,
     "metadata": {},
     "output_type": "execute_result"
    }
   ],
   "source": [
    "df.isna().sum()"
   ]
  },
  {
   "cell_type": "code",
   "execution_count": 7,
   "metadata": {},
   "outputs": [
    {
     "data": {
      "text/plain": [
       "262"
      ]
     },
     "execution_count": 7,
     "metadata": {},
     "output_type": "execute_result"
    }
   ],
   "source": [
    "df.duplicated().sum()"
   ]
  },
  {
   "cell_type": "code",
   "execution_count": 8,
   "metadata": {},
   "outputs": [
    {
     "name": "stdout",
     "output_type": "stream",
     "text": [
      "        Column  Missing Percentage\n",
      "0  VehicleType           10.579368\n",
      "1      Gearbox            5.596709\n",
      "2        Model            5.560588\n",
      "3     FuelType            9.282697\n",
      "4  NotRepaired           20.079070\n"
     ]
    }
   ],
   "source": [
    "nan_percent = {}\n",
    "\n",
    "for x in df.columns:\n",
    "    nan_pct = df[x].isnull().sum() / len(df) * 100\n",
    "    if nan_pct > 0:\n",
    "        nan_percent[x] = nan_pct\n",
    "\n",
    "nan_percent_df = pd.DataFrame(list(nan_percent.items()), columns=['Column', 'Missing Percentage'])\n",
    "print(nan_percent_df)"
   ]
  },
  {
   "cell_type": "code",
   "execution_count": 9,
   "metadata": {},
   "outputs": [
    {
     "data": {
      "text/plain": [
       "array([nan, 'coupe', 'suv', 'small', 'sedan', 'convertible', 'bus',\n",
       "       'wagon', 'other'], dtype=object)"
      ]
     },
     "execution_count": 9,
     "metadata": {},
     "output_type": "execute_result"
    }
   ],
   "source": [
    "df['VehicleType'].unique()"
   ]
  },
  {
   "cell_type": "code",
   "execution_count": 10,
   "metadata": {},
   "outputs": [
    {
     "data": {
      "text/plain": [
       "array([nan, 'yes', 'no'], dtype=object)"
      ]
     },
     "execution_count": 10,
     "metadata": {},
     "output_type": "execute_result"
    }
   ],
   "source": [
    "df['NotRepaired'].unique()"
   ]
  },
  {
   "cell_type": "code",
   "execution_count": 11,
   "metadata": {},
   "outputs": [
    {
     "data": {
      "text/plain": [
       "no     247161\n",
       "yes     36054\n",
       "Name: NotRepaired, dtype: int64"
      ]
     },
     "execution_count": 11,
     "metadata": {},
     "output_type": "execute_result"
    }
   ],
   "source": [
    "df['NotRepaired'].value_counts()"
   ]
  },
  {
   "cell_type": "code",
   "execution_count": 12,
   "metadata": {},
   "outputs": [
    {
     "data": {
      "text/plain": [
       "array(['petrol', 'gasoline', nan, 'lpg', 'other', 'hybrid', 'cng',\n",
       "       'electric'], dtype=object)"
      ]
     },
     "execution_count": 12,
     "metadata": {},
     "output_type": "execute_result"
    }
   ],
   "source": [
    "df['FuelType'].unique()"
   ]
  },
  {
   "cell_type": "code",
   "execution_count": 13,
   "metadata": {},
   "outputs": [
    {
     "data": {
      "text/plain": [
       "petrol      216352\n",
       "gasoline     98720\n",
       "lpg           5310\n",
       "cng            565\n",
       "hybrid         233\n",
       "other          204\n",
       "electric        90\n",
       "Name: FuelType, dtype: int64"
      ]
     },
     "execution_count": 13,
     "metadata": {},
     "output_type": "execute_result"
    }
   ],
   "source": [
    "df['FuelType'].value_counts()"
   ]
  },
  {
   "cell_type": "code",
   "execution_count": 14,
   "metadata": {},
   "outputs": [],
   "source": [
    "#update value here\n",
    "df['VehicleType'] = df['VehicleType'].fillna('sedan')\n",
    "df['Gearbox'] = df['Gearbox'].fillna('auto')\n",
    "df['Model'] = df['Model'].fillna('other')\n",
    "df['FuelType'] = df['FuelType'].fillna('petrol')\n",
    "df['NotRepaired'] = df['NotRepaired'].fillna('no')"
   ]
  },
  {
   "cell_type": "markdown",
   "metadata": {},
   "source": [
    "I went ahead and fill any of the column's missing values with the most common or sensible value in order to curate an evenly shaped dataframe. "
   ]
  },
  {
   "cell_type": "code",
   "execution_count": 15,
   "metadata": {},
   "outputs": [
    {
     "name": "stdout",
     "output_type": "stream",
     "text": [
      "<class 'pandas.core.frame.DataFrame'>\n",
      "RangeIndex: 354369 entries, 0 to 354368\n",
      "Data columns (total 16 columns):\n",
      " #   Column             Non-Null Count   Dtype \n",
      "---  ------             --------------   ----- \n",
      " 0   DateCrawled        354369 non-null  object\n",
      " 1   Price              354369 non-null  int64 \n",
      " 2   VehicleType        354369 non-null  object\n",
      " 3   RegistrationYear   354369 non-null  int64 \n",
      " 4   Gearbox            354369 non-null  object\n",
      " 5   Power              354369 non-null  int64 \n",
      " 6   Model              354369 non-null  object\n",
      " 7   Mileage            354369 non-null  int64 \n",
      " 8   RegistrationMonth  354369 non-null  int64 \n",
      " 9   FuelType           354369 non-null  object\n",
      " 10  Brand              354369 non-null  object\n",
      " 11  NotRepaired        354369 non-null  object\n",
      " 12  DateCreated        354369 non-null  object\n",
      " 13  NumberOfPictures   354369 non-null  int64 \n",
      " 14  PostalCode         354369 non-null  int64 \n",
      " 15  LastSeen           354369 non-null  object\n",
      "dtypes: int64(7), object(9)\n",
      "memory usage: 43.3+ MB\n"
     ]
    }
   ],
   "source": [
    "df.info()"
   ]
  },
  {
   "cell_type": "code",
   "execution_count": 16,
   "metadata": {},
   "outputs": [],
   "source": [
    "mldf = df.drop(df[['DateCrawled', 'DateCreated', 'NumberOfPictures', 'PostalCode', 'LastSeen']], axis=1)"
   ]
  },
  {
   "cell_type": "code",
   "execution_count": 17,
   "metadata": {},
   "outputs": [
    {
     "name": "stdout",
     "output_type": "stream",
     "text": [
      "<class 'pandas.core.frame.DataFrame'>\n",
      "RangeIndex: 354369 entries, 0 to 354368\n",
      "Data columns (total 11 columns):\n",
      " #   Column             Non-Null Count   Dtype \n",
      "---  ------             --------------   ----- \n",
      " 0   Price              354369 non-null  int64 \n",
      " 1   VehicleType        354369 non-null  object\n",
      " 2   RegistrationYear   354369 non-null  int64 \n",
      " 3   Gearbox            354369 non-null  object\n",
      " 4   Power              354369 non-null  int64 \n",
      " 5   Model              354369 non-null  object\n",
      " 6   Mileage            354369 non-null  int64 \n",
      " 7   RegistrationMonth  354369 non-null  int64 \n",
      " 8   FuelType           354369 non-null  object\n",
      " 9   Brand              354369 non-null  object\n",
      " 10  NotRepaired        354369 non-null  object\n",
      "dtypes: int64(5), object(6)\n",
      "memory usage: 29.7+ MB\n"
     ]
    }
   ],
   "source": [
    "mldf.info()"
   ]
  },
  {
   "cell_type": "code",
   "execution_count": 18,
   "metadata": {},
   "outputs": [],
   "source": [
    "mldf.rename(columns={'Price' : 'price', 'VehicleType' : 'vehicletype',\n",
    "                    'RegistrationYear' : 'registrationyear', 'Gearbox' : 'gearbox',\n",
    "            'Power' : 'power', 'Model' : 'model',\n",
    "            'Mileage' : 'mileage', 'RegistrationMonth' : 'registrationmonth',\n",
    "            'FuelType' : 'fueltype', 'Brand' : 'brand',\n",
    "            'NotRepaired' : 'notrepaired'}, inplace=True)"
   ]
  },
  {
   "cell_type": "code",
   "execution_count": 19,
   "metadata": {},
   "outputs": [
    {
     "data": {
      "text/html": [
       "<div>\n",
       "<style scoped>\n",
       "    .dataframe tbody tr th:only-of-type {\n",
       "        vertical-align: middle;\n",
       "    }\n",
       "\n",
       "    .dataframe tbody tr th {\n",
       "        vertical-align: top;\n",
       "    }\n",
       "\n",
       "    .dataframe thead th {\n",
       "        text-align: right;\n",
       "    }\n",
       "</style>\n",
       "<table border=\"1\" class=\"dataframe\">\n",
       "  <thead>\n",
       "    <tr style=\"text-align: right;\">\n",
       "      <th></th>\n",
       "      <th>price</th>\n",
       "      <th>vehicletype</th>\n",
       "      <th>registrationyear</th>\n",
       "      <th>gearbox</th>\n",
       "      <th>power</th>\n",
       "      <th>model</th>\n",
       "      <th>mileage</th>\n",
       "      <th>registrationmonth</th>\n",
       "      <th>fueltype</th>\n",
       "      <th>brand</th>\n",
       "      <th>notrepaired</th>\n",
       "    </tr>\n",
       "  </thead>\n",
       "  <tbody>\n",
       "    <tr>\n",
       "      <th>221560</th>\n",
       "      <td>8800</td>\n",
       "      <td>wagon</td>\n",
       "      <td>2011</td>\n",
       "      <td>manual</td>\n",
       "      <td>165</td>\n",
       "      <td>zafira</td>\n",
       "      <td>30000</td>\n",
       "      <td>12</td>\n",
       "      <td>gasoline</td>\n",
       "      <td>opel</td>\n",
       "      <td>no</td>\n",
       "    </tr>\n",
       "    <tr>\n",
       "      <th>98519</th>\n",
       "      <td>5000</td>\n",
       "      <td>small</td>\n",
       "      <td>1990</td>\n",
       "      <td>manual</td>\n",
       "      <td>0</td>\n",
       "      <td>golf</td>\n",
       "      <td>20000</td>\n",
       "      <td>6</td>\n",
       "      <td>petrol</td>\n",
       "      <td>volkswagen</td>\n",
       "      <td>no</td>\n",
       "    </tr>\n",
       "    <tr>\n",
       "      <th>259891</th>\n",
       "      <td>7699</td>\n",
       "      <td>sedan</td>\n",
       "      <td>2002</td>\n",
       "      <td>auto</td>\n",
       "      <td>170</td>\n",
       "      <td>3er</td>\n",
       "      <td>150000</td>\n",
       "      <td>8</td>\n",
       "      <td>petrol</td>\n",
       "      <td>bmw</td>\n",
       "      <td>no</td>\n",
       "    </tr>\n",
       "    <tr>\n",
       "      <th>301998</th>\n",
       "      <td>3599</td>\n",
       "      <td>bus</td>\n",
       "      <td>2002</td>\n",
       "      <td>manual</td>\n",
       "      <td>125</td>\n",
       "      <td>zafira</td>\n",
       "      <td>150000</td>\n",
       "      <td>12</td>\n",
       "      <td>petrol</td>\n",
       "      <td>opel</td>\n",
       "      <td>yes</td>\n",
       "    </tr>\n",
       "    <tr>\n",
       "      <th>184621</th>\n",
       "      <td>7190</td>\n",
       "      <td>wagon</td>\n",
       "      <td>2007</td>\n",
       "      <td>manual</td>\n",
       "      <td>143</td>\n",
       "      <td>3er</td>\n",
       "      <td>150000</td>\n",
       "      <td>9</td>\n",
       "      <td>gasoline</td>\n",
       "      <td>bmw</td>\n",
       "      <td>no</td>\n",
       "    </tr>\n",
       "    <tr>\n",
       "      <th>304810</th>\n",
       "      <td>3200</td>\n",
       "      <td>convertible</td>\n",
       "      <td>2003</td>\n",
       "      <td>auto</td>\n",
       "      <td>61</td>\n",
       "      <td>roadster</td>\n",
       "      <td>125000</td>\n",
       "      <td>4</td>\n",
       "      <td>petrol</td>\n",
       "      <td>smart</td>\n",
       "      <td>no</td>\n",
       "    </tr>\n",
       "    <tr>\n",
       "      <th>152093</th>\n",
       "      <td>2300</td>\n",
       "      <td>wagon</td>\n",
       "      <td>2003</td>\n",
       "      <td>manual</td>\n",
       "      <td>131</td>\n",
       "      <td>passat</td>\n",
       "      <td>150000</td>\n",
       "      <td>12</td>\n",
       "      <td>gasoline</td>\n",
       "      <td>volkswagen</td>\n",
       "      <td>no</td>\n",
       "    </tr>\n",
       "    <tr>\n",
       "      <th>99269</th>\n",
       "      <td>3400</td>\n",
       "      <td>small</td>\n",
       "      <td>2005</td>\n",
       "      <td>auto</td>\n",
       "      <td>90</td>\n",
       "      <td>musa</td>\n",
       "      <td>100000</td>\n",
       "      <td>7</td>\n",
       "      <td>petrol</td>\n",
       "      <td>lancia</td>\n",
       "      <td>no</td>\n",
       "    </tr>\n",
       "    <tr>\n",
       "      <th>301175</th>\n",
       "      <td>900</td>\n",
       "      <td>small</td>\n",
       "      <td>1991</td>\n",
       "      <td>manual</td>\n",
       "      <td>45</td>\n",
       "      <td>polo</td>\n",
       "      <td>70000</td>\n",
       "      <td>4</td>\n",
       "      <td>petrol</td>\n",
       "      <td>volkswagen</td>\n",
       "      <td>no</td>\n",
       "    </tr>\n",
       "    <tr>\n",
       "      <th>121508</th>\n",
       "      <td>3200</td>\n",
       "      <td>bus</td>\n",
       "      <td>2003</td>\n",
       "      <td>manual</td>\n",
       "      <td>110</td>\n",
       "      <td>verso</td>\n",
       "      <td>150000</td>\n",
       "      <td>8</td>\n",
       "      <td>petrol</td>\n",
       "      <td>toyota</td>\n",
       "      <td>no</td>\n",
       "    </tr>\n",
       "  </tbody>\n",
       "</table>\n",
       "</div>"
      ],
      "text/plain": [
       "        price  vehicletype  registrationyear gearbox  power     model  \\\n",
       "221560   8800        wagon              2011  manual    165    zafira   \n",
       "98519    5000        small              1990  manual      0      golf   \n",
       "259891   7699        sedan              2002    auto    170       3er   \n",
       "301998   3599          bus              2002  manual    125    zafira   \n",
       "184621   7190        wagon              2007  manual    143       3er   \n",
       "304810   3200  convertible              2003    auto     61  roadster   \n",
       "152093   2300        wagon              2003  manual    131    passat   \n",
       "99269    3400        small              2005    auto     90      musa   \n",
       "301175    900        small              1991  manual     45      polo   \n",
       "121508   3200          bus              2003  manual    110     verso   \n",
       "\n",
       "        mileage  registrationmonth  fueltype       brand notrepaired  \n",
       "221560    30000                 12  gasoline        opel          no  \n",
       "98519     20000                  6    petrol  volkswagen          no  \n",
       "259891   150000                  8    petrol         bmw          no  \n",
       "301998   150000                 12    petrol        opel         yes  \n",
       "184621   150000                  9  gasoline         bmw          no  \n",
       "304810   125000                  4    petrol       smart          no  \n",
       "152093   150000                 12  gasoline  volkswagen          no  \n",
       "99269    100000                  7    petrol      lancia          no  \n",
       "301175    70000                  4    petrol  volkswagen          no  \n",
       "121508   150000                  8    petrol      toyota          no  "
      ]
     },
     "execution_count": 19,
     "metadata": {},
     "output_type": "execute_result"
    }
   ],
   "source": [
    "mldf.sample(10)"
   ]
  },
  {
   "cell_type": "markdown",
   "metadata": {},
   "source": [
    "Here I separated the columns into 2 overall types, numerical and categorical, so that way it's easier to explore the data in its subset in the EDA phase."
   ]
  },
  {
   "cell_type": "code",
   "execution_count": 20,
   "metadata": {},
   "outputs": [
    {
     "data": {
      "text/html": [
       "<div>\n",
       "<style scoped>\n",
       "    .dataframe tbody tr th:only-of-type {\n",
       "        vertical-align: middle;\n",
       "    }\n",
       "\n",
       "    .dataframe tbody tr th {\n",
       "        vertical-align: top;\n",
       "    }\n",
       "\n",
       "    .dataframe thead th {\n",
       "        text-align: right;\n",
       "    }\n",
       "</style>\n",
       "<table border=\"1\" class=\"dataframe\">\n",
       "  <thead>\n",
       "    <tr style=\"text-align: right;\">\n",
       "      <th></th>\n",
       "      <th>vehicletype</th>\n",
       "      <th>gearbox</th>\n",
       "      <th>model</th>\n",
       "      <th>fueltype</th>\n",
       "      <th>brand</th>\n",
       "      <th>notrepaired</th>\n",
       "    </tr>\n",
       "  </thead>\n",
       "  <tbody>\n",
       "    <tr>\n",
       "      <th>0</th>\n",
       "      <td>sedan</td>\n",
       "      <td>manual</td>\n",
       "      <td>golf</td>\n",
       "      <td>petrol</td>\n",
       "      <td>volkswagen</td>\n",
       "      <td>no</td>\n",
       "    </tr>\n",
       "    <tr>\n",
       "      <th>1</th>\n",
       "      <td>coupe</td>\n",
       "      <td>manual</td>\n",
       "      <td>other</td>\n",
       "      <td>gasoline</td>\n",
       "      <td>audi</td>\n",
       "      <td>yes</td>\n",
       "    </tr>\n",
       "    <tr>\n",
       "      <th>2</th>\n",
       "      <td>suv</td>\n",
       "      <td>auto</td>\n",
       "      <td>grand</td>\n",
       "      <td>gasoline</td>\n",
       "      <td>jeep</td>\n",
       "      <td>no</td>\n",
       "    </tr>\n",
       "    <tr>\n",
       "      <th>3</th>\n",
       "      <td>small</td>\n",
       "      <td>manual</td>\n",
       "      <td>golf</td>\n",
       "      <td>petrol</td>\n",
       "      <td>volkswagen</td>\n",
       "      <td>no</td>\n",
       "    </tr>\n",
       "    <tr>\n",
       "      <th>4</th>\n",
       "      <td>small</td>\n",
       "      <td>manual</td>\n",
       "      <td>fabia</td>\n",
       "      <td>gasoline</td>\n",
       "      <td>skoda</td>\n",
       "      <td>no</td>\n",
       "    </tr>\n",
       "    <tr>\n",
       "      <th>...</th>\n",
       "      <td>...</td>\n",
       "      <td>...</td>\n",
       "      <td>...</td>\n",
       "      <td>...</td>\n",
       "      <td>...</td>\n",
       "      <td>...</td>\n",
       "    </tr>\n",
       "    <tr>\n",
       "      <th>354364</th>\n",
       "      <td>sedan</td>\n",
       "      <td>manual</td>\n",
       "      <td>colt</td>\n",
       "      <td>petrol</td>\n",
       "      <td>mitsubishi</td>\n",
       "      <td>yes</td>\n",
       "    </tr>\n",
       "    <tr>\n",
       "      <th>354365</th>\n",
       "      <td>sedan</td>\n",
       "      <td>auto</td>\n",
       "      <td>other</td>\n",
       "      <td>petrol</td>\n",
       "      <td>sonstige_autos</td>\n",
       "      <td>no</td>\n",
       "    </tr>\n",
       "    <tr>\n",
       "      <th>354366</th>\n",
       "      <td>convertible</td>\n",
       "      <td>auto</td>\n",
       "      <td>fortwo</td>\n",
       "      <td>petrol</td>\n",
       "      <td>smart</td>\n",
       "      <td>no</td>\n",
       "    </tr>\n",
       "    <tr>\n",
       "      <th>354367</th>\n",
       "      <td>bus</td>\n",
       "      <td>manual</td>\n",
       "      <td>transporter</td>\n",
       "      <td>gasoline</td>\n",
       "      <td>volkswagen</td>\n",
       "      <td>no</td>\n",
       "    </tr>\n",
       "    <tr>\n",
       "      <th>354368</th>\n",
       "      <td>wagon</td>\n",
       "      <td>manual</td>\n",
       "      <td>golf</td>\n",
       "      <td>gasoline</td>\n",
       "      <td>volkswagen</td>\n",
       "      <td>no</td>\n",
       "    </tr>\n",
       "  </tbody>\n",
       "</table>\n",
       "<p>354369 rows × 6 columns</p>\n",
       "</div>"
      ],
      "text/plain": [
       "        vehicletype gearbox        model  fueltype           brand notrepaired\n",
       "0             sedan  manual         golf    petrol      volkswagen          no\n",
       "1             coupe  manual        other  gasoline            audi         yes\n",
       "2               suv    auto        grand  gasoline            jeep          no\n",
       "3             small  manual         golf    petrol      volkswagen          no\n",
       "4             small  manual        fabia  gasoline           skoda          no\n",
       "...             ...     ...          ...       ...             ...         ...\n",
       "354364        sedan  manual         colt    petrol      mitsubishi         yes\n",
       "354365        sedan    auto        other    petrol  sonstige_autos          no\n",
       "354366  convertible    auto       fortwo    petrol           smart          no\n",
       "354367          bus  manual  transporter  gasoline      volkswagen          no\n",
       "354368        wagon  manual         golf  gasoline      volkswagen          no\n",
       "\n",
       "[354369 rows x 6 columns]"
      ]
     },
     "execution_count": 20,
     "metadata": {},
     "output_type": "execute_result"
    }
   ],
   "source": [
    "#categorical\n",
    "cmldf = mldf[['vehicletype','gearbox','model','fueltype','brand','notrepaired']]\n",
    "cmldf"
   ]
  },
  {
   "cell_type": "code",
   "execution_count": 21,
   "metadata": {},
   "outputs": [
    {
     "data": {
      "text/html": [
       "<div>\n",
       "<style scoped>\n",
       "    .dataframe tbody tr th:only-of-type {\n",
       "        vertical-align: middle;\n",
       "    }\n",
       "\n",
       "    .dataframe tbody tr th {\n",
       "        vertical-align: top;\n",
       "    }\n",
       "\n",
       "    .dataframe thead th {\n",
       "        text-align: right;\n",
       "    }\n",
       "</style>\n",
       "<table border=\"1\" class=\"dataframe\">\n",
       "  <thead>\n",
       "    <tr style=\"text-align: right;\">\n",
       "      <th></th>\n",
       "      <th>price</th>\n",
       "      <th>registrationyear</th>\n",
       "      <th>power</th>\n",
       "      <th>mileage</th>\n",
       "      <th>registrationmonth</th>\n",
       "    </tr>\n",
       "  </thead>\n",
       "  <tbody>\n",
       "    <tr>\n",
       "      <th>0</th>\n",
       "      <td>480</td>\n",
       "      <td>1993</td>\n",
       "      <td>0</td>\n",
       "      <td>150000</td>\n",
       "      <td>0</td>\n",
       "    </tr>\n",
       "    <tr>\n",
       "      <th>1</th>\n",
       "      <td>18300</td>\n",
       "      <td>2011</td>\n",
       "      <td>190</td>\n",
       "      <td>125000</td>\n",
       "      <td>5</td>\n",
       "    </tr>\n",
       "    <tr>\n",
       "      <th>2</th>\n",
       "      <td>9800</td>\n",
       "      <td>2004</td>\n",
       "      <td>163</td>\n",
       "      <td>125000</td>\n",
       "      <td>8</td>\n",
       "    </tr>\n",
       "    <tr>\n",
       "      <th>3</th>\n",
       "      <td>1500</td>\n",
       "      <td>2001</td>\n",
       "      <td>75</td>\n",
       "      <td>150000</td>\n",
       "      <td>6</td>\n",
       "    </tr>\n",
       "    <tr>\n",
       "      <th>4</th>\n",
       "      <td>3600</td>\n",
       "      <td>2008</td>\n",
       "      <td>69</td>\n",
       "      <td>90000</td>\n",
       "      <td>7</td>\n",
       "    </tr>\n",
       "    <tr>\n",
       "      <th>...</th>\n",
       "      <td>...</td>\n",
       "      <td>...</td>\n",
       "      <td>...</td>\n",
       "      <td>...</td>\n",
       "      <td>...</td>\n",
       "    </tr>\n",
       "    <tr>\n",
       "      <th>354364</th>\n",
       "      <td>0</td>\n",
       "      <td>2005</td>\n",
       "      <td>0</td>\n",
       "      <td>150000</td>\n",
       "      <td>7</td>\n",
       "    </tr>\n",
       "    <tr>\n",
       "      <th>354365</th>\n",
       "      <td>2200</td>\n",
       "      <td>2005</td>\n",
       "      <td>0</td>\n",
       "      <td>20000</td>\n",
       "      <td>1</td>\n",
       "    </tr>\n",
       "    <tr>\n",
       "      <th>354366</th>\n",
       "      <td>1199</td>\n",
       "      <td>2000</td>\n",
       "      <td>101</td>\n",
       "      <td>125000</td>\n",
       "      <td>3</td>\n",
       "    </tr>\n",
       "    <tr>\n",
       "      <th>354367</th>\n",
       "      <td>9200</td>\n",
       "      <td>1996</td>\n",
       "      <td>102</td>\n",
       "      <td>150000</td>\n",
       "      <td>3</td>\n",
       "    </tr>\n",
       "    <tr>\n",
       "      <th>354368</th>\n",
       "      <td>3400</td>\n",
       "      <td>2002</td>\n",
       "      <td>100</td>\n",
       "      <td>150000</td>\n",
       "      <td>6</td>\n",
       "    </tr>\n",
       "  </tbody>\n",
       "</table>\n",
       "<p>354369 rows × 5 columns</p>\n",
       "</div>"
      ],
      "text/plain": [
       "        price  registrationyear  power  mileage  registrationmonth\n",
       "0         480              1993      0   150000                  0\n",
       "1       18300              2011    190   125000                  5\n",
       "2        9800              2004    163   125000                  8\n",
       "3        1500              2001     75   150000                  6\n",
       "4        3600              2008     69    90000                  7\n",
       "...       ...               ...    ...      ...                ...\n",
       "354364      0              2005      0   150000                  7\n",
       "354365   2200              2005      0    20000                  1\n",
       "354366   1199              2000    101   125000                  3\n",
       "354367   9200              1996    102   150000                  3\n",
       "354368   3400              2002    100   150000                  6\n",
       "\n",
       "[354369 rows x 5 columns]"
      ]
     },
     "execution_count": 21,
     "metadata": {},
     "output_type": "execute_result"
    }
   ],
   "source": [
    "#numerical\n",
    "nmldf = mldf[['price','registrationyear','power','mileage','registrationmonth']]\n",
    "nmldf"
   ]
  },
  {
   "cell_type": "markdown",
   "metadata": {},
   "source": [
    "# EDA"
   ]
  },
  {
   "cell_type": "markdown",
   "metadata": {},
   "source": [
    "I started with a correlation matrix heat map to see what relationships does the numerical data have with one another."
   ]
  },
  {
   "cell_type": "code",
   "execution_count": 22,
   "metadata": {},
   "outputs": [
    {
     "data": {
      "text/plain": [
       "<AxesSubplot:>"
      ]
     },
     "execution_count": 22,
     "metadata": {},
     "output_type": "execute_result"
    },
    {
     "data": {
      "image/png": "[encoded data removed]",
      "text/plain": [
       "<Figure size 640x480 with 2 Axes>"
      ]
     },
     "metadata": {},
     "output_type": "display_data"
    }
   ],
   "source": [
    "corr_matrix = mldf.corr()\n",
    "sns.heatmap(corr_matrix, annot=True, cmap='coolwarm')"
   ]
  },
  {
   "cell_type": "markdown",
   "metadata": {},
   "source": [
    "So to my surprised everything, in terms of numerical values, has little to no significant correlation with one another. But as for the two columns - Price & (Horse)Power - relationship, there's a pretty decent and expected expectation that most common, daily cars aren't even hitting 1250 horsepower and there's an abundance of them at any price range."
   ]
  },
  {
   "cell_type": "code",
   "execution_count": 23,
   "metadata": {},
   "outputs": [
    {
     "data": {
      "text/plain": [
       "<AxesSubplot:xlabel='price', ylabel='power'>"
      ]
     },
     "execution_count": 23,
     "metadata": {},
     "output_type": "execute_result"
    },
    {
     "data": {
      "image/png": "[encoded data removed]",
      "text/plain": [
       "<Figure size 640x480 with 1 Axes>"
      ]
     },
     "metadata": {},
     "output_type": "display_data"
    }
   ],
   "source": [
    "sns.scatterplot(x='price', y='power', data=mldf)"
   ]
  },
  {
   "cell_type": "markdown",
   "metadata": {},
   "source": [
    "Overall when looking at the *Mile vs Price* boxplots dynamic, as mileage increases, their (median) price goes down - so high mileage vehicles tend to have lower prices - and while on the same token, but in terms of outliers, it shows that (100k+) high-mileage vehicles has several outliers on the higher end of the price spectrum (i.e. negatively skewed). And as for lower-mileage vehicles, let's say around 40-50k miles or less, are slightly positiviely skewed or somewhat symmetrical."
   ]
  },
  {
   "cell_type": "code",
   "execution_count": 24,
   "metadata": {},
   "outputs": [
    {
     "data": {
      "image/png": "[encoded data removed]",
      "text/plain": [
       "<Figure size 640x480 with 1 Axes>"
      ]
     },
     "metadata": {},
     "output_type": "display_data"
    }
   ],
   "source": [
    "sns.boxplot(x='mileage', y='price', data=mldf)\n",
    "plt.xticks(rotation=30, ha='right')\n",
    "plt.show()"
   ]
  },
  {
   "cell_type": "markdown",
   "metadata": {},
   "source": [
    "Right off the bat when looking at the Price's histogram plot, there's a right/positive skewness where we can see that most cars are cheaper or on the lower end of prices and as prices increase the fewer the cars. We can also see the histogram's peak so more or less, its safe to guess that most cars are priced between 2k - 2.5k; as for its drop off, its drastically seen around the 5k price mark."
   ]
  },
  {
   "cell_type": "code",
   "execution_count": 25,
   "metadata": {},
   "outputs": [
    {
     "data": {
      "text/plain": [
       "<AxesSubplot:xlabel='price', ylabel='Count'>"
      ]
     },
     "execution_count": 25,
     "metadata": {},
     "output_type": "execute_result"
    },
    {
     "data": {
      "image/png": "[encoded data removed]",
      "text/plain": [
       "<Figure size 640x480 with 1 Axes>"
      ]
     },
     "metadata": {},
     "output_type": "display_data"
    }
   ],
   "source": [
    "sns.histplot(nmldf['price'], kde=True)"
   ]
  },
  {
   "cell_type": "markdown",
   "metadata": {},
   "source": [
    "Sedans, small and wagon type of cars are dominating the historical data with Sedans being the people's common choice of vehicle on top. Therefore individuals that are curious about their vehicle market value but have options like a convertible, coupe or suv have more or less half of the pool of options to determined their cars' value compared to the beforementioned invidivuals can grasp from."
   ]
  },
  {
   "cell_type": "code",
   "execution_count": 26,
   "metadata": {},
   "outputs": [
    {
     "data": {
      "text/plain": [
       "<AxesSubplot:>"
      ]
     },
     "execution_count": 26,
     "metadata": {},
     "output_type": "execute_result"
    },
    {
     "data": {
      "image/png": "[encoded data removed]",
      "text/plain": [
       "<Figure size 640x480 with 1 Axes>"
      ]
     },
     "metadata": {},
     "output_type": "display_data"
    }
   ],
   "source": [
    "cmldf['vehicletype'].value_counts().plot(kind='bar')"
   ]
  },
  {
   "cell_type": "markdown",
   "metadata": {},
   "source": [
    "About 88% of cars haven't been repaired at the time of input of historical data, which leaves about 11% who has been repaired."
   ]
  },
  {
   "cell_type": "code",
   "execution_count": 27,
   "metadata": {},
   "outputs": [
    {
     "data": {
      "text/plain": [
       "354369"
      ]
     },
     "execution_count": 27,
     "metadata": {},
     "output_type": "execute_result"
    }
   ],
   "source": [
    "cmldf['notrepaired'].value_counts().sum()"
   ]
  },
  {
   "cell_type": "code",
   "execution_count": 28,
   "metadata": {},
   "outputs": [
    {
     "data": {
      "text/plain": [
       "no     318315\n",
       "yes     36054\n",
       "Name: notrepaired, dtype: int64"
      ]
     },
     "execution_count": 28,
     "metadata": {},
     "output_type": "execute_result"
    }
   ],
   "source": [
    "cmldf['notrepaired'].value_counts()"
   ]
  },
  {
   "cell_type": "code",
   "execution_count": 29,
   "metadata": {},
   "outputs": [
    {
     "data": {
      "text/plain": [
       "<AxesSubplot:>"
      ]
     },
     "execution_count": 29,
     "metadata": {},
     "output_type": "execute_result"
    },
    {
     "data": {
      "image/png": "[encoded data removed]",
      "text/plain": [
       "<Figure size 640x480 with 1 Axes>"
      ]
     },
     "metadata": {},
     "output_type": "display_data"
    }
   ],
   "source": [
    "cmldf['notrepaired'].value_counts().plot(kind='bar')"
   ]
  },
  {
   "cell_type": "markdown",
   "metadata": {},
   "source": [
    "This gives an overall insight of all the car brands' quantity from greatest to least clearly showing a abundance for Volks (but in tow, BMW and Opel) and brands such as Rover, Trabant & Lada with about less than 5k cars, respectfully, in comparison."
   ]
  },
  {
   "cell_type": "code",
   "execution_count": 30,
   "metadata": {},
   "outputs": [
    {
     "data": {
      "text/plain": [
       "<AxesSubplot:>"
      ]
     },
     "execution_count": 30,
     "metadata": {},
     "output_type": "execute_result"
    },
    {
     "data": {
      "image/png": "[encoded data removed]",
      "text/plain": [
       "<Figure size 640x480 with 1 Axes>"
      ]
     },
     "metadata": {},
     "output_type": "display_data"
    }
   ],
   "source": [
    "cmldf['brand'].value_counts().plot(kind='bar')"
   ]
  },
  {
   "cell_type": "markdown",
   "metadata": {},
   "source": [
    "For a more closer insight, I narrowed down to the top 10 brands and their quantities."
   ]
  },
  {
   "cell_type": "code",
   "execution_count": 31,
   "metadata": {},
   "outputs": [
    {
     "name": "stdout",
     "output_type": "stream",
     "text": [
      "volkswagen       77013\n",
      "opel             39931\n",
      "bmw              36914\n",
      "mercedes_benz    32046\n",
      "audi             29456\n",
      "ford             25179\n",
      "renault          17927\n",
      "peugeot          10998\n",
      "fiat              9643\n",
      "seat              6907\n",
      "Name: brand, dtype: int64\n"
     ]
    }
   ],
   "source": [
    "brand = cmldf['brand'].value_counts()\n",
    "top10 = brand.nlargest(10)\n",
    "print(top10)"
   ]
  },
  {
   "cell_type": "markdown",
   "metadata": {},
   "source": [
    "When analyzing the top 10 car brands, there's a clear understanding that there's a large presence of outliers within each brand as these are where the higher priced vehicles reside. But the median prices do vary across the top 10 because luxury name brands like Mercedes-Benz, BMW and Audi clearly have higher median prices compared to Peugeot, Renault, Fiat or even Opel. Though most brands showcase a slight positive skewness that's shown through the longer tails on the higher pricing side."
   ]
  },
  {
   "cell_type": "code",
   "execution_count": 32,
   "metadata": {},
   "outputs": [
    {
     "data": {
      "image/png": "[encoded data removed]",
      "text/plain": [
       "<Figure size 640x480 with 1 Axes>"
      ]
     },
     "metadata": {},
     "output_type": "display_data"
    }
   ],
   "source": [
    "top10_df = mldf[mldf['brand'].isin(top10.index)]\n",
    "\n",
    "sns.boxplot(x='brand', y='price', data=top10_df)\n",
    "plt.xticks(rotation=45, ha='right')\n",
    "plt.title('Top 10 Used Car Brands')\n",
    "plt.show()"
   ]
  },
  {
   "cell_type": "markdown",
   "metadata": {},
   "source": [
    "## Model training"
   ]
  },
  {
   "cell_type": "markdown",
   "metadata": {},
   "source": [
    "The refined dataset is split into train, validation, and test and their respective features & target shapes are printed."
   ]
  },
  {
   "cell_type": "code",
   "execution_count": 33,
   "metadata": {
    "scrolled": false
   },
   "outputs": [
    {
     "name": "stdout",
     "output_type": "stream",
     "text": [
      "Train features shape: (141747, 10)\n",
      "Train target shape: (141747,) \n",
      "\n",
      "Validation features shape: (116942, 10)\n",
      "Validation target shape: (116942,) \n",
      "\n",
      "Test features shape: (95680, 10)\n",
      "Test target shape: (95680,)\n"
     ]
    }
   ],
   "source": [
    "x_train, x_temp, y_train, y_temp = train_test_split(mldf.drop('price', axis=1), mldf['price'], test_size=0.60, random_state=12345)\n",
    "x_valid, x_test, y_valid, y_test = train_test_split(x_temp, y_temp, test_size=0.45, random_state=12345)\n",
    "\n",
    "# Print shapes to verify the splits\n",
    "print(f'Train features shape: {x_train.shape}')\n",
    "print(f'Train target shape: {y_train.shape} \\n')\n",
    "print(f'Validation features shape: {x_valid.shape}')\n",
    "print(f'Validation target shape: {y_valid.shape} \\n')\n",
    "print(f'Test features shape: {x_test.shape}')\n",
    "print(f'Test target shape: {y_test.shape}')"
   ]
  },
  {
   "cell_type": "markdown",
   "metadata": {},
   "source": [
    "I ensured, since we're juggling with several algorithms, that the features within each set were encoded, scaled and aligned as not all algorithms need their features to be scaled or can directly handle categorical features when stated."
   ]
  },
  {
   "cell_type": "code",
   "execution_count": 34,
   "metadata": {},
   "outputs": [
    {
     "data": {
      "text/plain": [
       "OneHotEncoder(handle_unknown='ignore')"
      ]
     },
     "execution_count": 34,
     "metadata": {},
     "output_type": "execute_result"
    }
   ],
   "source": [
    "categorical_features = ['vehicletype', 'gearbox', 'model', 'fueltype', 'brand', 'notrepaired']\n",
    "\n",
    "encoder = OneHotEncoder(sparse=True, handle_unknown='ignore')\n",
    "encoder.fit(x_train[categorical_features])"
   ]
  },
  {
   "cell_type": "code",
   "execution_count": 35,
   "metadata": {},
   "outputs": [],
   "source": [
    "# Data is transformed here\n",
    "x_train_encoded = encoder.transform(x_train[categorical_features])\n",
    "x_valid_encoded = encoder.transform(x_valid[categorical_features])\n",
    "x_test_encoded = encoder.transform(x_test[categorical_features])"
   ]
  },
  {
   "cell_type": "code",
   "execution_count": 36,
   "metadata": {},
   "outputs": [],
   "source": [
    "# I dropped the original categorical columns and resetted the index\n",
    "x_train_non_cat = x_train.drop(columns=categorical_features).reset_index(drop=True)\n",
    "x_valid_non_cat = x_valid.drop(columns=categorical_features).reset_index(drop=True)\n",
    "x_test_non_cat = x_test.drop(columns=categorical_features).reset_index(drop=True)"
   ]
  },
  {
   "cell_type": "code",
   "execution_count": 37,
   "metadata": {},
   "outputs": [],
   "source": [
    "# Then the DF is then converted into arrays\n",
    "x_train_non_cat_array = x_train_non_cat.values\n",
    "x_valid_non_cat_array = x_valid_non_cat.values\n",
    "x_test_non_cat_array = x_test_non_cat.values"
   ]
  },
  {
   "cell_type": "code",
   "execution_count": 38,
   "metadata": {
    "scrolled": true
   },
   "outputs": [],
   "source": [
    "# then following the DF conversion I converted over the arrays into sparse matrices in order to deal with the abudance of 0s\n",
    "x_train_non_cat_sparse = csr_matrix(x_train_non_cat_array)\n",
    "x_valid_non_cat_sparse = csr_matrix(x_valid_non_cat_array)\n",
    "x_test_non_cat_sparse = csr_matrix(x_test_non_cat_array)"
   ]
  },
  {
   "cell_type": "code",
   "execution_count": 39,
   "metadata": {},
   "outputs": [],
   "source": [
    "# Following the final conversion, I then merged the matrices\n",
    "x_train_combined_sparse = hstack([x_train_non_cat_sparse, x_train_encoded])\n",
    "x_valid_combined_sparse = hstack([x_valid_non_cat_sparse, x_valid_encoded])\n",
    "x_test_combined_sparse = hstack([x_test_non_cat_sparse, x_test_encoded])"
   ]
  },
  {
   "cell_type": "code",
   "execution_count": 40,
   "metadata": {},
   "outputs": [
    {
     "name": "stdout",
     "output_type": "stream",
     "text": [
      "x_train_combined_sparse shape: (141747, 313)\n",
      "x_valid_combined_sparse shape: (116942, 313)\n",
      "x_test_combined_sparse shape: (95680, 313)\n"
     ]
    }
   ],
   "source": [
    "# In order to avoid, Dtypes and sizing errors, I made sure their shapes are consistent\n",
    "print(f'x_train_combined_sparse shape: {x_train_combined_sparse.shape}')\n",
    "print(f'x_valid_combined_sparse shape: {x_valid_combined_sparse.shape}')\n",
    "print(f'x_test_combined_sparse shape: {x_test_combined_sparse.shape}')"
   ]
  },
  {
   "cell_type": "code",
   "execution_count": 41,
   "metadata": {},
   "outputs": [],
   "source": [
    "# then once I successfuly made sure the shapes are consistent\n",
    "# and given how large the data had expanded I used the PCA method\n",
    "# to deal with the large number of features/dimensionality reduction\n",
    "# so I can compute my cells without the kernel crashing\n",
    "\n",
    "pca = PCA(n_components=10)\n",
    "x_train_reduced = pca.fit_transform(x_train_combined_sparse.toarray())\n",
    "x_valid_reduced = pca.transform(x_valid_combined_sparse.toarray())\n",
    "x_test_reduced = pca.transform(x_test_combined_sparse.toarray())"
   ]
  },
  {
   "cell_type": "code",
   "execution_count": 42,
   "metadata": {},
   "outputs": [
    {
     "name": "stdout",
     "output_type": "stream",
     "text": [
      "x_train_reduced shape: (141747, 10)\n",
      "x_valid_reduced shape: (116942, 10)\n",
      "x_test_reduced shape: (95680, 10)\n"
     ]
    }
   ],
   "source": [
    "# I made sure the shapes are still accurate yet reduced to its original feature quantity\n",
    "print(f'x_train_reduced shape: {x_train_reduced.shape}')\n",
    "print(f'x_valid_reduced shape: {x_valid_reduced.shape}')\n",
    "print(f'x_test_reduced shape: {x_test_reduced.shape}')"
   ]
  },
  {
   "cell_type": "code",
   "execution_count": 43,
   "metadata": {},
   "outputs": [],
   "source": [
    "#lastly scaled the data\n",
    "scaler = StandardScaler()\n",
    "x_train_scaled = scaler.fit_transform(x_train_reduced)\n",
    "x_valid_scaled = scaler.transform(x_valid_reduced)\n",
    "x_test_scaled = scaler.transform(x_test_reduced)"
   ]
  },
  {
   "cell_type": "markdown",
   "metadata": {},
   "source": [
    "### Linear Regression"
   ]
  },
  {
   "cell_type": "markdown",
   "metadata": {},
   "source": [
    "This has these *3rd highest RMSE* so clearly this wasn't going to be as accurate compared to the other models given it was a baseline model, despite its training time is a being the fastest."
   ]
  },
  {
   "cell_type": "code",
   "execution_count": 44,
   "metadata": {
    "scrolled": true
   },
   "outputs": [
    {
     "name": "stdout",
     "output_type": "stream",
     "text": [
      "Linear Regression RMSE: 3719.98941115333\n",
      "Fit time: 0.06040167808532715 seconds\n",
      "Predict time: 0.003915309906005859 seconds\n"
     ]
    }
   ],
   "source": [
    "# Train the Linear Regression model\n",
    "lr_model = LinearRegression()\n",
    "\n",
    "start_time = time.time()\n",
    "lr_model.fit(x_train_scaled, y_train)\n",
    "fit_time = time.time() - start_time\n",
    "\n",
    "\n",
    "# Predict and evaluate\n",
    "start_time = time.time()\n",
    "y_pred_lr = lr_model.predict(x_valid_scaled)\n",
    "predict_time = time.time() - start_time\n",
    "\n",
    "rmse_lr = np.sqrt(mean_squared_error(y_valid, y_pred_lr))\n",
    "print(f'Linear Regression RMSE: {rmse_lr}')\n",
    "print(f'Fit time: {fit_time} seconds')\n",
    "print(f'Predict time: {predict_time} seconds')"
   ]
  },
  {
   "cell_type": "markdown",
   "metadata": {},
   "source": [
    "### Random Forest"
   ]
  },
  {
   "cell_type": "markdown",
   "metadata": {},
   "source": [
    "While this model has the *worse* RMSE score, this model did pretty well compared to other algorithms in terms of fit (2nd place) and predict time (1st place) but that leaves more room to question if it really tried to get to know the data's underlying relationships."
   ]
  },
  {
   "cell_type": "code",
   "execution_count": 45,
   "metadata": {},
   "outputs": [
    {
     "name": "stdout",
     "output_type": "stream",
     "text": [
      "Random Forest RMSE: 4411.602848902514\n",
      "Fit time: 0.3008763790130615 seconds\n",
      "Predict time: 0.03849649429321289 seconds\n"
     ]
    }
   ],
   "source": [
    "rf_model = RandomForestRegressor(n_estimators=10, max_depth=4, max_features=4)\n",
    "\n",
    "# Train and evaluate\n",
    "start_time = time.time()\n",
    "rf_model.fit(x_train_encoded, y_train)\n",
    "fit_time = time.time() - start_time\n",
    "\n",
    "start_time = time.time()\n",
    "y_pred_rf = rf_model.predict(x_valid_encoded)\n",
    "predict_time = time.time() - start_time\n",
    "\n",
    "rmse_rf = np.sqrt(mean_squared_error(y_valid, y_pred_rf))\n",
    "print(f'Random Forest RMSE: {rmse_rf}')\n",
    "print(f'Fit time: {fit_time} seconds')\n",
    "print(f'Predict time: {predict_time} seconds')"
   ]
  },
  {
   "cell_type": "markdown",
   "metadata": {},
   "source": [
    "### Light Gradient Boosting"
   ]
  },
  {
   "cell_type": "markdown",
   "metadata": {},
   "source": [
    "This model has the *2nd best RMSE score* and this also speaks for its performance in terms of the training set's prediciton accuracy and timing."
   ]
  },
  {
   "cell_type": "code",
   "execution_count": 46,
   "metadata": {
    "scrolled": false
   },
   "outputs": [
    {
     "name": "stderr",
     "output_type": "stream",
     "text": [
      "/opt/conda/envs/python3/lib/python3.9/site-packages/lightgbm/sklearn.py:726: UserWarning: 'early_stopping_rounds' argument is deprecated and will be removed in a future release of LightGBM. Pass 'early_stopping()' callback via 'callbacks' argument instead.\n",
      "  _log_warning(\"'early_stopping_rounds' argument is deprecated and will be removed in a future release of LightGBM. \"\n",
      "/opt/conda/envs/python3/lib/python3.9/site-packages/lightgbm/sklearn.py:736: UserWarning: 'verbose' argument is deprecated and will be removed in a future release of LightGBM. Pass 'log_evaluation()' callback via 'callbacks' argument instead.\n",
      "  _log_warning(\"'verbose' argument is deprecated and will be removed in a future release of LightGBM. \"\n"
     ]
    },
    {
     "name": "stdout",
     "output_type": "stream",
     "text": [
      "[100]\tvalid_0's rmse: 3628.7\n",
      "LightGBM RMSE: 3628.699034403202\n",
      "Fit time: 4.230376482009888 seconds\n",
      "Predict time: 0.824857234954834 seconds\n"
     ]
    }
   ],
   "source": [
    "lgb_model = lgb.LGBMRegressor(objective='regression', metric='rmse',\n",
    "    num_leaves=12, learning_rate=0.1, n_estimators=100)\n",
    "\n",
    "\n",
    "start_time = time.time()\n",
    "lgb_model.fit(x_train_encoded, y_train, eval_set=[(x_valid_encoded, y_valid)],\n",
    "    early_stopping_rounds=10, verbose=100)\n",
    "fit_time = time.time() - start_time\n",
    "\n",
    "start_time = time.time()\n",
    "y_pred_lgb = lgb_model.predict(x_valid_encoded, num_iteration=lgb_model.best_iteration_)\n",
    "predict_time = time.time() - start_time\n",
    "\n",
    "rmse_lgb = np.sqrt(mean_squared_error(y_valid, y_pred_lgb))\n",
    "print(f'LightGBM RMSE: {rmse_lgb}')\n",
    "print(f'Fit time: {fit_time} seconds')\n",
    "print(f'Predict time: {predict_time} seconds')"
   ]
  },
  {
   "cell_type": "markdown",
   "metadata": {},
   "source": [
    "### XGBoost"
   ]
  },
  {
   "cell_type": "markdown",
   "metadata": {},
   "source": [
    "Now XGBoost, had the *2nd worst and highest performing RMSE* in terms of training model accuracy of 4045, and its fit time took 42 seconds while its prediction timing on the validation merely took 0.1 second."
   ]
  },
  {
   "cell_type": "code",
   "execution_count": 47,
   "metadata": {},
   "outputs": [
    {
     "name": "stdout",
     "output_type": "stream",
     "text": [
      "Fitting 3 folds for each of 32 candidates, totalling 96 fits\n",
      "XGBoost Validation RMSE: 4045.771535168859\n",
      "Best Parameters: {'colsample_bytree': 0.8, 'learning_rate': 0.3, 'max_depth': 6, 'min_child_weight': 3, 'subsample': 1.0}\n",
      "\n",
      "Fit time: 43.67815375328064 seconds\n",
      "\n",
      "Predict time: 0.09575819969177246 seconds\n"
     ]
    }
   ],
   "source": [
    "param_grid = {\n",
    "    'learning_rate': [0.1, 0.3],\n",
    "    'max_depth': [3, 6],\n",
    "    'min_child_weight': [1, 3],\n",
    "    'subsample': [0.8, 1.0],\n",
    "    'colsample_bytree': [0.8, 1.0]}\n",
    "\n",
    "xgb_model = xgb.XGBRegressor(objective='reg:squarederror', n_estimators=4)\n",
    "grid_search = GridSearchCV(estimator=xgb_model, param_grid=param_grid, scoring='neg_mean_squared_error', cv=3, verbose=1)\n",
    "\n",
    "start_time = time.time()\n",
    "grid_search.fit(x_train_encoded, y_train)\n",
    "fit_time = time.time() - start_time\n",
    "\n",
    "best_params = grid_search.best_params_\n",
    "best_model = grid_search.best_estimator_\n",
    "\n",
    "\n",
    "start_time = time.time()\n",
    "y_pred_xgb = best_model.predict(x_valid_encoded)\n",
    "predict_time = time.time() - start_time\n",
    "rmse_xgb = np.sqrt(mean_squared_error(y_valid, y_pred_xgb))\n",
    "\n",
    "print(f'XGBoost Validation RMSE: {rmse_xgb}')\n",
    "print(f'Best Parameters: {best_params}\\n')\n",
    "print(f'Fit time: {fit_time} seconds''\\n')\n",
    "print(f'Predict time: {predict_time} seconds')"
   ]
  },
  {
   "cell_type": "markdown",
   "metadata": {},
   "source": [
    "### CatBoost"
   ]
  },
  {
   "cell_type": "markdown",
   "metadata": {},
   "source": [
    "This model showed a pretty decent performance with it having *the lowest RMSE* while LightGBM is slightly behind with a 1,175 difference higher than Cat, it also did show the slowest fit training time compared to the algorithms being tested."
   ]
  },
  {
   "cell_type": "code",
   "execution_count": 48,
   "metadata": {},
   "outputs": [
    {
     "name": "stdout",
     "output_type": "stream",
     "text": [
      "Fitting 3 folds for each of 32 candidates, totalling 96 fits\n",
      "CatBoost RMSE: 2544.967569630192\n",
      "Best Parameters: {'border_count': 6, 'depth': 6, 'iterations': 6, 'l2_leaf_reg': 3, 'learning_rate': 0.3}\n",
      "Fit time: 62.19339871406555 seconds\n",
      "Predict time: 0.18839240074157715 seconds\n"
     ]
    }
   ],
   "source": [
    "categorical_features = ['vehicletype', 'gearbox', 'model', 'fueltype', 'brand', 'notrepaired']\n",
    "\n",
    "categorical_feature_indices = [x_train.columns.get_loc(col) for col in categorical_features]\n",
    "\n",
    "param_grid = {\n",
    "    'depth': [4, 6],\n",
    "    'learning_rate': [0.1, 0.3],\n",
    "    'iterations': [4, 6],\n",
    "    'l2_leaf_reg': [3, 5],\n",
    "    'border_count': [4, 6]}\n",
    "\n",
    "cat_model = CatBoostRegressor(silent=True, cat_features=categorical_feature_indices)\n",
    "grid_search = GridSearchCV(estimator=cat_model, param_grid=param_grid, scoring='neg_mean_squared_error', cv=3, verbose=1)\n",
    "\n",
    "start_time = time.time()\n",
    "grid_search.fit(x_train, y_train)\n",
    "fit_time = time.time() - start_time\n",
    "\n",
    "best_params = grid_search.best_params_\n",
    "best_model = grid_search.best_estimator_\n",
    "\n",
    "start_time = time.time()\n",
    "y_pred_cat = best_model.predict(x_valid)\n",
    "predict_time = time.time() - start_time\n",
    "\n",
    "rmse_cat = np.sqrt(mean_squared_error(y_valid, y_pred_cat))\n",
    "print(f'CatBoost RMSE: {rmse_cat}')\n",
    "print(f'Best Parameters: {best_params}')\n",
    "print(f'Fit time: {fit_time} seconds')\n",
    "print(f'Predict time: {predict_time} seconds')"
   ]
  },
  {
   "cell_type": "markdown",
   "metadata": {},
   "source": [
    "## Model analysis -- LGBM"
   ]
  },
  {
   "cell_type": "markdown",
   "metadata": {},
   "source": [
    "The output of the LGBM showcases that it actually outpeformed most models, outside of CatBoost, but its training self by just a 0.66 point difference and huge difference in training time from about 0.800 seconds to just about 0.600 seconds, just by shaving off about 0.170 ms off."
   ]
  },
  {
   "cell_type": "code",
   "execution_count": 49,
   "metadata": {
    "scrolled": true
   },
   "outputs": [
    {
     "name": "stdout",
     "output_type": "stream",
     "text": [
      "LightGBM Test RMSE: 3628.047721665831\n",
      "Predict time: 0.6304512023925781 seconds\n"
     ]
    }
   ],
   "source": [
    "start_time = time.time()\n",
    "y_pred_lgb_test = lgb_model.predict(x_test_encoded, num_iteration=lgb_model.best_iteration_)\n",
    "predict_time = time.time() - start_time\n",
    "\n",
    "rmse_lgb_test = np.sqrt(mean_squared_error(y_test, y_pred_lgb_test))\n",
    "print(f'LightGBM Test RMSE: {rmse_lgb_test}')\n",
    "print(f'Predict time: {predict_time} seconds')"
   ]
  },
  {
   "cell_type": "markdown",
   "metadata": {},
   "source": [
    "# Conclusion"
   ]
  },
  {
   "cell_type": "markdown",
   "metadata": {},
   "source": [
    "To be honest, learning about supervised ML and its intricacies (within this sprint/project), trying to read and comprehend the LightGBM library, cross referencing prior projects and resources really shows how beautifully complex data can paint and showcase your findings. And although, not everything is exciting to read up but I still enjoyed it while realizing this (ML) isn't for the weak. There was a lot of trial and error I went through that doesn't obviously show itself in the final draft version(s) upon submission but what I want to conclude with is..."
   ]
  },
  {
   "cell_type": "markdown",
   "metadata": {},
   "source": [
    "I choose the **Light GBM** model over the **CatBoost** model because overall, it had a better balance of *speed and accuracy* given how long it took the CatBoost model speed to conclude its results.Futhermore, the Light GBM has the second lowest RMSE on both the training & test with decently efficient training time. Now although the LR model was more a baseline model in this project, the 2nd best model was CatBoost with a slightly lower  RMSE and the 3rd and 4th placed models were XGBoost & Random Forest given they had sigificantly higher RMSE values thus implying poor model performance."
   ]
  }
 ],
 "metadata": {
  "ExecuteTimeLog": [
   {
    "duration": 5414,
    "start_time": "2024-07-05T03:41:05.034Z"
   },
   {
    "duration": 843,
    "start_time": "2024-07-05T03:41:10.452Z"
   },
   {
    "duration": 45,
    "start_time": "2024-07-05T03:41:11.298Z"
   },
   {
    "duration": 703,
    "start_time": "2024-07-05T03:43:56.548Z"
   },
   {
    "duration": 31,
    "start_time": "2024-07-05T03:43:57.656Z"
   },
   {
    "duration": 361,
    "start_time": "2024-07-07T17:48:13.369Z"
   },
   {
    "duration": 6474,
    "start_time": "2024-07-07T17:48:21.444Z"
   },
   {
    "duration": 1118,
    "start_time": "2024-07-07T17:48:27.924Z"
   },
   {
    "duration": 58,
    "start_time": "2024-07-07T17:48:29.046Z"
   },
   {
    "duration": 27,
    "start_time": "2024-07-07T17:48:29.111Z"
   },
   {
    "duration": 6,
    "start_time": "2024-07-07T17:48:54.320Z"
   },
   {
    "duration": 23,
    "start_time": "2024-07-07T17:49:08.663Z"
   },
   {
    "duration": 172,
    "start_time": "2024-07-07T17:49:10.989Z"
   },
   {
    "duration": 7,
    "start_time": "2024-07-07T17:49:47.944Z"
   },
   {
    "duration": 8,
    "start_time": "2024-07-07T17:49:55.965Z"
   },
   {
    "duration": 159,
    "start_time": "2024-07-07T17:50:21.135Z"
   },
   {
    "duration": 131,
    "start_time": "2024-07-07T17:50:39.693Z"
   },
   {
    "duration": 1434,
    "start_time": "2024-07-07T17:51:26.253Z"
   },
   {
    "duration": 87,
    "start_time": "2024-07-07T17:51:36.904Z"
   },
   {
    "duration": 81,
    "start_time": "2024-07-07T17:51:43.629Z"
   },
   {
    "duration": 58,
    "start_time": "2024-07-07T17:51:58.235Z"
   },
   {
    "duration": 21,
    "start_time": "2024-07-07T17:53:51.558Z"
   },
   {
    "duration": 23,
    "start_time": "2024-07-07T17:53:53.614Z"
   },
   {
    "duration": 12,
    "start_time": "2024-07-07T17:54:04.658Z"
   },
   {
    "duration": 18,
    "start_time": "2024-07-07T17:54:10.873Z"
   },
   {
    "duration": 10,
    "start_time": "2024-07-07T17:54:25.154Z"
   },
   {
    "duration": 12,
    "start_time": "2024-07-07T17:54:28.352Z"
   },
   {
    "duration": 9,
    "start_time": "2024-07-07T17:54:46.801Z"
   },
   {
    "duration": 47,
    "start_time": "2024-07-07T17:55:06.300Z"
   },
   {
    "duration": 234,
    "start_time": "2024-07-07T17:55:11.093Z"
   },
   {
    "duration": 32,
    "start_time": "2024-07-07T17:57:11.106Z"
   },
   {
    "duration": 449,
    "start_time": "2024-07-07T17:57:14.454Z"
   },
   {
    "duration": 434,
    "start_time": "2024-07-07T17:57:27.323Z"
   },
   {
    "duration": 22,
    "start_time": "2024-07-07T18:00:48.663Z"
   },
   {
    "duration": 29,
    "start_time": "2024-07-07T18:00:54.421Z"
   },
   {
    "duration": 21,
    "start_time": "2024-07-07T18:02:39.547Z"
   },
   {
    "duration": 20,
    "start_time": "2024-07-07T18:02:51.441Z"
   },
   {
    "duration": 29,
    "start_time": "2024-07-07T18:03:24.198Z"
   },
   {
    "duration": 26,
    "start_time": "2024-07-07T18:03:48.204Z"
   },
   {
    "duration": 20,
    "start_time": "2024-07-07T18:04:09.133Z"
   },
   {
    "duration": 20,
    "start_time": "2024-07-07T18:04:28.639Z"
   },
   {
    "duration": 21,
    "start_time": "2024-07-07T18:04:40.951Z"
   },
   {
    "duration": 150,
    "start_time": "2024-07-07T18:09:18.244Z"
   },
   {
    "duration": 145,
    "start_time": "2024-07-07T18:10:25.499Z"
   },
   {
    "duration": 140,
    "start_time": "2024-07-07T18:12:13.258Z"
   },
   {
    "duration": 146,
    "start_time": "2024-07-07T18:12:21.585Z"
   },
   {
    "duration": 1782,
    "start_time": "2024-07-07T18:12:31.472Z"
   },
   {
    "duration": 805,
    "start_time": "2024-07-07T18:12:33.258Z"
   },
   {
    "duration": 60,
    "start_time": "2024-07-07T18:12:34.067Z"
   },
   {
    "duration": 23,
    "start_time": "2024-07-07T18:12:34.131Z"
   },
   {
    "duration": 7,
    "start_time": "2024-07-07T18:12:34.158Z"
   },
   {
    "duration": 185,
    "start_time": "2024-07-07T18:12:34.168Z"
   },
   {
    "duration": 152,
    "start_time": "2024-07-07T18:12:34.356Z"
   },
   {
    "duration": 7,
    "start_time": "2024-07-07T18:12:34.513Z"
   },
   {
    "duration": 0,
    "start_time": "2024-07-07T18:12:34.523Z"
   },
   {
    "duration": 0,
    "start_time": "2024-07-07T18:12:34.526Z"
   },
   {
    "duration": 3,
    "start_time": "2024-07-07T18:13:10.813Z"
   },
   {
    "duration": 405,
    "start_time": "2024-07-07T18:13:11.832Z"
   },
   {
    "duration": 161,
    "start_time": "2024-07-07T18:13:12.288Z"
   },
   {
    "duration": 97,
    "start_time": "2024-07-07T18:16:28.026Z"
   },
   {
    "duration": 11,
    "start_time": "2024-07-07T18:17:26.908Z"
   },
   {
    "duration": 46,
    "start_time": "2024-07-07T18:17:39.071Z"
   },
   {
    "duration": 27,
    "start_time": "2024-07-07T18:17:42.504Z"
   },
   {
    "duration": 26,
    "start_time": "2024-07-07T18:19:14.816Z"
   },
   {
    "duration": 45,
    "start_time": "2024-07-07T18:19:38.591Z"
   },
   {
    "duration": 29,
    "start_time": "2024-07-07T18:19:41.138Z"
   },
   {
    "duration": 39,
    "start_time": "2024-07-07T18:19:54.440Z"
   },
   {
    "duration": 40,
    "start_time": "2024-07-07T18:19:57.391Z"
   },
   {
    "duration": 431,
    "start_time": "2024-07-07T18:21:46.066Z"
   },
   {
    "duration": 25,
    "start_time": "2024-07-07T18:21:49.605Z"
   },
   {
    "duration": 19,
    "start_time": "2024-07-07T18:22:02.823Z"
   },
   {
    "duration": 145,
    "start_time": "2024-07-07T18:22:05.552Z"
   },
   {
    "duration": 75,
    "start_time": "2024-07-07T18:22:35.520Z"
   },
   {
    "duration": 51,
    "start_time": "2024-07-07T18:22:38.146Z"
   },
   {
    "duration": 77,
    "start_time": "2024-07-07T18:22:51.413Z"
   },
   {
    "duration": 84,
    "start_time": "2024-07-07T18:23:19.501Z"
   },
   {
    "duration": 45,
    "start_time": "2024-07-07T18:23:22.213Z"
   },
   {
    "duration": 1604,
    "start_time": "2024-07-07T18:23:30.218Z"
   },
   {
    "duration": 740,
    "start_time": "2024-07-07T18:23:31.826Z"
   },
   {
    "duration": 54,
    "start_time": "2024-07-07T18:23:32.569Z"
   },
   {
    "duration": 24,
    "start_time": "2024-07-07T18:23:32.628Z"
   },
   {
    "duration": 6,
    "start_time": "2024-07-07T18:23:32.656Z"
   },
   {
    "duration": 182,
    "start_time": "2024-07-07T18:23:32.665Z"
   },
   {
    "duration": 152,
    "start_time": "2024-07-07T18:23:32.851Z"
   },
   {
    "duration": 438,
    "start_time": "2024-07-07T18:23:33.006Z"
   },
   {
    "duration": 153,
    "start_time": "2024-07-07T18:23:33.448Z"
   },
   {
    "duration": 156,
    "start_time": "2024-07-07T18:23:33.607Z"
   },
   {
    "duration": 38,
    "start_time": "2024-07-07T18:23:33.766Z"
   },
   {
    "duration": 32,
    "start_time": "2024-07-07T18:23:33.809Z"
   },
   {
    "duration": 59,
    "start_time": "2024-07-07T18:23:33.845Z"
   },
   {
    "duration": 27,
    "start_time": "2024-07-07T18:23:33.908Z"
   },
   {
    "duration": 176,
    "start_time": "2024-07-07T18:23:33.938Z"
   },
   {
    "duration": 199,
    "start_time": "2024-07-07T18:24:14.223Z"
   },
   {
    "duration": 152,
    "start_time": "2024-07-07T18:24:26.046Z"
   },
   {
    "duration": 142,
    "start_time": "2024-07-07T18:25:21.361Z"
   },
   {
    "duration": 112,
    "start_time": "2024-07-07T18:32:42.913Z"
   },
   {
    "duration": 146,
    "start_time": "2024-07-07T18:32:57.696Z"
   },
   {
    "duration": 144,
    "start_time": "2024-07-07T18:34:36.362Z"
   },
   {
    "duration": 229,
    "start_time": "2024-07-07T18:36:30.564Z"
   },
   {
    "duration": 205,
    "start_time": "2024-07-07T18:36:58.947Z"
   },
   {
    "duration": 1556,
    "start_time": "2024-07-07T18:37:09.752Z"
   },
   {
    "duration": 756,
    "start_time": "2024-07-07T18:37:11.312Z"
   },
   {
    "duration": 45,
    "start_time": "2024-07-07T18:37:12.071Z"
   },
   {
    "duration": 19,
    "start_time": "2024-07-07T18:37:12.120Z"
   },
   {
    "duration": 6,
    "start_time": "2024-07-07T18:37:12.143Z"
   },
   {
    "duration": 177,
    "start_time": "2024-07-07T18:37:12.153Z"
   },
   {
    "duration": 151,
    "start_time": "2024-07-07T18:37:12.333Z"
   },
   {
    "duration": 452,
    "start_time": "2024-07-07T18:37:12.487Z"
   },
   {
    "duration": 156,
    "start_time": "2024-07-07T18:37:12.942Z"
   },
   {
    "duration": 218,
    "start_time": "2024-07-07T18:37:13.105Z"
   },
   {
    "duration": 151,
    "start_time": "2024-07-07T18:37:13.326Z"
   },
   {
    "duration": 158,
    "start_time": "2024-07-07T18:37:13.480Z"
   },
   {
    "duration": 27,
    "start_time": "2024-07-07T18:37:13.641Z"
   },
   {
    "duration": 44,
    "start_time": "2024-07-07T18:37:13.671Z"
   },
   {
    "duration": 40,
    "start_time": "2024-07-07T18:37:13.718Z"
   },
   {
    "duration": 49,
    "start_time": "2024-07-07T18:37:13.764Z"
   },
   {
    "duration": 180,
    "start_time": "2024-07-07T18:38:24.803Z"
   },
   {
    "duration": 104,
    "start_time": "2024-07-07T18:38:25.562Z"
   },
   {
    "duration": 104,
    "start_time": "2024-07-07T18:38:27.108Z"
   },
   {
    "duration": 1842,
    "start_time": "2024-07-07T18:46:18.521Z"
   },
   {
    "duration": 6,
    "start_time": "2024-07-07T18:46:31.279Z"
   },
   {
    "duration": 25,
    "start_time": "2024-07-07T18:46:54.230Z"
   },
   {
    "duration": 24,
    "start_time": "2024-07-07T18:47:22.333Z"
   },
   {
    "duration": 38,
    "start_time": "2024-07-07T18:47:46.299Z"
   },
   {
    "duration": 25,
    "start_time": "2024-07-07T18:48:01.710Z"
   },
   {
    "duration": 74,
    "start_time": "2024-07-07T18:48:06.875Z"
   },
   {
    "duration": 1653,
    "start_time": "2024-07-07T18:48:47.391Z"
   },
   {
    "duration": 740,
    "start_time": "2024-07-07T18:48:49.047Z"
   },
   {
    "duration": 41,
    "start_time": "2024-07-07T18:48:49.790Z"
   },
   {
    "duration": 10,
    "start_time": "2024-07-07T18:48:49.835Z"
   },
   {
    "duration": 175,
    "start_time": "2024-07-07T18:48:49.850Z"
   },
   {
    "duration": 151,
    "start_time": "2024-07-07T18:48:50.028Z"
   },
   {
    "duration": 428,
    "start_time": "2024-07-07T18:48:50.182Z"
   },
   {
    "duration": 155,
    "start_time": "2024-07-07T18:48:50.613Z"
   },
   {
    "duration": 35,
    "start_time": "2024-07-07T18:48:50.771Z"
   },
   {
    "duration": 27,
    "start_time": "2024-07-07T18:48:50.813Z"
   },
   {
    "duration": 64,
    "start_time": "2024-07-07T18:48:50.843Z"
   },
   {
    "duration": 210,
    "start_time": "2024-07-07T18:48:50.910Z"
   },
   {
    "duration": 110,
    "start_time": "2024-07-07T18:48:51.123Z"
   },
   {
    "duration": 65,
    "start_time": "2024-07-07T18:48:51.236Z"
   },
   {
    "duration": 70,
    "start_time": "2024-07-07T18:48:51.304Z"
   },
   {
    "duration": 87,
    "start_time": "2024-07-07T18:48:51.378Z"
   },
   {
    "duration": 424,
    "start_time": "2024-07-07T18:54:39.978Z"
   },
   {
    "duration": 698,
    "start_time": "2024-07-07T18:54:41.677Z"
   },
   {
    "duration": 0,
    "start_time": "2024-07-07T18:54:42.378Z"
   },
   {
    "duration": 63,
    "start_time": "2024-07-07T18:54:48.977Z"
   },
   {
    "duration": 65,
    "start_time": "2024-07-07T18:55:06.263Z"
   },
   {
    "duration": 65,
    "start_time": "2024-07-07T18:55:10.717Z"
   },
   {
    "duration": 90,
    "start_time": "2024-07-07T18:55:15.584Z"
   },
   {
    "duration": 72,
    "start_time": "2024-07-07T18:55:16.142Z"
   },
   {
    "duration": 77,
    "start_time": "2024-07-07T18:55:17.142Z"
   },
   {
    "duration": 24,
    "start_time": "2024-07-07T18:55:17.497Z"
   },
   {
    "duration": 1625,
    "start_time": "2024-07-07T18:55:27.215Z"
   },
   {
    "duration": 762,
    "start_time": "2024-07-07T18:55:28.844Z"
   },
   {
    "duration": 29,
    "start_time": "2024-07-07T18:55:29.610Z"
   },
   {
    "duration": 6,
    "start_time": "2024-07-07T18:55:29.643Z"
   },
   {
    "duration": 183,
    "start_time": "2024-07-07T18:55:29.653Z"
   },
   {
    "duration": 148,
    "start_time": "2024-07-07T18:55:29.841Z"
   },
   {
    "duration": 427,
    "start_time": "2024-07-07T18:55:30.002Z"
   },
   {
    "duration": 176,
    "start_time": "2024-07-07T18:55:30.432Z"
   },
   {
    "duration": 28,
    "start_time": "2024-07-07T18:55:30.612Z"
   },
   {
    "duration": 55,
    "start_time": "2024-07-07T18:55:30.646Z"
   },
   {
    "duration": 42,
    "start_time": "2024-07-07T18:55:30.705Z"
   },
   {
    "duration": 197,
    "start_time": "2024-07-07T18:55:30.750Z"
   },
   {
    "duration": 114,
    "start_time": "2024-07-07T18:55:30.951Z"
   },
   {
    "duration": 61,
    "start_time": "2024-07-07T18:55:31.069Z"
   },
   {
    "duration": 428,
    "start_time": "2024-07-07T18:55:31.133Z"
   },
   {
    "duration": 691,
    "start_time": "2024-07-07T18:55:37.278Z"
   },
   {
    "duration": 1637,
    "start_time": "2024-07-07T18:55:43.686Z"
   },
   {
    "duration": 808,
    "start_time": "2024-07-07T18:55:45.327Z"
   },
   {
    "duration": 36,
    "start_time": "2024-07-07T18:55:46.139Z"
   },
   {
    "duration": 23,
    "start_time": "2024-07-07T18:55:46.179Z"
   },
   {
    "duration": 185,
    "start_time": "2024-07-07T18:55:46.208Z"
   },
   {
    "duration": 152,
    "start_time": "2024-07-07T18:55:46.396Z"
   },
   {
    "duration": 426,
    "start_time": "2024-07-07T18:55:46.551Z"
   },
   {
    "duration": 167,
    "start_time": "2024-07-07T18:55:46.980Z"
   },
   {
    "duration": 31,
    "start_time": "2024-07-07T18:55:47.150Z"
   },
   {
    "duration": 41,
    "start_time": "2024-07-07T18:55:47.185Z"
   },
   {
    "duration": 57,
    "start_time": "2024-07-07T18:55:47.244Z"
   },
   {
    "duration": 196,
    "start_time": "2024-07-07T18:55:47.305Z"
   },
   {
    "duration": 110,
    "start_time": "2024-07-07T18:55:47.504Z"
   },
   {
    "duration": 37,
    "start_time": "2024-07-07T18:55:47.620Z"
   },
   {
    "duration": 90,
    "start_time": "2024-07-07T18:55:47.660Z"
   },
   {
    "duration": 158,
    "start_time": "2024-07-07T19:06:15.835Z"
   },
   {
    "duration": 5,
    "start_time": "2024-07-07T19:07:11.982Z"
   },
   {
    "duration": 3,
    "start_time": "2024-07-08T02:01:50.939Z"
   },
   {
    "duration": 194,
    "start_time": "2024-07-08T02:01:51.704Z"
   },
   {
    "duration": 6,
    "start_time": "2024-07-08T02:01:52.434Z"
   },
   {
    "duration": 1581,
    "start_time": "2024-07-08T02:02:45.431Z"
   },
   {
    "duration": 772,
    "start_time": "2024-07-08T02:02:47.016Z"
   },
   {
    "duration": 36,
    "start_time": "2024-07-08T02:02:47.791Z"
   },
   {
    "duration": 7,
    "start_time": "2024-07-08T02:02:47.830Z"
   },
   {
    "duration": 179,
    "start_time": "2024-07-08T02:02:47.842Z"
   },
   {
    "duration": 151,
    "start_time": "2024-07-08T02:02:48.025Z"
   },
   {
    "duration": 425,
    "start_time": "2024-07-08T02:02:48.180Z"
   },
   {
    "duration": 155,
    "start_time": "2024-07-08T02:02:48.607Z"
   },
   {
    "duration": 37,
    "start_time": "2024-07-08T02:02:48.765Z"
   },
   {
    "duration": 27,
    "start_time": "2024-07-08T02:02:48.805Z"
   },
   {
    "duration": 69,
    "start_time": "2024-07-08T02:02:48.836Z"
   },
   {
    "duration": 198,
    "start_time": "2024-07-08T02:02:48.910Z"
   },
   {
    "duration": 106,
    "start_time": "2024-07-08T02:02:49.112Z"
   },
   {
    "duration": 37,
    "start_time": "2024-07-08T02:02:49.223Z"
   },
   {
    "duration": 92,
    "start_time": "2024-07-08T02:02:49.262Z"
   },
   {
    "duration": 3,
    "start_time": "2024-07-08T02:02:49.360Z"
   },
   {
    "duration": 214,
    "start_time": "2024-07-08T02:02:49.367Z"
   },
   {
    "duration": 18,
    "start_time": "2024-07-08T02:02:49.584Z"
   },
   {
    "duration": 436,
    "start_time": "2024-07-08T02:02:49.604Z"
   },
   {
    "duration": 0,
    "start_time": "2024-07-08T02:02:50.044Z"
   },
   {
    "duration": 5230,
    "start_time": "2024-07-15T23:34:21.073Z"
   },
   {
    "duration": 760,
    "start_time": "2024-07-15T23:34:26.307Z"
   },
   {
    "duration": 39,
    "start_time": "2024-07-15T23:34:27.069Z"
   },
   {
    "duration": 6,
    "start_time": "2024-07-15T23:34:27.111Z"
   },
   {
    "duration": 160,
    "start_time": "2024-07-15T23:34:27.121Z"
   },
   {
    "duration": 147,
    "start_time": "2024-07-15T23:34:27.285Z"
   },
   {
    "duration": 401,
    "start_time": "2024-07-15T23:34:27.434Z"
   },
   {
    "duration": 176,
    "start_time": "2024-07-15T23:34:27.838Z"
   },
   {
    "duration": 27,
    "start_time": "2024-07-15T23:34:28.016Z"
   },
   {
    "duration": 27,
    "start_time": "2024-07-15T23:34:28.050Z"
   },
   {
    "duration": 40,
    "start_time": "2024-07-15T23:34:28.107Z"
   },
   {
    "duration": 206,
    "start_time": "2024-07-15T23:34:28.150Z"
   },
   {
    "duration": 35,
    "start_time": "2024-07-15T23:34:28.358Z"
   },
   {
    "duration": 104,
    "start_time": "2024-07-15T23:34:28.408Z"
   },
   {
    "duration": 5,
    "start_time": "2024-07-15T23:34:28.515Z"
   },
   {
    "duration": 215,
    "start_time": "2024-07-15T23:34:28.523Z"
   },
   {
    "duration": 7,
    "start_time": "2024-07-15T23:34:28.740Z"
   },
   {
    "duration": 531,
    "start_time": "2024-07-15T23:34:28.750Z"
   },
   {
    "duration": 195,
    "start_time": "2024-07-15T23:35:01.479Z"
   },
   {
    "duration": 233,
    "start_time": "2024-07-15T23:35:19.031Z"
   },
   {
    "duration": 41,
    "start_time": "2024-07-15T23:37:52.136Z"
   },
   {
    "duration": 70,
    "start_time": "2024-07-15T23:37:53.304Z"
   },
   {
    "duration": 727,
    "start_time": "2024-07-15T23:38:07.868Z"
   },
   {
    "duration": 0,
    "start_time": "2024-07-15T23:38:08.598Z"
   },
   {
    "duration": 1550,
    "start_time": "2024-07-15T23:38:20.378Z"
   },
   {
    "duration": 735,
    "start_time": "2024-07-15T23:38:21.932Z"
   },
   {
    "duration": 38,
    "start_time": "2024-07-15T23:38:22.669Z"
   },
   {
    "duration": 5,
    "start_time": "2024-07-15T23:38:22.711Z"
   },
   {
    "duration": 167,
    "start_time": "2024-07-15T23:38:22.720Z"
   },
   {
    "duration": 153,
    "start_time": "2024-07-15T23:38:22.890Z"
   },
   {
    "duration": 436,
    "start_time": "2024-07-15T23:38:23.046Z"
   },
   {
    "duration": 154,
    "start_time": "2024-07-15T23:38:23.485Z"
   },
   {
    "duration": 26,
    "start_time": "2024-07-15T23:38:23.642Z"
   },
   {
    "duration": 47,
    "start_time": "2024-07-15T23:38:23.674Z"
   },
   {
    "duration": 40,
    "start_time": "2024-07-15T23:38:23.724Z"
   },
   {
    "duration": 308,
    "start_time": "2024-07-15T23:38:23.768Z"
   },
   {
    "duration": 43,
    "start_time": "2024-07-15T23:38:24.079Z"
   },
   {
    "duration": 90,
    "start_time": "2024-07-15T23:38:24.126Z"
   },
   {
    "duration": 3,
    "start_time": "2024-07-15T23:38:24.219Z"
   },
   {
    "duration": 192,
    "start_time": "2024-07-15T23:38:24.225Z"
   },
   {
    "duration": 6,
    "start_time": "2024-07-15T23:38:24.420Z"
   },
   {
    "duration": 555,
    "start_time": "2024-07-15T23:38:24.429Z"
   },
   {
    "duration": 24,
    "start_time": "2024-07-15T23:39:24.167Z"
   },
   {
    "duration": 1841,
    "start_time": "2024-07-15T23:58:13.226Z"
   },
   {
    "duration": 413,
    "start_time": "2024-07-16T21:11:55.809Z"
   },
   {
    "duration": 5549,
    "start_time": "2024-07-16T21:12:03.200Z"
   },
   {
    "duration": 887,
    "start_time": "2024-07-16T21:12:08.753Z"
   },
   {
    "duration": 34,
    "start_time": "2024-07-16T21:12:09.643Z"
   },
   {
    "duration": 28,
    "start_time": "2024-07-16T21:12:09.681Z"
   },
   {
    "duration": 199,
    "start_time": "2024-07-16T21:12:09.712Z"
   },
   {
    "duration": 156,
    "start_time": "2024-07-16T21:12:09.914Z"
   },
   {
    "duration": 438,
    "start_time": "2024-07-16T21:12:10.077Z"
   },
   {
    "duration": 169,
    "start_time": "2024-07-16T21:12:10.519Z"
   },
   {
    "duration": 31,
    "start_time": "2024-07-16T21:12:10.692Z"
   },
   {
    "duration": 37,
    "start_time": "2024-07-16T21:12:10.730Z"
   },
   {
    "duration": 76,
    "start_time": "2024-07-16T21:12:10.771Z"
   },
   {
    "duration": 351,
    "start_time": "2024-07-16T21:12:10.850Z"
   },
   {
    "duration": 38,
    "start_time": "2024-07-16T21:12:11.204Z"
   },
   {
    "duration": 90,
    "start_time": "2024-07-16T21:12:11.246Z"
   },
   {
    "duration": 28,
    "start_time": "2024-07-16T21:12:11.340Z"
   },
   {
    "duration": 1925,
    "start_time": "2024-07-16T21:12:11.372Z"
   },
   {
    "duration": 10,
    "start_time": "2024-07-16T21:12:13.300Z"
   },
   {
    "duration": 230,
    "start_time": "2024-07-16T21:12:13.314Z"
   },
   {
    "duration": 8,
    "start_time": "2024-07-16T21:12:13.547Z"
   },
   {
    "duration": 632,
    "start_time": "2024-07-16T21:12:13.558Z"
   },
   {
    "duration": 1584,
    "start_time": "2024-07-16T21:16:17.688Z"
   },
   {
    "duration": 751,
    "start_time": "2024-07-16T21:16:19.276Z"
   },
   {
    "duration": 29,
    "start_time": "2024-07-16T21:16:20.031Z"
   },
   {
    "duration": 7,
    "start_time": "2024-07-16T21:16:20.064Z"
   },
   {
    "duration": 187,
    "start_time": "2024-07-16T21:16:20.074Z"
   },
   {
    "duration": 174,
    "start_time": "2024-07-16T21:16:20.264Z"
   },
   {
    "duration": 406,
    "start_time": "2024-07-16T21:16:20.441Z"
   },
   {
    "duration": 166,
    "start_time": "2024-07-16T21:16:20.849Z"
   },
   {
    "duration": 28,
    "start_time": "2024-07-16T21:16:21.017Z"
   },
   {
    "duration": 27,
    "start_time": "2024-07-16T21:16:21.051Z"
   },
   {
    "duration": 64,
    "start_time": "2024-07-16T21:16:21.082Z"
   },
   {
    "duration": 311,
    "start_time": "2024-07-16T21:16:21.149Z"
   },
   {
    "duration": 59,
    "start_time": "2024-07-16T21:16:21.464Z"
   },
   {
    "duration": 73,
    "start_time": "2024-07-16T21:16:21.526Z"
   },
   {
    "duration": 41,
    "start_time": "2024-07-16T21:16:21.602Z"
   },
   {
    "duration": 1290,
    "start_time": "2024-07-16T21:16:21.645Z"
   },
   {
    "duration": 0,
    "start_time": "2024-07-16T21:16:22.938Z"
   },
   {
    "duration": 0,
    "start_time": "2024-07-16T21:16:22.940Z"
   },
   {
    "duration": 0,
    "start_time": "2024-07-16T21:16:22.941Z"
   },
   {
    "duration": 0,
    "start_time": "2024-07-16T21:16:22.943Z"
   },
   {
    "duration": 0,
    "start_time": "2024-07-16T21:16:22.945Z"
   },
   {
    "duration": 0,
    "start_time": "2024-07-16T21:16:22.947Z"
   },
   {
    "duration": 0,
    "start_time": "2024-07-16T21:16:22.950Z"
   },
   {
    "duration": 0,
    "start_time": "2024-07-16T21:16:22.952Z"
   },
   {
    "duration": 51,
    "start_time": "2024-07-16T21:16:42.294Z"
   },
   {
    "duration": 94,
    "start_time": "2024-07-16T21:16:59.251Z"
   },
   {
    "duration": 43,
    "start_time": "2024-07-16T21:18:02.723Z"
   },
   {
    "duration": 117,
    "start_time": "2024-07-16T21:35:34.858Z"
   },
   {
    "duration": 18,
    "start_time": "2024-07-16T21:46:38.092Z"
   },
   {
    "duration": 1752,
    "start_time": "2024-07-16T21:46:47.802Z"
   },
   {
    "duration": 966,
    "start_time": "2024-07-16T21:46:49.559Z"
   },
   {
    "duration": 32,
    "start_time": "2024-07-16T21:46:50.528Z"
   },
   {
    "duration": 44,
    "start_time": "2024-07-16T21:46:50.568Z"
   },
   {
    "duration": 165,
    "start_time": "2024-07-16T21:46:50.615Z"
   },
   {
    "duration": 302,
    "start_time": "2024-07-16T21:46:50.783Z"
   },
   {
    "duration": 497,
    "start_time": "2024-07-16T21:46:51.089Z"
   },
   {
    "duration": 189,
    "start_time": "2024-07-16T21:46:51.589Z"
   },
   {
    "duration": 36,
    "start_time": "2024-07-16T21:46:51.787Z"
   },
   {
    "duration": 32,
    "start_time": "2024-07-16T21:46:51.830Z"
   },
   {
    "duration": 81,
    "start_time": "2024-07-16T21:46:51.867Z"
   },
   {
    "duration": 318,
    "start_time": "2024-07-16T21:46:51.951Z"
   },
   {
    "duration": 47,
    "start_time": "2024-07-16T21:46:52.273Z"
   },
   {
    "duration": 97,
    "start_time": "2024-07-16T21:46:52.325Z"
   },
   {
    "duration": 11,
    "start_time": "2024-07-16T21:46:52.428Z"
   },
   {
    "duration": 89,
    "start_time": "2024-07-16T21:46:52.448Z"
   },
   {
    "duration": 1144,
    "start_time": "2024-07-16T21:46:52.542Z"
   },
   {
    "duration": 0,
    "start_time": "2024-07-16T21:46:53.690Z"
   },
   {
    "duration": 0,
    "start_time": "2024-07-16T21:46:53.693Z"
   },
   {
    "duration": 0,
    "start_time": "2024-07-16T21:46:53.708Z"
   },
   {
    "duration": 0,
    "start_time": "2024-07-16T21:46:53.710Z"
   },
   {
    "duration": 0,
    "start_time": "2024-07-16T21:46:53.712Z"
   },
   {
    "duration": 0,
    "start_time": "2024-07-16T21:46:53.716Z"
   },
   {
    "duration": 0,
    "start_time": "2024-07-16T21:46:53.717Z"
   },
   {
    "duration": 0,
    "start_time": "2024-07-16T21:46:53.720Z"
   },
   {
    "duration": 61,
    "start_time": "2024-07-16T21:47:41.897Z"
   },
   {
    "duration": 21,
    "start_time": "2024-07-16T21:48:07.641Z"
   },
   {
    "duration": 43,
    "start_time": "2024-07-16T21:48:10.338Z"
   },
   {
    "duration": 1758,
    "start_time": "2024-07-16T21:48:51.715Z"
   },
   {
    "duration": 1133,
    "start_time": "2024-07-16T21:48:53.478Z"
   },
   {
    "duration": 37,
    "start_time": "2024-07-16T21:48:54.614Z"
   },
   {
    "duration": 6,
    "start_time": "2024-07-16T21:48:54.654Z"
   },
   {
    "duration": 240,
    "start_time": "2024-07-16T21:48:54.665Z"
   },
   {
    "duration": 195,
    "start_time": "2024-07-16T21:48:54.914Z"
   },
   {
    "duration": 485,
    "start_time": "2024-07-16T21:48:55.113Z"
   },
   {
    "duration": 264,
    "start_time": "2024-07-16T21:48:55.601Z"
   },
   {
    "duration": 43,
    "start_time": "2024-07-16T21:48:55.869Z"
   },
   {
    "duration": 34,
    "start_time": "2024-07-16T21:48:55.915Z"
   },
   {
    "duration": 131,
    "start_time": "2024-07-16T21:48:55.952Z"
   },
   {
    "duration": 357,
    "start_time": "2024-07-16T21:48:56.086Z"
   },
   {
    "duration": 76,
    "start_time": "2024-07-16T21:48:56.447Z"
   },
   {
    "duration": 100,
    "start_time": "2024-07-16T21:48:56.533Z"
   },
   {
    "duration": 6,
    "start_time": "2024-07-16T21:48:56.637Z"
   },
   {
    "duration": 77,
    "start_time": "2024-07-16T21:48:56.646Z"
   },
   {
    "duration": 108,
    "start_time": "2024-07-16T21:48:56.731Z"
   },
   {
    "duration": 267,
    "start_time": "2024-07-16T21:48:56.846Z"
   },
   {
    "duration": 0,
    "start_time": "2024-07-16T21:48:57.118Z"
   },
   {
    "duration": 0,
    "start_time": "2024-07-16T21:48:57.122Z"
   },
   {
    "duration": 0,
    "start_time": "2024-07-16T21:48:57.126Z"
   },
   {
    "duration": 1,
    "start_time": "2024-07-16T21:48:57.131Z"
   },
   {
    "duration": 0,
    "start_time": "2024-07-16T21:48:57.137Z"
   },
   {
    "duration": 1,
    "start_time": "2024-07-16T21:48:57.145Z"
   },
   {
    "duration": 13,
    "start_time": "2024-07-16T21:50:40.942Z"
   },
   {
    "duration": 22,
    "start_time": "2024-07-16T21:52:22.845Z"
   },
   {
    "duration": 1829,
    "start_time": "2024-07-16T21:53:00.702Z"
   },
   {
    "duration": 803,
    "start_time": "2024-07-16T21:53:02.541Z"
   },
   {
    "duration": 33,
    "start_time": "2024-07-16T21:53:03.347Z"
   },
   {
    "duration": 26,
    "start_time": "2024-07-16T21:53:03.387Z"
   },
   {
    "duration": 176,
    "start_time": "2024-07-16T21:53:03.419Z"
   },
   {
    "duration": 254,
    "start_time": "2024-07-16T21:53:03.599Z"
   },
   {
    "duration": 460,
    "start_time": "2024-07-16T21:53:03.859Z"
   },
   {
    "duration": 274,
    "start_time": "2024-07-16T21:53:04.328Z"
   },
   {
    "duration": 140,
    "start_time": "2024-07-16T21:53:04.615Z"
   },
   {
    "duration": 41,
    "start_time": "2024-07-16T21:53:04.778Z"
   },
   {
    "duration": 49,
    "start_time": "2024-07-16T21:53:04.823Z"
   },
   {
    "duration": 380,
    "start_time": "2024-07-16T21:53:04.877Z"
   },
   {
    "duration": 44,
    "start_time": "2024-07-16T21:53:05.267Z"
   },
   {
    "duration": 90,
    "start_time": "2024-07-16T21:53:05.314Z"
   },
   {
    "duration": 19,
    "start_time": "2024-07-16T21:53:05.413Z"
   },
   {
    "duration": 38,
    "start_time": "2024-07-16T21:53:05.441Z"
   },
   {
    "duration": 76,
    "start_time": "2024-07-16T21:53:05.483Z"
   },
   {
    "duration": 21,
    "start_time": "2024-07-16T21:53:05.569Z"
   },
   {
    "duration": 1929,
    "start_time": "2024-07-16T21:53:05.594Z"
   },
   {
    "duration": 1424,
    "start_time": "2024-07-16T21:53:07.527Z"
   },
   {
    "duration": 0,
    "start_time": "2024-07-16T21:53:08.959Z"
   },
   {
    "duration": 0,
    "start_time": "2024-07-16T21:53:08.961Z"
   },
   {
    "duration": 0,
    "start_time": "2024-07-16T21:53:08.962Z"
   },
   {
    "duration": 0,
    "start_time": "2024-07-16T21:53:08.965Z"
   },
   {
    "duration": 167,
    "start_time": "2024-07-16T21:54:27.798Z"
   },
   {
    "duration": 2084,
    "start_time": "2024-07-16T21:54:38.202Z"
   },
   {
    "duration": 304,
    "start_time": "2024-07-16T22:00:28.807Z"
   },
   {
    "duration": 208,
    "start_time": "2024-07-16T22:00:31.666Z"
   },
   {
    "duration": 557,
    "start_time": "2024-07-16T22:03:36.241Z"
   },
   {
    "duration": 424,
    "start_time": "2024-07-17T00:09:03.596Z"
   },
   {
    "duration": 1596,
    "start_time": "2024-07-17T00:09:13.163Z"
   },
   {
    "duration": 763,
    "start_time": "2024-07-17T00:09:14.764Z"
   },
   {
    "duration": 29,
    "start_time": "2024-07-17T00:09:15.530Z"
   },
   {
    "duration": 6,
    "start_time": "2024-07-17T00:09:15.563Z"
   },
   {
    "duration": 195,
    "start_time": "2024-07-17T00:09:15.572Z"
   },
   {
    "duration": 155,
    "start_time": "2024-07-17T00:09:15.771Z"
   },
   {
    "duration": 434,
    "start_time": "2024-07-17T00:09:15.930Z"
   },
   {
    "duration": 168,
    "start_time": "2024-07-17T00:09:16.367Z"
   },
   {
    "duration": 34,
    "start_time": "2024-07-17T00:09:16.538Z"
   },
   {
    "duration": 55,
    "start_time": "2024-07-17T00:09:16.580Z"
   },
   {
    "duration": 55,
    "start_time": "2024-07-17T00:09:16.639Z"
   },
   {
    "duration": 307,
    "start_time": "2024-07-17T00:09:16.709Z"
   },
   {
    "duration": 38,
    "start_time": "2024-07-17T00:09:17.019Z"
   },
   {
    "duration": 97,
    "start_time": "2024-07-17T00:09:17.060Z"
   },
   {
    "duration": 6,
    "start_time": "2024-07-17T00:09:17.161Z"
   },
   {
    "duration": 50,
    "start_time": "2024-07-17T00:09:17.171Z"
   },
   {
    "duration": 34,
    "start_time": "2024-07-17T00:09:17.225Z"
   },
   {
    "duration": 46,
    "start_time": "2024-07-17T00:09:17.262Z"
   },
   {
    "duration": 627,
    "start_time": "2024-07-17T00:09:17.314Z"
   },
   {
    "duration": 737,
    "start_time": "2024-07-17T00:09:17.945Z"
   },
   {
    "duration": 0,
    "start_time": "2024-07-17T00:09:18.686Z"
   },
   {
    "duration": 0,
    "start_time": "2024-07-17T00:09:18.688Z"
   },
   {
    "duration": 0,
    "start_time": "2024-07-17T00:09:18.691Z"
   },
   {
    "duration": 0,
    "start_time": "2024-07-17T00:09:18.693Z"
   },
   {
    "duration": 0,
    "start_time": "2024-07-17T00:09:18.709Z"
   },
   {
    "duration": 0,
    "start_time": "2024-07-17T00:09:18.712Z"
   },
   {
    "duration": 0,
    "start_time": "2024-07-17T00:09:18.714Z"
   },
   {
    "duration": 106,
    "start_time": "2024-07-17T00:31:58.933Z"
   },
   {
    "duration": 1236,
    "start_time": "2024-07-17T00:32:21.698Z"
   },
   {
    "duration": 1268,
    "start_time": "2024-07-17T00:32:45.790Z"
   },
   {
    "duration": 1971,
    "start_time": "2024-07-17T00:34:47.858Z"
   },
   {
    "duration": 277,
    "start_time": "2024-07-17T00:34:49.833Z"
   },
   {
    "duration": 210,
    "start_time": "2024-07-17T00:34:50.113Z"
   },
   {
    "duration": 1204,
    "start_time": "2024-07-17T00:36:08.076Z"
   },
   {
    "duration": 1177,
    "start_time": "2024-07-17T00:36:22.076Z"
   },
   {
    "duration": 1215,
    "start_time": "2024-07-17T00:36:43.333Z"
   },
   {
    "duration": 678,
    "start_time": "2024-07-17T00:41:28.689Z"
   },
   {
    "duration": 1060,
    "start_time": "2024-07-17T00:54:17.368Z"
   },
   {
    "duration": 1045,
    "start_time": "2024-07-17T00:58:05.944Z"
   },
   {
    "duration": 1216,
    "start_time": "2024-07-17T00:58:34.661Z"
   },
   {
    "duration": 1100,
    "start_time": "2024-07-17T01:00:14.534Z"
   },
   {
    "duration": 1086,
    "start_time": "2024-07-17T01:00:24.532Z"
   },
   {
    "duration": 1070,
    "start_time": "2024-07-17T01:00:53.074Z"
   },
   {
    "duration": 1273,
    "start_time": "2024-07-17T01:01:08.094Z"
   },
   {
    "duration": 1057,
    "start_time": "2024-07-17T01:01:22.090Z"
   },
   {
    "duration": 1058,
    "start_time": "2024-07-17T01:01:29.744Z"
   },
   {
    "duration": 1278,
    "start_time": "2024-07-17T01:02:01.357Z"
   },
   {
    "duration": 1056,
    "start_time": "2024-07-17T01:02:06.882Z"
   },
   {
    "duration": 1080,
    "start_time": "2024-07-17T01:04:06.249Z"
   },
   {
    "duration": 6,
    "start_time": "2024-07-17T01:04:07.333Z"
   },
   {
    "duration": 209,
    "start_time": "2024-07-17T01:04:07.646Z"
   },
   {
    "duration": 6,
    "start_time": "2024-07-17T01:04:08.094Z"
   },
   {
    "duration": 138,
    "start_time": "2024-07-17T01:04:08.935Z"
   },
   {
    "duration": 1682,
    "start_time": "2024-07-17T01:23:35.762Z"
   },
   {
    "duration": 1705,
    "start_time": "2024-07-17T01:23:44.782Z"
   },
   {
    "duration": 793,
    "start_time": "2024-07-17T01:23:46.492Z"
   },
   {
    "duration": 41,
    "start_time": "2024-07-17T01:23:47.288Z"
   },
   {
    "duration": 7,
    "start_time": "2024-07-17T01:23:47.334Z"
   },
   {
    "duration": 184,
    "start_time": "2024-07-17T01:23:47.349Z"
   },
   {
    "duration": 146,
    "start_time": "2024-07-17T01:23:47.537Z"
   },
   {
    "duration": 452,
    "start_time": "2024-07-17T01:23:47.687Z"
   },
   {
    "duration": 183,
    "start_time": "2024-07-17T01:23:48.143Z"
   },
   {
    "duration": 27,
    "start_time": "2024-07-17T01:23:48.330Z"
   },
   {
    "duration": 49,
    "start_time": "2024-07-17T01:23:48.363Z"
   },
   {
    "duration": 50,
    "start_time": "2024-07-17T01:23:48.417Z"
   },
   {
    "duration": 347,
    "start_time": "2024-07-17T01:23:48.471Z"
   },
   {
    "duration": 37,
    "start_time": "2024-07-17T01:23:48.821Z"
   },
   {
    "duration": 90,
    "start_time": "2024-07-17T01:23:48.863Z"
   },
   {
    "duration": 5,
    "start_time": "2024-07-17T01:23:48.957Z"
   },
   {
    "duration": 51,
    "start_time": "2024-07-17T01:23:48.965Z"
   },
   {
    "duration": 34,
    "start_time": "2024-07-17T01:23:49.019Z"
   },
   {
    "duration": 51,
    "start_time": "2024-07-17T01:23:49.057Z"
   },
   {
    "duration": 581,
    "start_time": "2024-07-17T01:23:49.112Z"
   },
   {
    "duration": 1216,
    "start_time": "2024-07-17T01:23:49.697Z"
   },
   {
    "duration": 1195,
    "start_time": "2024-07-17T01:23:50.916Z"
   },
   {
    "duration": 2035,
    "start_time": "2024-07-17T01:23:52.115Z"
   },
   {
    "duration": 256,
    "start_time": "2024-07-17T01:23:54.153Z"
   },
   {
    "duration": 251,
    "start_time": "2024-07-17T01:23:54.412Z"
   },
   {
    "duration": 1234,
    "start_time": "2024-07-17T01:23:54.666Z"
   },
   {
    "duration": 4,
    "start_time": "2024-07-17T01:23:55.910Z"
   },
   {
    "duration": 2035,
    "start_time": "2024-07-17T01:23:55.918Z"
   },
   {
    "duration": 0,
    "start_time": "2024-07-17T01:23:57.956Z"
   },
   {
    "duration": 0,
    "start_time": "2024-07-17T01:23:57.958Z"
   },
   {
    "duration": 5290,
    "start_time": "2024-07-17T14:03:24.068Z"
   },
   {
    "duration": 797,
    "start_time": "2024-07-17T14:03:29.362Z"
   },
   {
    "duration": 29,
    "start_time": "2024-07-17T14:03:30.162Z"
   },
   {
    "duration": 6,
    "start_time": "2024-07-17T14:03:30.194Z"
   },
   {
    "duration": 256,
    "start_time": "2024-07-17T14:03:30.205Z"
   },
   {
    "duration": 164,
    "start_time": "2024-07-17T14:03:30.469Z"
   },
   {
    "duration": 422,
    "start_time": "2024-07-17T14:03:30.637Z"
   },
   {
    "duration": 210,
    "start_time": "2024-07-17T14:03:31.062Z"
   },
   {
    "duration": 35,
    "start_time": "2024-07-17T14:03:31.275Z"
   },
   {
    "duration": 34,
    "start_time": "2024-07-17T14:03:31.331Z"
   },
   {
    "duration": 68,
    "start_time": "2024-07-17T14:03:31.368Z"
   },
   {
    "duration": 439,
    "start_time": "2024-07-17T14:03:31.440Z"
   },
   {
    "duration": 52,
    "start_time": "2024-07-17T14:03:31.882Z"
   },
   {
    "duration": 81,
    "start_time": "2024-07-17T14:03:31.940Z"
   },
   {
    "duration": 9,
    "start_time": "2024-07-17T14:03:32.033Z"
   },
   {
    "duration": 32,
    "start_time": "2024-07-17T14:03:32.045Z"
   },
   {
    "duration": 61,
    "start_time": "2024-07-17T14:03:32.088Z"
   },
   {
    "duration": 19,
    "start_time": "2024-07-17T14:03:32.152Z"
   },
   {
    "duration": 598,
    "start_time": "2024-07-17T14:03:32.175Z"
   },
   {
    "duration": 1239,
    "start_time": "2024-07-17T14:03:32.777Z"
   },
   {
    "duration": 1243,
    "start_time": "2024-07-17T14:03:34.020Z"
   },
   {
    "duration": 504,
    "start_time": "2024-07-17T14:03:35.266Z"
   },
   {
    "duration": 2050,
    "start_time": "2024-07-17T14:03:35.773Z"
   },
   {
    "duration": 247,
    "start_time": "2024-07-17T14:03:37.831Z"
   },
   {
    "duration": 249,
    "start_time": "2024-07-17T14:03:38.084Z"
   },
   {
    "duration": 1130,
    "start_time": "2024-07-17T14:03:38.336Z"
   },
   {
    "duration": 4,
    "start_time": "2024-07-17T14:03:39.470Z"
   },
   {
    "duration": 1953,
    "start_time": "2024-07-17T14:03:39.477Z"
   },
   {
    "duration": 0,
    "start_time": "2024-07-17T14:03:41.433Z"
   },
   {
    "duration": 0,
    "start_time": "2024-07-17T14:03:41.435Z"
   },
   {
    "duration": 593,
    "start_time": "2024-07-17T14:04:29.910Z"
   },
   {
    "duration": 2539,
    "start_time": "2024-07-17T14:05:13.012Z"
   },
   {
    "duration": 2721,
    "start_time": "2024-07-17T14:05:33.356Z"
   },
   {
    "duration": 499,
    "start_time": "2024-07-17T16:19:17.182Z"
   },
   {
    "duration": 31,
    "start_time": "2024-07-17T16:19:58.344Z"
   },
   {
    "duration": 36,
    "start_time": "2024-07-17T16:20:06.243Z"
   },
   {
    "duration": 47,
    "start_time": "2024-07-17T16:20:52.480Z"
   },
   {
    "duration": 264,
    "start_time": "2024-07-17T16:29:35.882Z"
   },
   {
    "duration": 26,
    "start_time": "2024-07-17T16:31:22.972Z"
   },
   {
    "duration": 141,
    "start_time": "2024-07-17T16:31:31.798Z"
   },
   {
    "duration": 28,
    "start_time": "2024-07-17T16:32:43.485Z"
   },
   {
    "duration": 1640,
    "start_time": "2024-07-17T16:32:56.077Z"
   },
   {
    "duration": 809,
    "start_time": "2024-07-17T16:32:57.721Z"
   },
   {
    "duration": 34,
    "start_time": "2024-07-17T16:32:58.533Z"
   },
   {
    "duration": 6,
    "start_time": "2024-07-17T16:32:58.571Z"
   },
   {
    "duration": 176,
    "start_time": "2024-07-17T16:32:58.582Z"
   },
   {
    "duration": 172,
    "start_time": "2024-07-17T16:32:58.761Z"
   },
   {
    "duration": 489,
    "start_time": "2024-07-17T16:32:58.936Z"
   },
   {
    "duration": 188,
    "start_time": "2024-07-17T16:32:59.428Z"
   },
   {
    "duration": 37,
    "start_time": "2024-07-17T16:32:59.619Z"
   },
   {
    "duration": 27,
    "start_time": "2024-07-17T16:32:59.660Z"
   },
   {
    "duration": 61,
    "start_time": "2024-07-17T16:32:59.690Z"
   },
   {
    "duration": 303,
    "start_time": "2024-07-17T16:32:59.754Z"
   },
   {
    "duration": 39,
    "start_time": "2024-07-17T16:33:00.060Z"
   },
   {
    "duration": 112,
    "start_time": "2024-07-17T16:33:00.106Z"
   },
   {
    "duration": 6,
    "start_time": "2024-07-17T16:33:00.233Z"
   },
   {
    "duration": 36,
    "start_time": "2024-07-17T16:33:00.242Z"
   },
   {
    "duration": 56,
    "start_time": "2024-07-17T16:33:00.282Z"
   },
   {
    "duration": 20,
    "start_time": "2024-07-17T16:33:00.342Z"
   },
   {
    "duration": 572,
    "start_time": "2024-07-17T16:33:00.366Z"
   },
   {
    "duration": 1241,
    "start_time": "2024-07-17T16:33:00.942Z"
   },
   {
    "duration": 559,
    "start_time": "2024-07-17T16:33:02.187Z"
   },
   {
    "duration": 2037,
    "start_time": "2024-07-17T16:33:02.749Z"
   },
   {
    "duration": 284,
    "start_time": "2024-07-17T16:33:04.790Z"
   },
   {
    "duration": 206,
    "start_time": "2024-07-17T16:33:05.078Z"
   },
   {
    "duration": 630,
    "start_time": "2024-07-17T16:33:05.287Z"
   },
   {
    "duration": 44,
    "start_time": "2024-07-17T16:33:05.924Z"
   },
   {
    "duration": 1121,
    "start_time": "2024-07-17T16:33:05.971Z"
   },
   {
    "duration": 5,
    "start_time": "2024-07-17T16:33:07.095Z"
   },
   {
    "duration": 1971,
    "start_time": "2024-07-17T16:33:07.104Z"
   },
   {
    "duration": 0,
    "start_time": "2024-07-17T16:33:09.080Z"
   },
   {
    "duration": 0,
    "start_time": "2024-07-17T16:33:09.082Z"
   },
   {
    "duration": 49,
    "start_time": "2024-07-17T16:36:35.526Z"
   },
   {
    "duration": 42,
    "start_time": "2024-07-17T16:36:48.248Z"
   },
   {
    "duration": 388,
    "start_time": "2024-07-17T16:38:02.875Z"
   },
   {
    "duration": 1059,
    "start_time": "2024-07-17T16:39:20.602Z"
   },
   {
    "duration": 488,
    "start_time": "2024-07-17T16:39:53.757Z"
   },
   {
    "duration": 637,
    "start_time": "2024-07-17T16:40:00.442Z"
   },
   {
    "duration": 504,
    "start_time": "2024-07-17T16:40:39.609Z"
   },
   {
    "duration": 507,
    "start_time": "2024-07-17T16:41:12.187Z"
   },
   {
    "duration": 1577,
    "start_time": "2024-07-17T22:05:29.367Z"
   },
   {
    "duration": 772,
    "start_time": "2024-07-17T22:05:30.952Z"
   },
   {
    "duration": 34,
    "start_time": "2024-07-17T22:05:31.730Z"
   },
   {
    "duration": 7,
    "start_time": "2024-07-17T22:05:31.769Z"
   },
   {
    "duration": 203,
    "start_time": "2024-07-17T22:05:31.781Z"
   },
   {
    "duration": 177,
    "start_time": "2024-07-17T22:05:31.987Z"
   },
   {
    "duration": 425,
    "start_time": "2024-07-17T22:05:32.167Z"
   },
   {
    "duration": 169,
    "start_time": "2024-07-17T22:05:32.596Z"
   },
   {
    "duration": 27,
    "start_time": "2024-07-17T22:05:32.768Z"
   },
   {
    "duration": 44,
    "start_time": "2024-07-17T22:05:32.801Z"
   },
   {
    "duration": 49,
    "start_time": "2024-07-17T22:05:32.848Z"
   },
   {
    "duration": 328,
    "start_time": "2024-07-17T22:05:32.900Z"
   },
   {
    "duration": 44,
    "start_time": "2024-07-17T22:05:33.235Z"
   },
   {
    "duration": 92,
    "start_time": "2024-07-17T22:05:33.283Z"
   },
   {
    "duration": 8,
    "start_time": "2024-07-17T22:05:33.378Z"
   },
   {
    "duration": 24,
    "start_time": "2024-07-17T22:05:33.389Z"
   },
   {
    "duration": 45,
    "start_time": "2024-07-17T22:05:33.419Z"
   },
   {
    "duration": 17,
    "start_time": "2024-07-17T22:05:33.467Z"
   },
   {
    "duration": 526,
    "start_time": "2024-07-17T22:05:33.487Z"
   },
   {
    "duration": 1240,
    "start_time": "2024-07-17T22:05:34.016Z"
   },
   {
    "duration": 521,
    "start_time": "2024-07-17T22:05:35.259Z"
   },
   {
    "duration": 1956,
    "start_time": "2024-07-17T22:05:35.783Z"
   },
   {
    "duration": 253,
    "start_time": "2024-07-17T22:05:37.744Z"
   },
   {
    "duration": 190,
    "start_time": "2024-07-17T22:05:38.000Z"
   },
   {
    "duration": 558,
    "start_time": "2024-07-17T22:05:38.194Z"
   },
   {
    "duration": 30,
    "start_time": "2024-07-17T22:05:38.762Z"
   },
   {
    "duration": 570,
    "start_time": "2024-07-17T22:05:38.795Z"
   },
   {
    "duration": 4,
    "start_time": "2024-07-17T22:05:39.371Z"
   },
   {
    "duration": 1944,
    "start_time": "2024-07-17T22:05:39.378Z"
   },
   {
    "duration": 0,
    "start_time": "2024-07-17T22:05:41.339Z"
   },
   {
    "duration": 0,
    "start_time": "2024-07-17T22:05:41.341Z"
   },
   {
    "duration": 158,
    "start_time": "2024-07-18T02:49:04.538Z"
   },
   {
    "duration": 7,
    "start_time": "2024-07-18T02:49:05.871Z"
   },
   {
    "duration": 124,
    "start_time": "2024-07-18T03:11:34.642Z"
   },
   {
    "duration": 5,
    "start_time": "2024-07-18T03:11:35.113Z"
   },
   {
    "duration": 127,
    "start_time": "2024-07-18T03:11:41.240Z"
   },
   {
    "duration": 8,
    "start_time": "2024-07-18T03:11:42.773Z"
   },
   {
    "duration": 1561,
    "start_time": "2024-07-18T03:11:56.157Z"
   },
   {
    "duration": 715,
    "start_time": "2024-07-18T03:11:57.722Z"
   },
   {
    "duration": 29,
    "start_time": "2024-07-18T03:11:58.440Z"
   },
   {
    "duration": 5,
    "start_time": "2024-07-18T03:11:58.474Z"
   },
   {
    "duration": 173,
    "start_time": "2024-07-18T03:11:58.483Z"
   },
   {
    "duration": 145,
    "start_time": "2024-07-18T03:11:58.662Z"
   },
   {
    "duration": 410,
    "start_time": "2024-07-18T03:11:58.810Z"
   },
   {
    "duration": 151,
    "start_time": "2024-07-18T03:11:59.223Z"
   },
   {
    "duration": 27,
    "start_time": "2024-07-18T03:11:59.377Z"
   },
   {
    "duration": 27,
    "start_time": "2024-07-18T03:11:59.431Z"
   },
   {
    "duration": 41,
    "start_time": "2024-07-18T03:11:59.461Z"
   },
   {
    "duration": 314,
    "start_time": "2024-07-18T03:11:59.505Z"
   },
   {
    "duration": 40,
    "start_time": "2024-07-18T03:11:59.822Z"
   },
   {
    "duration": 88,
    "start_time": "2024-07-18T03:11:59.864Z"
   },
   {
    "duration": 6,
    "start_time": "2024-07-18T03:11:59.955Z"
   },
   {
    "duration": 24,
    "start_time": "2024-07-18T03:11:59.965Z"
   },
   {
    "duration": 66,
    "start_time": "2024-07-18T03:11:59.992Z"
   },
   {
    "duration": 19,
    "start_time": "2024-07-18T03:12:00.061Z"
   },
   {
    "duration": 528,
    "start_time": "2024-07-18T03:12:00.083Z"
   },
   {
    "duration": 1201,
    "start_time": "2024-07-18T03:12:00.614Z"
   },
   {
    "duration": 497,
    "start_time": "2024-07-18T03:12:01.819Z"
   },
   {
    "duration": 1997,
    "start_time": "2024-07-18T03:12:02.319Z"
   },
   {
    "duration": 252,
    "start_time": "2024-07-18T03:12:04.319Z"
   },
   {
    "duration": 185,
    "start_time": "2024-07-18T03:12:04.574Z"
   },
   {
    "duration": 564,
    "start_time": "2024-07-18T03:12:04.762Z"
   },
   {
    "duration": 29,
    "start_time": "2024-07-18T03:12:05.332Z"
   },
   {
    "duration": 563,
    "start_time": "2024-07-18T03:12:05.363Z"
   },
   {
    "duration": 3,
    "start_time": "2024-07-18T03:12:05.935Z"
   },
   {
    "duration": 147,
    "start_time": "2024-07-18T03:12:05.941Z"
   },
   {
    "duration": 5,
    "start_time": "2024-07-18T03:12:06.091Z"
   },
   {
    "duration": 535,
    "start_time": "2024-07-18T03:12:06.100Z"
   },
   {
    "duration": 36,
    "start_time": "2024-07-18T03:57:09.354Z"
   },
   {
    "duration": 93,
    "start_time": "2024-07-18T03:57:25.792Z"
   },
   {
    "duration": 5732,
    "start_time": "2024-07-18T13:45:37.487Z"
   },
   {
    "duration": 880,
    "start_time": "2024-07-18T13:45:43.224Z"
   },
   {
    "duration": 38,
    "start_time": "2024-07-18T13:45:44.106Z"
   },
   {
    "duration": 7,
    "start_time": "2024-07-18T13:45:44.151Z"
   },
   {
    "duration": 206,
    "start_time": "2024-07-18T13:45:44.161Z"
   },
   {
    "duration": 162,
    "start_time": "2024-07-18T13:45:44.371Z"
   },
   {
    "duration": 511,
    "start_time": "2024-07-18T13:45:44.537Z"
   },
   {
    "duration": 182,
    "start_time": "2024-07-18T13:45:45.052Z"
   },
   {
    "duration": 30,
    "start_time": "2024-07-18T13:45:45.237Z"
   },
   {
    "duration": 59,
    "start_time": "2024-07-18T13:45:45.273Z"
   },
   {
    "duration": 50,
    "start_time": "2024-07-18T13:45:45.336Z"
   },
   {
    "duration": 335,
    "start_time": "2024-07-18T13:45:45.391Z"
   },
   {
    "duration": 39,
    "start_time": "2024-07-18T13:45:45.731Z"
   },
   {
    "duration": 93,
    "start_time": "2024-07-18T13:45:45.774Z"
   },
   {
    "duration": 7,
    "start_time": "2024-07-18T13:45:45.872Z"
   },
   {
    "duration": 57,
    "start_time": "2024-07-18T13:45:45.884Z"
   },
   {
    "duration": 66,
    "start_time": "2024-07-18T13:45:45.945Z"
   },
   {
    "duration": 20,
    "start_time": "2024-07-18T13:45:46.016Z"
   },
   {
    "duration": 613,
    "start_time": "2024-07-18T13:45:46.040Z"
   },
   {
    "duration": 1265,
    "start_time": "2024-07-18T13:45:46.657Z"
   },
   {
    "duration": 522,
    "start_time": "2024-07-18T13:45:47.926Z"
   },
   {
    "duration": 2025,
    "start_time": "2024-07-18T13:45:48.451Z"
   },
   {
    "duration": 273,
    "start_time": "2024-07-18T13:45:50.479Z"
   },
   {
    "duration": 217,
    "start_time": "2024-07-18T13:45:50.755Z"
   },
   {
    "duration": 631,
    "start_time": "2024-07-18T13:45:50.977Z"
   },
   {
    "duration": 31,
    "start_time": "2024-07-18T13:45:51.612Z"
   },
   {
    "duration": 593,
    "start_time": "2024-07-18T13:45:51.646Z"
   },
   {
    "duration": 4,
    "start_time": "2024-07-18T13:45:52.248Z"
   },
   {
    "duration": 143,
    "start_time": "2024-07-18T13:45:52.257Z"
   },
   {
    "duration": 5,
    "start_time": "2024-07-18T13:45:52.404Z"
   },
   {
    "duration": 99,
    "start_time": "2024-07-18T13:46:25.721Z"
   },
   {
    "duration": 6,
    "start_time": "2024-07-18T13:46:26.192Z"
   },
   {
    "duration": 5,
    "start_time": "2024-07-18T13:46:39.976Z"
   },
   {
    "duration": 714,
    "start_time": "2024-07-18T13:46:39.986Z"
   },
   {
    "duration": 27,
    "start_time": "2024-07-18T13:46:40.704Z"
   },
   {
    "duration": 6,
    "start_time": "2024-07-18T13:46:40.735Z"
   },
   {
    "duration": 172,
    "start_time": "2024-07-18T13:46:40.746Z"
   },
   {
    "duration": 151,
    "start_time": "2024-07-18T13:46:40.920Z"
   },
   {
    "duration": 393,
    "start_time": "2024-07-18T13:46:41.074Z"
   },
   {
    "duration": 157,
    "start_time": "2024-07-18T13:46:41.469Z"
   },
   {
    "duration": 28,
    "start_time": "2024-07-18T13:46:41.629Z"
   },
   {
    "duration": 48,
    "start_time": "2024-07-18T13:46:41.660Z"
   },
   {
    "duration": 41,
    "start_time": "2024-07-18T13:46:41.712Z"
   },
   {
    "duration": 308,
    "start_time": "2024-07-18T13:46:41.756Z"
   },
   {
    "duration": 49,
    "start_time": "2024-07-18T13:46:42.067Z"
   },
   {
    "duration": 70,
    "start_time": "2024-07-18T13:46:42.123Z"
   },
   {
    "duration": 6,
    "start_time": "2024-07-18T13:46:42.210Z"
   },
   {
    "duration": 26,
    "start_time": "2024-07-18T13:46:42.219Z"
   },
   {
    "duration": 64,
    "start_time": "2024-07-18T13:46:42.248Z"
   },
   {
    "duration": 19,
    "start_time": "2024-07-18T13:46:42.315Z"
   },
   {
    "duration": 575,
    "start_time": "2024-07-18T13:46:42.337Z"
   },
   {
    "duration": 1194,
    "start_time": "2024-07-18T13:46:42.918Z"
   },
   {
    "duration": 495,
    "start_time": "2024-07-18T13:46:44.115Z"
   },
   {
    "duration": 1976,
    "start_time": "2024-07-18T13:46:44.614Z"
   },
   {
    "duration": 249,
    "start_time": "2024-07-18T13:46:46.593Z"
   },
   {
    "duration": 192,
    "start_time": "2024-07-18T13:46:46.845Z"
   },
   {
    "duration": 584,
    "start_time": "2024-07-18T13:46:47.041Z"
   },
   {
    "duration": 31,
    "start_time": "2024-07-18T13:46:47.628Z"
   },
   {
    "duration": 527,
    "start_time": "2024-07-18T13:46:47.663Z"
   },
   {
    "duration": 3,
    "start_time": "2024-07-18T13:46:48.193Z"
   },
   {
    "duration": 120,
    "start_time": "2024-07-18T13:46:48.210Z"
   },
   {
    "duration": 5,
    "start_time": "2024-07-18T13:46:48.333Z"
   },
   {
    "duration": 1681,
    "start_time": "2024-07-18T13:47:08.606Z"
   },
   {
    "duration": 747,
    "start_time": "2024-07-18T13:47:10.290Z"
   },
   {
    "duration": 29,
    "start_time": "2024-07-18T13:47:11.040Z"
   },
   {
    "duration": 5,
    "start_time": "2024-07-18T13:47:11.074Z"
   },
   {
    "duration": 151,
    "start_time": "2024-07-18T13:47:11.109Z"
   },
   {
    "duration": 148,
    "start_time": "2024-07-18T13:47:11.263Z"
   },
   {
    "duration": 422,
    "start_time": "2024-07-18T13:47:11.414Z"
   },
   {
    "duration": 154,
    "start_time": "2024-07-18T13:47:11.839Z"
   },
   {
    "duration": 30,
    "start_time": "2024-07-18T13:47:11.996Z"
   },
   {
    "duration": 27,
    "start_time": "2024-07-18T13:47:12.032Z"
   },
   {
    "duration": 65,
    "start_time": "2024-07-18T13:47:12.063Z"
   },
   {
    "duration": 295,
    "start_time": "2024-07-18T13:47:12.131Z"
   },
   {
    "duration": 37,
    "start_time": "2024-07-18T13:47:12.428Z"
   },
   {
    "duration": 91,
    "start_time": "2024-07-18T13:47:12.468Z"
   },
   {
    "duration": 8,
    "start_time": "2024-07-18T13:47:12.562Z"
   },
   {
    "duration": 40,
    "start_time": "2024-07-18T13:47:12.573Z"
   },
   {
    "duration": 32,
    "start_time": "2024-07-18T13:47:12.616Z"
   },
   {
    "duration": 18,
    "start_time": "2024-07-18T13:47:12.652Z"
   },
   {
    "duration": 612,
    "start_time": "2024-07-18T13:47:12.673Z"
   },
   {
    "duration": 1269,
    "start_time": "2024-07-18T13:47:13.288Z"
   },
   {
    "duration": 532,
    "start_time": "2024-07-18T13:47:14.560Z"
   },
   {
    "duration": 1988,
    "start_time": "2024-07-18T13:47:15.096Z"
   },
   {
    "duration": 269,
    "start_time": "2024-07-18T13:47:17.088Z"
   },
   {
    "duration": 267,
    "start_time": "2024-07-18T13:47:17.362Z"
   },
   {
    "duration": 505,
    "start_time": "2024-07-18T13:47:17.632Z"
   },
   {
    "duration": 29,
    "start_time": "2024-07-18T13:47:18.140Z"
   },
   {
    "duration": 556,
    "start_time": "2024-07-18T13:47:18.172Z"
   },
   {
    "duration": 3,
    "start_time": "2024-07-18T13:47:18.736Z"
   },
   {
    "duration": 129,
    "start_time": "2024-07-18T13:47:18.743Z"
   },
   {
    "duration": 6,
    "start_time": "2024-07-18T13:47:18.874Z"
   },
   {
    "duration": 439,
    "start_time": "2024-07-18T13:47:18.883Z"
   },
   {
    "duration": 0,
    "start_time": "2024-07-18T13:47:19.324Z"
   },
   {
    "duration": 314,
    "start_time": "2024-07-18T18:17:35.920Z"
   },
   {
    "duration": 5221,
    "start_time": "2024-07-18T18:17:42.281Z"
   },
   {
    "duration": 813,
    "start_time": "2024-07-18T18:17:47.506Z"
   },
   {
    "duration": 33,
    "start_time": "2024-07-18T18:17:48.322Z"
   },
   {
    "duration": 6,
    "start_time": "2024-07-18T18:17:48.357Z"
   },
   {
    "duration": 183,
    "start_time": "2024-07-18T18:17:48.368Z"
   },
   {
    "duration": 149,
    "start_time": "2024-07-18T18:17:48.555Z"
   },
   {
    "duration": 411,
    "start_time": "2024-07-18T18:17:48.707Z"
   },
   {
    "duration": 162,
    "start_time": "2024-07-18T18:17:49.121Z"
   },
   {
    "duration": 26,
    "start_time": "2024-07-18T18:17:49.286Z"
   },
   {
    "duration": 28,
    "start_time": "2024-07-18T18:17:49.332Z"
   },
   {
    "duration": 43,
    "start_time": "2024-07-18T18:17:49.363Z"
   },
   {
    "duration": 326,
    "start_time": "2024-07-18T18:17:49.408Z"
   },
   {
    "duration": 35,
    "start_time": "2024-07-18T18:17:49.737Z"
   },
   {
    "duration": 87,
    "start_time": "2024-07-18T18:17:49.778Z"
   },
   {
    "duration": 6,
    "start_time": "2024-07-18T18:17:49.868Z"
   },
   {
    "duration": 24,
    "start_time": "2024-07-18T18:17:49.877Z"
   },
   {
    "duration": 34,
    "start_time": "2024-07-18T18:17:49.930Z"
   },
   {
    "duration": 19,
    "start_time": "2024-07-18T18:17:49.966Z"
   },
   {
    "duration": 540,
    "start_time": "2024-07-18T18:17:49.989Z"
   },
   {
    "duration": 1201,
    "start_time": "2024-07-18T18:17:50.533Z"
   },
   {
    "duration": 526,
    "start_time": "2024-07-18T18:17:51.737Z"
   },
   {
    "duration": 2013,
    "start_time": "2024-07-18T18:17:52.266Z"
   },
   {
    "duration": 248,
    "start_time": "2024-07-18T18:17:54.283Z"
   },
   {
    "duration": 259,
    "start_time": "2024-07-18T18:17:54.534Z"
   },
   {
    "duration": 481,
    "start_time": "2024-07-18T18:17:54.796Z"
   },
   {
    "duration": 29,
    "start_time": "2024-07-18T18:17:55.280Z"
   },
   {
    "duration": 523,
    "start_time": "2024-07-18T18:17:55.312Z"
   },
   {
    "duration": 3,
    "start_time": "2024-07-18T18:17:55.838Z"
   },
   {
    "duration": 120,
    "start_time": "2024-07-18T18:17:55.845Z"
   },
   {
    "duration": 6,
    "start_time": "2024-07-18T18:17:55.967Z"
   },
   {
    "duration": 2335,
    "start_time": "2024-07-18T18:17:55.976Z"
   },
   {
    "duration": 1592,
    "start_time": "2024-07-18T18:19:02.800Z"
   },
   {
    "duration": 1580,
    "start_time": "2024-07-18T18:27:58.128Z"
   },
   {
    "duration": 1582,
    "start_time": "2024-07-18T18:28:20.166Z"
   },
   {
    "duration": 1659,
    "start_time": "2024-07-18T18:41:50.265Z"
   },
   {
    "duration": 754,
    "start_time": "2024-07-18T18:41:51.930Z"
   },
   {
    "duration": 45,
    "start_time": "2024-07-18T18:41:52.687Z"
   },
   {
    "duration": 6,
    "start_time": "2024-07-18T18:41:52.737Z"
   },
   {
    "duration": 182,
    "start_time": "2024-07-18T18:41:52.750Z"
   },
   {
    "duration": 147,
    "start_time": "2024-07-18T18:41:52.936Z"
   },
   {
    "duration": 446,
    "start_time": "2024-07-18T18:41:53.085Z"
   },
   {
    "duration": 149,
    "start_time": "2024-07-18T18:41:53.534Z"
   },
   {
    "duration": 46,
    "start_time": "2024-07-18T18:41:53.685Z"
   },
   {
    "duration": 34,
    "start_time": "2024-07-18T18:41:53.735Z"
   },
   {
    "duration": 63,
    "start_time": "2024-07-18T18:41:53.772Z"
   },
   {
    "duration": 308,
    "start_time": "2024-07-18T18:41:53.838Z"
   },
   {
    "duration": 37,
    "start_time": "2024-07-18T18:41:54.150Z"
   },
   {
    "duration": 89,
    "start_time": "2024-07-18T18:41:54.193Z"
   },
   {
    "duration": 6,
    "start_time": "2024-07-18T18:41:54.285Z"
   },
   {
    "duration": 46,
    "start_time": "2024-07-18T18:41:54.294Z"
   },
   {
    "duration": 33,
    "start_time": "2024-07-18T18:41:54.346Z"
   },
   {
    "duration": 17,
    "start_time": "2024-07-18T18:41:54.384Z"
   },
   {
    "duration": 505,
    "start_time": "2024-07-18T18:41:54.432Z"
   },
   {
    "duration": 1186,
    "start_time": "2024-07-18T18:41:54.941Z"
   },
   {
    "duration": 469,
    "start_time": "2024-07-18T18:41:56.131Z"
   },
   {
    "duration": 1996,
    "start_time": "2024-07-18T18:41:56.603Z"
   },
   {
    "duration": 244,
    "start_time": "2024-07-18T18:41:58.602Z"
   },
   {
    "duration": 265,
    "start_time": "2024-07-18T18:41:58.849Z"
   },
   {
    "duration": 474,
    "start_time": "2024-07-18T18:41:59.117Z"
   },
   {
    "duration": 41,
    "start_time": "2024-07-18T18:41:59.594Z"
   },
   {
    "duration": 512,
    "start_time": "2024-07-18T18:41:59.638Z"
   },
   {
    "duration": 3,
    "start_time": "2024-07-18T18:42:00.153Z"
   },
   {
    "duration": 120,
    "start_time": "2024-07-18T18:42:00.160Z"
   },
   {
    "duration": 6,
    "start_time": "2024-07-18T18:42:00.283Z"
   },
   {
    "duration": 456,
    "start_time": "2024-07-18T18:42:00.292Z"
   },
   {
    "duration": 2140,
    "start_time": "2024-07-18T18:45:23.879Z"
   },
   {
    "duration": 1679,
    "start_time": "2024-07-18T18:48:23.339Z"
   },
   {
    "duration": 810,
    "start_time": "2024-07-18T18:48:25.021Z"
   },
   {
    "duration": 31,
    "start_time": "2024-07-18T18:48:25.834Z"
   },
   {
    "duration": 6,
    "start_time": "2024-07-18T18:48:25.869Z"
   },
   {
    "duration": 174,
    "start_time": "2024-07-18T18:48:25.878Z"
   },
   {
    "duration": 146,
    "start_time": "2024-07-18T18:48:26.055Z"
   },
   {
    "duration": 420,
    "start_time": "2024-07-18T18:48:26.204Z"
   },
   {
    "duration": 151,
    "start_time": "2024-07-18T18:48:26.630Z"
   },
   {
    "duration": 27,
    "start_time": "2024-07-18T18:48:26.784Z"
   },
   {
    "duration": 27,
    "start_time": "2024-07-18T18:48:26.830Z"
   },
   {
    "duration": 41,
    "start_time": "2024-07-18T18:48:26.860Z"
   },
   {
    "duration": 306,
    "start_time": "2024-07-18T18:48:26.903Z"
   },
   {
    "duration": 47,
    "start_time": "2024-07-18T18:48:27.212Z"
   },
   {
    "duration": 79,
    "start_time": "2024-07-18T18:48:27.262Z"
   },
   {
    "duration": 7,
    "start_time": "2024-07-18T18:48:27.344Z"
   },
   {
    "duration": 32,
    "start_time": "2024-07-18T18:48:27.354Z"
   },
   {
    "duration": 73,
    "start_time": "2024-07-18T18:48:27.389Z"
   },
   {
    "duration": 19,
    "start_time": "2024-07-18T18:48:27.465Z"
   },
   {
    "duration": 527,
    "start_time": "2024-07-18T18:48:27.487Z"
   },
   {
    "duration": 1190,
    "start_time": "2024-07-18T18:48:28.017Z"
   },
   {
    "duration": 487,
    "start_time": "2024-07-18T18:48:29.210Z"
   },
   {
    "duration": 1989,
    "start_time": "2024-07-18T18:48:29.700Z"
   },
   {
    "duration": 285,
    "start_time": "2024-07-18T18:48:31.694Z"
   },
   {
    "duration": 279,
    "start_time": "2024-07-18T18:48:31.982Z"
   },
   {
    "duration": 481,
    "start_time": "2024-07-18T18:48:32.264Z"
   },
   {
    "duration": 29,
    "start_time": "2024-07-18T18:48:32.748Z"
   },
   {
    "duration": 555,
    "start_time": "2024-07-18T18:48:32.780Z"
   },
   {
    "duration": 5,
    "start_time": "2024-07-18T18:48:33.346Z"
   },
   {
    "duration": 116,
    "start_time": "2024-07-18T18:48:33.354Z"
   },
   {
    "duration": 5,
    "start_time": "2024-07-18T18:48:33.473Z"
   },
   {
    "duration": 2598,
    "start_time": "2024-07-18T18:48:33.482Z"
   },
   {
    "duration": 1702,
    "start_time": "2024-07-18T18:50:12.403Z"
   },
   {
    "duration": 807,
    "start_time": "2024-07-18T18:50:14.110Z"
   },
   {
    "duration": 31,
    "start_time": "2024-07-18T18:50:14.920Z"
   },
   {
    "duration": 6,
    "start_time": "2024-07-18T18:50:14.954Z"
   },
   {
    "duration": 169,
    "start_time": "2024-07-18T18:50:14.966Z"
   },
   {
    "duration": 139,
    "start_time": "2024-07-18T18:50:15.137Z"
   },
   {
    "duration": 427,
    "start_time": "2024-07-18T18:50:15.280Z"
   },
   {
    "duration": 153,
    "start_time": "2024-07-18T18:50:15.710Z"
   },
   {
    "duration": 26,
    "start_time": "2024-07-18T18:50:15.866Z"
   },
   {
    "duration": 46,
    "start_time": "2024-07-18T18:50:15.895Z"
   },
   {
    "duration": 42,
    "start_time": "2024-07-18T18:50:15.945Z"
   },
   {
    "duration": 303,
    "start_time": "2024-07-18T18:50:15.990Z"
   },
   {
    "duration": 43,
    "start_time": "2024-07-18T18:50:16.296Z"
   },
   {
    "duration": 87,
    "start_time": "2024-07-18T18:50:16.347Z"
   },
   {
    "duration": 6,
    "start_time": "2024-07-18T18:50:16.437Z"
   },
   {
    "duration": 25,
    "start_time": "2024-07-18T18:50:16.446Z"
   },
   {
    "duration": 61,
    "start_time": "2024-07-18T18:50:16.474Z"
   },
   {
    "duration": 22,
    "start_time": "2024-07-18T18:50:16.538Z"
   },
   {
    "duration": 544,
    "start_time": "2024-07-18T18:50:16.563Z"
   },
   {
    "duration": 1185,
    "start_time": "2024-07-18T18:50:17.110Z"
   },
   {
    "duration": 470,
    "start_time": "2024-07-18T18:50:18.298Z"
   },
   {
    "duration": 1958,
    "start_time": "2024-07-18T18:50:18.772Z"
   },
   {
    "duration": 251,
    "start_time": "2024-07-18T18:50:20.733Z"
   },
   {
    "duration": 263,
    "start_time": "2024-07-18T18:50:20.988Z"
   },
   {
    "duration": 482,
    "start_time": "2024-07-18T18:50:21.254Z"
   },
   {
    "duration": 34,
    "start_time": "2024-07-18T18:50:21.739Z"
   },
   {
    "duration": 565,
    "start_time": "2024-07-18T18:50:21.777Z"
   },
   {
    "duration": 4,
    "start_time": "2024-07-18T18:50:22.345Z"
   },
   {
    "duration": 120,
    "start_time": "2024-07-18T18:50:22.353Z"
   },
   {
    "duration": 5,
    "start_time": "2024-07-18T18:50:22.476Z"
   },
   {
    "duration": 2524,
    "start_time": "2024-07-18T18:50:22.485Z"
   },
   {
    "duration": 1630,
    "start_time": "2024-07-18T18:52:15.278Z"
   },
   {
    "duration": 793,
    "start_time": "2024-07-18T18:52:16.912Z"
   },
   {
    "duration": 37,
    "start_time": "2024-07-18T18:52:17.708Z"
   },
   {
    "duration": 8,
    "start_time": "2024-07-18T18:52:17.748Z"
   },
   {
    "duration": 174,
    "start_time": "2024-07-18T18:52:17.762Z"
   },
   {
    "duration": 143,
    "start_time": "2024-07-18T18:52:17.939Z"
   },
   {
    "duration": 453,
    "start_time": "2024-07-18T18:52:18.086Z"
   },
   {
    "duration": 155,
    "start_time": "2024-07-18T18:52:18.542Z"
   },
   {
    "duration": 32,
    "start_time": "2024-07-18T18:52:18.700Z"
   },
   {
    "duration": 27,
    "start_time": "2024-07-18T18:52:18.736Z"
   },
   {
    "duration": 63,
    "start_time": "2024-07-18T18:52:18.767Z"
   },
   {
    "duration": 286,
    "start_time": "2024-07-18T18:52:18.833Z"
   },
   {
    "duration": 37,
    "start_time": "2024-07-18T18:52:19.122Z"
   },
   {
    "duration": 87,
    "start_time": "2024-07-18T18:52:19.165Z"
   },
   {
    "duration": 7,
    "start_time": "2024-07-18T18:52:19.256Z"
   },
   {
    "duration": 28,
    "start_time": "2024-07-18T18:52:19.267Z"
   },
   {
    "duration": 37,
    "start_time": "2024-07-18T18:52:19.330Z"
   },
   {
    "duration": 18,
    "start_time": "2024-07-18T18:52:19.371Z"
   },
   {
    "duration": 522,
    "start_time": "2024-07-18T18:52:19.392Z"
   },
   {
    "duration": 1186,
    "start_time": "2024-07-18T18:52:19.917Z"
   },
   {
    "duration": 464,
    "start_time": "2024-07-18T18:52:21.106Z"
   },
   {
    "duration": 1940,
    "start_time": "2024-07-18T18:52:21.574Z"
   },
   {
    "duration": 258,
    "start_time": "2024-07-18T18:52:23.517Z"
   },
   {
    "duration": 261,
    "start_time": "2024-07-18T18:52:23.781Z"
   },
   {
    "duration": 476,
    "start_time": "2024-07-18T18:52:24.045Z"
   },
   {
    "duration": 35,
    "start_time": "2024-07-18T18:52:24.523Z"
   },
   {
    "duration": 536,
    "start_time": "2024-07-18T18:52:24.560Z"
   },
   {
    "duration": 4,
    "start_time": "2024-07-18T18:52:25.099Z"
   },
   {
    "duration": 115,
    "start_time": "2024-07-18T18:52:25.106Z"
   },
   {
    "duration": 5,
    "start_time": "2024-07-18T18:52:25.231Z"
   },
   {
    "duration": 2549,
    "start_time": "2024-07-18T18:52:25.240Z"
   },
   {
    "duration": 1661,
    "start_time": "2024-07-18T19:28:55.563Z"
   },
   {
    "duration": 820,
    "start_time": "2024-07-18T19:28:57.228Z"
   },
   {
    "duration": 29,
    "start_time": "2024-07-18T19:28:58.051Z"
   },
   {
    "duration": 6,
    "start_time": "2024-07-18T19:28:58.083Z"
   },
   {
    "duration": 174,
    "start_time": "2024-07-18T19:28:58.093Z"
   },
   {
    "duration": 164,
    "start_time": "2024-07-18T19:28:58.270Z"
   },
   {
    "duration": 424,
    "start_time": "2024-07-18T19:28:58.437Z"
   },
   {
    "duration": 155,
    "start_time": "2024-07-18T19:28:58.864Z"
   },
   {
    "duration": 32,
    "start_time": "2024-07-18T19:28:59.022Z"
   },
   {
    "duration": 27,
    "start_time": "2024-07-18T19:28:59.060Z"
   },
   {
    "duration": 63,
    "start_time": "2024-07-18T19:28:59.089Z"
   },
   {
    "duration": 296,
    "start_time": "2024-07-18T19:28:59.155Z"
   },
   {
    "duration": 38,
    "start_time": "2024-07-18T19:28:59.454Z"
   },
   {
    "duration": 92,
    "start_time": "2024-07-18T19:28:59.496Z"
   },
   {
    "duration": 8,
    "start_time": "2024-07-18T19:28:59.590Z"
   },
   {
    "duration": 40,
    "start_time": "2024-07-18T19:28:59.601Z"
   },
   {
    "duration": 33,
    "start_time": "2024-07-18T19:28:59.645Z"
   },
   {
    "duration": 17,
    "start_time": "2024-07-18T19:28:59.681Z"
   },
   {
    "duration": 509,
    "start_time": "2024-07-18T19:28:59.730Z"
   },
   {
    "duration": 1203,
    "start_time": "2024-07-18T19:29:00.244Z"
   },
   {
    "duration": 479,
    "start_time": "2024-07-18T19:29:01.451Z"
   },
   {
    "duration": 1979,
    "start_time": "2024-07-18T19:29:01.934Z"
   },
   {
    "duration": 242,
    "start_time": "2024-07-18T19:29:03.916Z"
   },
   {
    "duration": 271,
    "start_time": "2024-07-18T19:29:04.162Z"
   },
   {
    "duration": 474,
    "start_time": "2024-07-18T19:29:04.437Z"
   },
   {
    "duration": 39,
    "start_time": "2024-07-18T19:29:04.914Z"
   },
   {
    "duration": 514,
    "start_time": "2024-07-18T19:29:04.958Z"
   },
   {
    "duration": 3,
    "start_time": "2024-07-18T19:29:05.479Z"
   },
   {
    "duration": 129,
    "start_time": "2024-07-18T19:29:05.485Z"
   },
   {
    "duration": 17,
    "start_time": "2024-07-18T19:29:05.617Z"
   },
   {
    "duration": 2538,
    "start_time": "2024-07-18T19:29:05.640Z"
   },
   {
    "duration": 30,
    "start_time": "2024-07-18T20:14:40.685Z"
   },
   {
    "duration": 1927,
    "start_time": "2024-07-18T20:15:23.224Z"
   },
   {
    "duration": 746,
    "start_time": "2024-07-18T20:15:25.156Z"
   },
   {
    "duration": 39,
    "start_time": "2024-07-18T20:15:25.904Z"
   },
   {
    "duration": 6,
    "start_time": "2024-07-18T20:15:25.948Z"
   },
   {
    "duration": 163,
    "start_time": "2024-07-18T20:15:25.957Z"
   },
   {
    "duration": 171,
    "start_time": "2024-07-18T20:15:26.122Z"
   },
   {
    "duration": 489,
    "start_time": "2024-07-18T20:15:26.298Z"
   },
   {
    "duration": 161,
    "start_time": "2024-07-18T20:15:26.790Z"
   },
   {
    "duration": 28,
    "start_time": "2024-07-18T20:15:26.957Z"
   },
   {
    "duration": 44,
    "start_time": "2024-07-18T20:15:26.992Z"
   },
   {
    "duration": 61,
    "start_time": "2024-07-18T20:15:27.040Z"
   },
   {
    "duration": 324,
    "start_time": "2024-07-18T20:15:27.105Z"
   },
   {
    "duration": 39,
    "start_time": "2024-07-18T20:15:27.433Z"
   },
   {
    "duration": 104,
    "start_time": "2024-07-18T20:15:27.476Z"
   },
   {
    "duration": 6,
    "start_time": "2024-07-18T20:15:27.586Z"
   },
   {
    "duration": 46,
    "start_time": "2024-07-18T20:15:27.596Z"
   },
   {
    "duration": 40,
    "start_time": "2024-07-18T20:15:27.645Z"
   },
   {
    "duration": 45,
    "start_time": "2024-07-18T20:15:27.689Z"
   },
   {
    "duration": 711,
    "start_time": "2024-07-18T20:15:27.738Z"
   },
   {
    "duration": 1304,
    "start_time": "2024-07-18T20:15:28.455Z"
   },
   {
    "duration": 505,
    "start_time": "2024-07-18T20:15:29.763Z"
   },
   {
    "duration": 1983,
    "start_time": "2024-07-18T20:15:30.272Z"
   },
   {
    "duration": 253,
    "start_time": "2024-07-18T20:15:32.258Z"
   },
   {
    "duration": 266,
    "start_time": "2024-07-18T20:15:32.514Z"
   },
   {
    "duration": 470,
    "start_time": "2024-07-18T20:15:32.783Z"
   },
   {
    "duration": 32,
    "start_time": "2024-07-18T20:15:33.257Z"
   },
   {
    "duration": 527,
    "start_time": "2024-07-18T20:15:33.293Z"
   },
   {
    "duration": 3,
    "start_time": "2024-07-18T20:15:33.837Z"
   },
   {
    "duration": 341,
    "start_time": "2024-07-18T20:15:33.844Z"
   },
   {
    "duration": 8,
    "start_time": "2024-07-18T20:15:34.187Z"
   },
   {
    "duration": 470,
    "start_time": "2024-07-18T20:15:34.198Z"
   },
   {
    "duration": 7,
    "start_time": "2024-07-18T20:16:05.022Z"
   },
   {
    "duration": 9,
    "start_time": "2024-07-18T20:16:10.132Z"
   },
   {
    "duration": 30,
    "start_time": "2024-07-18T20:36:53.189Z"
   },
   {
    "duration": 33,
    "start_time": "2024-07-18T20:36:55.560Z"
   },
   {
    "duration": 34,
    "start_time": "2024-07-18T20:36:57.258Z"
   },
   {
    "duration": 354,
    "start_time": "2024-07-18T20:38:12.015Z"
   },
   {
    "duration": 24,
    "start_time": "2024-07-18T20:38:42.137Z"
   },
   {
    "duration": 1760,
    "start_time": "2024-07-18T20:38:47.919Z"
   },
   {
    "duration": 790,
    "start_time": "2024-07-18T20:38:49.682Z"
   },
   {
    "duration": 28,
    "start_time": "2024-07-18T20:38:50.475Z"
   },
   {
    "duration": 24,
    "start_time": "2024-07-18T20:38:50.506Z"
   },
   {
    "duration": 156,
    "start_time": "2024-07-18T20:38:50.533Z"
   },
   {
    "duration": 149,
    "start_time": "2024-07-18T20:38:50.691Z"
   },
   {
    "duration": 427,
    "start_time": "2024-07-18T20:38:50.844Z"
   },
   {
    "duration": 152,
    "start_time": "2024-07-18T20:38:51.274Z"
   },
   {
    "duration": 28,
    "start_time": "2024-07-18T20:38:51.430Z"
   },
   {
    "duration": 28,
    "start_time": "2024-07-18T20:38:51.464Z"
   },
   {
    "duration": 64,
    "start_time": "2024-07-18T20:38:51.495Z"
   },
   {
    "duration": 313,
    "start_time": "2024-07-18T20:38:51.562Z"
   },
   {
    "duration": 35,
    "start_time": "2024-07-18T20:38:51.878Z"
   },
   {
    "duration": 74,
    "start_time": "2024-07-18T20:38:51.931Z"
   },
   {
    "duration": 27,
    "start_time": "2024-07-18T20:38:52.008Z"
   },
   {
    "duration": 32,
    "start_time": "2024-07-18T20:38:52.040Z"
   },
   {
    "duration": 34,
    "start_time": "2024-07-18T20:38:52.079Z"
   },
   {
    "duration": 20,
    "start_time": "2024-07-18T20:38:52.135Z"
   },
   {
    "duration": 551,
    "start_time": "2024-07-18T20:38:52.158Z"
   },
   {
    "duration": 1199,
    "start_time": "2024-07-18T20:38:52.712Z"
   },
   {
    "duration": 483,
    "start_time": "2024-07-18T20:38:53.914Z"
   },
   {
    "duration": 1997,
    "start_time": "2024-07-18T20:38:54.400Z"
   },
   {
    "duration": 250,
    "start_time": "2024-07-18T20:38:56.401Z"
   },
   {
    "duration": 262,
    "start_time": "2024-07-18T20:38:56.654Z"
   },
   {
    "duration": 475,
    "start_time": "2024-07-18T20:38:56.920Z"
   },
   {
    "duration": 39,
    "start_time": "2024-07-18T20:38:57.398Z"
   },
   {
    "duration": 557,
    "start_time": "2024-07-18T20:38:57.441Z"
   },
   {
    "duration": 4,
    "start_time": "2024-07-18T20:38:58.005Z"
   },
   {
    "duration": 347,
    "start_time": "2024-07-18T20:38:58.011Z"
   },
   {
    "duration": 7,
    "start_time": "2024-07-18T20:38:58.361Z"
   },
   {
    "duration": 1820,
    "start_time": "2024-07-18T20:43:35.133Z"
   },
   {
    "duration": 794,
    "start_time": "2024-07-18T20:43:36.958Z"
   },
   {
    "duration": 28,
    "start_time": "2024-07-18T20:43:37.755Z"
   },
   {
    "duration": 5,
    "start_time": "2024-07-18T20:43:37.787Z"
   },
   {
    "duration": 173,
    "start_time": "2024-07-18T20:43:37.797Z"
   },
   {
    "duration": 145,
    "start_time": "2024-07-18T20:43:37.973Z"
   },
   {
    "duration": 428,
    "start_time": "2024-07-18T20:43:38.121Z"
   },
   {
    "duration": 150,
    "start_time": "2024-07-18T20:43:38.552Z"
   },
   {
    "duration": 31,
    "start_time": "2024-07-18T20:43:38.705Z"
   },
   {
    "duration": 27,
    "start_time": "2024-07-18T20:43:38.739Z"
   },
   {
    "duration": 63,
    "start_time": "2024-07-18T20:43:38.771Z"
   },
   {
    "duration": 290,
    "start_time": "2024-07-18T20:43:38.837Z"
   },
   {
    "duration": 37,
    "start_time": "2024-07-18T20:43:39.131Z"
   },
   {
    "duration": 93,
    "start_time": "2024-07-18T20:43:39.174Z"
   },
   {
    "duration": 6,
    "start_time": "2024-07-18T20:43:39.270Z"
   },
   {
    "duration": 53,
    "start_time": "2024-07-18T20:43:39.280Z"
   },
   {
    "duration": 41,
    "start_time": "2024-07-18T20:43:39.337Z"
   },
   {
    "duration": 20,
    "start_time": "2024-07-18T20:43:39.387Z"
   },
   {
    "duration": 502,
    "start_time": "2024-07-18T20:43:39.430Z"
   },
   {
    "duration": 1183,
    "start_time": "2024-07-18T20:43:39.936Z"
   },
   {
    "duration": 478,
    "start_time": "2024-07-18T20:43:41.122Z"
   },
   {
    "duration": 2000,
    "start_time": "2024-07-18T20:43:41.603Z"
   },
   {
    "duration": 266,
    "start_time": "2024-07-18T20:43:43.606Z"
   },
   {
    "duration": 262,
    "start_time": "2024-07-18T20:43:43.875Z"
   },
   {
    "duration": 461,
    "start_time": "2024-07-18T20:43:44.141Z"
   },
   {
    "duration": 40,
    "start_time": "2024-07-18T20:43:44.605Z"
   },
   {
    "duration": 543,
    "start_time": "2024-07-18T20:43:44.648Z"
   },
   {
    "duration": 4,
    "start_time": "2024-07-18T20:43:45.194Z"
   },
   {
    "duration": 350,
    "start_time": "2024-07-18T20:43:45.201Z"
   },
   {
    "duration": 7,
    "start_time": "2024-07-18T20:43:45.555Z"
   },
   {
    "duration": 3307,
    "start_time": "2024-07-18T20:45:28.488Z"
   },
   {
    "duration": 1959,
    "start_time": "2024-07-18T20:48:41.368Z"
   },
   {
    "duration": 822,
    "start_time": "2024-07-18T20:48:43.331Z"
   },
   {
    "duration": 29,
    "start_time": "2024-07-18T20:48:44.156Z"
   },
   {
    "duration": 6,
    "start_time": "2024-07-18T20:48:44.188Z"
   },
   {
    "duration": 204,
    "start_time": "2024-07-18T20:48:44.199Z"
   },
   {
    "duration": 159,
    "start_time": "2024-07-18T20:48:44.407Z"
   },
   {
    "duration": 443,
    "start_time": "2024-07-18T20:48:44.569Z"
   },
   {
    "duration": 179,
    "start_time": "2024-07-18T20:48:45.016Z"
   },
   {
    "duration": 45,
    "start_time": "2024-07-18T20:48:45.198Z"
   },
   {
    "duration": 29,
    "start_time": "2024-07-18T20:48:45.247Z"
   },
   {
    "duration": 72,
    "start_time": "2024-07-18T20:48:45.279Z"
   },
   {
    "duration": 299,
    "start_time": "2024-07-18T20:48:45.355Z"
   },
   {
    "duration": 39,
    "start_time": "2024-07-18T20:48:45.659Z"
   },
   {
    "duration": 104,
    "start_time": "2024-07-18T20:48:45.706Z"
   },
   {
    "duration": 20,
    "start_time": "2024-07-18T20:48:45.814Z"
   },
   {
    "duration": 25,
    "start_time": "2024-07-18T20:48:45.838Z"
   },
   {
    "duration": 41,
    "start_time": "2024-07-18T20:48:45.866Z"
   },
   {
    "duration": 17,
    "start_time": "2024-07-18T20:48:45.930Z"
   },
   {
    "duration": 562,
    "start_time": "2024-07-18T20:48:45.950Z"
   },
   {
    "duration": 1220,
    "start_time": "2024-07-18T20:48:46.515Z"
   },
   {
    "duration": 540,
    "start_time": "2024-07-18T20:48:47.738Z"
   },
   {
    "duration": 2123,
    "start_time": "2024-07-18T20:48:48.282Z"
   },
   {
    "duration": 276,
    "start_time": "2024-07-18T20:48:50.408Z"
   },
   {
    "duration": 274,
    "start_time": "2024-07-18T20:48:50.687Z"
   },
   {
    "duration": 574,
    "start_time": "2024-07-18T20:48:50.964Z"
   },
   {
    "duration": 31,
    "start_time": "2024-07-18T20:48:51.542Z"
   },
   {
    "duration": 632,
    "start_time": "2024-07-18T20:48:51.577Z"
   },
   {
    "duration": 14,
    "start_time": "2024-07-18T20:48:52.216Z"
   },
   {
    "duration": 340,
    "start_time": "2024-07-18T20:48:52.235Z"
   },
   {
    "duration": 9,
    "start_time": "2024-07-18T20:48:52.578Z"
   },
   {
    "duration": 426,
    "start_time": "2024-07-18T21:02:08.923Z"
   },
   {
    "duration": 1802,
    "start_time": "2024-07-18T21:02:16.707Z"
   },
   {
    "duration": 804,
    "start_time": "2024-07-18T21:02:18.512Z"
   },
   {
    "duration": 38,
    "start_time": "2024-07-18T21:02:19.319Z"
   },
   {
    "duration": 6,
    "start_time": "2024-07-18T21:02:19.361Z"
   },
   {
    "duration": 169,
    "start_time": "2024-07-18T21:02:19.372Z"
   },
   {
    "duration": 142,
    "start_time": "2024-07-18T21:02:19.544Z"
   },
   {
    "duration": 430,
    "start_time": "2024-07-18T21:02:19.689Z"
   },
   {
    "duration": 217,
    "start_time": "2024-07-18T21:02:20.130Z"
   },
   {
    "duration": 38,
    "start_time": "2024-07-18T21:02:20.350Z"
   },
   {
    "duration": 60,
    "start_time": "2024-07-18T21:02:20.392Z"
   },
   {
    "duration": 40,
    "start_time": "2024-07-18T21:02:20.457Z"
   },
   {
    "duration": 315,
    "start_time": "2024-07-18T21:02:20.500Z"
   },
   {
    "duration": 43,
    "start_time": "2024-07-18T21:02:20.819Z"
   },
   {
    "duration": 96,
    "start_time": "2024-07-18T21:02:20.870Z"
   },
   {
    "duration": 6,
    "start_time": "2024-07-18T21:02:20.969Z"
   },
   {
    "duration": 25,
    "start_time": "2024-07-18T21:02:20.979Z"
   },
   {
    "duration": 34,
    "start_time": "2024-07-18T21:02:21.031Z"
   },
   {
    "duration": 19,
    "start_time": "2024-07-18T21:02:21.068Z"
   },
   {
    "duration": 568,
    "start_time": "2024-07-18T21:02:21.090Z"
   },
   {
    "duration": 1289,
    "start_time": "2024-07-18T21:02:21.662Z"
   },
   {
    "duration": 598,
    "start_time": "2024-07-18T21:02:22.955Z"
   },
   {
    "duration": 2444,
    "start_time": "2024-07-18T21:02:23.557Z"
   },
   {
    "duration": 276,
    "start_time": "2024-07-18T21:02:26.005Z"
   },
   {
    "duration": 351,
    "start_time": "2024-07-18T21:02:26.284Z"
   },
   {
    "duration": 559,
    "start_time": "2024-07-18T21:02:26.638Z"
   },
   {
    "duration": 63,
    "start_time": "2024-07-18T21:02:27.200Z"
   },
   {
    "duration": 747,
    "start_time": "2024-07-18T21:02:27.271Z"
   },
   {
    "duration": 10,
    "start_time": "2024-07-18T21:02:28.022Z"
   },
   {
    "duration": 358,
    "start_time": "2024-07-18T21:02:28.037Z"
   },
   {
    "duration": 9,
    "start_time": "2024-07-18T21:02:28.398Z"
   },
   {
    "duration": 317,
    "start_time": "2024-07-18T21:06:49.115Z"
   },
   {
    "duration": 1768,
    "start_time": "2024-07-18T21:06:54.844Z"
   },
   {
    "duration": 778,
    "start_time": "2024-07-18T21:06:56.615Z"
   },
   {
    "duration": 41,
    "start_time": "2024-07-18T21:06:57.396Z"
   },
   {
    "duration": 6,
    "start_time": "2024-07-18T21:06:57.440Z"
   },
   {
    "duration": 162,
    "start_time": "2024-07-18T21:06:57.456Z"
   },
   {
    "duration": 143,
    "start_time": "2024-07-18T21:06:57.631Z"
   },
   {
    "duration": 393,
    "start_time": "2024-07-18T21:06:57.777Z"
   },
   {
    "duration": 147,
    "start_time": "2024-07-18T21:06:58.173Z"
   },
   {
    "duration": 31,
    "start_time": "2024-07-18T21:06:58.323Z"
   },
   {
    "duration": 27,
    "start_time": "2024-07-18T21:06:58.357Z"
   },
   {
    "duration": 72,
    "start_time": "2024-07-18T21:06:58.386Z"
   },
   {
    "duration": 303,
    "start_time": "2024-07-18T21:06:58.462Z"
   },
   {
    "duration": 36,
    "start_time": "2024-07-18T21:06:58.767Z"
   },
   {
    "duration": 91,
    "start_time": "2024-07-18T21:06:58.810Z"
   },
   {
    "duration": 7,
    "start_time": "2024-07-18T21:06:58.903Z"
   },
   {
    "duration": 26,
    "start_time": "2024-07-18T21:06:58.930Z"
   },
   {
    "duration": 34,
    "start_time": "2024-07-18T21:06:58.958Z"
   },
   {
    "duration": 43,
    "start_time": "2024-07-18T21:06:58.997Z"
   },
   {
    "duration": 578,
    "start_time": "2024-07-18T21:06:59.043Z"
   },
   {
    "duration": 1192,
    "start_time": "2024-07-18T21:06:59.631Z"
   },
   {
    "duration": 483,
    "start_time": "2024-07-18T21:07:00.827Z"
   },
   {
    "duration": 2020,
    "start_time": "2024-07-18T21:07:01.313Z"
   },
   {
    "duration": 241,
    "start_time": "2024-07-18T21:07:03.336Z"
   },
   {
    "duration": 261,
    "start_time": "2024-07-18T21:07:03.579Z"
   },
   {
    "duration": 512,
    "start_time": "2024-07-18T21:07:03.844Z"
   },
   {
    "duration": 31,
    "start_time": "2024-07-18T21:07:04.360Z"
   },
   {
    "duration": 534,
    "start_time": "2024-07-18T21:07:04.394Z"
   },
   {
    "duration": 3,
    "start_time": "2024-07-18T21:07:04.931Z"
   },
   {
    "duration": 401,
    "start_time": "2024-07-18T21:07:04.937Z"
   },
   {
    "duration": 7,
    "start_time": "2024-07-18T21:07:05.341Z"
   },
   {
    "duration": 331,
    "start_time": "2024-07-18T21:08:52.232Z"
   },
   {
    "duration": 1905,
    "start_time": "2024-07-18T21:09:01.356Z"
   },
   {
    "duration": 788,
    "start_time": "2024-07-18T21:09:03.264Z"
   },
   {
    "duration": 33,
    "start_time": "2024-07-18T21:09:04.056Z"
   },
   {
    "duration": 5,
    "start_time": "2024-07-18T21:09:04.095Z"
   },
   {
    "duration": 150,
    "start_time": "2024-07-18T21:09:04.130Z"
   },
   {
    "duration": 159,
    "start_time": "2024-07-18T21:09:04.283Z"
   },
   {
    "duration": 406,
    "start_time": "2024-07-18T21:09:04.446Z"
   },
   {
    "duration": 182,
    "start_time": "2024-07-18T21:09:04.855Z"
   },
   {
    "duration": 27,
    "start_time": "2024-07-18T21:09:05.040Z"
   },
   {
    "duration": 71,
    "start_time": "2024-07-18T21:09:05.073Z"
   },
   {
    "duration": 84,
    "start_time": "2024-07-18T21:09:05.147Z"
   },
   {
    "duration": 296,
    "start_time": "2024-07-18T21:09:05.234Z"
   },
   {
    "duration": 34,
    "start_time": "2024-07-18T21:09:05.533Z"
   },
   {
    "duration": 98,
    "start_time": "2024-07-18T21:09:05.571Z"
   },
   {
    "duration": 9,
    "start_time": "2024-07-18T21:09:05.672Z"
   },
   {
    "duration": 48,
    "start_time": "2024-07-18T21:09:05.684Z"
   },
   {
    "duration": 32,
    "start_time": "2024-07-18T21:09:05.735Z"
   },
   {
    "duration": 17,
    "start_time": "2024-07-18T21:09:05.770Z"
   },
   {
    "duration": 526,
    "start_time": "2024-07-18T21:09:05.789Z"
   },
   {
    "duration": 1181,
    "start_time": "2024-07-18T21:09:06.318Z"
   },
   {
    "duration": 478,
    "start_time": "2024-07-18T21:09:07.502Z"
   },
   {
    "duration": 1946,
    "start_time": "2024-07-18T21:09:07.983Z"
   },
   {
    "duration": 255,
    "start_time": "2024-07-18T21:09:09.932Z"
   },
   {
    "duration": 280,
    "start_time": "2024-07-18T21:09:10.190Z"
   },
   {
    "duration": 503,
    "start_time": "2024-07-18T21:09:10.478Z"
   },
   {
    "duration": 30,
    "start_time": "2024-07-18T21:09:10.984Z"
   },
   {
    "duration": 509,
    "start_time": "2024-07-18T21:09:11.032Z"
   },
   {
    "duration": 4,
    "start_time": "2024-07-18T21:09:11.547Z"
   },
   {
    "duration": 354,
    "start_time": "2024-07-18T21:09:11.554Z"
   },
   {
    "duration": 8,
    "start_time": "2024-07-18T21:09:11.911Z"
   },
   {
    "duration": 1453,
    "start_time": "2024-07-18T21:09:11.932Z"
   },
   {
    "duration": 0,
    "start_time": "2024-07-18T21:09:13.388Z"
   },
   {
    "duration": 0,
    "start_time": "2024-07-18T21:09:13.391Z"
   },
   {
    "duration": 102,
    "start_time": "2024-07-18T21:12:03.886Z"
   },
   {
    "duration": 553,
    "start_time": "2024-07-18T21:13:17.835Z"
   },
   {
    "duration": 504,
    "start_time": "2024-07-18T21:59:27.360Z"
   },
   {
    "duration": 412,
    "start_time": "2024-07-18T22:02:38.382Z"
   },
   {
    "duration": 90,
    "start_time": "2024-07-18T22:02:49.082Z"
   },
   {
    "duration": 2082,
    "start_time": "2024-07-18T22:03:45.128Z"
   },
   {
    "duration": 0,
    "start_time": "2024-07-18T22:03:47.213Z"
   },
   {
    "duration": 417,
    "start_time": "2024-07-18T22:03:59.708Z"
   },
   {
    "duration": 310,
    "start_time": "2024-07-18T22:06:26.865Z"
   },
   {
    "duration": 1759,
    "start_time": "2024-07-18T22:06:42.183Z"
   },
   {
    "duration": 828,
    "start_time": "2024-07-18T22:06:43.945Z"
   },
   {
    "duration": 33,
    "start_time": "2024-07-18T22:06:44.776Z"
   },
   {
    "duration": 17,
    "start_time": "2024-07-18T22:06:44.815Z"
   },
   {
    "duration": 162,
    "start_time": "2024-07-18T22:06:44.835Z"
   },
   {
    "duration": 150,
    "start_time": "2024-07-18T22:06:45.000Z"
   },
   {
    "duration": 404,
    "start_time": "2024-07-18T22:06:45.153Z"
   },
   {
    "duration": 151,
    "start_time": "2024-07-18T22:06:45.560Z"
   },
   {
    "duration": 31,
    "start_time": "2024-07-18T22:06:45.713Z"
   },
   {
    "duration": 30,
    "start_time": "2024-07-18T22:06:45.752Z"
   },
   {
    "duration": 68,
    "start_time": "2024-07-18T22:06:45.787Z"
   },
   {
    "duration": 296,
    "start_time": "2024-07-18T22:06:45.857Z"
   },
   {
    "duration": 37,
    "start_time": "2024-07-18T22:06:46.155Z"
   },
   {
    "duration": 92,
    "start_time": "2024-07-18T22:06:46.194Z"
   },
   {
    "duration": 5,
    "start_time": "2024-07-18T22:06:46.289Z"
   },
   {
    "duration": 44,
    "start_time": "2024-07-18T22:06:46.298Z"
   },
   {
    "duration": 33,
    "start_time": "2024-07-18T22:06:46.345Z"
   },
   {
    "duration": 51,
    "start_time": "2024-07-18T22:06:46.381Z"
   },
   {
    "duration": 535,
    "start_time": "2024-07-18T22:06:46.436Z"
   },
   {
    "duration": 1181,
    "start_time": "2024-07-18T22:06:46.974Z"
   },
   {
    "duration": 475,
    "start_time": "2024-07-18T22:06:48.158Z"
   },
   {
    "duration": 2042,
    "start_time": "2024-07-18T22:06:48.636Z"
   },
   {
    "duration": 247,
    "start_time": "2024-07-18T22:06:50.684Z"
   },
   {
    "duration": 187,
    "start_time": "2024-07-18T22:06:50.934Z"
   },
   {
    "duration": 463,
    "start_time": "2024-07-18T22:06:51.124Z"
   },
   {
    "duration": 41,
    "start_time": "2024-07-18T22:06:51.591Z"
   },
   {
    "duration": 552,
    "start_time": "2024-07-18T22:06:51.635Z"
   },
   {
    "duration": 3,
    "start_time": "2024-07-18T22:06:52.194Z"
   },
   {
    "duration": 375,
    "start_time": "2024-07-18T22:06:52.201Z"
   },
   {
    "duration": 7,
    "start_time": "2024-07-18T22:06:52.579Z"
   },
   {
    "duration": 453,
    "start_time": "2024-07-18T22:06:52.589Z"
   },
   {
    "duration": 39,
    "start_time": "2024-07-18T22:06:53.045Z"
   },
   {
    "duration": 51,
    "start_time": "2024-07-18T22:06:53.087Z"
   },
   {
    "duration": 139,
    "start_time": "2024-07-18T22:08:41.264Z"
   },
   {
    "duration": 143,
    "start_time": "2024-07-18T22:08:49.605Z"
   },
   {
    "duration": 467,
    "start_time": "2024-07-18T22:17:31.383Z"
   },
   {
    "duration": 53,
    "start_time": "2024-07-18T22:17:31.857Z"
   },
   {
    "duration": 53,
    "start_time": "2024-07-18T22:17:32.588Z"
   },
   {
    "duration": 1696,
    "start_time": "2024-07-18T22:24:50.545Z"
   },
   {
    "duration": 782,
    "start_time": "2024-07-18T22:24:52.245Z"
   },
   {
    "duration": 31,
    "start_time": "2024-07-18T22:24:53.030Z"
   },
   {
    "duration": 7,
    "start_time": "2024-07-18T22:24:53.065Z"
   },
   {
    "duration": 175,
    "start_time": "2024-07-18T22:24:53.075Z"
   },
   {
    "duration": 143,
    "start_time": "2024-07-18T22:24:53.253Z"
   },
   {
    "duration": 419,
    "start_time": "2024-07-18T22:24:53.399Z"
   },
   {
    "duration": 147,
    "start_time": "2024-07-18T22:24:53.830Z"
   },
   {
    "duration": 27,
    "start_time": "2024-07-18T22:24:53.980Z"
   },
   {
    "duration": 43,
    "start_time": "2024-07-18T22:24:54.013Z"
   },
   {
    "duration": 39,
    "start_time": "2024-07-18T22:24:54.059Z"
   },
   {
    "duration": 281,
    "start_time": "2024-07-18T22:24:54.130Z"
   },
   {
    "duration": 51,
    "start_time": "2024-07-18T22:24:54.413Z"
   },
   {
    "duration": 79,
    "start_time": "2024-07-18T22:24:54.467Z"
   },
   {
    "duration": 6,
    "start_time": "2024-07-18T22:24:54.549Z"
   },
   {
    "duration": 25,
    "start_time": "2024-07-18T22:24:54.559Z"
   },
   {
    "duration": 65,
    "start_time": "2024-07-18T22:24:54.587Z"
   },
   {
    "duration": 18,
    "start_time": "2024-07-18T22:24:54.655Z"
   },
   {
    "duration": 529,
    "start_time": "2024-07-18T22:24:54.676Z"
   },
   {
    "duration": 1196,
    "start_time": "2024-07-18T22:24:55.207Z"
   },
   {
    "duration": 465,
    "start_time": "2024-07-18T22:24:56.406Z"
   },
   {
    "duration": 1928,
    "start_time": "2024-07-18T22:24:56.874Z"
   },
   {
    "duration": 246,
    "start_time": "2024-07-18T22:24:58.805Z"
   },
   {
    "duration": 280,
    "start_time": "2024-07-18T22:24:59.054Z"
   },
   {
    "duration": 459,
    "start_time": "2024-07-18T22:24:59.337Z"
   },
   {
    "duration": 38,
    "start_time": "2024-07-18T22:24:59.799Z"
   },
   {
    "duration": 533,
    "start_time": "2024-07-18T22:24:59.841Z"
   },
   {
    "duration": 3,
    "start_time": "2024-07-18T22:25:00.382Z"
   },
   {
    "duration": 4,
    "start_time": "2024-07-18T22:25:00.390Z"
   },
   {
    "duration": 5,
    "start_time": "2024-07-18T22:25:00.397Z"
   },
   {
    "duration": 28,
    "start_time": "2024-07-18T22:25:00.404Z"
   },
   {
    "duration": 3,
    "start_time": "2024-07-18T22:25:00.436Z"
   },
   {
    "duration": 4,
    "start_time": "2024-07-18T22:25:00.443Z"
   },
   {
    "duration": 4,
    "start_time": "2024-07-18T22:25:00.450Z"
   },
   {
    "duration": 4,
    "start_time": "2024-07-18T22:25:00.457Z"
   },
   {
    "duration": 1809,
    "start_time": "2024-07-18T22:28:14.905Z"
   },
   {
    "duration": 802,
    "start_time": "2024-07-18T22:28:16.717Z"
   },
   {
    "duration": 32,
    "start_time": "2024-07-18T22:28:17.522Z"
   },
   {
    "duration": 5,
    "start_time": "2024-07-18T22:28:17.557Z"
   },
   {
    "duration": 171,
    "start_time": "2024-07-18T22:28:17.567Z"
   },
   {
    "duration": 157,
    "start_time": "2024-07-18T22:28:17.741Z"
   },
   {
    "duration": 430,
    "start_time": "2024-07-18T22:28:17.902Z"
   },
   {
    "duration": 153,
    "start_time": "2024-07-18T22:28:18.334Z"
   },
   {
    "duration": 27,
    "start_time": "2024-07-18T22:28:18.490Z"
   },
   {
    "duration": 28,
    "start_time": "2024-07-18T22:28:18.531Z"
   },
   {
    "duration": 40,
    "start_time": "2024-07-18T22:28:18.562Z"
   },
   {
    "duration": 303,
    "start_time": "2024-07-18T22:28:18.632Z"
   },
   {
    "duration": 38,
    "start_time": "2024-07-18T22:28:18.938Z"
   },
   {
    "duration": 92,
    "start_time": "2024-07-18T22:28:18.983Z"
   },
   {
    "duration": 6,
    "start_time": "2024-07-18T22:28:19.078Z"
   },
   {
    "duration": 46,
    "start_time": "2024-07-18T22:28:19.088Z"
   },
   {
    "duration": 35,
    "start_time": "2024-07-18T22:28:19.137Z"
   },
   {
    "duration": 18,
    "start_time": "2024-07-18T22:28:19.175Z"
   },
   {
    "duration": 503,
    "start_time": "2024-07-18T22:28:19.230Z"
   },
   {
    "duration": 1176,
    "start_time": "2024-07-18T22:28:19.735Z"
   },
   {
    "duration": 471,
    "start_time": "2024-07-18T22:28:20.915Z"
   },
   {
    "duration": 2001,
    "start_time": "2024-07-18T22:28:21.389Z"
   },
   {
    "duration": 256,
    "start_time": "2024-07-18T22:28:23.392Z"
   },
   {
    "duration": 261,
    "start_time": "2024-07-18T22:28:23.651Z"
   },
   {
    "duration": 483,
    "start_time": "2024-07-18T22:28:23.915Z"
   },
   {
    "duration": 37,
    "start_time": "2024-07-18T22:28:24.402Z"
   },
   {
    "duration": 545,
    "start_time": "2024-07-18T22:28:24.443Z"
   },
   {
    "duration": 3,
    "start_time": "2024-07-18T22:28:24.992Z"
   },
   {
    "duration": 4,
    "start_time": "2024-07-18T22:28:24.999Z"
   },
   {
    "duration": 4,
    "start_time": "2024-07-18T22:28:25.030Z"
   },
   {
    "duration": 3,
    "start_time": "2024-07-18T22:28:25.038Z"
   },
   {
    "duration": 5,
    "start_time": "2024-07-18T22:28:25.044Z"
   },
   {
    "duration": 4,
    "start_time": "2024-07-18T22:28:25.052Z"
   },
   {
    "duration": 4,
    "start_time": "2024-07-18T22:28:25.059Z"
   },
   {
    "duration": 4,
    "start_time": "2024-07-18T22:28:25.066Z"
   },
   {
    "duration": 58,
    "start_time": "2024-07-18T22:28:25.073Z"
   },
   {
    "duration": 41,
    "start_time": "2024-07-18T22:28:25.134Z"
   },
   {
    "duration": 276,
    "start_time": "2024-07-18T22:28:25.177Z"
   },
   {
    "duration": 8,
    "start_time": "2024-07-18T22:28:25.455Z"
   },
   {
    "duration": 477,
    "start_time": "2024-07-18T22:28:25.466Z"
   },
   {
    "duration": 40,
    "start_time": "2024-07-18T22:28:25.952Z"
   },
   {
    "duration": 162,
    "start_time": "2024-07-18T22:28:25.994Z"
   },
   {
    "duration": 1471,
    "start_time": "2024-07-18T22:28:26.159Z"
   },
   {
    "duration": 1740,
    "start_time": "2024-07-18T22:29:44.826Z"
   },
   {
    "duration": 788,
    "start_time": "2024-07-18T22:29:46.570Z"
   },
   {
    "duration": 28,
    "start_time": "2024-07-18T22:29:47.362Z"
   },
   {
    "duration": 6,
    "start_time": "2024-07-18T22:29:47.394Z"
   },
   {
    "duration": 147,
    "start_time": "2024-07-18T22:29:47.431Z"
   },
   {
    "duration": 151,
    "start_time": "2024-07-18T22:29:47.581Z"
   },
   {
    "duration": 425,
    "start_time": "2024-07-18T22:29:47.735Z"
   },
   {
    "duration": 152,
    "start_time": "2024-07-18T22:29:48.163Z"
   },
   {
    "duration": 30,
    "start_time": "2024-07-18T22:29:48.318Z"
   },
   {
    "duration": 27,
    "start_time": "2024-07-18T22:29:48.357Z"
   },
   {
    "duration": 68,
    "start_time": "2024-07-18T22:29:48.388Z"
   },
   {
    "duration": 292,
    "start_time": "2024-07-18T22:29:48.458Z"
   },
   {
    "duration": 36,
    "start_time": "2024-07-18T22:29:48.752Z"
   },
   {
    "duration": 87,
    "start_time": "2024-07-18T22:29:48.790Z"
   },
   {
    "duration": 6,
    "start_time": "2024-07-18T22:29:48.879Z"
   },
   {
    "duration": 53,
    "start_time": "2024-07-18T22:29:48.888Z"
   },
   {
    "duration": 32,
    "start_time": "2024-07-18T22:29:48.944Z"
   },
   {
    "duration": 18,
    "start_time": "2024-07-18T22:29:48.979Z"
   },
   {
    "duration": 522,
    "start_time": "2024-07-18T22:29:49.000Z"
   },
   {
    "duration": 1190,
    "start_time": "2024-07-18T22:29:49.525Z"
   },
   {
    "duration": 466,
    "start_time": "2024-07-18T22:29:50.718Z"
   },
   {
    "duration": 1950,
    "start_time": "2024-07-18T22:29:51.187Z"
   },
   {
    "duration": 252,
    "start_time": "2024-07-18T22:29:53.140Z"
   },
   {
    "duration": 256,
    "start_time": "2024-07-18T22:29:53.395Z"
   },
   {
    "duration": 480,
    "start_time": "2024-07-18T22:29:53.655Z"
   },
   {
    "duration": 30,
    "start_time": "2024-07-18T22:29:54.137Z"
   },
   {
    "duration": 535,
    "start_time": "2024-07-18T22:29:54.170Z"
   },
   {
    "duration": 3,
    "start_time": "2024-07-18T22:29:54.712Z"
   },
   {
    "duration": 5,
    "start_time": "2024-07-18T22:29:54.732Z"
   },
   {
    "duration": 4,
    "start_time": "2024-07-18T22:29:54.742Z"
   },
   {
    "duration": 4,
    "start_time": "2024-07-18T22:29:54.749Z"
   },
   {
    "duration": 3,
    "start_time": "2024-07-18T22:29:54.756Z"
   },
   {
    "duration": 3,
    "start_time": "2024-07-18T22:29:54.763Z"
   },
   {
    "duration": 4,
    "start_time": "2024-07-18T22:29:54.769Z"
   },
   {
    "duration": 55,
    "start_time": "2024-07-18T22:29:54.776Z"
   },
   {
    "duration": 6,
    "start_time": "2024-07-18T22:29:54.836Z"
   },
   {
    "duration": 41,
    "start_time": "2024-07-18T22:29:54.846Z"
   },
   {
    "duration": 324,
    "start_time": "2024-07-18T22:29:54.890Z"
   },
   {
    "duration": 7,
    "start_time": "2024-07-18T22:29:55.217Z"
   },
   {
    "duration": 438,
    "start_time": "2024-07-18T22:29:55.227Z"
   },
   {
    "duration": 41,
    "start_time": "2024-07-18T22:29:55.667Z"
   },
   {
    "duration": 166,
    "start_time": "2024-07-18T22:29:55.711Z"
   },
   {
    "duration": 1495,
    "start_time": "2024-07-18T22:29:55.880Z"
   },
   {
    "duration": 307,
    "start_time": "2024-07-18T22:31:37.104Z"
   },
   {
    "duration": 1688,
    "start_time": "2024-07-18T22:31:49.653Z"
   },
   {
    "duration": 812,
    "start_time": "2024-07-18T22:31:51.344Z"
   },
   {
    "duration": 31,
    "start_time": "2024-07-18T22:31:52.159Z"
   },
   {
    "duration": 5,
    "start_time": "2024-07-18T22:31:52.194Z"
   },
   {
    "duration": 179,
    "start_time": "2024-07-18T22:31:52.203Z"
   },
   {
    "duration": 152,
    "start_time": "2024-07-18T22:31:52.385Z"
   },
   {
    "duration": 398,
    "start_time": "2024-07-18T22:31:52.542Z"
   },
   {
    "duration": 174,
    "start_time": "2024-07-18T22:31:52.943Z"
   },
   {
    "duration": 30,
    "start_time": "2024-07-18T22:31:53.120Z"
   },
   {
    "duration": 28,
    "start_time": "2024-07-18T22:31:53.158Z"
   },
   {
    "duration": 64,
    "start_time": "2024-07-18T22:31:53.190Z"
   },
   {
    "duration": 286,
    "start_time": "2024-07-18T22:31:53.257Z"
   },
   {
    "duration": 34,
    "start_time": "2024-07-18T22:31:53.548Z"
   },
   {
    "duration": 89,
    "start_time": "2024-07-18T22:31:53.586Z"
   },
   {
    "duration": 5,
    "start_time": "2024-07-18T22:31:53.678Z"
   },
   {
    "duration": 44,
    "start_time": "2024-07-18T22:31:53.686Z"
   },
   {
    "duration": 27,
    "start_time": "2024-07-18T22:31:53.733Z"
   },
   {
    "duration": 19,
    "start_time": "2024-07-18T22:31:53.763Z"
   },
   {
    "duration": 540,
    "start_time": "2024-07-18T22:31:53.785Z"
   },
   {
    "duration": 1188,
    "start_time": "2024-07-18T22:31:54.331Z"
   },
   {
    "duration": 471,
    "start_time": "2024-07-18T22:31:55.523Z"
   },
   {
    "duration": 2001,
    "start_time": "2024-07-18T22:31:55.997Z"
   },
   {
    "duration": 246,
    "start_time": "2024-07-18T22:31:58.003Z"
   },
   {
    "duration": 189,
    "start_time": "2024-07-18T22:31:58.252Z"
   },
   {
    "duration": 472,
    "start_time": "2024-07-18T22:31:58.444Z"
   },
   {
    "duration": 39,
    "start_time": "2024-07-18T22:31:58.919Z"
   },
   {
    "duration": 518,
    "start_time": "2024-07-18T22:31:58.961Z"
   },
   {
    "duration": 3,
    "start_time": "2024-07-18T22:31:59.488Z"
   },
   {
    "duration": 5,
    "start_time": "2024-07-18T22:31:59.494Z"
   },
   {
    "duration": 3,
    "start_time": "2024-07-18T22:31:59.530Z"
   },
   {
    "duration": 4,
    "start_time": "2024-07-18T22:31:59.536Z"
   },
   {
    "duration": 5,
    "start_time": "2024-07-18T22:31:59.543Z"
   },
   {
    "duration": 4,
    "start_time": "2024-07-18T22:31:59.551Z"
   },
   {
    "duration": 4,
    "start_time": "2024-07-18T22:31:59.558Z"
   },
   {
    "duration": 3,
    "start_time": "2024-07-18T22:31:59.565Z"
   },
   {
    "duration": 6,
    "start_time": "2024-07-18T22:31:59.572Z"
   },
   {
    "duration": 91,
    "start_time": "2024-07-18T22:31:59.581Z"
   },
   {
    "duration": 308,
    "start_time": "2024-07-18T22:31:59.676Z"
   },
   {
    "duration": 6,
    "start_time": "2024-07-18T22:31:59.987Z"
   },
   {
    "duration": 453,
    "start_time": "2024-07-18T22:31:59.997Z"
   },
   {
    "duration": 39,
    "start_time": "2024-07-18T22:32:00.453Z"
   },
   {
    "duration": 164,
    "start_time": "2024-07-18T22:32:00.494Z"
   },
   {
    "duration": 1510,
    "start_time": "2024-07-18T22:32:00.661Z"
   },
   {
    "duration": 1837,
    "start_time": "2024-07-18T23:07:21.522Z"
   },
   {
    "duration": 776,
    "start_time": "2024-07-18T23:07:23.363Z"
   },
   {
    "duration": 29,
    "start_time": "2024-07-18T23:07:24.141Z"
   },
   {
    "duration": 6,
    "start_time": "2024-07-18T23:07:24.174Z"
   },
   {
    "duration": 188,
    "start_time": "2024-07-18T23:07:24.183Z"
   },
   {
    "duration": 151,
    "start_time": "2024-07-18T23:07:24.374Z"
   },
   {
    "duration": 402,
    "start_time": "2024-07-18T23:07:24.531Z"
   },
   {
    "duration": 152,
    "start_time": "2024-07-18T23:07:24.936Z"
   },
   {
    "duration": 41,
    "start_time": "2024-07-18T23:07:25.091Z"
   },
   {
    "duration": 34,
    "start_time": "2024-07-18T23:07:25.139Z"
   },
   {
    "duration": 57,
    "start_time": "2024-07-18T23:07:25.177Z"
   },
   {
    "duration": 313,
    "start_time": "2024-07-18T23:07:25.237Z"
   },
   {
    "duration": 36,
    "start_time": "2024-07-18T23:07:25.553Z"
   },
   {
    "duration": 88,
    "start_time": "2024-07-18T23:07:25.592Z"
   },
   {
    "duration": 7,
    "start_time": "2024-07-18T23:07:25.683Z"
   },
   {
    "duration": 45,
    "start_time": "2024-07-18T23:07:25.693Z"
   },
   {
    "duration": 32,
    "start_time": "2024-07-18T23:07:25.743Z"
   },
   {
    "duration": 18,
    "start_time": "2024-07-18T23:07:25.778Z"
   },
   {
    "duration": 536,
    "start_time": "2024-07-18T23:07:25.799Z"
   },
   {
    "duration": 1208,
    "start_time": "2024-07-18T23:07:26.339Z"
   },
   {
    "duration": 465,
    "start_time": "2024-07-18T23:07:27.550Z"
   },
   {
    "duration": 2012,
    "start_time": "2024-07-18T23:07:28.018Z"
   },
   {
    "duration": 252,
    "start_time": "2024-07-18T23:07:30.034Z"
   },
   {
    "duration": 268,
    "start_time": "2024-07-18T23:07:30.288Z"
   },
   {
    "duration": 475,
    "start_time": "2024-07-18T23:07:30.559Z"
   },
   {
    "duration": 32,
    "start_time": "2024-07-18T23:07:31.038Z"
   },
   {
    "duration": 531,
    "start_time": "2024-07-18T23:07:31.073Z"
   },
   {
    "duration": 3,
    "start_time": "2024-07-18T23:07:31.611Z"
   },
   {
    "duration": 4,
    "start_time": "2024-07-18T23:07:31.630Z"
   },
   {
    "duration": 4,
    "start_time": "2024-07-18T23:07:31.636Z"
   },
   {
    "duration": 4,
    "start_time": "2024-07-18T23:07:31.644Z"
   },
   {
    "duration": 4,
    "start_time": "2024-07-18T23:07:31.651Z"
   },
   {
    "duration": 5,
    "start_time": "2024-07-18T23:07:31.657Z"
   },
   {
    "duration": 3,
    "start_time": "2024-07-18T23:07:31.666Z"
   },
   {
    "duration": 4,
    "start_time": "2024-07-18T23:07:31.672Z"
   },
   {
    "duration": 9,
    "start_time": "2024-07-18T23:07:31.730Z"
   },
   {
    "duration": 46,
    "start_time": "2024-07-18T23:07:31.744Z"
   },
   {
    "duration": 315,
    "start_time": "2024-07-18T23:07:31.794Z"
   },
   {
    "duration": 19,
    "start_time": "2024-07-18T23:07:32.111Z"
   },
   {
    "duration": 451,
    "start_time": "2024-07-18T23:07:32.133Z"
   },
   {
    "duration": 53,
    "start_time": "2024-07-18T23:07:32.587Z"
   },
   {
    "duration": 151,
    "start_time": "2024-07-18T23:07:32.644Z"
   },
   {
    "duration": 1503,
    "start_time": "2024-07-18T23:07:32.798Z"
   },
   {
    "duration": 324,
    "start_time": "2024-07-18T23:14:43.657Z"
   },
   {
    "duration": 1685,
    "start_time": "2024-07-18T23:14:55.258Z"
   },
   {
    "duration": 790,
    "start_time": "2024-07-18T23:14:56.946Z"
   },
   {
    "duration": 29,
    "start_time": "2024-07-18T23:14:57.738Z"
   },
   {
    "duration": 5,
    "start_time": "2024-07-18T23:14:57.771Z"
   },
   {
    "duration": 177,
    "start_time": "2024-07-18T23:14:57.780Z"
   },
   {
    "duration": 144,
    "start_time": "2024-07-18T23:14:57.960Z"
   },
   {
    "duration": 423,
    "start_time": "2024-07-18T23:14:58.107Z"
   },
   {
    "duration": 149,
    "start_time": "2024-07-18T23:14:58.534Z"
   },
   {
    "duration": 44,
    "start_time": "2024-07-18T23:14:58.686Z"
   },
   {
    "duration": 29,
    "start_time": "2024-07-18T23:14:58.737Z"
   },
   {
    "duration": 61,
    "start_time": "2024-07-18T23:14:58.769Z"
   },
   {
    "duration": 288,
    "start_time": "2024-07-18T23:14:58.834Z"
   },
   {
    "duration": 36,
    "start_time": "2024-07-18T23:14:59.130Z"
   },
   {
    "duration": 86,
    "start_time": "2024-07-18T23:14:59.170Z"
   },
   {
    "duration": 6,
    "start_time": "2024-07-18T23:14:59.258Z"
   },
   {
    "duration": 24,
    "start_time": "2024-07-18T23:14:59.267Z"
   },
   {
    "duration": 63,
    "start_time": "2024-07-18T23:14:59.294Z"
   },
   {
    "duration": 19,
    "start_time": "2024-07-18T23:14:59.361Z"
   },
   {
    "duration": 528,
    "start_time": "2024-07-18T23:14:59.386Z"
   },
   {
    "duration": 1182,
    "start_time": "2024-07-18T23:14:59.917Z"
   },
   {
    "duration": 470,
    "start_time": "2024-07-18T23:15:01.102Z"
   },
   {
    "duration": 2024,
    "start_time": "2024-07-18T23:15:01.574Z"
   },
   {
    "duration": 258,
    "start_time": "2024-07-18T23:15:03.601Z"
   },
   {
    "duration": 274,
    "start_time": "2024-07-18T23:15:03.864Z"
   },
   {
    "duration": 479,
    "start_time": "2024-07-18T23:15:04.141Z"
   },
   {
    "duration": 35,
    "start_time": "2024-07-18T23:15:04.623Z"
   },
   {
    "duration": 668,
    "start_time": "2024-07-18T23:15:04.662Z"
   },
   {
    "duration": 3,
    "start_time": "2024-07-18T23:15:05.339Z"
   },
   {
    "duration": 5,
    "start_time": "2024-07-18T23:15:05.345Z"
   },
   {
    "duration": 4,
    "start_time": "2024-07-18T23:15:05.353Z"
   },
   {
    "duration": 5,
    "start_time": "2024-07-18T23:15:05.361Z"
   },
   {
    "duration": 3,
    "start_time": "2024-07-18T23:15:05.369Z"
   },
   {
    "duration": 55,
    "start_time": "2024-07-18T23:15:05.375Z"
   },
   {
    "duration": 3,
    "start_time": "2024-07-18T23:15:05.433Z"
   },
   {
    "duration": 4,
    "start_time": "2024-07-18T23:15:05.439Z"
   },
   {
    "duration": 6,
    "start_time": "2024-07-18T23:15:05.447Z"
   },
   {
    "duration": 42,
    "start_time": "2024-07-18T23:15:05.456Z"
   },
   {
    "duration": 302,
    "start_time": "2024-07-18T23:15:05.529Z"
   },
   {
    "duration": 8,
    "start_time": "2024-07-18T23:15:05.833Z"
   },
   {
    "duration": 467,
    "start_time": "2024-07-18T23:15:05.845Z"
   },
   {
    "duration": 42,
    "start_time": "2024-07-18T23:15:06.315Z"
   },
   {
    "duration": 159,
    "start_time": "2024-07-18T23:15:06.360Z"
   },
   {
    "duration": 1481,
    "start_time": "2024-07-18T23:15:06.530Z"
   },
   {
    "duration": 321,
    "start_time": "2024-07-18T23:17:03.043Z"
   },
   {
    "duration": 27,
    "start_time": "2024-07-18T23:17:03.430Z"
   },
   {
    "duration": 21,
    "start_time": "2024-07-18T23:17:03.771Z"
   },
   {
    "duration": 1749,
    "start_time": "2024-07-18T23:17:09.617Z"
   },
   {
    "duration": 892,
    "start_time": "2024-07-18T23:17:11.370Z"
   },
   {
    "duration": 31,
    "start_time": "2024-07-18T23:17:12.264Z"
   },
   {
    "duration": 5,
    "start_time": "2024-07-18T23:17:12.299Z"
   },
   {
    "duration": 180,
    "start_time": "2024-07-18T23:17:12.307Z"
   },
   {
    "duration": 153,
    "start_time": "2024-07-18T23:17:12.490Z"
   },
   {
    "duration": 426,
    "start_time": "2024-07-18T23:17:12.646Z"
   },
   {
    "duration": 165,
    "start_time": "2024-07-18T23:17:13.075Z"
   },
   {
    "duration": 27,
    "start_time": "2024-07-18T23:17:13.245Z"
   },
   {
    "duration": 50,
    "start_time": "2024-07-18T23:17:13.280Z"
   },
   {
    "duration": 39,
    "start_time": "2024-07-18T23:17:13.333Z"
   },
   {
    "duration": 302,
    "start_time": "2024-07-18T23:17:13.376Z"
   },
   {
    "duration": 49,
    "start_time": "2024-07-18T23:17:13.681Z"
   },
   {
    "duration": 69,
    "start_time": "2024-07-18T23:17:13.733Z"
   },
   {
    "duration": 5,
    "start_time": "2024-07-18T23:17:13.805Z"
   },
   {
    "duration": 26,
    "start_time": "2024-07-18T23:17:13.831Z"
   },
   {
    "duration": 32,
    "start_time": "2024-07-18T23:17:13.860Z"
   },
   {
    "duration": 44,
    "start_time": "2024-07-18T23:17:13.895Z"
   },
   {
    "duration": 575,
    "start_time": "2024-07-18T23:17:13.942Z"
   },
   {
    "duration": 1183,
    "start_time": "2024-07-18T23:17:14.520Z"
   },
   {
    "duration": 472,
    "start_time": "2024-07-18T23:17:15.707Z"
   },
   {
    "duration": 1918,
    "start_time": "2024-07-18T23:17:16.183Z"
   },
   {
    "duration": 245,
    "start_time": "2024-07-18T23:17:18.104Z"
   },
   {
    "duration": 262,
    "start_time": "2024-07-18T23:17:18.352Z"
   },
   {
    "duration": 490,
    "start_time": "2024-07-18T23:17:18.618Z"
   },
   {
    "duration": 35,
    "start_time": "2024-07-18T23:17:19.111Z"
   },
   {
    "duration": 516,
    "start_time": "2024-07-18T23:17:19.149Z"
   },
   {
    "duration": 3,
    "start_time": "2024-07-18T23:17:19.674Z"
   },
   {
    "duration": 4,
    "start_time": "2024-07-18T23:17:19.681Z"
   },
   {
    "duration": 3,
    "start_time": "2024-07-18T23:17:19.689Z"
   },
   {
    "duration": 4,
    "start_time": "2024-07-18T23:17:19.730Z"
   },
   {
    "duration": 4,
    "start_time": "2024-07-18T23:17:19.737Z"
   },
   {
    "duration": 4,
    "start_time": "2024-07-18T23:17:19.744Z"
   },
   {
    "duration": 4,
    "start_time": "2024-07-18T23:17:19.751Z"
   },
   {
    "duration": 4,
    "start_time": "2024-07-18T23:17:19.758Z"
   },
   {
    "duration": 6,
    "start_time": "2024-07-18T23:17:19.767Z"
   },
   {
    "duration": 92,
    "start_time": "2024-07-18T23:17:19.777Z"
   },
   {
    "duration": 293,
    "start_time": "2024-07-18T23:17:19.872Z"
   },
   {
    "duration": 8,
    "start_time": "2024-07-18T23:17:20.168Z"
   },
   {
    "duration": 400,
    "start_time": "2024-07-18T23:17:20.179Z"
   },
   {
    "duration": 66,
    "start_time": "2024-07-18T23:17:20.581Z"
   },
   {
    "duration": 121,
    "start_time": "2024-07-18T23:17:20.649Z"
   },
   {
    "duration": 1283,
    "start_time": "2024-07-18T23:17:20.773Z"
   },
   {
    "duration": 11103,
    "start_time": "2024-07-18T23:17:22.059Z"
   },
   {
    "duration": 111,
    "start_time": "2024-07-18T23:17:33.237Z"
   },
   {
    "duration": 1664,
    "start_time": "2024-07-18T23:18:49.535Z"
   },
   {
    "duration": 741,
    "start_time": "2024-07-18T23:18:51.203Z"
   },
   {
    "duration": 34,
    "start_time": "2024-07-18T23:18:51.947Z"
   },
   {
    "duration": 6,
    "start_time": "2024-07-18T23:18:51.988Z"
   },
   {
    "duration": 191,
    "start_time": "2024-07-18T23:18:51.998Z"
   },
   {
    "duration": 153,
    "start_time": "2024-07-18T23:18:52.192Z"
   },
   {
    "duration": 425,
    "start_time": "2024-07-18T23:18:52.348Z"
   },
   {
    "duration": 160,
    "start_time": "2024-07-18T23:18:52.776Z"
   },
   {
    "duration": 27,
    "start_time": "2024-07-18T23:18:52.940Z"
   },
   {
    "duration": 27,
    "start_time": "2024-07-18T23:18:52.975Z"
   },
   {
    "duration": 54,
    "start_time": "2024-07-18T23:18:53.032Z"
   },
   {
    "duration": 303,
    "start_time": "2024-07-18T23:18:53.090Z"
   },
   {
    "duration": 49,
    "start_time": "2024-07-18T23:18:53.396Z"
   },
   {
    "duration": 82,
    "start_time": "2024-07-18T23:18:53.448Z"
   },
   {
    "duration": 7,
    "start_time": "2024-07-18T23:18:53.533Z"
   },
   {
    "duration": 24,
    "start_time": "2024-07-18T23:18:53.543Z"
   },
   {
    "duration": 64,
    "start_time": "2024-07-18T23:18:53.570Z"
   },
   {
    "duration": 19,
    "start_time": "2024-07-18T23:18:53.638Z"
   },
   {
    "duration": 545,
    "start_time": "2024-07-18T23:18:53.661Z"
   },
   {
    "duration": 1201,
    "start_time": "2024-07-18T23:18:54.209Z"
   },
   {
    "duration": 466,
    "start_time": "2024-07-18T23:18:55.412Z"
   },
   {
    "duration": 1935,
    "start_time": "2024-07-18T23:18:55.882Z"
   },
   {
    "duration": 246,
    "start_time": "2024-07-18T23:18:57.820Z"
   },
   {
    "duration": 254,
    "start_time": "2024-07-18T23:18:58.069Z"
   },
   {
    "duration": 470,
    "start_time": "2024-07-18T23:18:58.331Z"
   },
   {
    "duration": 42,
    "start_time": "2024-07-18T23:18:58.805Z"
   },
   {
    "duration": 517,
    "start_time": "2024-07-18T23:18:58.849Z"
   },
   {
    "duration": 3,
    "start_time": "2024-07-18T23:18:59.375Z"
   },
   {
    "duration": 4,
    "start_time": "2024-07-18T23:18:59.381Z"
   },
   {
    "duration": 4,
    "start_time": "2024-07-18T23:18:59.389Z"
   },
   {
    "duration": 4,
    "start_time": "2024-07-18T23:18:59.431Z"
   },
   {
    "duration": 3,
    "start_time": "2024-07-18T23:18:59.439Z"
   },
   {
    "duration": 4,
    "start_time": "2024-07-18T23:18:59.446Z"
   },
   {
    "duration": 5,
    "start_time": "2024-07-18T23:18:59.453Z"
   },
   {
    "duration": 4,
    "start_time": "2024-07-18T23:18:59.462Z"
   },
   {
    "duration": 6,
    "start_time": "2024-07-18T23:18:59.468Z"
   },
   {
    "duration": 91,
    "start_time": "2024-07-18T23:18:59.477Z"
   },
   {
    "duration": 299,
    "start_time": "2024-07-18T23:18:59.571Z"
   },
   {
    "duration": 8,
    "start_time": "2024-07-18T23:18:59.872Z"
   },
   {
    "duration": 392,
    "start_time": "2024-07-18T23:18:59.883Z"
   },
   {
    "duration": 65,
    "start_time": "2024-07-18T23:19:00.278Z"
   },
   {
    "duration": 12596,
    "start_time": "2024-07-18T23:19:00.346Z"
   },
   {
    "duration": 428,
    "start_time": "2024-07-19T01:31:58.617Z"
   },
   {
    "duration": 401,
    "start_time": "2024-07-19T02:56:02.917Z"
   },
   {
    "duration": 34,
    "start_time": "2024-07-19T02:57:03.606Z"
   },
   {
    "duration": 1682,
    "start_time": "2024-07-19T02:57:10.175Z"
   },
   {
    "duration": 753,
    "start_time": "2024-07-19T02:57:11.861Z"
   },
   {
    "duration": 36,
    "start_time": "2024-07-19T02:57:12.617Z"
   },
   {
    "duration": 6,
    "start_time": "2024-07-19T02:57:12.656Z"
   },
   {
    "duration": 172,
    "start_time": "2024-07-19T02:57:12.669Z"
   },
   {
    "duration": 155,
    "start_time": "2024-07-19T02:57:12.845Z"
   },
   {
    "duration": 430,
    "start_time": "2024-07-19T02:57:13.002Z"
   },
   {
    "duration": 157,
    "start_time": "2024-07-19T02:57:13.435Z"
   },
   {
    "duration": 36,
    "start_time": "2024-07-19T02:57:13.595Z"
   },
   {
    "duration": 29,
    "start_time": "2024-07-19T02:57:13.634Z"
   },
   {
    "duration": 65,
    "start_time": "2024-07-19T02:57:13.666Z"
   },
   {
    "duration": 298,
    "start_time": "2024-07-19T02:57:13.734Z"
   },
   {
    "duration": 38,
    "start_time": "2024-07-19T02:57:14.035Z"
   },
   {
    "duration": 100,
    "start_time": "2024-07-19T02:57:14.080Z"
   },
   {
    "duration": 6,
    "start_time": "2024-07-19T02:57:14.182Z"
   },
   {
    "duration": 50,
    "start_time": "2024-07-19T02:57:14.190Z"
   },
   {
    "duration": 34,
    "start_time": "2024-07-19T02:57:14.242Z"
   },
   {
    "duration": 19,
    "start_time": "2024-07-19T02:57:14.279Z"
   },
   {
    "duration": 534,
    "start_time": "2024-07-19T02:57:14.302Z"
   },
   {
    "duration": 1188,
    "start_time": "2024-07-19T02:57:14.839Z"
   },
   {
    "duration": 479,
    "start_time": "2024-07-19T02:57:16.030Z"
   },
   {
    "duration": 1976,
    "start_time": "2024-07-19T02:57:16.512Z"
   },
   {
    "duration": 329,
    "start_time": "2024-07-19T02:57:18.491Z"
   },
   {
    "duration": 191,
    "start_time": "2024-07-19T02:57:18.823Z"
   },
   {
    "duration": 512,
    "start_time": "2024-07-19T02:57:19.018Z"
   },
   {
    "duration": 30,
    "start_time": "2024-07-19T02:57:19.533Z"
   },
   {
    "duration": 534,
    "start_time": "2024-07-19T02:57:19.565Z"
   },
   {
    "duration": 3,
    "start_time": "2024-07-19T02:57:20.103Z"
   },
   {
    "duration": 22,
    "start_time": "2024-07-19T02:57:20.109Z"
   },
   {
    "duration": 4,
    "start_time": "2024-07-19T02:57:20.135Z"
   },
   {
    "duration": 41,
    "start_time": "2024-07-19T02:57:20.143Z"
   },
   {
    "duration": 311,
    "start_time": "2024-07-19T02:57:20.187Z"
   },
   {
    "duration": 8,
    "start_time": "2024-07-19T02:57:20.501Z"
   },
   {
    "duration": 390,
    "start_time": "2024-07-19T02:57:20.513Z"
   },
   {
    "duration": 65,
    "start_time": "2024-07-19T02:57:20.906Z"
   },
   {
    "duration": 12372,
    "start_time": "2024-07-19T02:57:20.973Z"
   },
   {
    "duration": 1724,
    "start_time": "2024-07-19T03:56:07.445Z"
   },
   {
    "duration": 773,
    "start_time": "2024-07-19T03:56:09.173Z"
   },
   {
    "duration": 27,
    "start_time": "2024-07-19T03:56:09.949Z"
   },
   {
    "duration": 6,
    "start_time": "2024-07-19T03:56:09.978Z"
   },
   {
    "duration": 184,
    "start_time": "2024-07-19T03:56:09.990Z"
   },
   {
    "duration": 162,
    "start_time": "2024-07-19T03:56:10.179Z"
   },
   {
    "duration": 411,
    "start_time": "2024-07-19T03:56:10.345Z"
   },
   {
    "duration": 151,
    "start_time": "2024-07-19T03:56:10.759Z"
   },
   {
    "duration": 30,
    "start_time": "2024-07-19T03:56:10.913Z"
   },
   {
    "duration": 28,
    "start_time": "2024-07-19T03:56:10.946Z"
   },
   {
    "duration": 60,
    "start_time": "2024-07-19T03:56:10.977Z"
   },
   {
    "duration": 295,
    "start_time": "2024-07-19T03:56:11.040Z"
   },
   {
    "duration": 36,
    "start_time": "2024-07-19T03:56:11.338Z"
   },
   {
    "duration": 99,
    "start_time": "2024-07-19T03:56:11.382Z"
   },
   {
    "duration": 5,
    "start_time": "2024-07-19T03:56:11.484Z"
   },
   {
    "duration": 48,
    "start_time": "2024-07-19T03:56:11.492Z"
   },
   {
    "duration": 33,
    "start_time": "2024-07-19T03:56:11.543Z"
   },
   {
    "duration": 18,
    "start_time": "2024-07-19T03:56:11.579Z"
   },
   {
    "duration": 551,
    "start_time": "2024-07-19T03:56:11.600Z"
   },
   {
    "duration": 1205,
    "start_time": "2024-07-19T03:56:12.154Z"
   },
   {
    "duration": 468,
    "start_time": "2024-07-19T03:56:13.363Z"
   },
   {
    "duration": 1965,
    "start_time": "2024-07-19T03:56:13.834Z"
   },
   {
    "duration": 332,
    "start_time": "2024-07-19T03:56:15.803Z"
   },
   {
    "duration": 183,
    "start_time": "2024-07-19T03:56:16.138Z"
   },
   {
    "duration": 462,
    "start_time": "2024-07-19T03:56:16.332Z"
   },
   {
    "duration": 37,
    "start_time": "2024-07-19T03:56:16.797Z"
   },
   {
    "duration": 524,
    "start_time": "2024-07-19T03:56:16.838Z"
   },
   {
    "duration": 4,
    "start_time": "2024-07-19T03:56:17.366Z"
   },
   {
    "duration": 5,
    "start_time": "2024-07-19T03:56:17.373Z"
   },
   {
    "duration": 4,
    "start_time": "2024-07-19T03:56:17.383Z"
   },
   {
    "duration": 76,
    "start_time": "2024-07-19T03:56:17.390Z"
   },
   {
    "duration": 297,
    "start_time": "2024-07-19T03:56:17.468Z"
   },
   {
    "duration": 7,
    "start_time": "2024-07-19T03:56:17.767Z"
   },
   {
    "duration": 406,
    "start_time": "2024-07-19T03:56:17.777Z"
   },
   {
    "duration": 66,
    "start_time": "2024-07-19T03:56:18.185Z"
   },
   {
    "duration": 12879,
    "start_time": "2024-07-19T03:56:18.254Z"
   },
   {
    "duration": 1829,
    "start_time": "2024-07-19T04:02:41.931Z"
   },
   {
    "duration": 798,
    "start_time": "2024-07-19T04:02:43.764Z"
   },
   {
    "duration": 30,
    "start_time": "2024-07-19T04:02:44.568Z"
   },
   {
    "duration": 6,
    "start_time": "2024-07-19T04:02:44.603Z"
   },
   {
    "duration": 154,
    "start_time": "2024-07-19T04:02:44.633Z"
   },
   {
    "duration": 147,
    "start_time": "2024-07-19T04:02:44.791Z"
   },
   {
    "duration": 407,
    "start_time": "2024-07-19T04:02:44.941Z"
   },
   {
    "duration": 154,
    "start_time": "2024-07-19T04:02:45.350Z"
   },
   {
    "duration": 34,
    "start_time": "2024-07-19T04:02:45.506Z"
   },
   {
    "duration": 26,
    "start_time": "2024-07-19T04:02:45.547Z"
   },
   {
    "duration": 70,
    "start_time": "2024-07-19T04:02:45.577Z"
   },
   {
    "duration": 309,
    "start_time": "2024-07-19T04:02:45.650Z"
   },
   {
    "duration": 36,
    "start_time": "2024-07-19T04:02:45.962Z"
   },
   {
    "duration": 91,
    "start_time": "2024-07-19T04:02:46.001Z"
   },
   {
    "duration": 5,
    "start_time": "2024-07-19T04:02:46.095Z"
   },
   {
    "duration": 44,
    "start_time": "2024-07-19T04:02:46.103Z"
   },
   {
    "duration": 32,
    "start_time": "2024-07-19T04:02:46.151Z"
   },
   {
    "duration": 44,
    "start_time": "2024-07-19T04:02:46.186Z"
   },
   {
    "duration": 541,
    "start_time": "2024-07-19T04:02:46.233Z"
   },
   {
    "duration": 1202,
    "start_time": "2024-07-19T04:02:46.778Z"
   },
   {
    "duration": 467,
    "start_time": "2024-07-19T04:02:47.983Z"
   },
   {
    "duration": 1977,
    "start_time": "2024-07-19T04:02:48.453Z"
   },
   {
    "duration": 321,
    "start_time": "2024-07-19T04:02:50.434Z"
   },
   {
    "duration": 183,
    "start_time": "2024-07-19T04:02:50.759Z"
   },
   {
    "duration": 478,
    "start_time": "2024-07-19T04:02:50.946Z"
   },
   {
    "duration": 32,
    "start_time": "2024-07-19T04:02:51.426Z"
   },
   {
    "duration": 561,
    "start_time": "2024-07-19T04:02:51.462Z"
   },
   {
    "duration": 5,
    "start_time": "2024-07-19T04:02:52.036Z"
   },
   {
    "duration": 12,
    "start_time": "2024-07-19T04:02:52.047Z"
   },
   {
    "duration": 4,
    "start_time": "2024-07-19T04:02:52.063Z"
   },
   {
    "duration": 71,
    "start_time": "2024-07-19T04:02:52.070Z"
   },
   {
    "duration": 294,
    "start_time": "2024-07-19T04:02:52.144Z"
   },
   {
    "duration": 12,
    "start_time": "2024-07-19T04:02:52.443Z"
   },
   {
    "duration": 6,
    "start_time": "2024-07-19T04:02:52.460Z"
   },
   {
    "duration": 4,
    "start_time": "2024-07-19T04:02:52.469Z"
   },
   {
    "duration": 4,
    "start_time": "2024-07-19T04:02:52.477Z"
   },
   {
    "duration": 430,
    "start_time": "2024-07-19T04:02:52.484Z"
   },
   {
    "duration": 0,
    "start_time": "2024-07-19T04:03:20.057Z"
   },
   {
    "duration": 1729,
    "start_time": "2024-07-19T04:03:31.536Z"
   },
   {
    "duration": 738,
    "start_time": "2024-07-19T04:03:33.270Z"
   },
   {
    "duration": 36,
    "start_time": "2024-07-19T04:03:34.012Z"
   },
   {
    "duration": 6,
    "start_time": "2024-07-19T04:03:34.051Z"
   },
   {
    "duration": 166,
    "start_time": "2024-07-19T04:03:34.064Z"
   },
   {
    "duration": 143,
    "start_time": "2024-07-19T04:03:34.233Z"
   },
   {
    "duration": 404,
    "start_time": "2024-07-19T04:03:34.378Z"
   },
   {
    "duration": 155,
    "start_time": "2024-07-19T04:03:34.785Z"
   },
   {
    "duration": 27,
    "start_time": "2024-07-19T04:03:34.943Z"
   },
   {
    "duration": 28,
    "start_time": "2024-07-19T04:03:34.973Z"
   },
   {
    "duration": 43,
    "start_time": "2024-07-19T04:03:35.030Z"
   },
   {
    "duration": 294,
    "start_time": "2024-07-19T04:03:35.077Z"
   },
   {
    "duration": 37,
    "start_time": "2024-07-19T04:03:35.374Z"
   },
   {
    "duration": 69,
    "start_time": "2024-07-19T04:03:35.434Z"
   },
   {
    "duration": 5,
    "start_time": "2024-07-19T04:03:35.506Z"
   },
   {
    "duration": 24,
    "start_time": "2024-07-19T04:03:35.531Z"
   },
   {
    "duration": 32,
    "start_time": "2024-07-19T04:03:35.560Z"
   },
   {
    "duration": 54,
    "start_time": "2024-07-19T04:03:35.595Z"
   },
   {
    "duration": 556,
    "start_time": "2024-07-19T04:03:35.655Z"
   },
   {
    "duration": 1188,
    "start_time": "2024-07-19T04:03:36.215Z"
   },
   {
    "duration": 464,
    "start_time": "2024-07-19T04:03:37.406Z"
   },
   {
    "duration": 1972,
    "start_time": "2024-07-19T04:03:37.873Z"
   },
   {
    "duration": 345,
    "start_time": "2024-07-19T04:03:39.848Z"
   },
   {
    "duration": 192,
    "start_time": "2024-07-19T04:03:40.197Z"
   },
   {
    "duration": 495,
    "start_time": "2024-07-19T04:03:40.392Z"
   },
   {
    "duration": 40,
    "start_time": "2024-07-19T04:03:40.890Z"
   },
   {
    "duration": 518,
    "start_time": "2024-07-19T04:03:40.934Z"
   },
   {
    "duration": 3,
    "start_time": "2024-07-19T04:03:41.456Z"
   },
   {
    "duration": 4,
    "start_time": "2024-07-19T04:03:41.462Z"
   },
   {
    "duration": 4,
    "start_time": "2024-07-19T04:03:41.470Z"
   },
   {
    "duration": 80,
    "start_time": "2024-07-19T04:03:41.478Z"
   },
   {
    "duration": 320,
    "start_time": "2024-07-19T04:03:41.561Z"
   },
   {
    "duration": 9,
    "start_time": "2024-07-19T04:03:41.884Z"
   },
   {
    "duration": 4,
    "start_time": "2024-07-19T04:03:41.897Z"
   },
   {
    "duration": 3,
    "start_time": "2024-07-19T04:03:41.930Z"
   },
   {
    "duration": 3,
    "start_time": "2024-07-19T04:03:41.937Z"
   },
   {
    "duration": 37081,
    "start_time": "2024-07-19T04:03:41.943Z"
   },
   {
    "duration": 0,
    "start_time": "2024-07-19T04:04:19.031Z"
   },
   {
    "duration": 1673,
    "start_time": "2024-07-19T04:04:52.393Z"
   },
   {
    "duration": 754,
    "start_time": "2024-07-19T04:04:54.070Z"
   },
   {
    "duration": 27,
    "start_time": "2024-07-19T04:04:54.826Z"
   },
   {
    "duration": 6,
    "start_time": "2024-07-19T04:04:54.856Z"
   },
   {
    "duration": 173,
    "start_time": "2024-07-19T04:04:54.867Z"
   },
   {
    "duration": 141,
    "start_time": "2024-07-19T04:04:55.043Z"
   },
   {
    "duration": 414,
    "start_time": "2024-07-19T04:04:55.187Z"
   },
   {
    "duration": 156,
    "start_time": "2024-07-19T04:04:55.604Z"
   },
   {
    "duration": 26,
    "start_time": "2024-07-19T04:04:55.763Z"
   },
   {
    "duration": 46,
    "start_time": "2024-07-19T04:04:55.792Z"
   },
   {
    "duration": 40,
    "start_time": "2024-07-19T04:04:55.841Z"
   },
   {
    "duration": 310,
    "start_time": "2024-07-19T04:04:55.884Z"
   },
   {
    "duration": 50,
    "start_time": "2024-07-19T04:04:56.197Z"
   },
   {
    "duration": 86,
    "start_time": "2024-07-19T04:04:56.253Z"
   },
   {
    "duration": 5,
    "start_time": "2024-07-19T04:04:56.342Z"
   },
   {
    "duration": 24,
    "start_time": "2024-07-19T04:04:56.350Z"
   },
   {
    "duration": 62,
    "start_time": "2024-07-19T04:04:56.377Z"
   },
   {
    "duration": 19,
    "start_time": "2024-07-19T04:04:56.443Z"
   },
   {
    "duration": 557,
    "start_time": "2024-07-19T04:04:56.465Z"
   },
   {
    "duration": 1197,
    "start_time": "2024-07-19T04:04:57.030Z"
   },
   {
    "duration": 478,
    "start_time": "2024-07-19T04:04:58.230Z"
   },
   {
    "duration": 1974,
    "start_time": "2024-07-19T04:04:58.711Z"
   },
   {
    "duration": 324,
    "start_time": "2024-07-19T04:05:00.689Z"
   },
   {
    "duration": 191,
    "start_time": "2024-07-19T04:05:01.016Z"
   },
   {
    "duration": 489,
    "start_time": "2024-07-19T04:05:01.210Z"
   },
   {
    "duration": 38,
    "start_time": "2024-07-19T04:05:01.702Z"
   },
   {
    "duration": 547,
    "start_time": "2024-07-19T04:05:01.743Z"
   },
   {
    "duration": 4,
    "start_time": "2024-07-19T04:05:02.293Z"
   },
   {
    "duration": 4,
    "start_time": "2024-07-19T04:05:02.300Z"
   },
   {
    "duration": 26,
    "start_time": "2024-07-19T04:05:02.307Z"
   },
   {
    "duration": 50,
    "start_time": "2024-07-19T04:05:02.336Z"
   },
   {
    "duration": 325,
    "start_time": "2024-07-19T04:05:02.389Z"
   },
   {
    "duration": 14,
    "start_time": "2024-07-19T04:05:02.717Z"
   },
   {
    "duration": 6,
    "start_time": "2024-07-19T04:05:02.734Z"
   },
   {
    "duration": 5,
    "start_time": "2024-07-19T04:05:02.743Z"
   },
   {
    "duration": 4,
    "start_time": "2024-07-19T04:05:02.751Z"
   },
   {
    "duration": 430,
    "start_time": "2024-07-19T04:05:02.758Z"
   },
   {
    "duration": 328341,
    "start_time": "2024-07-19T04:05:03.191Z"
   },
   {
    "duration": 1765,
    "start_time": "2024-07-19T04:16:30.448Z"
   },
   {
    "duration": 810,
    "start_time": "2024-07-19T04:16:32.217Z"
   },
   {
    "duration": 31,
    "start_time": "2024-07-19T04:16:33.030Z"
   },
   {
    "duration": 7,
    "start_time": "2024-07-19T04:16:33.064Z"
   },
   {
    "duration": 197,
    "start_time": "2024-07-19T04:16:33.076Z"
   },
   {
    "duration": 157,
    "start_time": "2024-07-19T04:16:33.276Z"
   },
   {
    "duration": 410,
    "start_time": "2024-07-19T04:16:33.436Z"
   },
   {
    "duration": 152,
    "start_time": "2024-07-19T04:16:33.850Z"
   },
   {
    "duration": 36,
    "start_time": "2024-07-19T04:16:34.005Z"
   },
   {
    "duration": 29,
    "start_time": "2024-07-19T04:16:34.046Z"
   },
   {
    "duration": 72,
    "start_time": "2024-07-19T04:16:34.078Z"
   },
   {
    "duration": 323,
    "start_time": "2024-07-19T04:16:34.152Z"
   },
   {
    "duration": 35,
    "start_time": "2024-07-19T04:16:34.478Z"
   },
   {
    "duration": 69,
    "start_time": "2024-07-19T04:16:34.533Z"
   },
   {
    "duration": 25,
    "start_time": "2024-07-19T04:16:34.606Z"
   },
   {
    "duration": 26,
    "start_time": "2024-07-19T04:16:34.634Z"
   },
   {
    "duration": 33,
    "start_time": "2024-07-19T04:16:34.663Z"
   },
   {
    "duration": 46,
    "start_time": "2024-07-19T04:16:34.698Z"
   },
   {
    "duration": 538,
    "start_time": "2024-07-19T04:16:34.747Z"
   },
   {
    "duration": 1223,
    "start_time": "2024-07-19T04:16:35.288Z"
   },
   {
    "duration": 486,
    "start_time": "2024-07-19T04:16:36.514Z"
   },
   {
    "duration": 2017,
    "start_time": "2024-07-19T04:16:37.003Z"
   },
   {
    "duration": 325,
    "start_time": "2024-07-19T04:16:39.023Z"
   },
   {
    "duration": 183,
    "start_time": "2024-07-19T04:16:39.351Z"
   },
   {
    "duration": 492,
    "start_time": "2024-07-19T04:16:39.538Z"
   },
   {
    "duration": 36,
    "start_time": "2024-07-19T04:16:40.033Z"
   },
   {
    "duration": 552,
    "start_time": "2024-07-19T04:16:40.072Z"
   },
   {
    "duration": 3,
    "start_time": "2024-07-19T04:16:40.630Z"
   },
   {
    "duration": 4,
    "start_time": "2024-07-19T04:16:40.637Z"
   },
   {
    "duration": 5,
    "start_time": "2024-07-19T04:16:40.644Z"
   },
   {
    "duration": 77,
    "start_time": "2024-07-19T04:16:40.653Z"
   },
   {
    "duration": 311,
    "start_time": "2024-07-19T04:16:40.733Z"
   },
   {
    "duration": 7,
    "start_time": "2024-07-19T04:16:41.048Z"
   },
   {
    "duration": 4,
    "start_time": "2024-07-19T04:16:41.059Z"
   },
   {
    "duration": 5,
    "start_time": "2024-07-19T04:16:41.067Z"
   },
   {
    "duration": 5,
    "start_time": "2024-07-19T04:16:41.075Z"
   },
   {
    "duration": 564,
    "start_time": "2024-07-19T04:16:41.084Z"
   },
   {
    "duration": 1754,
    "start_time": "2024-07-19T04:21:35.233Z"
   },
   {
    "duration": 717,
    "start_time": "2024-07-19T04:21:36.990Z"
   },
   {
    "duration": 41,
    "start_time": "2024-07-19T04:21:37.711Z"
   },
   {
    "duration": 9,
    "start_time": "2024-07-19T04:21:37.759Z"
   },
   {
    "duration": 171,
    "start_time": "2024-07-19T04:21:37.772Z"
   },
   {
    "duration": 144,
    "start_time": "2024-07-19T04:21:37.946Z"
   },
   {
    "duration": 418,
    "start_time": "2024-07-19T04:21:38.093Z"
   },
   {
    "duration": 154,
    "start_time": "2024-07-19T04:21:38.514Z"
   },
   {
    "duration": 27,
    "start_time": "2024-07-19T04:21:38.671Z"
   },
   {
    "duration": 44,
    "start_time": "2024-07-19T04:21:38.704Z"
   },
   {
    "duration": 40,
    "start_time": "2024-07-19T04:21:38.751Z"
   },
   {
    "duration": 323,
    "start_time": "2024-07-19T04:21:38.794Z"
   },
   {
    "duration": 40,
    "start_time": "2024-07-19T04:21:39.120Z"
   },
   {
    "duration": 84,
    "start_time": "2024-07-19T04:21:39.162Z"
   },
   {
    "duration": 5,
    "start_time": "2024-07-19T04:21:39.249Z"
   },
   {
    "duration": 24,
    "start_time": "2024-07-19T04:21:39.257Z"
   },
   {
    "duration": 65,
    "start_time": "2024-07-19T04:21:39.283Z"
   },
   {
    "duration": 18,
    "start_time": "2024-07-19T04:21:39.351Z"
   },
   {
    "duration": 533,
    "start_time": "2024-07-19T04:21:39.372Z"
   },
   {
    "duration": 1207,
    "start_time": "2024-07-19T04:21:39.908Z"
   },
   {
    "duration": 463,
    "start_time": "2024-07-19T04:21:41.118Z"
   },
   {
    "duration": 1952,
    "start_time": "2024-07-19T04:21:41.584Z"
   },
   {
    "duration": 320,
    "start_time": "2024-07-19T04:21:43.539Z"
   },
   {
    "duration": 178,
    "start_time": "2024-07-19T04:21:43.862Z"
   },
   {
    "duration": 487,
    "start_time": "2024-07-19T04:21:44.043Z"
   },
   {
    "duration": 30,
    "start_time": "2024-07-19T04:21:44.533Z"
   },
   {
    "duration": 522,
    "start_time": "2024-07-19T04:21:44.567Z"
   },
   {
    "duration": 3,
    "start_time": "2024-07-19T04:21:45.096Z"
   },
   {
    "duration": 3,
    "start_time": "2024-07-19T04:21:45.103Z"
   },
   {
    "duration": 5,
    "start_time": "2024-07-19T04:21:45.131Z"
   },
   {
    "duration": 42,
    "start_time": "2024-07-19T04:21:45.139Z"
   },
   {
    "duration": 308,
    "start_time": "2024-07-19T04:21:45.183Z"
   },
   {
    "duration": 7,
    "start_time": "2024-07-19T04:21:45.495Z"
   },
   {
    "duration": 3,
    "start_time": "2024-07-19T04:21:45.506Z"
   },
   {
    "duration": 4,
    "start_time": "2024-07-19T04:21:45.532Z"
   },
   {
    "duration": 5,
    "start_time": "2024-07-19T04:21:45.540Z"
   },
   {
    "duration": 454,
    "start_time": "2024-07-19T04:21:45.548Z"
   },
   {
    "duration": 1658,
    "start_time": "2024-07-19T04:25:53.170Z"
   },
   {
    "duration": 718,
    "start_time": "2024-07-19T04:25:54.832Z"
   },
   {
    "duration": 27,
    "start_time": "2024-07-19T04:25:55.552Z"
   },
   {
    "duration": 6,
    "start_time": "2024-07-19T04:25:55.583Z"
   },
   {
    "duration": 178,
    "start_time": "2024-07-19T04:25:55.592Z"
   },
   {
    "duration": 168,
    "start_time": "2024-07-19T04:25:55.773Z"
   },
   {
    "duration": 411,
    "start_time": "2024-07-19T04:25:55.943Z"
   },
   {
    "duration": 159,
    "start_time": "2024-07-19T04:25:56.358Z"
   },
   {
    "duration": 36,
    "start_time": "2024-07-19T04:25:56.519Z"
   },
   {
    "duration": 27,
    "start_time": "2024-07-19T04:25:56.562Z"
   },
   {
    "duration": 60,
    "start_time": "2024-07-19T04:25:56.592Z"
   },
   {
    "duration": 303,
    "start_time": "2024-07-19T04:25:56.655Z"
   },
   {
    "duration": 38,
    "start_time": "2024-07-19T04:25:56.961Z"
   },
   {
    "duration": 89,
    "start_time": "2024-07-19T04:25:57.002Z"
   },
   {
    "duration": 7,
    "start_time": "2024-07-19T04:25:57.095Z"
   },
   {
    "duration": 41,
    "start_time": "2024-07-19T04:25:57.105Z"
   },
   {
    "duration": 33,
    "start_time": "2024-07-19T04:25:57.148Z"
   },
   {
    "duration": 18,
    "start_time": "2024-07-19T04:25:57.184Z"
   },
   {
    "duration": 509,
    "start_time": "2024-07-19T04:25:57.231Z"
   },
   {
    "duration": 1184,
    "start_time": "2024-07-19T04:25:57.743Z"
   },
   {
    "duration": 487,
    "start_time": "2024-07-19T04:25:58.930Z"
   },
   {
    "duration": 2122,
    "start_time": "2024-07-19T04:25:59.420Z"
   },
   {
    "duration": 381,
    "start_time": "2024-07-19T04:26:01.545Z"
   },
   {
    "duration": 222,
    "start_time": "2024-07-19T04:26:01.932Z"
   },
   {
    "duration": 507,
    "start_time": "2024-07-19T04:26:02.157Z"
   },
   {
    "duration": 30,
    "start_time": "2024-07-19T04:26:02.667Z"
   },
   {
    "duration": 603,
    "start_time": "2024-07-19T04:26:02.700Z"
   },
   {
    "duration": 3,
    "start_time": "2024-07-19T04:26:03.311Z"
   },
   {
    "duration": 5,
    "start_time": "2024-07-19T04:26:03.332Z"
   },
   {
    "duration": 4,
    "start_time": "2024-07-19T04:26:03.340Z"
   },
   {
    "duration": 46,
    "start_time": "2024-07-19T04:26:03.347Z"
   },
   {
    "duration": 344,
    "start_time": "2024-07-19T04:26:03.399Z"
   },
   {
    "duration": 9,
    "start_time": "2024-07-19T04:26:03.746Z"
   },
   {
    "duration": 3,
    "start_time": "2024-07-19T04:26:03.759Z"
   },
   {
    "duration": 5,
    "start_time": "2024-07-19T04:26:03.765Z"
   },
   {
    "duration": 4,
    "start_time": "2024-07-19T04:26:03.773Z"
   },
   {
    "duration": 513,
    "start_time": "2024-07-19T04:26:03.780Z"
   },
   {
    "duration": 593,
    "start_time": "2024-07-19T04:26:04.296Z"
   },
   {
    "duration": 1687,
    "start_time": "2024-07-19T04:26:50.385Z"
   },
   {
    "duration": 757,
    "start_time": "2024-07-19T04:26:52.076Z"
   },
   {
    "duration": 34,
    "start_time": "2024-07-19T04:26:52.836Z"
   },
   {
    "duration": 9,
    "start_time": "2024-07-19T04:26:52.876Z"
   },
   {
    "duration": 174,
    "start_time": "2024-07-19T04:26:52.888Z"
   },
   {
    "duration": 151,
    "start_time": "2024-07-19T04:26:53.065Z"
   },
   {
    "duration": 417,
    "start_time": "2024-07-19T04:26:53.230Z"
   },
   {
    "duration": 153,
    "start_time": "2024-07-19T04:26:53.650Z"
   },
   {
    "duration": 35,
    "start_time": "2024-07-19T04:26:53.806Z"
   },
   {
    "duration": 27,
    "start_time": "2024-07-19T04:26:53.848Z"
   },
   {
    "duration": 59,
    "start_time": "2024-07-19T04:26:53.878Z"
   },
   {
    "duration": 292,
    "start_time": "2024-07-19T04:26:53.940Z"
   },
   {
    "duration": 36,
    "start_time": "2024-07-19T04:26:54.235Z"
   },
   {
    "duration": 88,
    "start_time": "2024-07-19T04:26:54.275Z"
   },
   {
    "duration": 6,
    "start_time": "2024-07-19T04:26:54.365Z"
   },
   {
    "duration": 26,
    "start_time": "2024-07-19T04:26:54.374Z"
   },
   {
    "duration": 33,
    "start_time": "2024-07-19T04:26:54.432Z"
   },
   {
    "duration": 16,
    "start_time": "2024-07-19T04:26:54.468Z"
   },
   {
    "duration": 546,
    "start_time": "2024-07-19T04:26:54.487Z"
   },
   {
    "duration": 1184,
    "start_time": "2024-07-19T04:26:55.039Z"
   },
   {
    "duration": 474,
    "start_time": "2024-07-19T04:26:56.226Z"
   },
   {
    "duration": 1985,
    "start_time": "2024-07-19T04:26:56.703Z"
   },
   {
    "duration": 325,
    "start_time": "2024-07-19T04:26:58.691Z"
   },
   {
    "duration": 180,
    "start_time": "2024-07-19T04:26:59.019Z"
   },
   {
    "duration": 475,
    "start_time": "2024-07-19T04:26:59.202Z"
   },
   {
    "duration": 30,
    "start_time": "2024-07-19T04:26:59.680Z"
   },
   {
    "duration": 521,
    "start_time": "2024-07-19T04:26:59.731Z"
   },
   {
    "duration": 3,
    "start_time": "2024-07-19T04:27:00.259Z"
   },
   {
    "duration": 5,
    "start_time": "2024-07-19T04:27:00.265Z"
   },
   {
    "duration": 5,
    "start_time": "2024-07-19T04:27:00.272Z"
   },
   {
    "duration": 77,
    "start_time": "2024-07-19T04:27:00.280Z"
   },
   {
    "duration": 297,
    "start_time": "2024-07-19T04:27:00.360Z"
   },
   {
    "duration": 7,
    "start_time": "2024-07-19T04:27:00.660Z"
   },
   {
    "duration": 14,
    "start_time": "2024-07-19T04:27:00.670Z"
   },
   {
    "duration": 4,
    "start_time": "2024-07-19T04:27:00.687Z"
   },
   {
    "duration": 4,
    "start_time": "2024-07-19T04:27:00.694Z"
   },
   {
    "duration": 973,
    "start_time": "2024-07-19T04:27:00.701Z"
   },
   {
    "duration": 1668,
    "start_time": "2024-07-19T04:28:29.266Z"
   },
   {
    "duration": 717,
    "start_time": "2024-07-19T04:28:30.939Z"
   },
   {
    "duration": 33,
    "start_time": "2024-07-19T04:28:31.660Z"
   },
   {
    "duration": 7,
    "start_time": "2024-07-19T04:28:31.697Z"
   },
   {
    "duration": 174,
    "start_time": "2024-07-19T04:28:31.730Z"
   },
   {
    "duration": 152,
    "start_time": "2024-07-19T04:28:31.908Z"
   },
   {
    "duration": 430,
    "start_time": "2024-07-19T04:28:32.063Z"
   },
   {
    "duration": 158,
    "start_time": "2024-07-19T04:28:32.496Z"
   },
   {
    "duration": 26,
    "start_time": "2024-07-19T04:28:32.657Z"
   },
   {
    "duration": 50,
    "start_time": "2024-07-19T04:28:32.686Z"
   },
   {
    "duration": 40,
    "start_time": "2024-07-19T04:28:32.742Z"
   },
   {
    "duration": 318,
    "start_time": "2024-07-19T04:28:32.786Z"
   },
   {
    "duration": 51,
    "start_time": "2024-07-19T04:28:33.106Z"
   },
   {
    "duration": 79,
    "start_time": "2024-07-19T04:28:33.164Z"
   },
   {
    "duration": 6,
    "start_time": "2024-07-19T04:28:33.246Z"
   },
   {
    "duration": 24,
    "start_time": "2024-07-19T04:28:33.256Z"
   },
   {
    "duration": 66,
    "start_time": "2024-07-19T04:28:33.283Z"
   },
   {
    "duration": 17,
    "start_time": "2024-07-19T04:28:33.352Z"
   },
   {
    "duration": 529,
    "start_time": "2024-07-19T04:28:33.373Z"
   },
   {
    "duration": 1217,
    "start_time": "2024-07-19T04:28:33.906Z"
   },
   {
    "duration": 468,
    "start_time": "2024-07-19T04:28:35.127Z"
   },
   {
    "duration": 1954,
    "start_time": "2024-07-19T04:28:35.598Z"
   },
   {
    "duration": 325,
    "start_time": "2024-07-19T04:28:37.555Z"
   },
   {
    "duration": 180,
    "start_time": "2024-07-19T04:28:37.883Z"
   },
   {
    "duration": 492,
    "start_time": "2024-07-19T04:28:38.065Z"
   },
   {
    "duration": 31,
    "start_time": "2024-07-19T04:28:38.561Z"
   },
   {
    "duration": 526,
    "start_time": "2024-07-19T04:28:38.595Z"
   },
   {
    "duration": 7,
    "start_time": "2024-07-19T04:28:39.125Z"
   },
   {
    "duration": 4,
    "start_time": "2024-07-19T04:28:39.136Z"
   },
   {
    "duration": 5,
    "start_time": "2024-07-19T04:28:39.143Z"
   },
   {
    "duration": 42,
    "start_time": "2024-07-19T04:28:39.151Z"
   },
   {
    "duration": 300,
    "start_time": "2024-07-19T04:28:39.230Z"
   },
   {
    "duration": 9,
    "start_time": "2024-07-19T04:28:39.533Z"
   },
   {
    "duration": 481,
    "start_time": "2024-07-19T04:28:39.545Z"
   },
   {
    "duration": 12313,
    "start_time": "2024-07-19T04:28:40.031Z"
   },
   {
    "duration": 1105,
    "start_time": "2024-07-19T04:28:52.348Z"
   },
   {
    "duration": 5360,
    "start_time": "2024-07-19T21:31:46.197Z"
   },
   {
    "duration": 856,
    "start_time": "2024-07-19T21:31:51.560Z"
   },
   {
    "duration": 37,
    "start_time": "2024-07-19T21:31:52.419Z"
   },
   {
    "duration": 6,
    "start_time": "2024-07-19T21:31:52.460Z"
   },
   {
    "duration": 170,
    "start_time": "2024-07-19T21:31:52.469Z"
   },
   {
    "duration": 143,
    "start_time": "2024-07-19T21:31:52.642Z"
   },
   {
    "duration": 430,
    "start_time": "2024-07-19T21:31:52.788Z"
   },
   {
    "duration": 169,
    "start_time": "2024-07-19T21:31:53.221Z"
   },
   {
    "duration": 37,
    "start_time": "2024-07-19T21:31:53.393Z"
   },
   {
    "duration": 29,
    "start_time": "2024-07-19T21:31:53.436Z"
   },
   {
    "duration": 63,
    "start_time": "2024-07-19T21:31:53.468Z"
   },
   {
    "duration": 292,
    "start_time": "2024-07-19T21:31:53.534Z"
   },
   {
    "duration": 39,
    "start_time": "2024-07-19T21:31:53.830Z"
   },
   {
    "duration": 81,
    "start_time": "2024-07-19T21:31:53.872Z"
   },
   {
    "duration": 5,
    "start_time": "2024-07-19T21:31:53.959Z"
   },
   {
    "duration": 24,
    "start_time": "2024-07-19T21:31:53.967Z"
   },
   {
    "duration": 67,
    "start_time": "2024-07-19T21:31:53.995Z"
   },
   {
    "duration": 17,
    "start_time": "2024-07-19T21:31:54.065Z"
   },
   {
    "duration": 665,
    "start_time": "2024-07-19T21:31:54.084Z"
   },
   {
    "duration": 1246,
    "start_time": "2024-07-19T21:31:54.753Z"
   },
   {
    "duration": 510,
    "start_time": "2024-07-19T21:31:56.002Z"
   },
   {
    "duration": 2099,
    "start_time": "2024-07-19T21:31:56.515Z"
   },
   {
    "duration": 276,
    "start_time": "2024-07-19T21:31:58.616Z"
   },
   {
    "duration": 213,
    "start_time": "2024-07-19T21:31:58.896Z"
   },
   {
    "duration": 502,
    "start_time": "2024-07-19T21:31:59.113Z"
   },
   {
    "duration": 50,
    "start_time": "2024-07-19T21:31:59.618Z"
   },
   {
    "duration": 671,
    "start_time": "2024-07-19T21:31:59.672Z"
   },
   {
    "duration": 45,
    "start_time": "2024-07-19T21:32:00.357Z"
   },
   {
    "duration": 316,
    "start_time": "2024-07-19T21:32:00.404Z"
   },
   {
    "duration": 7,
    "start_time": "2024-07-19T21:32:00.730Z"
   },
   {
    "duration": 475,
    "start_time": "2024-07-19T21:32:00.741Z"
   },
   {
    "duration": 14617,
    "start_time": "2024-07-19T21:32:01.220Z"
   },
   {
    "duration": 1059,
    "start_time": "2024-07-19T21:32:15.841Z"
   },
   {
    "duration": 6,
    "start_time": "2024-07-19T21:32:16.913Z"
   },
   {
    "duration": 1283,
    "start_time": "2024-07-19T21:32:16.924Z"
   },
   {
    "duration": 188,
    "start_time": "2024-07-19T21:32:18.211Z"
   },
   {
    "duration": 0,
    "start_time": "2024-07-19T21:32:18.403Z"
   },
   {
    "duration": 0,
    "start_time": "2024-07-19T21:32:18.405Z"
   },
   {
    "duration": 1834,
    "start_time": "2024-07-19T21:55:42.854Z"
   },
   {
    "duration": 819,
    "start_time": "2024-07-19T21:55:44.696Z"
   },
   {
    "duration": 34,
    "start_time": "2024-07-19T21:55:45.518Z"
   },
   {
    "duration": 6,
    "start_time": "2024-07-19T21:55:45.556Z"
   },
   {
    "duration": 178,
    "start_time": "2024-07-19T21:55:45.566Z"
   },
   {
    "duration": 173,
    "start_time": "2024-07-19T21:55:45.747Z"
   },
   {
    "duration": 499,
    "start_time": "2024-07-19T21:55:45.923Z"
   },
   {
    "duration": 153,
    "start_time": "2024-07-19T21:55:46.426Z"
   },
   {
    "duration": 27,
    "start_time": "2024-07-19T21:55:46.585Z"
   },
   {
    "duration": 40,
    "start_time": "2024-07-19T21:55:46.634Z"
   },
   {
    "duration": 64,
    "start_time": "2024-07-19T21:55:46.676Z"
   },
   {
    "duration": 355,
    "start_time": "2024-07-19T21:55:46.743Z"
   },
   {
    "duration": 52,
    "start_time": "2024-07-19T21:55:47.102Z"
   },
   {
    "duration": 81,
    "start_time": "2024-07-19T21:55:47.157Z"
   },
   {
    "duration": 6,
    "start_time": "2024-07-19T21:55:47.240Z"
   },
   {
    "duration": 26,
    "start_time": "2024-07-19T21:55:47.250Z"
   },
   {
    "duration": 69,
    "start_time": "2024-07-19T21:55:47.278Z"
   },
   {
    "duration": 18,
    "start_time": "2024-07-19T21:55:47.353Z"
   },
   {
    "duration": 579,
    "start_time": "2024-07-19T21:55:47.375Z"
   },
   {
    "duration": 1218,
    "start_time": "2024-07-19T21:55:47.957Z"
   },
   {
    "duration": 524,
    "start_time": "2024-07-19T21:55:49.178Z"
   },
   {
    "duration": 2103,
    "start_time": "2024-07-19T21:55:49.706Z"
   },
   {
    "duration": 365,
    "start_time": "2024-07-19T21:55:51.812Z"
   },
   {
    "duration": 204,
    "start_time": "2024-07-19T21:55:52.180Z"
   },
   {
    "duration": 571,
    "start_time": "2024-07-19T21:55:52.389Z"
   },
   {
    "duration": 32,
    "start_time": "2024-07-19T21:55:52.963Z"
   },
   {
    "duration": 640,
    "start_time": "2024-07-19T21:55:52.998Z"
   },
   {
    "duration": 41,
    "start_time": "2024-07-19T21:55:53.648Z"
   },
   {
    "duration": 340,
    "start_time": "2024-07-19T21:55:53.695Z"
   },
   {
    "duration": 17,
    "start_time": "2024-07-19T21:55:54.038Z"
   },
   {
    "duration": 542,
    "start_time": "2024-07-19T21:55:54.059Z"
   },
   {
    "duration": 13441,
    "start_time": "2024-07-19T21:55:54.604Z"
   },
   {
    "duration": 1160,
    "start_time": "2024-07-19T21:56:08.048Z"
   },
   {
    "duration": 5,
    "start_time": "2024-07-19T21:56:09.212Z"
   },
   {
    "duration": 335,
    "start_time": "2024-07-19T21:56:09.236Z"
   },
   {
    "duration": 243,
    "start_time": "2024-07-19T21:56:09.574Z"
   },
   {
    "duration": 0,
    "start_time": "2024-07-19T21:56:09.820Z"
   },
   {
    "duration": 0,
    "start_time": "2024-07-19T21:56:09.822Z"
   },
   {
    "duration": 915,
    "start_time": "2024-07-19T22:17:47.666Z"
   },
   {
    "duration": 192,
    "start_time": "2024-07-19T22:19:52.956Z"
   },
   {
    "duration": 5790,
    "start_time": "2024-07-19T22:21:01.653Z"
   },
   {
    "duration": 119,
    "start_time": "2024-07-19T22:23:52.856Z"
   },
   {
    "duration": 1750,
    "start_time": "2024-07-19T22:25:02.173Z"
   },
   {
    "duration": 915,
    "start_time": "2024-07-19T22:25:03.930Z"
   },
   {
    "duration": 33,
    "start_time": "2024-07-19T22:25:04.848Z"
   },
   {
    "duration": 6,
    "start_time": "2024-07-19T22:25:04.885Z"
   },
   {
    "duration": 222,
    "start_time": "2024-07-19T22:25:04.894Z"
   },
   {
    "duration": 200,
    "start_time": "2024-07-19T22:25:05.118Z"
   },
   {
    "duration": 480,
    "start_time": "2024-07-19T22:25:05.323Z"
   },
   {
    "duration": 189,
    "start_time": "2024-07-19T22:25:05.807Z"
   },
   {
    "duration": 35,
    "start_time": "2024-07-19T22:25:05.999Z"
   },
   {
    "duration": 32,
    "start_time": "2024-07-19T22:25:06.044Z"
   },
   {
    "duration": 62,
    "start_time": "2024-07-19T22:25:06.080Z"
   },
   {
    "duration": 313,
    "start_time": "2024-07-19T22:25:06.145Z"
   },
   {
    "duration": 40,
    "start_time": "2024-07-19T22:25:06.466Z"
   },
   {
    "duration": 108,
    "start_time": "2024-07-19T22:25:06.509Z"
   },
   {
    "duration": 8,
    "start_time": "2024-07-19T22:25:06.632Z"
   },
   {
    "duration": 28,
    "start_time": "2024-07-19T22:25:06.644Z"
   },
   {
    "duration": 57,
    "start_time": "2024-07-19T22:25:06.675Z"
   },
   {
    "duration": 21,
    "start_time": "2024-07-19T22:25:06.735Z"
   },
   {
    "duration": 570,
    "start_time": "2024-07-19T22:25:06.758Z"
   },
   {
    "duration": 1221,
    "start_time": "2024-07-19T22:25:07.330Z"
   },
   {
    "duration": 528,
    "start_time": "2024-07-19T22:25:08.554Z"
   },
   {
    "duration": 2053,
    "start_time": "2024-07-19T22:25:09.085Z"
   },
   {
    "duration": 327,
    "start_time": "2024-07-19T22:25:11.142Z"
   },
   {
    "duration": 184,
    "start_time": "2024-07-19T22:25:11.473Z"
   },
   {
    "duration": 550,
    "start_time": "2024-07-19T22:25:11.661Z"
   },
   {
    "duration": 53,
    "start_time": "2024-07-19T22:25:12.215Z"
   },
   {
    "duration": 566,
    "start_time": "2024-07-19T22:25:12.277Z"
   },
   {
    "duration": 42,
    "start_time": "2024-07-19T22:25:12.851Z"
   },
   {
    "duration": 330,
    "start_time": "2024-07-19T22:25:12.896Z"
   },
   {
    "duration": 15,
    "start_time": "2024-07-19T22:25:13.230Z"
   },
   {
    "duration": 495,
    "start_time": "2024-07-19T22:25:13.248Z"
   },
   {
    "duration": 18322,
    "start_time": "2024-07-19T22:25:13.747Z"
   },
   {
    "duration": 1135,
    "start_time": "2024-07-19T22:25:32.078Z"
   },
   {
    "duration": 17,
    "start_time": "2024-07-19T22:25:33.216Z"
   },
   {
    "duration": 70496,
    "start_time": "2024-07-19T22:25:33.240Z"
   },
   {
    "duration": 548,
    "start_time": "2024-07-19T22:26:43.740Z"
   },
   {
    "duration": 1726,
    "start_time": "2024-07-19T22:30:14.937Z"
   },
   {
    "duration": 898,
    "start_time": "2024-07-19T22:30:16.667Z"
   },
   {
    "duration": 30,
    "start_time": "2024-07-19T22:30:17.573Z"
   },
   {
    "duration": 25,
    "start_time": "2024-07-19T22:30:17.606Z"
   },
   {
    "duration": 198,
    "start_time": "2024-07-19T22:30:17.633Z"
   },
   {
    "duration": 186,
    "start_time": "2024-07-19T22:30:17.834Z"
   },
   {
    "duration": 476,
    "start_time": "2024-07-19T22:30:18.032Z"
   },
   {
    "duration": 195,
    "start_time": "2024-07-19T22:30:18.510Z"
   },
   {
    "duration": 35,
    "start_time": "2024-07-19T22:30:18.713Z"
   },
   {
    "duration": 29,
    "start_time": "2024-07-19T22:30:18.751Z"
   },
   {
    "duration": 60,
    "start_time": "2024-07-19T22:30:18.783Z"
   },
   {
    "duration": 290,
    "start_time": "2024-07-19T22:30:18.849Z"
   },
   {
    "duration": 39,
    "start_time": "2024-07-19T22:30:19.146Z"
   },
   {
    "duration": 90,
    "start_time": "2024-07-19T22:30:19.187Z"
   },
   {
    "duration": 5,
    "start_time": "2024-07-19T22:30:19.281Z"
   },
   {
    "duration": 47,
    "start_time": "2024-07-19T22:30:19.289Z"
   },
   {
    "duration": 38,
    "start_time": "2024-07-19T22:30:19.340Z"
   },
   {
    "duration": 18,
    "start_time": "2024-07-19T22:30:19.381Z"
   },
   {
    "duration": 559,
    "start_time": "2024-07-19T22:30:19.403Z"
   },
   {
    "duration": 1226,
    "start_time": "2024-07-19T22:30:19.965Z"
   },
   {
    "duration": 503,
    "start_time": "2024-07-19T22:30:21.195Z"
   },
   {
    "duration": 1971,
    "start_time": "2024-07-19T22:30:21.701Z"
   },
   {
    "duration": 346,
    "start_time": "2024-07-19T22:30:23.676Z"
   },
   {
    "duration": 200,
    "start_time": "2024-07-19T22:30:24.030Z"
   },
   {
    "duration": 530,
    "start_time": "2024-07-19T22:30:24.234Z"
   },
   {
    "duration": 38,
    "start_time": "2024-07-19T22:30:24.768Z"
   },
   {
    "duration": 686,
    "start_time": "2024-07-19T22:30:24.834Z"
   },
   {
    "duration": 54,
    "start_time": "2024-07-19T22:30:25.524Z"
   },
   {
    "duration": 325,
    "start_time": "2024-07-19T22:30:25.580Z"
   },
   {
    "duration": 8,
    "start_time": "2024-07-19T22:30:25.908Z"
   },
   {
    "duration": 562,
    "start_time": "2024-07-19T22:30:25.930Z"
   },
   {
    "duration": 18038,
    "start_time": "2024-07-19T22:30:26.494Z"
   },
   {
    "duration": 1086,
    "start_time": "2024-07-19T22:30:44.536Z"
   },
   {
    "duration": 7,
    "start_time": "2024-07-19T22:30:45.632Z"
   },
   {
    "duration": 516,
    "start_time": "2024-07-19T22:30:45.641Z"
   },
   {
    "duration": 312,
    "start_time": "2024-07-19T22:41:17.382Z"
   },
   {
    "duration": 1687,
    "start_time": "2024-07-19T22:41:25.081Z"
   },
   {
    "duration": 776,
    "start_time": "2024-07-19T22:41:26.772Z"
   },
   {
    "duration": 28,
    "start_time": "2024-07-19T22:41:27.550Z"
   },
   {
    "duration": 5,
    "start_time": "2024-07-19T22:41:27.582Z"
   },
   {
    "duration": 178,
    "start_time": "2024-07-19T22:41:27.592Z"
   },
   {
    "duration": 144,
    "start_time": "2024-07-19T22:41:27.773Z"
   },
   {
    "duration": 407,
    "start_time": "2024-07-19T22:41:27.931Z"
   },
   {
    "duration": 164,
    "start_time": "2024-07-19T22:41:28.341Z"
   },
   {
    "duration": 38,
    "start_time": "2024-07-19T22:41:28.508Z"
   },
   {
    "duration": 28,
    "start_time": "2024-07-19T22:41:28.549Z"
   },
   {
    "duration": 59,
    "start_time": "2024-07-19T22:41:28.581Z"
   },
   {
    "duration": 331,
    "start_time": "2024-07-19T22:41:28.643Z"
   },
   {
    "duration": 52,
    "start_time": "2024-07-19T22:41:28.978Z"
   },
   {
    "duration": 81,
    "start_time": "2024-07-19T22:41:29.037Z"
   },
   {
    "duration": 6,
    "start_time": "2024-07-19T22:41:29.132Z"
   },
   {
    "duration": 23,
    "start_time": "2024-07-19T22:41:29.141Z"
   },
   {
    "duration": 32,
    "start_time": "2024-07-19T22:41:29.167Z"
   },
   {
    "duration": 17,
    "start_time": "2024-07-19T22:41:29.232Z"
   },
   {
    "duration": 558,
    "start_time": "2024-07-19T22:41:29.252Z"
   },
   {
    "duration": 1183,
    "start_time": "2024-07-19T22:41:29.812Z"
   },
   {
    "duration": 459,
    "start_time": "2024-07-19T22:41:30.998Z"
   },
   {
    "duration": 1969,
    "start_time": "2024-07-19T22:41:31.461Z"
   },
   {
    "duration": 316,
    "start_time": "2024-07-19T22:41:33.434Z"
   },
   {
    "duration": 180,
    "start_time": "2024-07-19T22:41:33.753Z"
   },
   {
    "duration": 481,
    "start_time": "2024-07-19T22:41:33.936Z"
   },
   {
    "duration": 40,
    "start_time": "2024-07-19T22:41:34.420Z"
   },
   {
    "duration": 555,
    "start_time": "2024-07-19T22:41:34.463Z"
   },
   {
    "duration": 47,
    "start_time": "2024-07-19T22:41:35.021Z"
   },
   {
    "duration": 307,
    "start_time": "2024-07-19T22:41:35.071Z"
   },
   {
    "duration": 8,
    "start_time": "2024-07-19T22:41:35.380Z"
   },
   {
    "duration": 482,
    "start_time": "2024-07-19T22:41:35.391Z"
   },
   {
    "duration": 18321,
    "start_time": "2024-07-19T22:41:35.876Z"
   },
   {
    "duration": 1898,
    "start_time": "2024-07-19T22:42:45.557Z"
   },
   {
    "duration": 913,
    "start_time": "2024-07-19T22:42:47.460Z"
   },
   {
    "duration": 30,
    "start_time": "2024-07-19T22:42:48.376Z"
   },
   {
    "duration": 6,
    "start_time": "2024-07-19T22:42:48.429Z"
   },
   {
    "duration": 179,
    "start_time": "2024-07-19T22:42:48.441Z"
   },
   {
    "duration": 190,
    "start_time": "2024-07-19T22:42:48.622Z"
   },
   {
    "duration": 477,
    "start_time": "2024-07-19T22:42:48.815Z"
   },
   {
    "duration": 200,
    "start_time": "2024-07-19T22:42:49.295Z"
   },
   {
    "duration": 35,
    "start_time": "2024-07-19T22:42:49.498Z"
   },
   {
    "duration": 39,
    "start_time": "2024-07-19T22:42:49.536Z"
   },
   {
    "duration": 62,
    "start_time": "2024-07-19T22:42:49.579Z"
   },
   {
    "duration": 378,
    "start_time": "2024-07-19T22:42:49.644Z"
   },
   {
    "duration": 40,
    "start_time": "2024-07-19T22:42:50.030Z"
   },
   {
    "duration": 99,
    "start_time": "2024-07-19T22:42:50.078Z"
   },
   {
    "duration": 6,
    "start_time": "2024-07-19T22:42:50.180Z"
   },
   {
    "duration": 50,
    "start_time": "2024-07-19T22:42:50.189Z"
   },
   {
    "duration": 40,
    "start_time": "2024-07-19T22:42:50.242Z"
   },
   {
    "duration": 18,
    "start_time": "2024-07-19T22:42:50.285Z"
   },
   {
    "duration": 562,
    "start_time": "2024-07-19T22:42:50.331Z"
   },
   {
    "duration": 1248,
    "start_time": "2024-07-19T22:42:50.895Z"
   },
   {
    "duration": 551,
    "start_time": "2024-07-19T22:42:52.148Z"
   },
   {
    "duration": 2122,
    "start_time": "2024-07-19T22:42:52.702Z"
   },
   {
    "duration": 366,
    "start_time": "2024-07-19T22:42:54.827Z"
   },
   {
    "duration": 199,
    "start_time": "2024-07-19T22:42:55.196Z"
   },
   {
    "duration": 512,
    "start_time": "2024-07-19T22:42:55.398Z"
   },
   {
    "duration": 38,
    "start_time": "2024-07-19T22:42:55.913Z"
   },
   {
    "duration": 529,
    "start_time": "2024-07-19T22:42:55.955Z"
   },
   {
    "duration": 52,
    "start_time": "2024-07-19T22:42:56.487Z"
   },
   {
    "duration": 302,
    "start_time": "2024-07-19T22:42:56.543Z"
   },
   {
    "duration": 8,
    "start_time": "2024-07-19T22:42:56.848Z"
   },
   {
    "duration": 497,
    "start_time": "2024-07-19T22:42:56.860Z"
   },
   {
    "duration": 18280,
    "start_time": "2024-07-19T22:42:57.363Z"
   },
   {
    "duration": 1086,
    "start_time": "2024-07-19T22:43:15.646Z"
   },
   {
    "duration": 10,
    "start_time": "2024-07-19T22:43:16.737Z"
   },
   {
    "duration": 548,
    "start_time": "2024-07-19T22:43:16.750Z"
   },
   {
    "duration": 1857,
    "start_time": "2024-07-19T22:43:57.991Z"
   },
   {
    "duration": 831,
    "start_time": "2024-07-19T22:43:59.855Z"
   },
   {
    "duration": 28,
    "start_time": "2024-07-19T22:44:00.689Z"
   },
   {
    "duration": 6,
    "start_time": "2024-07-19T22:44:00.735Z"
   },
   {
    "duration": 206,
    "start_time": "2024-07-19T22:44:00.744Z"
   },
   {
    "duration": 185,
    "start_time": "2024-07-19T22:44:00.953Z"
   },
   {
    "duration": 488,
    "start_time": "2024-07-19T22:44:01.142Z"
   },
   {
    "duration": 202,
    "start_time": "2024-07-19T22:44:01.633Z"
   },
   {
    "duration": 30,
    "start_time": "2024-07-19T22:44:01.838Z"
   },
   {
    "duration": 57,
    "start_time": "2024-07-19T22:44:01.876Z"
   },
   {
    "duration": 63,
    "start_time": "2024-07-19T22:44:01.936Z"
   },
   {
    "duration": 393,
    "start_time": "2024-07-19T22:44:02.002Z"
   },
   {
    "duration": 52,
    "start_time": "2024-07-19T22:44:02.398Z"
   },
   {
    "duration": 94,
    "start_time": "2024-07-19T22:44:02.453Z"
   },
   {
    "duration": 5,
    "start_time": "2024-07-19T22:44:02.553Z"
   },
   {
    "duration": 26,
    "start_time": "2024-07-19T22:44:02.561Z"
   },
   {
    "duration": 57,
    "start_time": "2024-07-19T22:44:02.590Z"
   },
   {
    "duration": 21,
    "start_time": "2024-07-19T22:44:02.654Z"
   },
   {
    "duration": 559,
    "start_time": "2024-07-19T22:44:02.678Z"
   },
   {
    "duration": 1231,
    "start_time": "2024-07-19T22:44:03.240Z"
   },
   {
    "duration": 521,
    "start_time": "2024-07-19T22:44:04.474Z"
   },
   {
    "duration": 2087,
    "start_time": "2024-07-19T22:44:04.998Z"
   },
   {
    "duration": 359,
    "start_time": "2024-07-19T22:44:07.088Z"
   },
   {
    "duration": 195,
    "start_time": "2024-07-19T22:44:07.450Z"
   },
   {
    "duration": 488,
    "start_time": "2024-07-19T22:44:07.649Z"
   },
   {
    "duration": 35,
    "start_time": "2024-07-19T22:44:08.147Z"
   },
   {
    "duration": 553,
    "start_time": "2024-07-19T22:44:08.185Z"
   },
   {
    "duration": 44,
    "start_time": "2024-07-19T22:44:08.745Z"
   },
   {
    "duration": 320,
    "start_time": "2024-07-19T22:44:08.792Z"
   },
   {
    "duration": 16,
    "start_time": "2024-07-19T22:44:09.115Z"
   },
   {
    "duration": 502,
    "start_time": "2024-07-19T22:44:09.134Z"
   },
   {
    "duration": 10,
    "start_time": "2024-07-19T22:44:09.640Z"
   },
   {
    "duration": 961,
    "start_time": "2024-07-19T22:44:09.654Z"
   },
   {
    "duration": 13,
    "start_time": "2024-07-19T22:44:10.618Z"
   },
   {
    "duration": 550,
    "start_time": "2024-07-19T22:44:10.633Z"
   },
   {
    "duration": 2738,
    "start_time": "2024-07-19T22:44:11.185Z"
   },
   {
    "duration": 0,
    "start_time": "2024-07-19T22:44:13.930Z"
   },
   {
    "duration": 14571,
    "start_time": "2024-07-19T22:45:38.661Z"
   },
   {
    "duration": 1860,
    "start_time": "2024-07-19T22:46:22.227Z"
   },
   {
    "duration": 967,
    "start_time": "2024-07-19T22:46:24.090Z"
   },
   {
    "duration": 30,
    "start_time": "2024-07-19T22:46:25.061Z"
   },
   {
    "duration": 5,
    "start_time": "2024-07-19T22:46:25.096Z"
   },
   {
    "duration": 222,
    "start_time": "2024-07-19T22:46:25.104Z"
   },
   {
    "duration": 174,
    "start_time": "2024-07-19T22:46:25.332Z"
   },
   {
    "duration": 529,
    "start_time": "2024-07-19T22:46:25.508Z"
   },
   {
    "duration": 166,
    "start_time": "2024-07-19T22:46:26.040Z"
   },
   {
    "duration": 33,
    "start_time": "2024-07-19T22:46:26.209Z"
   },
   {
    "duration": 40,
    "start_time": "2024-07-19T22:46:26.249Z"
   },
   {
    "duration": 75,
    "start_time": "2024-07-19T22:46:26.292Z"
   },
   {
    "duration": 378,
    "start_time": "2024-07-19T22:46:26.371Z"
   },
   {
    "duration": 48,
    "start_time": "2024-07-19T22:46:26.752Z"
   },
   {
    "duration": 116,
    "start_time": "2024-07-19T22:46:26.803Z"
   },
   {
    "duration": 13,
    "start_time": "2024-07-19T22:46:26.923Z"
   },
   {
    "duration": 33,
    "start_time": "2024-07-19T22:46:26.947Z"
   },
   {
    "duration": 39,
    "start_time": "2024-07-19T22:46:26.988Z"
   },
   {
    "duration": 48,
    "start_time": "2024-07-19T22:46:27.040Z"
   },
   {
    "duration": 611,
    "start_time": "2024-07-19T22:46:27.091Z"
   },
   {
    "duration": 1385,
    "start_time": "2024-07-19T22:46:27.706Z"
   },
   {
    "duration": 632,
    "start_time": "2024-07-19T22:46:29.095Z"
   },
   {
    "duration": 2131,
    "start_time": "2024-07-19T22:46:29.731Z"
   },
   {
    "duration": 388,
    "start_time": "2024-07-19T22:46:31.865Z"
   },
   {
    "duration": 220,
    "start_time": "2024-07-19T22:46:32.256Z"
   },
   {
    "duration": 570,
    "start_time": "2024-07-19T22:46:32.479Z"
   },
   {
    "duration": 32,
    "start_time": "2024-07-19T22:46:33.055Z"
   },
   {
    "duration": 613,
    "start_time": "2024-07-19T22:46:33.090Z"
   },
   {
    "duration": 66,
    "start_time": "2024-07-19T22:46:33.710Z"
   },
   {
    "duration": 307,
    "start_time": "2024-07-19T22:46:33.780Z"
   },
   {
    "duration": 9,
    "start_time": "2024-07-19T22:46:34.090Z"
   },
   {
    "duration": 493,
    "start_time": "2024-07-19T22:46:34.102Z"
   },
   {
    "duration": 5,
    "start_time": "2024-07-19T22:46:34.598Z"
   },
   {
    "duration": 1055,
    "start_time": "2024-07-19T22:46:34.607Z"
   },
   {
    "duration": 9,
    "start_time": "2024-07-19T22:46:35.666Z"
   },
   {
    "duration": 560,
    "start_time": "2024-07-19T22:46:35.678Z"
   },
   {
    "duration": 15091,
    "start_time": "2024-07-19T22:46:36.241Z"
   },
   {
    "duration": 458,
    "start_time": "2024-07-19T22:46:51.336Z"
   },
   {
    "duration": 1833,
    "start_time": "2024-07-19T22:47:00.938Z"
   },
   {
    "duration": 775,
    "start_time": "2024-07-19T22:47:02.775Z"
   },
   {
    "duration": 33,
    "start_time": "2024-07-19T22:47:03.553Z"
   },
   {
    "duration": 9,
    "start_time": "2024-07-19T22:47:03.589Z"
   },
   {
    "duration": 228,
    "start_time": "2024-07-19T22:47:03.602Z"
   },
   {
    "duration": 196,
    "start_time": "2024-07-19T22:47:03.834Z"
   },
   {
    "duration": 440,
    "start_time": "2024-07-19T22:47:04.033Z"
   },
   {
    "duration": 221,
    "start_time": "2024-07-19T22:47:04.477Z"
   },
   {
    "duration": 35,
    "start_time": "2024-07-19T22:47:04.701Z"
   },
   {
    "duration": 41,
    "start_time": "2024-07-19T22:47:04.739Z"
   },
   {
    "duration": 60,
    "start_time": "2024-07-19T22:47:04.783Z"
   },
   {
    "duration": 302,
    "start_time": "2024-07-19T22:47:04.847Z"
   },
   {
    "duration": 36,
    "start_time": "2024-07-19T22:47:05.152Z"
   },
   {
    "duration": 94,
    "start_time": "2024-07-19T22:47:05.196Z"
   },
   {
    "duration": 5,
    "start_time": "2024-07-19T22:47:05.293Z"
   },
   {
    "duration": 47,
    "start_time": "2024-07-19T22:47:05.301Z"
   },
   {
    "duration": 34,
    "start_time": "2024-07-19T22:47:05.351Z"
   },
   {
    "duration": 15,
    "start_time": "2024-07-19T22:47:05.388Z"
   },
   {
    "duration": 569,
    "start_time": "2024-07-19T22:47:05.430Z"
   },
   {
    "duration": 1221,
    "start_time": "2024-07-19T22:47:06.002Z"
   },
   {
    "duration": 507,
    "start_time": "2024-07-19T22:47:07.227Z"
   },
   {
    "duration": 2041,
    "start_time": "2024-07-19T22:47:07.737Z"
   },
   {
    "duration": 355,
    "start_time": "2024-07-19T22:47:09.782Z"
   },
   {
    "duration": 233,
    "start_time": "2024-07-19T22:47:10.139Z"
   },
   {
    "duration": 509,
    "start_time": "2024-07-19T22:47:10.376Z"
   },
   {
    "duration": 30,
    "start_time": "2024-07-19T22:47:10.889Z"
   },
   {
    "duration": 588,
    "start_time": "2024-07-19T22:47:10.932Z"
   },
   {
    "duration": 48,
    "start_time": "2024-07-19T22:47:11.523Z"
   },
   {
    "duration": 328,
    "start_time": "2024-07-19T22:47:11.574Z"
   },
   {
    "duration": 7,
    "start_time": "2024-07-19T22:47:11.906Z"
   },
   {
    "duration": 509,
    "start_time": "2024-07-19T22:47:11.916Z"
   },
   {
    "duration": 5,
    "start_time": "2024-07-19T22:47:12.430Z"
   },
   {
    "duration": 1095,
    "start_time": "2024-07-19T22:47:12.438Z"
   },
   {
    "duration": 11,
    "start_time": "2024-07-19T22:47:13.535Z"
   },
   {
    "duration": 510,
    "start_time": "2024-07-19T22:47:13.551Z"
   },
   {
    "duration": 14747,
    "start_time": "2024-07-19T22:47:14.068Z"
   },
   {
    "duration": 616,
    "start_time": "2024-07-19T22:47:28.818Z"
   },
   {
    "duration": 3201,
    "start_time": "2024-07-20T00:12:15.809Z"
   },
   {
    "duration": 3068,
    "start_time": "2024-07-20T00:12:35.885Z"
   },
   {
    "duration": 2965,
    "start_time": "2024-07-20T00:13:04.702Z"
   },
   {
    "duration": 1688,
    "start_time": "2024-07-20T00:14:56.730Z"
   },
   {
    "duration": 736,
    "start_time": "2024-07-20T00:14:58.421Z"
   },
   {
    "duration": 27,
    "start_time": "2024-07-20T00:14:59.160Z"
   },
   {
    "duration": 6,
    "start_time": "2024-07-20T00:14:59.192Z"
   },
   {
    "duration": 174,
    "start_time": "2024-07-20T00:14:59.201Z"
   },
   {
    "duration": 154,
    "start_time": "2024-07-20T00:14:59.378Z"
   },
   {
    "duration": 399,
    "start_time": "2024-07-20T00:14:59.535Z"
   },
   {
    "duration": 151,
    "start_time": "2024-07-20T00:14:59.937Z"
   },
   {
    "duration": 26,
    "start_time": "2024-07-20T00:15:00.091Z"
   },
   {
    "duration": 26,
    "start_time": "2024-07-20T00:15:00.135Z"
   },
   {
    "duration": 39,
    "start_time": "2024-07-20T00:15:00.165Z"
   },
   {
    "duration": 297,
    "start_time": "2024-07-20T00:15:00.231Z"
   },
   {
    "duration": 36,
    "start_time": "2024-07-20T00:15:00.531Z"
   },
   {
    "duration": 86,
    "start_time": "2024-07-20T00:15:00.570Z"
   },
   {
    "duration": 5,
    "start_time": "2024-07-20T00:15:00.658Z"
   },
   {
    "duration": 23,
    "start_time": "2024-07-20T00:15:00.667Z"
   },
   {
    "duration": 60,
    "start_time": "2024-07-20T00:15:00.694Z"
   },
   {
    "duration": 19,
    "start_time": "2024-07-20T00:15:00.758Z"
   },
   {
    "duration": 522,
    "start_time": "2024-07-20T00:15:00.781Z"
   },
   {
    "duration": 1201,
    "start_time": "2024-07-20T00:15:01.306Z"
   },
   {
    "duration": 471,
    "start_time": "2024-07-20T00:15:02.510Z"
   },
   {
    "duration": 1989,
    "start_time": "2024-07-20T00:15:02.985Z"
   },
   {
    "duration": 354,
    "start_time": "2024-07-20T00:15:04.977Z"
   },
   {
    "duration": 184,
    "start_time": "2024-07-20T00:15:05.334Z"
   },
   {
    "duration": 483,
    "start_time": "2024-07-20T00:15:05.521Z"
   },
   {
    "duration": 36,
    "start_time": "2024-07-20T00:15:06.007Z"
   },
   {
    "duration": 543,
    "start_time": "2024-07-20T00:15:06.046Z"
   },
   {
    "duration": 56,
    "start_time": "2024-07-20T00:15:06.596Z"
   },
   {
    "duration": 275,
    "start_time": "2024-07-20T00:15:06.655Z"
   },
   {
    "duration": 8,
    "start_time": "2024-07-20T00:15:06.933Z"
   },
   {
    "duration": 440,
    "start_time": "2024-07-20T00:15:06.944Z"
   },
   {
    "duration": 12265,
    "start_time": "2024-07-20T00:15:07.387Z"
   },
   {
    "duration": 1003,
    "start_time": "2024-07-20T00:15:19.732Z"
   },
   {
    "duration": 6201,
    "start_time": "2024-07-20T00:15:20.738Z"
   },
   {
    "duration": 310,
    "start_time": "2024-07-20T00:15:26.942Z"
   },
   {
    "duration": 166,
    "start_time": "2024-07-20T00:15:49.113Z"
   },
   {
    "duration": 1775,
    "start_time": "2024-07-20T00:21:11.003Z"
   },
   {
    "duration": 788,
    "start_time": "2024-07-20T00:21:12.781Z"
   },
   {
    "duration": 26,
    "start_time": "2024-07-20T00:21:13.572Z"
   },
   {
    "duration": 5,
    "start_time": "2024-07-20T00:21:13.603Z"
   },
   {
    "duration": 150,
    "start_time": "2024-07-20T00:21:13.631Z"
   },
   {
    "duration": 154,
    "start_time": "2024-07-20T00:21:13.784Z"
   },
   {
    "duration": 410,
    "start_time": "2024-07-20T00:21:13.941Z"
   },
   {
    "duration": 170,
    "start_time": "2024-07-20T00:21:14.354Z"
   },
   {
    "duration": 27,
    "start_time": "2024-07-20T00:21:14.527Z"
   },
   {
    "duration": 27,
    "start_time": "2024-07-20T00:21:14.563Z"
   },
   {
    "duration": 70,
    "start_time": "2024-07-20T00:21:14.593Z"
   },
   {
    "duration": 305,
    "start_time": "2024-07-20T00:21:14.666Z"
   },
   {
    "duration": 38,
    "start_time": "2024-07-20T00:21:14.974Z"
   },
   {
    "duration": 84,
    "start_time": "2024-07-20T00:21:15.015Z"
   },
   {
    "duration": 6,
    "start_time": "2024-07-20T00:21:15.102Z"
   },
   {
    "duration": 24,
    "start_time": "2024-07-20T00:21:15.130Z"
   },
   {
    "duration": 32,
    "start_time": "2024-07-20T00:21:15.157Z"
   },
   {
    "duration": 52,
    "start_time": "2024-07-20T00:21:15.193Z"
   },
   {
    "duration": 558,
    "start_time": "2024-07-20T00:21:15.248Z"
   },
   {
    "duration": 1213,
    "start_time": "2024-07-20T00:21:15.810Z"
   },
   {
    "duration": 485,
    "start_time": "2024-07-20T00:21:17.027Z"
   },
   {
    "duration": 2050,
    "start_time": "2024-07-20T00:21:17.520Z"
   },
   {
    "duration": 336,
    "start_time": "2024-07-20T00:21:19.573Z"
   },
   {
    "duration": 187,
    "start_time": "2024-07-20T00:21:19.913Z"
   },
   {
    "duration": 459,
    "start_time": "2024-07-20T00:21:20.103Z"
   },
   {
    "duration": 34,
    "start_time": "2024-07-20T00:21:20.565Z"
   },
   {
    "duration": 533,
    "start_time": "2024-07-20T00:21:20.602Z"
   },
   {
    "duration": 38,
    "start_time": "2024-07-20T00:21:21.143Z"
   },
   {
    "duration": 316,
    "start_time": "2024-07-20T00:21:21.184Z"
   },
   {
    "duration": 8,
    "start_time": "2024-07-20T00:21:21.503Z"
   },
   {
    "duration": 455,
    "start_time": "2024-07-20T00:21:21.514Z"
   },
   {
    "duration": 16466,
    "start_time": "2024-07-20T00:21:21.972Z"
   },
   {
    "duration": 1010,
    "start_time": "2024-07-20T00:21:38.445Z"
   },
   {
    "duration": 5677,
    "start_time": "2024-07-20T00:21:39.458Z"
   },
   {
    "duration": 351,
    "start_time": "2024-07-20T00:21:45.138Z"
   },
   {
    "duration": 328,
    "start_time": "2024-07-20T00:28:11.550Z"
   },
   {
    "duration": 1672,
    "start_time": "2024-07-20T00:28:22.472Z"
   },
   {
    "duration": 791,
    "start_time": "2024-07-20T00:28:24.148Z"
   },
   {
    "duration": 27,
    "start_time": "2024-07-20T00:28:24.942Z"
   },
   {
    "duration": 5,
    "start_time": "2024-07-20T00:28:24.972Z"
   },
   {
    "duration": 174,
    "start_time": "2024-07-20T00:28:24.982Z"
   },
   {
    "duration": 138,
    "start_time": "2024-07-20T00:28:25.160Z"
   },
   {
    "duration": 423,
    "start_time": "2024-07-20T00:28:25.303Z"
   },
   {
    "duration": 153,
    "start_time": "2024-07-20T00:28:25.732Z"
   },
   {
    "duration": 44,
    "start_time": "2024-07-20T00:28:25.888Z"
   },
   {
    "duration": 29,
    "start_time": "2024-07-20T00:28:25.934Z"
   },
   {
    "duration": 63,
    "start_time": "2024-07-20T00:28:25.967Z"
   },
   {
    "duration": 291,
    "start_time": "2024-07-20T00:28:26.034Z"
   },
   {
    "duration": 37,
    "start_time": "2024-07-20T00:28:26.331Z"
   },
   {
    "duration": 93,
    "start_time": "2024-07-20T00:28:26.376Z"
   },
   {
    "duration": 6,
    "start_time": "2024-07-20T00:28:26.471Z"
   },
   {
    "duration": 51,
    "start_time": "2024-07-20T00:28:26.481Z"
   },
   {
    "duration": 32,
    "start_time": "2024-07-20T00:28:26.535Z"
   },
   {
    "duration": 18,
    "start_time": "2024-07-20T00:28:26.572Z"
   },
   {
    "duration": 546,
    "start_time": "2024-07-20T00:28:26.594Z"
   },
   {
    "duration": 1184,
    "start_time": "2024-07-20T00:28:27.143Z"
   },
   {
    "duration": 474,
    "start_time": "2024-07-20T00:28:28.330Z"
   },
   {
    "duration": 1969,
    "start_time": "2024-07-20T00:28:28.808Z"
   },
   {
    "duration": 329,
    "start_time": "2024-07-20T00:28:30.781Z"
   },
   {
    "duration": 193,
    "start_time": "2024-07-20T00:28:31.114Z"
   },
   {
    "duration": 459,
    "start_time": "2024-07-20T00:28:31.310Z"
   },
   {
    "duration": 37,
    "start_time": "2024-07-20T00:28:31.773Z"
   },
   {
    "duration": 558,
    "start_time": "2024-07-20T00:28:31.813Z"
   },
   {
    "duration": 56,
    "start_time": "2024-07-20T00:28:32.374Z"
   },
   {
    "duration": 309,
    "start_time": "2024-07-20T00:28:32.434Z"
   },
   {
    "duration": 8,
    "start_time": "2024-07-20T00:28:32.746Z"
   },
   {
    "duration": 450,
    "start_time": "2024-07-20T00:28:32.757Z"
   },
   {
    "duration": 12621,
    "start_time": "2024-07-20T00:28:33.210Z"
   },
   {
    "duration": 1001,
    "start_time": "2024-07-20T00:28:45.834Z"
   },
   {
    "duration": 5215,
    "start_time": "2024-07-20T00:28:46.839Z"
   },
   {
    "duration": 554,
    "start_time": "2024-07-20T00:28:52.057Z"
   },
   {
    "duration": 1907,
    "start_time": "2024-07-20T00:32:08.298Z"
   },
   {
    "duration": 883,
    "start_time": "2024-07-20T00:32:10.211Z"
   },
   {
    "duration": 34,
    "start_time": "2024-07-20T00:32:11.097Z"
   },
   {
    "duration": 11,
    "start_time": "2024-07-20T00:32:11.134Z"
   },
   {
    "duration": 152,
    "start_time": "2024-07-20T00:32:11.151Z"
   },
   {
    "duration": 156,
    "start_time": "2024-07-20T00:32:11.306Z"
   },
   {
    "duration": 448,
    "start_time": "2024-07-20T00:32:11.468Z"
   },
   {
    "duration": 200,
    "start_time": "2024-07-20T00:32:11.919Z"
   },
   {
    "duration": 41,
    "start_time": "2024-07-20T00:32:12.122Z"
   },
   {
    "duration": 33,
    "start_time": "2024-07-20T00:32:12.166Z"
   },
   {
    "duration": 80,
    "start_time": "2024-07-20T00:32:12.203Z"
   },
   {
    "duration": 348,
    "start_time": "2024-07-20T00:32:12.286Z"
   },
   {
    "duration": 40,
    "start_time": "2024-07-20T00:32:12.641Z"
   },
   {
    "duration": 100,
    "start_time": "2024-07-20T00:32:12.689Z"
   },
   {
    "duration": 6,
    "start_time": "2024-07-20T00:32:12.793Z"
   },
   {
    "duration": 54,
    "start_time": "2024-07-20T00:32:12.803Z"
   },
   {
    "duration": 34,
    "start_time": "2024-07-20T00:32:12.860Z"
   },
   {
    "duration": 39,
    "start_time": "2024-07-20T00:32:12.897Z"
   },
   {
    "duration": 566,
    "start_time": "2024-07-20T00:32:12.943Z"
   },
   {
    "duration": 1243,
    "start_time": "2024-07-20T00:32:13.512Z"
   },
   {
    "duration": 514,
    "start_time": "2024-07-20T00:32:14.758Z"
   },
   {
    "duration": 2100,
    "start_time": "2024-07-20T00:32:15.275Z"
   },
   {
    "duration": 384,
    "start_time": "2024-07-20T00:32:17.378Z"
   },
   {
    "duration": 190,
    "start_time": "2024-07-20T00:32:17.765Z"
   },
   {
    "duration": 527,
    "start_time": "2024-07-20T00:32:17.959Z"
   },
   {
    "duration": 42,
    "start_time": "2024-07-20T00:32:18.489Z"
   },
   {
    "duration": 579,
    "start_time": "2024-07-20T00:32:18.533Z"
   },
   {
    "duration": 44,
    "start_time": "2024-07-20T00:32:19.116Z"
   },
   {
    "duration": 292,
    "start_time": "2024-07-20T00:32:19.163Z"
   },
   {
    "duration": 8,
    "start_time": "2024-07-20T00:32:19.458Z"
   },
   {
    "duration": 516,
    "start_time": "2024-07-20T00:32:19.468Z"
   },
   {
    "duration": 18850,
    "start_time": "2024-07-20T00:32:19.987Z"
   },
   {
    "duration": 1152,
    "start_time": "2024-07-20T00:32:38.840Z"
   },
   {
    "duration": 51354,
    "start_time": "2024-07-20T00:32:39.995Z"
   },
   {
    "duration": 568,
    "start_time": "2024-07-20T00:33:31.352Z"
   },
   {
    "duration": 1712,
    "start_time": "2024-07-20T00:36:28.340Z"
   },
   {
    "duration": 798,
    "start_time": "2024-07-20T00:36:30.056Z"
   },
   {
    "duration": 27,
    "start_time": "2024-07-20T00:36:30.857Z"
   },
   {
    "duration": 6,
    "start_time": "2024-07-20T00:36:30.887Z"
   },
   {
    "duration": 173,
    "start_time": "2024-07-20T00:36:30.898Z"
   },
   {
    "duration": 158,
    "start_time": "2024-07-20T00:36:31.074Z"
   },
   {
    "duration": 408,
    "start_time": "2024-07-20T00:36:31.234Z"
   },
   {
    "duration": 172,
    "start_time": "2024-07-20T00:36:31.648Z"
   },
   {
    "duration": 27,
    "start_time": "2024-07-20T00:36:31.824Z"
   },
   {
    "duration": 30,
    "start_time": "2024-07-20T00:36:31.854Z"
   },
   {
    "duration": 74,
    "start_time": "2024-07-20T00:36:31.887Z"
   },
   {
    "duration": 374,
    "start_time": "2024-07-20T00:36:31.964Z"
   },
   {
    "duration": 36,
    "start_time": "2024-07-20T00:36:32.341Z"
   },
   {
    "duration": 110,
    "start_time": "2024-07-20T00:36:32.391Z"
   },
   {
    "duration": 8,
    "start_time": "2024-07-20T00:36:32.504Z"
   },
   {
    "duration": 38,
    "start_time": "2024-07-20T00:36:32.535Z"
   },
   {
    "duration": 33,
    "start_time": "2024-07-20T00:36:32.580Z"
   },
   {
    "duration": 22,
    "start_time": "2024-07-20T00:36:32.631Z"
   },
   {
    "duration": 599,
    "start_time": "2024-07-20T00:36:32.657Z"
   },
   {
    "duration": 1220,
    "start_time": "2024-07-20T00:36:33.259Z"
   },
   {
    "duration": 494,
    "start_time": "2024-07-20T00:36:34.482Z"
   },
   {
    "duration": 1922,
    "start_time": "2024-07-20T00:36:34.979Z"
   },
   {
    "duration": 333,
    "start_time": "2024-07-20T00:36:36.904Z"
   },
   {
    "duration": 175,
    "start_time": "2024-07-20T00:36:37.240Z"
   },
   {
    "duration": 467,
    "start_time": "2024-07-20T00:36:37.419Z"
   },
   {
    "duration": 40,
    "start_time": "2024-07-20T00:36:37.890Z"
   },
   {
    "duration": 541,
    "start_time": "2024-07-20T00:36:37.933Z"
   },
   {
    "duration": 54,
    "start_time": "2024-07-20T00:36:38.477Z"
   },
   {
    "duration": 303,
    "start_time": "2024-07-20T00:36:38.534Z"
   },
   {
    "duration": 8,
    "start_time": "2024-07-20T00:36:38.839Z"
   },
   {
    "duration": 465,
    "start_time": "2024-07-20T00:36:38.851Z"
   },
   {
    "duration": 12321,
    "start_time": "2024-07-20T00:36:39.318Z"
   },
   {
    "duration": 1019,
    "start_time": "2024-07-20T00:36:51.642Z"
   },
   {
    "duration": 5276,
    "start_time": "2024-07-20T00:36:52.665Z"
   },
   {
    "duration": 532,
    "start_time": "2024-07-20T00:36:57.944Z"
   },
   {
    "duration": 121,
    "start_time": "2024-07-20T00:36:58.480Z"
   },
   {
    "duration": 1706,
    "start_time": "2024-07-20T00:39:20.252Z"
   },
   {
    "duration": 846,
    "start_time": "2024-07-20T00:39:21.962Z"
   },
   {
    "duration": 38,
    "start_time": "2024-07-20T00:39:22.811Z"
   },
   {
    "duration": 6,
    "start_time": "2024-07-20T00:39:22.852Z"
   },
   {
    "duration": 171,
    "start_time": "2024-07-20T00:39:22.865Z"
   },
   {
    "duration": 149,
    "start_time": "2024-07-20T00:39:23.040Z"
   },
   {
    "duration": 573,
    "start_time": "2024-07-20T00:39:23.192Z"
   },
   {
    "duration": 231,
    "start_time": "2024-07-20T00:39:23.767Z"
   },
   {
    "duration": 35,
    "start_time": "2024-07-20T00:39:24.004Z"
   },
   {
    "duration": 35,
    "start_time": "2024-07-20T00:39:24.042Z"
   },
   {
    "duration": 79,
    "start_time": "2024-07-20T00:39:24.080Z"
   },
   {
    "duration": 379,
    "start_time": "2024-07-20T00:39:24.170Z"
   },
   {
    "duration": 40,
    "start_time": "2024-07-20T00:39:24.552Z"
   },
   {
    "duration": 120,
    "start_time": "2024-07-20T00:39:24.601Z"
   },
   {
    "duration": 9,
    "start_time": "2024-07-20T00:39:24.736Z"
   },
   {
    "duration": 41,
    "start_time": "2024-07-20T00:39:24.749Z"
   },
   {
    "duration": 65,
    "start_time": "2024-07-20T00:39:24.793Z"
   },
   {
    "duration": 16,
    "start_time": "2024-07-20T00:39:24.861Z"
   },
   {
    "duration": 572,
    "start_time": "2024-07-20T00:39:24.880Z"
   },
   {
    "duration": 1209,
    "start_time": "2024-07-20T00:39:25.455Z"
   },
   {
    "duration": 511,
    "start_time": "2024-07-20T00:39:26.666Z"
   },
   {
    "duration": 2074,
    "start_time": "2024-07-20T00:39:27.180Z"
   },
   {
    "duration": 321,
    "start_time": "2024-07-20T00:39:29.257Z"
   },
   {
    "duration": 177,
    "start_time": "2024-07-20T00:39:29.581Z"
   },
   {
    "duration": 483,
    "start_time": "2024-07-20T00:39:29.761Z"
   },
   {
    "duration": 34,
    "start_time": "2024-07-20T00:39:30.248Z"
   },
   {
    "duration": 537,
    "start_time": "2024-07-20T00:39:30.286Z"
   },
   {
    "duration": 40,
    "start_time": "2024-07-20T00:39:30.826Z"
   },
   {
    "duration": 319,
    "start_time": "2024-07-20T00:39:30.869Z"
   },
   {
    "duration": 7,
    "start_time": "2024-07-20T00:39:31.191Z"
   },
   {
    "duration": 477,
    "start_time": "2024-07-20T00:39:31.201Z"
   },
   {
    "duration": 12561,
    "start_time": "2024-07-20T00:39:31.680Z"
   },
   {
    "duration": 1093,
    "start_time": "2024-07-20T00:39:44.245Z"
   },
   {
    "duration": 5306,
    "start_time": "2024-07-20T00:39:45.340Z"
   },
   {
    "duration": 335,
    "start_time": "2024-07-20T00:39:50.649Z"
   },
   {
    "duration": 332,
    "start_time": "2024-07-20T00:39:50.990Z"
   },
   {
    "duration": 0,
    "start_time": "2024-07-20T00:39:51.325Z"
   },
   {
    "duration": 0,
    "start_time": "2024-07-20T00:39:51.331Z"
   },
   {
    "duration": 1720,
    "start_time": "2024-07-20T00:43:34.021Z"
   },
   {
    "duration": 727,
    "start_time": "2024-07-20T00:43:35.744Z"
   },
   {
    "duration": 26,
    "start_time": "2024-07-20T00:43:36.474Z"
   },
   {
    "duration": 28,
    "start_time": "2024-07-20T00:43:36.503Z"
   },
   {
    "duration": 167,
    "start_time": "2024-07-20T00:43:36.536Z"
   },
   {
    "duration": 149,
    "start_time": "2024-07-20T00:43:36.706Z"
   },
   {
    "duration": 413,
    "start_time": "2024-07-20T00:43:36.859Z"
   },
   {
    "duration": 151,
    "start_time": "2024-07-20T00:43:37.275Z"
   },
   {
    "duration": 27,
    "start_time": "2024-07-20T00:43:37.432Z"
   },
   {
    "duration": 28,
    "start_time": "2024-07-20T00:43:37.463Z"
   },
   {
    "duration": 68,
    "start_time": "2024-07-20T00:43:37.494Z"
   },
   {
    "duration": 301,
    "start_time": "2024-07-20T00:43:37.565Z"
   },
   {
    "duration": 37,
    "start_time": "2024-07-20T00:43:37.869Z"
   },
   {
    "duration": 70,
    "start_time": "2024-07-20T00:43:37.933Z"
   },
   {
    "duration": 23,
    "start_time": "2024-07-20T00:43:38.007Z"
   },
   {
    "duration": 26,
    "start_time": "2024-07-20T00:43:38.032Z"
   },
   {
    "duration": 33,
    "start_time": "2024-07-20T00:43:38.062Z"
   },
   {
    "duration": 45,
    "start_time": "2024-07-20T00:43:38.098Z"
   },
   {
    "duration": 547,
    "start_time": "2024-07-20T00:43:38.146Z"
   },
   {
    "duration": 1207,
    "start_time": "2024-07-20T00:43:38.696Z"
   },
   {
    "duration": 496,
    "start_time": "2024-07-20T00:43:39.907Z"
   },
   {
    "duration": 1944,
    "start_time": "2024-07-20T00:43:40.406Z"
   },
   {
    "duration": 328,
    "start_time": "2024-07-20T00:43:42.354Z"
   },
   {
    "duration": 190,
    "start_time": "2024-07-20T00:43:42.685Z"
   },
   {
    "duration": 474,
    "start_time": "2024-07-20T00:43:42.878Z"
   },
   {
    "duration": 29,
    "start_time": "2024-07-20T00:43:43.356Z"
   },
   {
    "duration": 525,
    "start_time": "2024-07-20T00:43:43.389Z"
   },
   {
    "duration": 47,
    "start_time": "2024-07-20T00:43:43.917Z"
   },
   {
    "duration": 312,
    "start_time": "2024-07-20T00:43:43.967Z"
   },
   {
    "duration": 7,
    "start_time": "2024-07-20T00:43:44.283Z"
   },
   {
    "duration": 490,
    "start_time": "2024-07-20T00:43:44.293Z"
   },
   {
    "duration": 12354,
    "start_time": "2024-07-20T00:43:44.785Z"
   },
   {
    "duration": 1099,
    "start_time": "2024-07-20T00:43:57.142Z"
   },
   {
    "duration": 5290,
    "start_time": "2024-07-20T00:43:58.246Z"
   },
   {
    "duration": 1727,
    "start_time": "2024-07-20T00:50:23.625Z"
   },
   {
    "duration": 793,
    "start_time": "2024-07-20T00:50:25.355Z"
   },
   {
    "duration": 28,
    "start_time": "2024-07-20T00:50:26.151Z"
   },
   {
    "duration": 6,
    "start_time": "2024-07-20T00:50:26.182Z"
   },
   {
    "duration": 185,
    "start_time": "2024-07-20T00:50:26.192Z"
   },
   {
    "duration": 157,
    "start_time": "2024-07-20T00:50:26.381Z"
   },
   {
    "duration": 413,
    "start_time": "2024-07-20T00:50:26.541Z"
   },
   {
    "duration": 153,
    "start_time": "2024-07-20T00:50:26.956Z"
   },
   {
    "duration": 35,
    "start_time": "2024-07-20T00:50:27.112Z"
   },
   {
    "duration": 28,
    "start_time": "2024-07-20T00:50:27.154Z"
   },
   {
    "duration": 61,
    "start_time": "2024-07-20T00:50:27.186Z"
   },
   {
    "duration": 310,
    "start_time": "2024-07-20T00:50:27.251Z"
   },
   {
    "duration": 36,
    "start_time": "2024-07-20T00:50:27.564Z"
   },
   {
    "duration": 85,
    "start_time": "2024-07-20T00:50:27.603Z"
   },
   {
    "duration": 5,
    "start_time": "2024-07-20T00:50:27.691Z"
   },
   {
    "duration": 45,
    "start_time": "2024-07-20T00:50:27.699Z"
   },
   {
    "duration": 34,
    "start_time": "2024-07-20T00:50:27.747Z"
   },
   {
    "duration": 17,
    "start_time": "2024-07-20T00:50:27.784Z"
   },
   {
    "duration": 506,
    "start_time": "2024-07-20T00:50:27.833Z"
   },
   {
    "duration": 1206,
    "start_time": "2024-07-20T00:50:28.341Z"
   },
   {
    "duration": 479,
    "start_time": "2024-07-20T00:50:29.550Z"
   },
   {
    "duration": 1975,
    "start_time": "2024-07-20T00:50:30.034Z"
   },
   {
    "duration": 343,
    "start_time": "2024-07-20T00:50:32.012Z"
   },
   {
    "duration": 193,
    "start_time": "2024-07-20T00:50:32.358Z"
   },
   {
    "duration": 494,
    "start_time": "2024-07-20T00:50:32.555Z"
   },
   {
    "duration": 37,
    "start_time": "2024-07-20T00:50:33.053Z"
   },
   {
    "duration": 522,
    "start_time": "2024-07-20T00:50:33.092Z"
   },
   {
    "duration": 48,
    "start_time": "2024-07-20T00:50:33.621Z"
   },
   {
    "duration": 315,
    "start_time": "2024-07-20T00:50:33.672Z"
   },
   {
    "duration": 7,
    "start_time": "2024-07-20T00:50:33.990Z"
   },
   {
    "duration": 478,
    "start_time": "2024-07-20T00:50:34.001Z"
   },
   {
    "duration": 12354,
    "start_time": "2024-07-20T00:50:34.482Z"
   },
   {
    "duration": 1030,
    "start_time": "2024-07-20T00:50:46.843Z"
   },
   {
    "duration": 5378,
    "start_time": "2024-07-20T00:50:47.877Z"
   },
   {
    "duration": 1690,
    "start_time": "2024-07-20T00:51:33.173Z"
   },
   {
    "duration": 770,
    "start_time": "2024-07-20T00:51:34.866Z"
   },
   {
    "duration": 42,
    "start_time": "2024-07-20T00:51:35.641Z"
   },
   {
    "duration": 7,
    "start_time": "2024-07-20T00:51:35.688Z"
   },
   {
    "duration": 165,
    "start_time": "2024-07-20T00:51:35.698Z"
   },
   {
    "duration": 150,
    "start_time": "2024-07-20T00:51:35.867Z"
   },
   {
    "duration": 416,
    "start_time": "2024-07-20T00:51:36.020Z"
   },
   {
    "duration": 153,
    "start_time": "2024-07-20T00:51:36.439Z"
   },
   {
    "duration": 38,
    "start_time": "2024-07-20T00:51:36.595Z"
   },
   {
    "duration": 36,
    "start_time": "2024-07-20T00:51:36.641Z"
   },
   {
    "duration": 60,
    "start_time": "2024-07-20T00:51:36.681Z"
   },
   {
    "duration": 287,
    "start_time": "2024-07-20T00:51:36.744Z"
   },
   {
    "duration": 37,
    "start_time": "2024-07-20T00:51:37.034Z"
   },
   {
    "duration": 86,
    "start_time": "2024-07-20T00:51:37.074Z"
   },
   {
    "duration": 5,
    "start_time": "2024-07-20T00:51:37.164Z"
   },
   {
    "duration": 26,
    "start_time": "2024-07-20T00:51:37.172Z"
   },
   {
    "duration": 60,
    "start_time": "2024-07-20T00:51:37.200Z"
   },
   {
    "duration": 18,
    "start_time": "2024-07-20T00:51:37.263Z"
   },
   {
    "duration": 539,
    "start_time": "2024-07-20T00:51:37.284Z"
   },
   {
    "duration": 1195,
    "start_time": "2024-07-20T00:51:37.832Z"
   },
   {
    "duration": 482,
    "start_time": "2024-07-20T00:51:39.030Z"
   },
   {
    "duration": 1999,
    "start_time": "2024-07-20T00:51:39.516Z"
   },
   {
    "duration": 341,
    "start_time": "2024-07-20T00:51:41.519Z"
   },
   {
    "duration": 190,
    "start_time": "2024-07-20T00:51:41.862Z"
   },
   {
    "duration": 517,
    "start_time": "2024-07-20T00:51:42.055Z"
   },
   {
    "duration": 29,
    "start_time": "2024-07-20T00:51:42.575Z"
   },
   {
    "duration": 539,
    "start_time": "2024-07-20T00:51:42.607Z"
   },
   {
    "duration": 44,
    "start_time": "2024-07-20T00:51:43.153Z"
   },
   {
    "duration": 334,
    "start_time": "2024-07-20T00:51:43.199Z"
   },
   {
    "duration": 8,
    "start_time": "2024-07-20T00:51:43.536Z"
   },
   {
    "duration": 466,
    "start_time": "2024-07-20T00:51:43.547Z"
   },
   {
    "duration": 12138,
    "start_time": "2024-07-20T00:51:44.015Z"
   },
   {
    "duration": 998,
    "start_time": "2024-07-20T00:51:56.232Z"
   },
   {
    "duration": 5814,
    "start_time": "2024-07-20T00:51:57.233Z"
   },
   {
    "duration": 525,
    "start_time": "2024-07-20T00:52:03.050Z"
   },
   {
    "duration": 1725,
    "start_time": "2024-07-20T01:09:15.122Z"
   },
   {
    "duration": 797,
    "start_time": "2024-07-20T01:09:16.851Z"
   },
   {
    "duration": 30,
    "start_time": "2024-07-20T01:09:17.650Z"
   },
   {
    "duration": 5,
    "start_time": "2024-07-20T01:09:17.686Z"
   },
   {
    "duration": 173,
    "start_time": "2024-07-20T01:09:17.694Z"
   },
   {
    "duration": 150,
    "start_time": "2024-07-20T01:09:17.870Z"
   },
   {
    "duration": 429,
    "start_time": "2024-07-20T01:09:18.022Z"
   },
   {
    "duration": 154,
    "start_time": "2024-07-20T01:09:18.454Z"
   },
   {
    "duration": 35,
    "start_time": "2024-07-20T01:09:18.611Z"
   },
   {
    "duration": 27,
    "start_time": "2024-07-20T01:09:18.653Z"
   },
   {
    "duration": 59,
    "start_time": "2024-07-20T01:09:18.684Z"
   },
   {
    "duration": 298,
    "start_time": "2024-07-20T01:09:18.746Z"
   },
   {
    "duration": 37,
    "start_time": "2024-07-20T01:09:19.047Z"
   },
   {
    "duration": 89,
    "start_time": "2024-07-20T01:09:19.087Z"
   },
   {
    "duration": 6,
    "start_time": "2024-07-20T01:09:19.179Z"
   },
   {
    "duration": 49,
    "start_time": "2024-07-20T01:09:19.188Z"
   },
   {
    "duration": 33,
    "start_time": "2024-07-20T01:09:19.240Z"
   },
   {
    "duration": 19,
    "start_time": "2024-07-20T01:09:19.276Z"
   },
   {
    "duration": 579,
    "start_time": "2024-07-20T01:09:19.299Z"
   },
   {
    "duration": 1174,
    "start_time": "2024-07-20T01:09:19.881Z"
   },
   {
    "duration": 464,
    "start_time": "2024-07-20T01:09:21.058Z"
   },
   {
    "duration": 2029,
    "start_time": "2024-07-20T01:09:21.530Z"
   },
   {
    "duration": 434,
    "start_time": "2024-07-20T01:09:23.562Z"
   },
   {
    "duration": 175,
    "start_time": "2024-07-20T01:09:23.999Z"
   },
   {
    "duration": 455,
    "start_time": "2024-07-20T01:09:24.177Z"
   },
   {
    "duration": 31,
    "start_time": "2024-07-20T01:09:24.635Z"
   },
   {
    "duration": 536,
    "start_time": "2024-07-20T01:09:24.669Z"
   },
   {
    "duration": 51,
    "start_time": "2024-07-20T01:09:25.213Z"
   },
   {
    "duration": 312,
    "start_time": "2024-07-20T01:09:25.266Z"
   },
   {
    "duration": 8,
    "start_time": "2024-07-20T01:09:25.581Z"
   },
   {
    "duration": 472,
    "start_time": "2024-07-20T01:09:25.592Z"
   },
   {
    "duration": 12364,
    "start_time": "2024-07-20T01:09:26.070Z"
   },
   {
    "duration": 1014,
    "start_time": "2024-07-20T01:09:38.443Z"
   },
   {
    "duration": 5500,
    "start_time": "2024-07-20T01:09:39.461Z"
   },
   {
    "duration": 569,
    "start_time": "2024-07-20T01:09:44.965Z"
   },
   {
    "duration": 5,
    "start_time": "2024-07-20T01:09:45.537Z"
   },
   {
    "duration": 1740,
    "start_time": "2024-07-20T01:10:30.436Z"
   },
   {
    "duration": 795,
    "start_time": "2024-07-20T01:10:32.179Z"
   },
   {
    "duration": 31,
    "start_time": "2024-07-20T01:10:32.977Z"
   },
   {
    "duration": 23,
    "start_time": "2024-07-20T01:10:33.011Z"
   },
   {
    "duration": 154,
    "start_time": "2024-07-20T01:10:33.040Z"
   },
   {
    "duration": 157,
    "start_time": "2024-07-20T01:10:33.197Z"
   },
   {
    "duration": 395,
    "start_time": "2024-07-20T01:10:33.357Z"
   },
   {
    "duration": 152,
    "start_time": "2024-07-20T01:10:33.755Z"
   },
   {
    "duration": 30,
    "start_time": "2024-07-20T01:10:33.910Z"
   },
   {
    "duration": 29,
    "start_time": "2024-07-20T01:10:33.943Z"
   },
   {
    "duration": 65,
    "start_time": "2024-07-20T01:10:33.974Z"
   },
   {
    "duration": 303,
    "start_time": "2024-07-20T01:10:34.042Z"
   },
   {
    "duration": 35,
    "start_time": "2024-07-20T01:10:34.348Z"
   },
   {
    "duration": 89,
    "start_time": "2024-07-20T01:10:34.391Z"
   },
   {
    "duration": 5,
    "start_time": "2024-07-20T01:10:34.483Z"
   },
   {
    "duration": 49,
    "start_time": "2024-07-20T01:10:34.492Z"
   },
   {
    "duration": 33,
    "start_time": "2024-07-20T01:10:34.544Z"
   },
   {
    "duration": 18,
    "start_time": "2024-07-20T01:10:34.580Z"
   },
   {
    "duration": 502,
    "start_time": "2024-07-20T01:10:34.631Z"
   },
   {
    "duration": 1203,
    "start_time": "2024-07-20T01:10:35.136Z"
   },
   {
    "duration": 476,
    "start_time": "2024-07-20T01:10:36.343Z"
   },
   {
    "duration": 1991,
    "start_time": "2024-07-20T01:10:36.822Z"
   },
   {
    "duration": 319,
    "start_time": "2024-07-20T01:10:38.816Z"
   },
   {
    "duration": 177,
    "start_time": "2024-07-20T01:10:39.138Z"
   },
   {
    "duration": 484,
    "start_time": "2024-07-20T01:10:39.318Z"
   },
   {
    "duration": 37,
    "start_time": "2024-07-20T01:10:39.806Z"
   },
   {
    "duration": 539,
    "start_time": "2024-07-20T01:10:39.846Z"
   },
   {
    "duration": 56,
    "start_time": "2024-07-20T01:10:40.389Z"
   },
   {
    "duration": 293,
    "start_time": "2024-07-20T01:10:40.448Z"
   },
   {
    "duration": 8,
    "start_time": "2024-07-20T01:10:40.744Z"
   },
   {
    "duration": 450,
    "start_time": "2024-07-20T01:10:40.758Z"
   },
   {
    "duration": 12321,
    "start_time": "2024-07-20T01:10:41.211Z"
   },
   {
    "duration": 995,
    "start_time": "2024-07-20T01:10:53.536Z"
   },
   {
    "duration": 5225,
    "start_time": "2024-07-20T01:10:54.534Z"
   },
   {
    "duration": 530,
    "start_time": "2024-07-20T01:10:59.831Z"
   },
   {
    "duration": 4,
    "start_time": "2024-07-20T01:11:00.364Z"
   },
   {
    "duration": 1725,
    "start_time": "2024-07-20T01:17:14.016Z"
   },
   {
    "duration": 1019,
    "start_time": "2024-07-20T01:17:15.745Z"
   },
   {
    "duration": 33,
    "start_time": "2024-07-20T01:17:16.768Z"
   },
   {
    "duration": 25,
    "start_time": "2024-07-20T01:17:16.807Z"
   },
   {
    "duration": 155,
    "start_time": "2024-07-20T01:17:16.837Z"
   },
   {
    "duration": 162,
    "start_time": "2024-07-20T01:17:16.995Z"
   },
   {
    "duration": 471,
    "start_time": "2024-07-20T01:17:17.161Z"
   },
   {
    "duration": 152,
    "start_time": "2024-07-20T01:17:17.635Z"
   },
   {
    "duration": 26,
    "start_time": "2024-07-20T01:17:17.790Z"
   },
   {
    "duration": 39,
    "start_time": "2024-07-20T01:17:17.837Z"
   },
   {
    "duration": 65,
    "start_time": "2024-07-20T01:17:17.879Z"
   },
   {
    "duration": 438,
    "start_time": "2024-07-20T01:17:17.947Z"
   },
   {
    "duration": 58,
    "start_time": "2024-07-20T01:17:18.389Z"
   },
   {
    "duration": 98,
    "start_time": "2024-07-20T01:17:18.451Z"
   },
   {
    "duration": 7,
    "start_time": "2024-07-20T01:17:18.552Z"
   },
   {
    "duration": 25,
    "start_time": "2024-07-20T01:17:18.563Z"
   },
   {
    "duration": 60,
    "start_time": "2024-07-20T01:17:18.592Z"
   },
   {
    "duration": 19,
    "start_time": "2024-07-20T01:17:18.655Z"
   },
   {
    "duration": 543,
    "start_time": "2024-07-20T01:17:18.678Z"
   },
   {
    "duration": 1243,
    "start_time": "2024-07-20T01:17:19.232Z"
   },
   {
    "duration": 504,
    "start_time": "2024-07-20T01:17:20.479Z"
   },
   {
    "duration": 1981,
    "start_time": "2024-07-20T01:17:20.986Z"
   },
   {
    "duration": 367,
    "start_time": "2024-07-20T01:17:22.969Z"
   },
   {
    "duration": 240,
    "start_time": "2024-07-20T01:17:23.339Z"
   },
   {
    "duration": 535,
    "start_time": "2024-07-20T01:17:23.582Z"
   },
   {
    "duration": 38,
    "start_time": "2024-07-20T01:17:24.120Z"
   },
   {
    "duration": 533,
    "start_time": "2024-07-20T01:17:24.164Z"
   },
   {
    "duration": 53,
    "start_time": "2024-07-20T01:17:24.706Z"
   },
   {
    "duration": 308,
    "start_time": "2024-07-20T01:17:24.761Z"
   },
   {
    "duration": 7,
    "start_time": "2024-07-20T01:17:25.072Z"
   },
   {
    "duration": 451,
    "start_time": "2024-07-20T01:17:25.083Z"
   },
   {
    "duration": 12702,
    "start_time": "2024-07-20T01:17:25.537Z"
   },
   {
    "duration": 1094,
    "start_time": "2024-07-20T01:17:38.242Z"
   },
   {
    "duration": 5804,
    "start_time": "2024-07-20T01:17:39.338Z"
   },
   {
    "duration": 546,
    "start_time": "2024-07-20T01:17:45.146Z"
   },
   {
    "duration": 3,
    "start_time": "2024-07-20T01:17:45.695Z"
   },
   {
    "duration": 311,
    "start_time": "2024-07-20T01:20:17.204Z"
   },
   {
    "duration": 1707,
    "start_time": "2024-07-20T01:20:25.376Z"
   },
   {
    "duration": 788,
    "start_time": "2024-07-20T01:20:27.087Z"
   },
   {
    "duration": 27,
    "start_time": "2024-07-20T01:20:27.877Z"
   },
   {
    "duration": 21,
    "start_time": "2024-07-20T01:20:27.909Z"
   },
   {
    "duration": 168,
    "start_time": "2024-07-20T01:20:27.934Z"
   },
   {
    "duration": 149,
    "start_time": "2024-07-20T01:20:28.105Z"
   },
   {
    "duration": 425,
    "start_time": "2024-07-20T01:20:28.256Z"
   },
   {
    "duration": 162,
    "start_time": "2024-07-20T01:20:28.685Z"
   },
   {
    "duration": 26,
    "start_time": "2024-07-20T01:20:28.851Z"
   },
   {
    "duration": 46,
    "start_time": "2024-07-20T01:20:28.886Z"
   },
   {
    "duration": 40,
    "start_time": "2024-07-20T01:20:28.935Z"
   },
   {
    "duration": 303,
    "start_time": "2024-07-20T01:20:28.978Z"
   },
   {
    "duration": 46,
    "start_time": "2024-07-20T01:20:29.284Z"
   },
   {
    "duration": 73,
    "start_time": "2024-07-20T01:20:29.333Z"
   },
   {
    "duration": 23,
    "start_time": "2024-07-20T01:20:29.408Z"
   },
   {
    "duration": 25,
    "start_time": "2024-07-20T01:20:29.434Z"
   },
   {
    "duration": 33,
    "start_time": "2024-07-20T01:20:29.462Z"
   },
   {
    "duration": 46,
    "start_time": "2024-07-20T01:20:29.498Z"
   },
   {
    "duration": 562,
    "start_time": "2024-07-20T01:20:29.547Z"
   },
   {
    "duration": 1187,
    "start_time": "2024-07-20T01:20:30.112Z"
   },
   {
    "duration": 497,
    "start_time": "2024-07-20T01:20:31.302Z"
   },
   {
    "duration": 2018,
    "start_time": "2024-07-20T01:20:31.803Z"
   },
   {
    "duration": 325,
    "start_time": "2024-07-20T01:20:33.824Z"
   },
   {
    "duration": 197,
    "start_time": "2024-07-20T01:20:34.151Z"
   },
   {
    "duration": 466,
    "start_time": "2024-07-20T01:20:34.351Z"
   },
   {
    "duration": 34,
    "start_time": "2024-07-20T01:20:34.820Z"
   },
   {
    "duration": 535,
    "start_time": "2024-07-20T01:20:34.857Z"
   },
   {
    "duration": 54,
    "start_time": "2024-07-20T01:20:35.401Z"
   },
   {
    "duration": 296,
    "start_time": "2024-07-20T01:20:35.458Z"
   },
   {
    "duration": 8,
    "start_time": "2024-07-20T01:20:35.757Z"
   },
   {
    "duration": 439,
    "start_time": "2024-07-20T01:20:35.769Z"
   },
   {
    "duration": 12443,
    "start_time": "2024-07-20T01:20:36.211Z"
   },
   {
    "duration": 1023,
    "start_time": "2024-07-20T01:20:48.738Z"
   },
   {
    "duration": 14183,
    "start_time": "2024-07-20T01:20:49.764Z"
   },
   {
    "duration": 537,
    "start_time": "2024-07-20T01:21:03.951Z"
   },
   {
    "duration": 4,
    "start_time": "2024-07-20T01:21:04.491Z"
   },
   {
    "duration": 1674,
    "start_time": "2024-07-20T01:26:57.965Z"
   },
   {
    "duration": 792,
    "start_time": "2024-07-20T01:26:59.642Z"
   },
   {
    "duration": 29,
    "start_time": "2024-07-20T01:27:00.437Z"
   },
   {
    "duration": 6,
    "start_time": "2024-07-20T01:27:00.470Z"
   },
   {
    "duration": 171,
    "start_time": "2024-07-20T01:27:00.479Z"
   },
   {
    "duration": 153,
    "start_time": "2024-07-20T01:27:00.653Z"
   },
   {
    "duration": 434,
    "start_time": "2024-07-20T01:27:00.809Z"
   },
   {
    "duration": 151,
    "start_time": "2024-07-20T01:27:01.246Z"
   },
   {
    "duration": 34,
    "start_time": "2024-07-20T01:27:01.400Z"
   },
   {
    "duration": 28,
    "start_time": "2024-07-20T01:27:01.441Z"
   },
   {
    "duration": 60,
    "start_time": "2024-07-20T01:27:01.472Z"
   },
   {
    "duration": 304,
    "start_time": "2024-07-20T01:27:01.534Z"
   },
   {
    "duration": 39,
    "start_time": "2024-07-20T01:27:01.841Z"
   },
   {
    "duration": 90,
    "start_time": "2024-07-20T01:27:01.883Z"
   },
   {
    "duration": 5,
    "start_time": "2024-07-20T01:27:01.976Z"
   },
   {
    "duration": 52,
    "start_time": "2024-07-20T01:27:01.984Z"
   },
   {
    "duration": 35,
    "start_time": "2024-07-20T01:27:02.039Z"
   },
   {
    "duration": 17,
    "start_time": "2024-07-20T01:27:02.077Z"
   },
   {
    "duration": 548,
    "start_time": "2024-07-20T01:27:02.097Z"
   },
   {
    "duration": 1187,
    "start_time": "2024-07-20T01:27:02.648Z"
   },
   {
    "duration": 481,
    "start_time": "2024-07-20T01:27:03.838Z"
   },
   {
    "duration": 1992,
    "start_time": "2024-07-20T01:27:04.322Z"
   },
   {
    "duration": 332,
    "start_time": "2024-07-20T01:27:06.317Z"
   },
   {
    "duration": 182,
    "start_time": "2024-07-20T01:27:06.652Z"
   },
   {
    "duration": 454,
    "start_time": "2024-07-20T01:27:06.838Z"
   },
   {
    "duration": 38,
    "start_time": "2024-07-20T01:27:07.296Z"
   },
   {
    "duration": 518,
    "start_time": "2024-07-20T01:27:07.337Z"
   },
   {
    "duration": 41,
    "start_time": "2024-07-20T01:27:07.863Z"
   },
   {
    "duration": 301,
    "start_time": "2024-07-20T01:27:07.907Z"
   },
   {
    "duration": 7,
    "start_time": "2024-07-20T01:27:08.211Z"
   },
   {
    "duration": 440,
    "start_time": "2024-07-20T01:27:08.231Z"
   },
   {
    "duration": 12468,
    "start_time": "2024-07-20T01:27:08.674Z"
   },
   {
    "duration": 1089,
    "start_time": "2024-07-20T01:27:21.144Z"
   },
   {
    "duration": 6011,
    "start_time": "2024-07-20T01:27:22.239Z"
   },
   {
    "duration": 540,
    "start_time": "2024-07-20T01:27:28.253Z"
   },
   {
    "duration": 134,
    "start_time": "2024-07-20T01:27:28.799Z"
   },
   {
    "duration": 4,
    "start_time": "2024-07-20T01:27:28.935Z"
   },
   {
    "duration": 1743,
    "start_time": "2024-07-20T01:30:31.818Z"
   },
   {
    "duration": 819,
    "start_time": "2024-07-20T01:30:33.566Z"
   },
   {
    "duration": 27,
    "start_time": "2024-07-20T01:30:34.388Z"
   },
   {
    "duration": 6,
    "start_time": "2024-07-20T01:30:34.430Z"
   },
   {
    "duration": 157,
    "start_time": "2024-07-20T01:30:34.442Z"
   },
   {
    "duration": 149,
    "start_time": "2024-07-20T01:30:34.602Z"
   },
   {
    "duration": 434,
    "start_time": "2024-07-20T01:30:34.754Z"
   },
   {
    "duration": 156,
    "start_time": "2024-07-20T01:30:35.191Z"
   },
   {
    "duration": 26,
    "start_time": "2024-07-20T01:30:35.350Z"
   },
   {
    "duration": 51,
    "start_time": "2024-07-20T01:30:35.379Z"
   },
   {
    "duration": 41,
    "start_time": "2024-07-20T01:30:35.433Z"
   },
   {
    "duration": 322,
    "start_time": "2024-07-20T01:30:35.476Z"
   },
   {
    "duration": 49,
    "start_time": "2024-07-20T01:30:35.801Z"
   },
   {
    "duration": 78,
    "start_time": "2024-07-20T01:30:35.858Z"
   },
   {
    "duration": 5,
    "start_time": "2024-07-20T01:30:35.939Z"
   },
   {
    "duration": 24,
    "start_time": "2024-07-20T01:30:35.949Z"
   },
   {
    "duration": 70,
    "start_time": "2024-07-20T01:30:35.976Z"
   },
   {
    "duration": 18,
    "start_time": "2024-07-20T01:30:36.049Z"
   },
   {
    "duration": 543,
    "start_time": "2024-07-20T01:30:36.070Z"
   },
   {
    "duration": 1191,
    "start_time": "2024-07-20T01:30:36.616Z"
   },
   {
    "duration": 471,
    "start_time": "2024-07-20T01:30:37.811Z"
   },
   {
    "duration": 1921,
    "start_time": "2024-07-20T01:30:38.286Z"
   },
   {
    "duration": 335,
    "start_time": "2024-07-20T01:30:40.210Z"
   },
   {
    "duration": 173,
    "start_time": "2024-07-20T01:30:40.548Z"
   },
   {
    "duration": 474,
    "start_time": "2024-07-20T01:30:40.730Z"
   },
   {
    "duration": 35,
    "start_time": "2024-07-20T01:30:41.207Z"
   },
   {
    "duration": 559,
    "start_time": "2024-07-20T01:30:41.246Z"
   },
   {
    "duration": 55,
    "start_time": "2024-07-20T01:30:41.808Z"
   },
   {
    "duration": 291,
    "start_time": "2024-07-20T01:30:41.866Z"
   },
   {
    "duration": 8,
    "start_time": "2024-07-20T01:30:42.160Z"
   },
   {
    "duration": 480,
    "start_time": "2024-07-20T01:30:42.172Z"
   },
   {
    "duration": 12190,
    "start_time": "2024-07-20T01:30:42.656Z"
   },
   {
    "duration": 1041,
    "start_time": "2024-07-20T01:30:54.849Z"
   },
   {
    "duration": 5182,
    "start_time": "2024-07-20T01:30:55.893Z"
   },
   {
    "duration": 536,
    "start_time": "2024-07-20T01:31:01.132Z"
   },
   {
    "duration": 140,
    "start_time": "2024-07-20T01:31:01.671Z"
   },
   {
    "duration": 4,
    "start_time": "2024-07-20T01:31:01.813Z"
   },
   {
    "duration": 1746,
    "start_time": "2024-07-20T01:32:48.142Z"
   },
   {
    "duration": 778,
    "start_time": "2024-07-20T01:32:49.892Z"
   },
   {
    "duration": 28,
    "start_time": "2024-07-20T01:32:50.673Z"
   },
   {
    "duration": 25,
    "start_time": "2024-07-20T01:32:50.706Z"
   },
   {
    "duration": 166,
    "start_time": "2024-07-20T01:32:50.734Z"
   },
   {
    "duration": 150,
    "start_time": "2024-07-20T01:32:50.903Z"
   },
   {
    "duration": 427,
    "start_time": "2024-07-20T01:32:51.056Z"
   },
   {
    "duration": 150,
    "start_time": "2024-07-20T01:32:51.486Z"
   },
   {
    "duration": 29,
    "start_time": "2024-07-20T01:32:51.640Z"
   },
   {
    "duration": 26,
    "start_time": "2024-07-20T01:32:51.676Z"
   },
   {
    "duration": 55,
    "start_time": "2024-07-20T01:32:51.734Z"
   },
   {
    "duration": 314,
    "start_time": "2024-07-20T01:32:51.797Z"
   },
   {
    "duration": 46,
    "start_time": "2024-07-20T01:32:52.114Z"
   },
   {
    "duration": 85,
    "start_time": "2024-07-20T01:32:52.163Z"
   },
   {
    "duration": 6,
    "start_time": "2024-07-20T01:32:52.251Z"
   },
   {
    "duration": 24,
    "start_time": "2024-07-20T01:32:52.261Z"
   },
   {
    "duration": 69,
    "start_time": "2024-07-20T01:32:52.289Z"
   },
   {
    "duration": 17,
    "start_time": "2024-07-20T01:32:52.362Z"
   },
   {
    "duration": 529,
    "start_time": "2024-07-20T01:32:52.384Z"
   },
   {
    "duration": 1199,
    "start_time": "2024-07-20T01:32:52.916Z"
   },
   {
    "duration": 464,
    "start_time": "2024-07-20T01:32:54.118Z"
   },
   {
    "duration": 1937,
    "start_time": "2024-07-20T01:32:54.585Z"
   },
   {
    "duration": 323,
    "start_time": "2024-07-20T01:32:56.530Z"
   },
   {
    "duration": 189,
    "start_time": "2024-07-20T01:32:56.856Z"
   },
   {
    "duration": 468,
    "start_time": "2024-07-20T01:32:57.048Z"
   },
   {
    "duration": 34,
    "start_time": "2024-07-20T01:32:57.522Z"
   },
   {
    "duration": 513,
    "start_time": "2024-07-20T01:32:57.559Z"
   },
   {
    "duration": 52,
    "start_time": "2024-07-20T01:32:58.080Z"
   },
   {
    "duration": 288,
    "start_time": "2024-07-20T01:32:58.135Z"
   },
   {
    "duration": 10,
    "start_time": "2024-07-20T01:32:58.426Z"
   },
   {
    "duration": 464,
    "start_time": "2024-07-20T01:32:58.439Z"
   },
   {
    "duration": 12429,
    "start_time": "2024-07-20T01:32:58.905Z"
   },
   {
    "duration": 1066,
    "start_time": "2024-07-20T01:33:11.337Z"
   },
   {
    "duration": 5246,
    "start_time": "2024-07-20T01:33:12.406Z"
   },
   {
    "duration": 554,
    "start_time": "2024-07-20T01:33:17.654Z"
   },
   {
    "duration": 133,
    "start_time": "2024-07-20T01:33:18.211Z"
   },
   {
    "duration": 1492,
    "start_time": "2024-07-20T01:33:18.346Z"
   },
   {
    "duration": 462,
    "start_time": "2024-07-20T01:33:19.842Z"
   },
   {
    "duration": 0,
    "start_time": "2024-07-20T01:33:20.308Z"
   },
   {
    "duration": 0,
    "start_time": "2024-07-20T01:33:20.310Z"
   },
   {
    "duration": 0,
    "start_time": "2024-07-20T01:33:20.331Z"
   },
   {
    "duration": 0,
    "start_time": "2024-07-20T01:33:20.333Z"
   },
   {
    "duration": 0,
    "start_time": "2024-07-20T01:33:20.335Z"
   },
   {
    "duration": 1698,
    "start_time": "2024-07-20T01:34:06.601Z"
   },
   {
    "duration": 728,
    "start_time": "2024-07-20T01:34:08.303Z"
   },
   {
    "duration": 27,
    "start_time": "2024-07-20T01:34:09.034Z"
   },
   {
    "duration": 5,
    "start_time": "2024-07-20T01:34:09.065Z"
   },
   {
    "duration": 179,
    "start_time": "2024-07-20T01:34:09.074Z"
   },
   {
    "duration": 145,
    "start_time": "2024-07-20T01:34:09.256Z"
   },
   {
    "duration": 436,
    "start_time": "2024-07-20T01:34:09.403Z"
   },
   {
    "duration": 152,
    "start_time": "2024-07-20T01:34:09.842Z"
   },
   {
    "duration": 36,
    "start_time": "2024-07-20T01:34:09.997Z"
   },
   {
    "duration": 27,
    "start_time": "2024-07-20T01:34:10.041Z"
   },
   {
    "duration": 67,
    "start_time": "2024-07-20T01:34:10.072Z"
   },
   {
    "duration": 308,
    "start_time": "2024-07-20T01:34:10.142Z"
   },
   {
    "duration": 38,
    "start_time": "2024-07-20T01:34:10.452Z"
   },
   {
    "duration": 100,
    "start_time": "2024-07-20T01:34:10.493Z"
   },
   {
    "duration": 6,
    "start_time": "2024-07-20T01:34:10.598Z"
   },
   {
    "duration": 41,
    "start_time": "2024-07-20T01:34:10.607Z"
   },
   {
    "duration": 33,
    "start_time": "2024-07-20T01:34:10.651Z"
   },
   {
    "duration": 50,
    "start_time": "2024-07-20T01:34:10.687Z"
   },
   {
    "duration": 537,
    "start_time": "2024-07-20T01:34:10.740Z"
   },
   {
    "duration": 1191,
    "start_time": "2024-07-20T01:34:11.280Z"
   },
   {
    "duration": 474,
    "start_time": "2024-07-20T01:34:12.474Z"
   },
   {
    "duration": 1965,
    "start_time": "2024-07-20T01:34:12.951Z"
   },
   {
    "duration": 322,
    "start_time": "2024-07-20T01:34:14.922Z"
   },
   {
    "duration": 183,
    "start_time": "2024-07-20T01:34:15.248Z"
   },
   {
    "duration": 457,
    "start_time": "2024-07-20T01:34:15.434Z"
   },
   {
    "duration": 40,
    "start_time": "2024-07-20T01:34:15.894Z"
   },
   {
    "duration": 520,
    "start_time": "2024-07-20T01:34:15.937Z"
   },
   {
    "duration": 41,
    "start_time": "2024-07-20T01:34:16.465Z"
   },
   {
    "duration": 325,
    "start_time": "2024-07-20T01:34:16.508Z"
   },
   {
    "duration": 8,
    "start_time": "2024-07-20T01:34:16.835Z"
   },
   {
    "duration": 470,
    "start_time": "2024-07-20T01:34:16.847Z"
   },
   {
    "duration": 13125,
    "start_time": "2024-07-20T01:34:17.320Z"
   },
   {
    "duration": 1199,
    "start_time": "2024-07-20T01:34:30.458Z"
   },
   {
    "duration": 6213,
    "start_time": "2024-07-20T01:34:31.660Z"
   },
   {
    "duration": 554,
    "start_time": "2024-07-20T01:34:37.876Z"
   },
   {
    "duration": 128,
    "start_time": "2024-07-20T01:34:38.434Z"
   },
   {
    "duration": 1084,
    "start_time": "2024-07-20T01:34:38.565Z"
   },
   {
    "duration": 501,
    "start_time": "2024-07-20T01:34:39.653Z"
   },
   {
    "duration": 0,
    "start_time": "2024-07-20T01:34:40.157Z"
   },
   {
    "duration": 0,
    "start_time": "2024-07-20T01:34:40.159Z"
   },
   {
    "duration": 0,
    "start_time": "2024-07-20T01:34:40.161Z"
   },
   {
    "duration": 0,
    "start_time": "2024-07-20T01:34:40.165Z"
   },
   {
    "duration": 0,
    "start_time": "2024-07-20T01:34:40.169Z"
   },
   {
    "duration": 2036,
    "start_time": "2024-07-20T01:37:08.664Z"
   },
   {
    "duration": 785,
    "start_time": "2024-07-20T01:37:10.706Z"
   },
   {
    "duration": 38,
    "start_time": "2024-07-20T01:37:11.494Z"
   },
   {
    "duration": 6,
    "start_time": "2024-07-20T01:37:11.538Z"
   },
   {
    "duration": 179,
    "start_time": "2024-07-20T01:37:11.548Z"
   },
   {
    "duration": 225,
    "start_time": "2024-07-20T01:37:11.738Z"
   },
   {
    "duration": 517,
    "start_time": "2024-07-20T01:37:11.974Z"
   },
   {
    "duration": 257,
    "start_time": "2024-07-20T01:37:12.494Z"
   },
   {
    "duration": 36,
    "start_time": "2024-07-20T01:37:12.757Z"
   },
   {
    "duration": 56,
    "start_time": "2024-07-20T01:37:12.802Z"
   },
   {
    "duration": 55,
    "start_time": "2024-07-20T01:37:12.861Z"
   },
   {
    "duration": 486,
    "start_time": "2024-07-20T01:37:12.931Z"
   },
   {
    "duration": 46,
    "start_time": "2024-07-20T01:37:13.423Z"
   },
   {
    "duration": 137,
    "start_time": "2024-07-20T01:37:13.473Z"
   },
   {
    "duration": 16,
    "start_time": "2024-07-20T01:37:13.615Z"
   },
   {
    "duration": 34,
    "start_time": "2024-07-20T01:37:13.634Z"
   },
   {
    "duration": 59,
    "start_time": "2024-07-20T01:37:13.676Z"
   },
   {
    "duration": 19,
    "start_time": "2024-07-20T01:37:13.739Z"
   },
   {
    "duration": 559,
    "start_time": "2024-07-20T01:37:13.762Z"
   },
   {
    "duration": 1231,
    "start_time": "2024-07-20T01:37:14.325Z"
   },
   {
    "duration": 511,
    "start_time": "2024-07-20T01:37:15.560Z"
   },
   {
    "duration": 1985,
    "start_time": "2024-07-20T01:37:16.074Z"
   },
   {
    "duration": 346,
    "start_time": "2024-07-20T01:37:18.062Z"
   },
   {
    "duration": 213,
    "start_time": "2024-07-20T01:37:18.411Z"
   },
   {
    "duration": 651,
    "start_time": "2024-07-20T01:37:18.639Z"
   },
   {
    "duration": 40,
    "start_time": "2024-07-20T01:37:19.294Z"
   },
   {
    "duration": 529,
    "start_time": "2024-07-20T01:37:19.338Z"
   },
   {
    "duration": 58,
    "start_time": "2024-07-20T01:37:19.874Z"
   },
   {
    "duration": 337,
    "start_time": "2024-07-20T01:37:19.936Z"
   },
   {
    "duration": 11,
    "start_time": "2024-07-20T01:37:20.276Z"
   },
   {
    "duration": 593,
    "start_time": "2024-07-20T01:37:20.291Z"
   },
   {
    "duration": 14152,
    "start_time": "2024-07-20T01:37:20.891Z"
   },
   {
    "duration": 1130,
    "start_time": "2024-07-20T01:37:35.046Z"
   },
   {
    "duration": 25564,
    "start_time": "2024-07-20T01:37:36.182Z"
   },
   {
    "duration": 380,
    "start_time": "2024-07-20T01:38:01.749Z"
   },
   {
    "duration": 1118,
    "start_time": "2024-07-20T01:38:02.132Z"
   },
   {
    "duration": 1723,
    "start_time": "2024-07-20T01:38:32.520Z"
   },
   {
    "duration": 804,
    "start_time": "2024-07-20T01:38:34.248Z"
   },
   {
    "duration": 27,
    "start_time": "2024-07-20T01:38:35.054Z"
   },
   {
    "duration": 6,
    "start_time": "2024-07-20T01:38:35.086Z"
   },
   {
    "duration": 170,
    "start_time": "2024-07-20T01:38:35.095Z"
   },
   {
    "duration": 147,
    "start_time": "2024-07-20T01:38:35.269Z"
   },
   {
    "duration": 441,
    "start_time": "2024-07-20T01:38:35.430Z"
   },
   {
    "duration": 160,
    "start_time": "2024-07-20T01:38:35.873Z"
   },
   {
    "duration": 27,
    "start_time": "2024-07-20T01:38:36.036Z"
   },
   {
    "duration": 26,
    "start_time": "2024-07-20T01:38:36.070Z"
   },
   {
    "duration": 68,
    "start_time": "2024-07-20T01:38:36.099Z"
   },
   {
    "duration": 296,
    "start_time": "2024-07-20T01:38:36.170Z"
   },
   {
    "duration": 35,
    "start_time": "2024-07-20T01:38:36.469Z"
   },
   {
    "duration": 87,
    "start_time": "2024-07-20T01:38:36.507Z"
   },
   {
    "duration": 5,
    "start_time": "2024-07-20T01:38:36.597Z"
   },
   {
    "duration": 48,
    "start_time": "2024-07-20T01:38:36.606Z"
   },
   {
    "duration": 34,
    "start_time": "2024-07-20T01:38:36.657Z"
   },
   {
    "duration": 44,
    "start_time": "2024-07-20T01:38:36.694Z"
   },
   {
    "duration": 563,
    "start_time": "2024-07-20T01:38:36.741Z"
   },
   {
    "duration": 1192,
    "start_time": "2024-07-20T01:38:37.307Z"
   },
   {
    "duration": 468,
    "start_time": "2024-07-20T01:38:38.502Z"
   },
   {
    "duration": 2026,
    "start_time": "2024-07-20T01:38:38.973Z"
   },
   {
    "duration": 320,
    "start_time": "2024-07-20T01:38:41.002Z"
   },
   {
    "duration": 205,
    "start_time": "2024-07-20T01:38:41.325Z"
   },
   {
    "duration": 484,
    "start_time": "2024-07-20T01:38:41.534Z"
   },
   {
    "duration": 43,
    "start_time": "2024-07-20T01:38:42.030Z"
   },
   {
    "duration": 555,
    "start_time": "2024-07-20T01:38:42.076Z"
   },
   {
    "duration": 43,
    "start_time": "2024-07-20T01:38:42.640Z"
   },
   {
    "duration": 323,
    "start_time": "2024-07-20T01:38:42.686Z"
   },
   {
    "duration": 8,
    "start_time": "2024-07-20T01:38:43.012Z"
   },
   {
    "duration": 446,
    "start_time": "2024-07-20T01:38:43.031Z"
   },
   {
    "duration": 12466,
    "start_time": "2024-07-20T01:38:43.480Z"
   },
   {
    "duration": 1096,
    "start_time": "2024-07-20T01:38:55.954Z"
   },
   {
    "duration": 5211,
    "start_time": "2024-07-20T01:38:57.053Z"
   },
   {
    "duration": 351,
    "start_time": "2024-07-20T01:39:02.266Z"
   },
   {
    "duration": 1031,
    "start_time": "2024-07-20T01:39:02.620Z"
   },
   {
    "duration": 2961,
    "start_time": "2024-07-20T01:39:03.656Z"
   },
   {
    "duration": 1715,
    "start_time": "2024-07-20T01:41:40.359Z"
   },
   {
    "duration": 773,
    "start_time": "2024-07-20T01:41:42.078Z"
   },
   {
    "duration": 28,
    "start_time": "2024-07-20T01:41:42.854Z"
   },
   {
    "duration": 6,
    "start_time": "2024-07-20T01:41:42.884Z"
   },
   {
    "duration": 175,
    "start_time": "2024-07-20T01:41:42.895Z"
   },
   {
    "duration": 169,
    "start_time": "2024-07-20T01:41:43.072Z"
   },
   {
    "duration": 432,
    "start_time": "2024-07-20T01:41:43.245Z"
   },
   {
    "duration": 157,
    "start_time": "2024-07-20T01:41:43.680Z"
   },
   {
    "duration": 27,
    "start_time": "2024-07-20T01:41:43.840Z"
   },
   {
    "duration": 28,
    "start_time": "2024-07-20T01:41:43.871Z"
   },
   {
    "duration": 64,
    "start_time": "2024-07-20T01:41:43.902Z"
   },
   {
    "duration": 301,
    "start_time": "2024-07-20T01:41:43.970Z"
   },
   {
    "duration": 37,
    "start_time": "2024-07-20T01:41:44.274Z"
   },
   {
    "duration": 93,
    "start_time": "2024-07-20T01:41:44.334Z"
   },
   {
    "duration": 6,
    "start_time": "2024-07-20T01:41:44.432Z"
   },
   {
    "duration": 27,
    "start_time": "2024-07-20T01:41:44.442Z"
   },
   {
    "duration": 67,
    "start_time": "2024-07-20T01:41:44.472Z"
   },
   {
    "duration": 18,
    "start_time": "2024-07-20T01:41:44.543Z"
   },
   {
    "duration": 541,
    "start_time": "2024-07-20T01:41:44.564Z"
   },
   {
    "duration": 1175,
    "start_time": "2024-07-20T01:41:45.108Z"
   },
   {
    "duration": 472,
    "start_time": "2024-07-20T01:41:46.286Z"
   },
   {
    "duration": 1955,
    "start_time": "2024-07-20T01:41:46.761Z"
   },
   {
    "duration": 343,
    "start_time": "2024-07-20T01:41:48.720Z"
   },
   {
    "duration": 173,
    "start_time": "2024-07-20T01:41:49.066Z"
   },
   {
    "duration": 461,
    "start_time": "2024-07-20T01:41:49.243Z"
   },
   {
    "duration": 33,
    "start_time": "2024-07-20T01:41:49.706Z"
   },
   {
    "duration": 550,
    "start_time": "2024-07-20T01:41:49.742Z"
   },
   {
    "duration": 58,
    "start_time": "2024-07-20T01:41:50.296Z"
   },
   {
    "duration": 302,
    "start_time": "2024-07-20T01:41:50.356Z"
   },
   {
    "duration": 9,
    "start_time": "2024-07-20T01:41:50.660Z"
   },
   {
    "duration": 12876,
    "start_time": "2024-07-20T01:41:50.671Z"
   },
   {
    "duration": 1058,
    "start_time": "2024-07-20T01:42:03.550Z"
   },
   {
    "duration": 5437,
    "start_time": "2024-07-20T01:42:04.611Z"
   },
   {
    "duration": 1483,
    "start_time": "2024-07-20T01:42:10.051Z"
   },
   {
    "duration": 2968,
    "start_time": "2024-07-20T01:42:11.537Z"
   },
   {
    "duration": 1666,
    "start_time": "2024-07-20T02:06:03.176Z"
   },
   {
    "duration": 4,
    "start_time": "2024-07-20T02:06:04.845Z"
   },
   {
    "duration": 456,
    "start_time": "2024-07-20T02:06:04.852Z"
   },
   {
    "duration": 0,
    "start_time": "2024-07-20T02:06:05.311Z"
   },
   {
    "duration": 0,
    "start_time": "2024-07-20T02:06:05.315Z"
   },
   {
    "duration": 0,
    "start_time": "2024-07-20T02:06:05.317Z"
   },
   {
    "duration": 0,
    "start_time": "2024-07-20T02:06:05.319Z"
   },
   {
    "duration": 0,
    "start_time": "2024-07-20T02:06:05.331Z"
   },
   {
    "duration": 0,
    "start_time": "2024-07-20T02:06:05.333Z"
   },
   {
    "duration": 0,
    "start_time": "2024-07-20T02:06:05.336Z"
   },
   {
    "duration": 1922,
    "start_time": "2024-07-20T02:07:59.911Z"
   },
   {
    "duration": 869,
    "start_time": "2024-07-20T02:08:01.837Z"
   },
   {
    "duration": 38,
    "start_time": "2024-07-20T02:08:02.710Z"
   },
   {
    "duration": 7,
    "start_time": "2024-07-20T02:08:02.756Z"
   },
   {
    "duration": 184,
    "start_time": "2024-07-20T02:08:02.766Z"
   },
   {
    "duration": 149,
    "start_time": "2024-07-20T02:08:02.953Z"
   },
   {
    "duration": 431,
    "start_time": "2024-07-20T02:08:03.106Z"
   },
   {
    "duration": 152,
    "start_time": "2024-07-20T02:08:03.540Z"
   },
   {
    "duration": 37,
    "start_time": "2024-07-20T02:08:03.695Z"
   },
   {
    "duration": 26,
    "start_time": "2024-07-20T02:08:03.740Z"
   },
   {
    "duration": 65,
    "start_time": "2024-07-20T02:08:03.769Z"
   },
   {
    "duration": 295,
    "start_time": "2024-07-20T02:08:03.837Z"
   },
   {
    "duration": 37,
    "start_time": "2024-07-20T02:08:04.135Z"
   },
   {
    "duration": 86,
    "start_time": "2024-07-20T02:08:04.175Z"
   },
   {
    "duration": 6,
    "start_time": "2024-07-20T02:08:04.265Z"
   },
   {
    "duration": 56,
    "start_time": "2024-07-20T02:08:04.274Z"
   },
   {
    "duration": 41,
    "start_time": "2024-07-20T02:08:04.334Z"
   },
   {
    "duration": 27,
    "start_time": "2024-07-20T02:08:04.381Z"
   },
   {
    "duration": 618,
    "start_time": "2024-07-20T02:08:04.431Z"
   },
   {
    "duration": 1202,
    "start_time": "2024-07-20T02:08:05.053Z"
   },
   {
    "duration": 492,
    "start_time": "2024-07-20T02:08:06.259Z"
   },
   {
    "duration": 2022,
    "start_time": "2024-07-20T02:08:06.754Z"
   },
   {
    "duration": 334,
    "start_time": "2024-07-20T02:08:08.779Z"
   },
   {
    "duration": 185,
    "start_time": "2024-07-20T02:08:09.116Z"
   },
   {
    "duration": 480,
    "start_time": "2024-07-20T02:08:09.303Z"
   },
   {
    "duration": 45,
    "start_time": "2024-07-20T02:08:09.785Z"
   },
   {
    "duration": 554,
    "start_time": "2024-07-20T02:08:09.833Z"
   },
   {
    "duration": 4,
    "start_time": "2024-07-20T02:08:10.394Z"
   },
   {
    "duration": 147,
    "start_time": "2024-07-20T02:08:10.400Z"
   },
   {
    "duration": 4,
    "start_time": "2024-07-20T02:08:10.550Z"
   },
   {
    "duration": 301,
    "start_time": "2024-07-20T02:08:10.558Z"
   },
   {
    "duration": 18,
    "start_time": "2024-07-20T02:08:10.862Z"
   },
   {
    "duration": 47,
    "start_time": "2024-07-20T02:08:10.883Z"
   },
   {
    "duration": 20,
    "start_time": "2024-07-20T02:08:10.933Z"
   },
   {
    "duration": 18,
    "start_time": "2024-07-20T02:08:10.956Z"
   },
   {
    "duration": 362,
    "start_time": "2024-07-20T02:08:10.977Z"
   },
   {
    "duration": 134,
    "start_time": "2024-07-20T02:09:26.759Z"
   },
   {
    "duration": 120,
    "start_time": "2024-07-20T02:09:36.851Z"
   },
   {
    "duration": 12817,
    "start_time": "2024-07-20T02:14:18.818Z"
   },
   {
    "duration": 121,
    "start_time": "2024-07-20T02:35:34.345Z"
   },
   {
    "duration": 833,
    "start_time": "2024-07-20T02:36:01.850Z"
   },
   {
    "duration": 4229,
    "start_time": "2024-07-20T02:38:10.316Z"
   },
   {
    "duration": 1344,
    "start_time": "2024-07-20T02:42:24.199Z"
   },
   {
    "duration": 1403,
    "start_time": "2024-07-20T02:42:56.772Z"
   },
   {
    "duration": 1196,
    "start_time": "2024-07-20T02:43:14.047Z"
   },
   {
    "duration": 2933,
    "start_time": "2024-07-20T02:45:18.806Z"
   },
   {
    "duration": 8,
    "start_time": "2024-07-20T02:54:52.444Z"
   },
   {
    "duration": 165,
    "start_time": "2024-07-20T02:54:58.063Z"
   },
   {
    "duration": 121,
    "start_time": "2024-07-20T02:55:19.394Z"
   },
   {
    "duration": 35,
    "start_time": "2024-07-20T02:57:31.856Z"
   },
   {
    "duration": 1650,
    "start_time": "2024-07-20T02:57:46.582Z"
   },
   {
    "duration": 763,
    "start_time": "2024-07-20T02:57:48.236Z"
   },
   {
    "duration": 34,
    "start_time": "2024-07-20T02:57:49.002Z"
   },
   {
    "duration": 6,
    "start_time": "2024-07-20T02:57:49.039Z"
   },
   {
    "duration": 162,
    "start_time": "2024-07-20T02:57:49.050Z"
   },
   {
    "duration": 156,
    "start_time": "2024-07-20T02:57:49.215Z"
   },
   {
    "duration": 409,
    "start_time": "2024-07-20T02:57:49.374Z"
   },
   {
    "duration": 161,
    "start_time": "2024-07-20T02:57:49.786Z"
   },
   {
    "duration": 27,
    "start_time": "2024-07-20T02:57:49.949Z"
   },
   {
    "duration": 29,
    "start_time": "2024-07-20T02:57:49.979Z"
   },
   {
    "duration": 50,
    "start_time": "2024-07-20T02:57:50.032Z"
   },
   {
    "duration": 317,
    "start_time": "2024-07-20T02:57:50.085Z"
   },
   {
    "duration": 49,
    "start_time": "2024-07-20T02:57:50.406Z"
   },
   {
    "duration": 91,
    "start_time": "2024-07-20T02:57:50.463Z"
   },
   {
    "duration": 7,
    "start_time": "2024-07-20T02:57:50.558Z"
   },
   {
    "duration": 43,
    "start_time": "2024-07-20T02:57:50.569Z"
   },
   {
    "duration": 41,
    "start_time": "2024-07-20T02:57:50.636Z"
   },
   {
    "duration": 20,
    "start_time": "2024-07-20T02:57:50.681Z"
   },
   {
    "duration": 506,
    "start_time": "2024-07-20T02:57:50.730Z"
   },
   {
    "duration": 1219,
    "start_time": "2024-07-20T02:57:51.240Z"
   },
   {
    "duration": 482,
    "start_time": "2024-07-20T02:57:52.463Z"
   },
   {
    "duration": 1937,
    "start_time": "2024-07-20T02:57:52.949Z"
   },
   {
    "duration": 338,
    "start_time": "2024-07-20T02:57:54.889Z"
   },
   {
    "duration": 189,
    "start_time": "2024-07-20T02:57:55.232Z"
   },
   {
    "duration": 457,
    "start_time": "2024-07-20T02:57:55.431Z"
   },
   {
    "duration": 37,
    "start_time": "2024-07-20T02:57:55.893Z"
   },
   {
    "duration": 536,
    "start_time": "2024-07-20T02:57:55.933Z"
   },
   {
    "duration": 4,
    "start_time": "2024-07-20T02:57:56.473Z"
   },
   {
    "duration": 144,
    "start_time": "2024-07-20T02:57:56.480Z"
   },
   {
    "duration": 5,
    "start_time": "2024-07-20T02:57:56.632Z"
   },
   {
    "duration": 0,
    "start_time": "2024-07-20T02:57:56.642Z"
   },
   {
    "duration": 0,
    "start_time": "2024-07-20T02:57:56.643Z"
   },
   {
    "duration": 0,
    "start_time": "2024-07-20T02:57:56.645Z"
   },
   {
    "duration": 0,
    "start_time": "2024-07-20T02:57:56.647Z"
   },
   {
    "duration": 0,
    "start_time": "2024-07-20T02:57:56.648Z"
   },
   {
    "duration": 926,
    "start_time": "2024-07-20T03:39:22.646Z"
   },
   {
    "duration": 1643,
    "start_time": "2024-07-20T03:39:42.896Z"
   },
   {
    "duration": 724,
    "start_time": "2024-07-20T03:39:44.543Z"
   },
   {
    "duration": 30,
    "start_time": "2024-07-20T03:39:45.270Z"
   },
   {
    "duration": 5,
    "start_time": "2024-07-20T03:39:45.305Z"
   },
   {
    "duration": 163,
    "start_time": "2024-07-20T03:39:45.330Z"
   },
   {
    "duration": 163,
    "start_time": "2024-07-20T03:39:45.496Z"
   },
   {
    "duration": 420,
    "start_time": "2024-07-20T03:39:45.663Z"
   },
   {
    "duration": 151,
    "start_time": "2024-07-20T03:39:46.086Z"
   },
   {
    "duration": 26,
    "start_time": "2024-07-20T03:39:46.240Z"
   },
   {
    "duration": 26,
    "start_time": "2024-07-20T03:39:46.274Z"
   },
   {
    "duration": 51,
    "start_time": "2024-07-20T03:39:46.331Z"
   },
   {
    "duration": 303,
    "start_time": "2024-07-20T03:39:46.387Z"
   },
   {
    "duration": 48,
    "start_time": "2024-07-20T03:39:46.693Z"
   },
   {
    "duration": 86,
    "start_time": "2024-07-20T03:39:46.744Z"
   },
   {
    "duration": 6,
    "start_time": "2024-07-20T03:39:46.833Z"
   },
   {
    "duration": 25,
    "start_time": "2024-07-20T03:39:46.843Z"
   },
   {
    "duration": 61,
    "start_time": "2024-07-20T03:39:46.871Z"
   },
   {
    "duration": 17,
    "start_time": "2024-07-20T03:39:46.935Z"
   },
   {
    "duration": 548,
    "start_time": "2024-07-20T03:39:46.956Z"
   },
   {
    "duration": 1224,
    "start_time": "2024-07-20T03:39:47.507Z"
   },
   {
    "duration": 477,
    "start_time": "2024-07-20T03:39:48.735Z"
   },
   {
    "duration": 1935,
    "start_time": "2024-07-20T03:39:49.215Z"
   },
   {
    "duration": 321,
    "start_time": "2024-07-20T03:39:51.153Z"
   },
   {
    "duration": 180,
    "start_time": "2024-07-20T03:39:51.477Z"
   },
   {
    "duration": 508,
    "start_time": "2024-07-20T03:39:51.660Z"
   },
   {
    "duration": 29,
    "start_time": "2024-07-20T03:39:52.172Z"
   },
   {
    "duration": 542,
    "start_time": "2024-07-20T03:39:52.204Z"
   },
   {
    "duration": 3,
    "start_time": "2024-07-20T03:39:52.754Z"
   },
   {
    "duration": 138,
    "start_time": "2024-07-20T03:39:52.761Z"
   },
   {
    "duration": 5,
    "start_time": "2024-07-20T03:39:52.901Z"
   },
   {
    "duration": 0,
    "start_time": "2024-07-20T03:39:52.909Z"
   },
   {
    "duration": 0,
    "start_time": "2024-07-20T03:39:52.912Z"
   },
   {
    "duration": 0,
    "start_time": "2024-07-20T03:39:52.914Z"
   },
   {
    "duration": 0,
    "start_time": "2024-07-20T03:39:52.933Z"
   },
   {
    "duration": 0,
    "start_time": "2024-07-20T03:39:52.935Z"
   },
   {
    "duration": 1688,
    "start_time": "2024-07-20T03:40:56.643Z"
   },
   {
    "duration": 735,
    "start_time": "2024-07-20T03:40:58.334Z"
   },
   {
    "duration": 28,
    "start_time": "2024-07-20T03:40:59.072Z"
   },
   {
    "duration": 25,
    "start_time": "2024-07-20T03:40:59.105Z"
   },
   {
    "duration": 181,
    "start_time": "2024-07-20T03:40:59.134Z"
   },
   {
    "duration": 148,
    "start_time": "2024-07-20T03:40:59.318Z"
   },
   {
    "duration": 436,
    "start_time": "2024-07-20T03:40:59.468Z"
   },
   {
    "duration": 151,
    "start_time": "2024-07-20T03:40:59.907Z"
   },
   {
    "duration": 26,
    "start_time": "2024-07-20T03:41:00.061Z"
   },
   {
    "duration": 43,
    "start_time": "2024-07-20T03:41:00.095Z"
   },
   {
    "duration": 40,
    "start_time": "2024-07-20T03:41:00.142Z"
   },
   {
    "duration": 323,
    "start_time": "2024-07-20T03:41:00.185Z"
   },
   {
    "duration": 43,
    "start_time": "2024-07-20T03:41:00.510Z"
   },
   {
    "duration": 85,
    "start_time": "2024-07-20T03:41:00.556Z"
   },
   {
    "duration": 6,
    "start_time": "2024-07-20T03:41:00.645Z"
   },
   {
    "duration": 25,
    "start_time": "2024-07-20T03:41:00.654Z"
   },
   {
    "duration": 66,
    "start_time": "2024-07-20T03:41:00.682Z"
   },
   {
    "duration": 17,
    "start_time": "2024-07-20T03:41:00.751Z"
   },
   {
    "duration": 533,
    "start_time": "2024-07-20T03:41:00.771Z"
   },
   {
    "duration": 1233,
    "start_time": "2024-07-20T03:41:01.307Z"
   },
   {
    "duration": 479,
    "start_time": "2024-07-20T03:41:02.543Z"
   },
   {
    "duration": 1991,
    "start_time": "2024-07-20T03:41:03.030Z"
   },
   {
    "duration": 316,
    "start_time": "2024-07-20T03:41:05.025Z"
   },
   {
    "duration": 186,
    "start_time": "2024-07-20T03:41:05.344Z"
   },
   {
    "duration": 494,
    "start_time": "2024-07-20T03:41:05.533Z"
   },
   {
    "duration": 31,
    "start_time": "2024-07-20T03:41:06.033Z"
   },
   {
    "duration": 529,
    "start_time": "2024-07-20T03:41:06.067Z"
   },
   {
    "duration": 3,
    "start_time": "2024-07-20T03:41:06.604Z"
   },
   {
    "duration": 150,
    "start_time": "2024-07-20T03:41:06.610Z"
   },
   {
    "duration": 12387,
    "start_time": "2024-07-20T03:41:06.762Z"
   },
   {
    "duration": 867,
    "start_time": "2024-07-20T03:41:19.230Z"
   },
   {
    "duration": 4849,
    "start_time": "2024-07-20T03:41:20.100Z"
   },
   {
    "duration": 1318,
    "start_time": "2024-07-20T03:41:24.954Z"
   },
   {
    "duration": 2953,
    "start_time": "2024-07-20T03:41:26.275Z"
   },
   {
    "duration": 915,
    "start_time": "2024-07-20T03:41:29.230Z"
   },
   {
    "duration": 337,
    "start_time": "2024-07-20T03:49:13.648Z"
   },
   {
    "duration": 1740,
    "start_time": "2024-07-20T03:51:23.226Z"
   },
   {
    "duration": 781,
    "start_time": "2024-07-20T03:51:24.970Z"
   },
   {
    "duration": 36,
    "start_time": "2024-07-20T03:51:25.755Z"
   },
   {
    "duration": 11,
    "start_time": "2024-07-20T03:51:25.794Z"
   },
   {
    "duration": 217,
    "start_time": "2024-07-20T03:51:25.833Z"
   },
   {
    "duration": 140,
    "start_time": "2024-07-20T03:51:26.052Z"
   },
   {
    "duration": 481,
    "start_time": "2024-07-20T03:51:26.195Z"
   },
   {
    "duration": 153,
    "start_time": "2024-07-20T03:51:26.679Z"
   },
   {
    "duration": 33,
    "start_time": "2024-07-20T03:51:26.835Z"
   },
   {
    "duration": 56,
    "start_time": "2024-07-20T03:51:26.874Z"
   },
   {
    "duration": 44,
    "start_time": "2024-07-20T03:51:26.934Z"
   },
   {
    "duration": 302,
    "start_time": "2024-07-20T03:51:26.981Z"
   },
   {
    "duration": 52,
    "start_time": "2024-07-20T03:51:27.287Z"
   },
   {
    "duration": 69,
    "start_time": "2024-07-20T03:51:27.346Z"
   },
   {
    "duration": 6,
    "start_time": "2024-07-20T03:51:27.431Z"
   },
   {
    "duration": 32,
    "start_time": "2024-07-20T03:51:27.441Z"
   },
   {
    "duration": 59,
    "start_time": "2024-07-20T03:51:27.476Z"
   },
   {
    "duration": 18,
    "start_time": "2024-07-20T03:51:27.538Z"
   },
   {
    "duration": 584,
    "start_time": "2024-07-20T03:51:27.559Z"
   },
   {
    "duration": 1225,
    "start_time": "2024-07-20T03:51:28.146Z"
   },
   {
    "duration": 484,
    "start_time": "2024-07-20T03:51:29.374Z"
   },
   {
    "duration": 2216,
    "start_time": "2024-07-20T03:51:29.862Z"
   },
   {
    "duration": 368,
    "start_time": "2024-07-20T03:51:32.081Z"
   },
   {
    "duration": 222,
    "start_time": "2024-07-20T03:51:32.452Z"
   },
   {
    "duration": 551,
    "start_time": "2024-07-20T03:51:32.679Z"
   },
   {
    "duration": 32,
    "start_time": "2024-07-20T03:51:33.235Z"
   },
   {
    "duration": 584,
    "start_time": "2024-07-20T03:51:33.270Z"
   },
   {
    "duration": 4,
    "start_time": "2024-07-20T03:51:33.857Z"
   },
   {
    "duration": 147,
    "start_time": "2024-07-20T03:51:33.863Z"
   },
   {
    "duration": 449,
    "start_time": "2024-07-20T03:51:34.012Z"
   },
   {
    "duration": 12666,
    "start_time": "2024-07-20T03:51:34.464Z"
   },
   {
    "duration": 880,
    "start_time": "2024-07-20T03:51:47.133Z"
   },
   {
    "duration": 4335,
    "start_time": "2024-07-20T03:51:48.018Z"
   },
   {
    "duration": 1286,
    "start_time": "2024-07-20T03:51:52.356Z"
   },
   {
    "duration": 2941,
    "start_time": "2024-07-20T03:51:53.645Z"
   },
   {
    "duration": 597,
    "start_time": "2024-07-20T03:51:56.589Z"
   },
   {
    "duration": 11,
    "start_time": "2024-07-20T03:54:24.848Z"
   },
   {
    "duration": 599,
    "start_time": "2024-07-20T03:58:01.590Z"
   },
   {
    "duration": 1721,
    "start_time": "2024-07-20T03:58:12.101Z"
   },
   {
    "duration": 735,
    "start_time": "2024-07-20T03:58:13.826Z"
   },
   {
    "duration": 28,
    "start_time": "2024-07-20T03:58:14.564Z"
   },
   {
    "duration": 6,
    "start_time": "2024-07-20T03:58:14.595Z"
   },
   {
    "duration": 147,
    "start_time": "2024-07-20T03:58:14.633Z"
   },
   {
    "duration": 155,
    "start_time": "2024-07-20T03:58:14.783Z"
   },
   {
    "duration": 396,
    "start_time": "2024-07-20T03:58:14.941Z"
   },
   {
    "duration": 155,
    "start_time": "2024-07-20T03:58:15.340Z"
   },
   {
    "duration": 40,
    "start_time": "2024-07-20T03:58:15.499Z"
   },
   {
    "duration": 28,
    "start_time": "2024-07-20T03:58:15.542Z"
   },
   {
    "duration": 61,
    "start_time": "2024-07-20T03:58:15.573Z"
   },
   {
    "duration": 296,
    "start_time": "2024-07-20T03:58:15.638Z"
   },
   {
    "duration": 35,
    "start_time": "2024-07-20T03:58:15.937Z"
   },
   {
    "duration": 83,
    "start_time": "2024-07-20T03:58:15.978Z"
   },
   {
    "duration": 6,
    "start_time": "2024-07-20T03:58:16.063Z"
   },
   {
    "duration": 24,
    "start_time": "2024-07-20T03:58:16.072Z"
   },
   {
    "duration": 34,
    "start_time": "2024-07-20T03:58:16.132Z"
   },
   {
    "duration": 16,
    "start_time": "2024-07-20T03:58:16.169Z"
   },
   {
    "duration": 543,
    "start_time": "2024-07-20T03:58:16.189Z"
   },
   {
    "duration": 1180,
    "start_time": "2024-07-20T03:58:16.735Z"
   },
   {
    "duration": 461,
    "start_time": "2024-07-20T03:58:17.919Z"
   },
   {
    "duration": 1921,
    "start_time": "2024-07-20T03:58:18.383Z"
   },
   {
    "duration": 323,
    "start_time": "2024-07-20T03:58:20.307Z"
   },
   {
    "duration": 188,
    "start_time": "2024-07-20T03:58:20.633Z"
   },
   {
    "duration": 488,
    "start_time": "2024-07-20T03:58:20.824Z"
   },
   {
    "duration": 33,
    "start_time": "2024-07-20T03:58:21.316Z"
   },
   {
    "duration": 534,
    "start_time": "2024-07-20T03:58:21.352Z"
   },
   {
    "duration": 4,
    "start_time": "2024-07-20T03:58:21.889Z"
   },
   {
    "duration": 148,
    "start_time": "2024-07-20T03:58:21.896Z"
   },
   {
    "duration": 483,
    "start_time": "2024-07-20T03:58:22.048Z"
   },
   {
    "duration": 12415,
    "start_time": "2024-07-20T03:58:22.534Z"
   },
   {
    "duration": 895,
    "start_time": "2024-07-20T03:58:35.030Z"
   },
   {
    "duration": 4002,
    "start_time": "2024-07-20T03:58:35.928Z"
   },
   {
    "duration": 1308,
    "start_time": "2024-07-20T03:58:39.933Z"
   },
   {
    "duration": 2924,
    "start_time": "2024-07-20T03:58:41.245Z"
   },
   {
    "duration": 1101,
    "start_time": "2024-07-20T03:58:44.172Z"
   },
   {
    "duration": 1719,
    "start_time": "2024-07-20T04:13:42.907Z"
   },
   {
    "duration": 713,
    "start_time": "2024-07-20T04:13:44.630Z"
   },
   {
    "duration": 34,
    "start_time": "2024-07-20T04:13:45.346Z"
   },
   {
    "duration": 6,
    "start_time": "2024-07-20T04:13:45.385Z"
   },
   {
    "duration": 182,
    "start_time": "2024-07-20T04:13:45.396Z"
   },
   {
    "duration": 150,
    "start_time": "2024-07-20T04:13:45.581Z"
   },
   {
    "duration": 443,
    "start_time": "2024-07-20T04:13:45.734Z"
   },
   {
    "duration": 151,
    "start_time": "2024-07-20T04:13:46.179Z"
   },
   {
    "duration": 27,
    "start_time": "2024-07-20T04:13:46.333Z"
   },
   {
    "duration": 28,
    "start_time": "2024-07-20T04:13:46.367Z"
   },
   {
    "duration": 73,
    "start_time": "2024-07-20T04:13:46.399Z"
   },
   {
    "duration": 294,
    "start_time": "2024-07-20T04:13:46.476Z"
   },
   {
    "duration": 35,
    "start_time": "2024-07-20T04:13:46.775Z"
   },
   {
    "duration": 90,
    "start_time": "2024-07-20T04:13:46.812Z"
   },
   {
    "duration": 5,
    "start_time": "2024-07-20T04:13:46.905Z"
   },
   {
    "duration": 26,
    "start_time": "2024-07-20T04:13:46.930Z"
   },
   {
    "duration": 33,
    "start_time": "2024-07-20T04:13:46.958Z"
   },
   {
    "duration": 48,
    "start_time": "2024-07-20T04:13:46.994Z"
   },
   {
    "duration": 550,
    "start_time": "2024-07-20T04:13:47.045Z"
   },
   {
    "duration": 1180,
    "start_time": "2024-07-20T04:13:47.599Z"
   },
   {
    "duration": 467,
    "start_time": "2024-07-20T04:13:48.782Z"
   },
   {
    "duration": 1953,
    "start_time": "2024-07-20T04:13:49.252Z"
   },
   {
    "duration": 322,
    "start_time": "2024-07-20T04:13:51.208Z"
   },
   {
    "duration": 182,
    "start_time": "2024-07-20T04:13:51.533Z"
   },
   {
    "duration": 508,
    "start_time": "2024-07-20T04:13:51.718Z"
   },
   {
    "duration": 32,
    "start_time": "2024-07-20T04:13:52.231Z"
   },
   {
    "duration": 541,
    "start_time": "2024-07-20T04:13:52.266Z"
   },
   {
    "duration": 3,
    "start_time": "2024-07-20T04:13:52.815Z"
   },
   {
    "duration": 151,
    "start_time": "2024-07-20T04:13:52.821Z"
   },
   {
    "duration": 2281,
    "start_time": "2024-07-20T04:13:52.975Z"
   },
   {
    "duration": 0,
    "start_time": "2024-07-20T04:13:55.259Z"
   },
   {
    "duration": 0,
    "start_time": "2024-07-20T04:13:55.263Z"
   },
   {
    "duration": 0,
    "start_time": "2024-07-20T04:13:55.265Z"
   },
   {
    "duration": 0,
    "start_time": "2024-07-20T04:13:55.268Z"
   },
   {
    "duration": 0,
    "start_time": "2024-07-20T04:13:55.271Z"
   },
   {
    "duration": 0,
    "start_time": "2024-07-20T04:13:55.273Z"
   },
   {
    "duration": 0,
    "start_time": "2024-07-20T04:13:55.275Z"
   },
   {
    "duration": 1707,
    "start_time": "2024-07-20T04:16:52.129Z"
   },
   {
    "duration": 11374,
    "start_time": "2024-07-20T04:16:58.458Z"
   },
   {
    "duration": 783,
    "start_time": "2024-07-20T04:18:43.607Z"
   },
   {
    "duration": 4092,
    "start_time": "2024-07-20T04:19:38.052Z"
   },
   {
    "duration": 974,
    "start_time": "2024-07-20T04:20:24.358Z"
   },
   {
    "duration": 2905,
    "start_time": "2024-07-20T04:21:05.402Z"
   },
   {
    "duration": 104,
    "start_time": "2024-07-20T04:22:08.372Z"
   },
   {
    "duration": 579,
    "start_time": "2024-07-20T04:22:26.023Z"
   },
   {
    "duration": 144,
    "start_time": "2024-07-20T04:22:33.568Z"
   },
   {
    "duration": 6327,
    "start_time": "2024-07-20T04:33:18.318Z"
   },
   {
    "duration": 4,
    "start_time": "2024-07-20T04:33:24.649Z"
   },
   {
    "duration": 6371,
    "start_time": "2024-07-20T04:33:39.969Z"
   },
   {
    "duration": 1773,
    "start_time": "2024-07-20T04:35:26.794Z"
   },
   {
    "duration": 920,
    "start_time": "2024-07-20T04:35:28.570Z"
   },
   {
    "duration": 38,
    "start_time": "2024-07-20T04:35:29.492Z"
   },
   {
    "duration": 5,
    "start_time": "2024-07-20T04:35:29.536Z"
   },
   {
    "duration": 173,
    "start_time": "2024-07-20T04:35:29.544Z"
   },
   {
    "duration": 146,
    "start_time": "2024-07-20T04:35:29.720Z"
   },
   {
    "duration": 430,
    "start_time": "2024-07-20T04:35:29.869Z"
   },
   {
    "duration": 148,
    "start_time": "2024-07-20T04:35:30.303Z"
   },
   {
    "duration": 26,
    "start_time": "2024-07-20T04:35:30.454Z"
   },
   {
    "duration": 47,
    "start_time": "2024-07-20T04:35:30.488Z"
   },
   {
    "duration": 41,
    "start_time": "2024-07-20T04:35:30.538Z"
   },
   {
    "duration": 315,
    "start_time": "2024-07-20T04:35:30.582Z"
   },
   {
    "duration": 48,
    "start_time": "2024-07-20T04:35:30.900Z"
   },
   {
    "duration": 85,
    "start_time": "2024-07-20T04:35:30.951Z"
   },
   {
    "duration": 7,
    "start_time": "2024-07-20T04:35:31.040Z"
   },
   {
    "duration": 29,
    "start_time": "2024-07-20T04:35:31.051Z"
   },
   {
    "duration": 70,
    "start_time": "2024-07-20T04:35:31.084Z"
   },
   {
    "duration": 22,
    "start_time": "2024-07-20T04:35:31.158Z"
   },
   {
    "duration": 549,
    "start_time": "2024-07-20T04:35:31.182Z"
   },
   {
    "duration": 1270,
    "start_time": "2024-07-20T04:35:31.737Z"
   },
   {
    "duration": 498,
    "start_time": "2024-07-20T04:35:33.011Z"
   },
   {
    "duration": 1997,
    "start_time": "2024-07-20T04:35:33.512Z"
   },
   {
    "duration": 356,
    "start_time": "2024-07-20T04:35:35.513Z"
   },
   {
    "duration": 188,
    "start_time": "2024-07-20T04:35:35.872Z"
   },
   {
    "duration": 454,
    "start_time": "2024-07-20T04:35:36.063Z"
   },
   {
    "duration": 37,
    "start_time": "2024-07-20T04:35:36.520Z"
   },
   {
    "duration": 515,
    "start_time": "2024-07-20T04:35:36.560Z"
   },
   {
    "duration": 4,
    "start_time": "2024-07-20T04:35:37.082Z"
   },
   {
    "duration": 149,
    "start_time": "2024-07-20T04:35:37.089Z"
   },
   {
    "duration": 1692,
    "start_time": "2024-07-20T04:35:37.241Z"
   },
   {
    "duration": 11008,
    "start_time": "2024-07-20T04:35:38.937Z"
   },
   {
    "duration": 571,
    "start_time": "2024-07-20T04:35:49.948Z"
   },
   {
    "duration": 6034,
    "start_time": "2024-07-20T04:35:50.522Z"
   },
   {
    "duration": 4,
    "start_time": "2024-07-20T04:35:56.560Z"
   },
   {
    "duration": 8719,
    "start_time": "2024-07-20T04:35:56.629Z"
   },
   {
    "duration": 4,
    "start_time": "2024-07-20T04:36:05.352Z"
   },
   {
    "duration": 3005,
    "start_time": "2024-07-20T04:36:05.359Z"
   },
   {
    "duration": 6,
    "start_time": "2024-07-20T04:36:08.367Z"
   },
   {
    "duration": 674,
    "start_time": "2024-07-20T04:36:08.375Z"
   },
   {
    "duration": 3,
    "start_time": "2024-07-20T04:36:09.053Z"
   },
   {
    "duration": 1728,
    "start_time": "2024-07-20T04:38:10.256Z"
   },
   {
    "duration": 775,
    "start_time": "2024-07-20T04:38:11.990Z"
   },
   {
    "duration": 27,
    "start_time": "2024-07-20T04:38:12.767Z"
   },
   {
    "duration": 6,
    "start_time": "2024-07-20T04:38:12.797Z"
   },
   {
    "duration": 157,
    "start_time": "2024-07-20T04:38:12.833Z"
   },
   {
    "duration": 151,
    "start_time": "2024-07-20T04:38:12.993Z"
   },
   {
    "duration": 431,
    "start_time": "2024-07-20T04:38:13.146Z"
   },
   {
    "duration": 154,
    "start_time": "2024-07-20T04:38:13.580Z"
   },
   {
    "duration": 28,
    "start_time": "2024-07-20T04:38:13.737Z"
   },
   {
    "duration": 28,
    "start_time": "2024-07-20T04:38:13.768Z"
   },
   {
    "duration": 59,
    "start_time": "2024-07-20T04:38:13.800Z"
   },
   {
    "duration": 301,
    "start_time": "2024-07-20T04:38:13.862Z"
   },
   {
    "duration": 36,
    "start_time": "2024-07-20T04:38:14.165Z"
   },
   {
    "duration": 86,
    "start_time": "2024-07-20T04:38:14.207Z"
   },
   {
    "duration": 6,
    "start_time": "2024-07-20T04:38:14.296Z"
   },
   {
    "duration": 44,
    "start_time": "2024-07-20T04:38:14.306Z"
   },
   {
    "duration": 36,
    "start_time": "2024-07-20T04:38:14.354Z"
   },
   {
    "duration": 43,
    "start_time": "2024-07-20T04:38:14.393Z"
   },
   {
    "duration": 563,
    "start_time": "2024-07-20T04:38:14.439Z"
   },
   {
    "duration": 1178,
    "start_time": "2024-07-20T04:38:15.005Z"
   },
   {
    "duration": 460,
    "start_time": "2024-07-20T04:38:16.186Z"
   },
   {
    "duration": 1936,
    "start_time": "2024-07-20T04:38:16.649Z"
   },
   {
    "duration": 327,
    "start_time": "2024-07-20T04:38:18.588Z"
   },
   {
    "duration": 191,
    "start_time": "2024-07-20T04:38:18.919Z"
   },
   {
    "duration": 496,
    "start_time": "2024-07-20T04:38:19.113Z"
   },
   {
    "duration": 39,
    "start_time": "2024-07-20T04:38:19.613Z"
   },
   {
    "duration": 551,
    "start_time": "2024-07-20T04:38:19.656Z"
   },
   {
    "duration": 137,
    "start_time": "2024-07-20T04:38:20.210Z"
   },
   {
    "duration": 1727,
    "start_time": "2024-07-20T04:38:20.350Z"
   },
   {
    "duration": 12955,
    "start_time": "2024-07-20T04:38:22.080Z"
   },
   {
    "duration": 533,
    "start_time": "2024-07-20T04:38:35.039Z"
   },
   {
    "duration": 5963,
    "start_time": "2024-07-20T04:38:35.575Z"
   },
   {
    "duration": 8700,
    "start_time": "2024-07-20T04:38:41.543Z"
   },
   {
    "duration": 3009,
    "start_time": "2024-07-20T04:38:50.246Z"
   },
   {
    "duration": 603,
    "start_time": "2024-07-20T04:38:53.258Z"
   },
   {
    "duration": 1734,
    "start_time": "2024-07-20T05:00:19.536Z"
   },
   {
    "duration": 982,
    "start_time": "2024-07-20T05:00:21.276Z"
   },
   {
    "duration": 29,
    "start_time": "2024-07-20T05:00:22.261Z"
   },
   {
    "duration": 7,
    "start_time": "2024-07-20T05:00:22.296Z"
   },
   {
    "duration": 253,
    "start_time": "2024-07-20T05:00:22.306Z"
   },
   {
    "duration": 226,
    "start_time": "2024-07-20T05:00:22.562Z"
   },
   {
    "duration": 574,
    "start_time": "2024-07-20T05:00:22.792Z"
   },
   {
    "duration": 222,
    "start_time": "2024-07-20T05:00:23.369Z"
   },
   {
    "duration": 45,
    "start_time": "2024-07-20T05:00:23.596Z"
   },
   {
    "duration": 36,
    "start_time": "2024-07-20T05:00:23.649Z"
   },
   {
    "duration": 85,
    "start_time": "2024-07-20T05:00:23.689Z"
   },
   {
    "duration": 453,
    "start_time": "2024-07-20T05:00:23.777Z"
   },
   {
    "duration": 44,
    "start_time": "2024-07-20T05:00:24.233Z"
   },
   {
    "duration": 117,
    "start_time": "2024-07-20T05:00:24.280Z"
   },
   {
    "duration": 6,
    "start_time": "2024-07-20T05:00:24.400Z"
   },
   {
    "duration": 43,
    "start_time": "2024-07-20T05:00:24.409Z"
   },
   {
    "duration": 39,
    "start_time": "2024-07-20T05:00:24.460Z"
   },
   {
    "duration": 28,
    "start_time": "2024-07-20T05:00:24.501Z"
   },
   {
    "duration": 546,
    "start_time": "2024-07-20T05:00:24.532Z"
   },
   {
    "duration": 1323,
    "start_time": "2024-07-20T05:00:25.081Z"
   },
   {
    "duration": 586,
    "start_time": "2024-07-20T05:00:26.407Z"
   },
   {
    "duration": 2544,
    "start_time": "2024-07-20T05:00:26.997Z"
   },
   {
    "duration": 518,
    "start_time": "2024-07-20T05:00:29.545Z"
   },
   {
    "duration": 281,
    "start_time": "2024-07-20T05:00:30.067Z"
   },
   {
    "duration": 850,
    "start_time": "2024-07-20T05:00:30.351Z"
   },
   {
    "duration": 39,
    "start_time": "2024-07-20T05:00:31.204Z"
   },
   {
    "duration": 653,
    "start_time": "2024-07-20T05:00:31.250Z"
   },
   {
    "duration": 150,
    "start_time": "2024-07-20T05:00:31.910Z"
   },
   {
    "duration": 2048,
    "start_time": "2024-07-20T05:00:32.063Z"
   },
   {
    "duration": 13027,
    "start_time": "2024-07-20T05:00:34.127Z"
   },
   {
    "duration": 537,
    "start_time": "2024-07-20T05:00:47.160Z"
   },
   {
    "duration": 99243,
    "start_time": "2024-07-20T05:00:47.706Z"
   },
   {
    "duration": 9014,
    "start_time": "2024-07-20T05:02:26.955Z"
   },
   {
    "duration": 3074,
    "start_time": "2024-07-20T05:02:35.972Z"
   },
   {
    "duration": 622,
    "start_time": "2024-07-20T05:02:39.049Z"
   },
   {
    "duration": 655,
    "start_time": "2024-07-20T05:03:06.697Z"
   },
   {
    "duration": 428,
    "start_time": "2024-07-20T14:08:38.945Z"
   },
   {
    "duration": 6800,
    "start_time": "2024-07-20T14:08:51.775Z"
   },
   {
    "duration": 1159,
    "start_time": "2024-07-20T14:08:58.579Z"
   },
   {
    "duration": 36,
    "start_time": "2024-07-20T14:08:59.741Z"
   },
   {
    "duration": 7,
    "start_time": "2024-07-20T14:08:59.781Z"
   },
   {
    "duration": 263,
    "start_time": "2024-07-20T14:08:59.823Z"
   },
   {
    "duration": 251,
    "start_time": "2024-07-20T14:09:00.090Z"
   },
   {
    "duration": 608,
    "start_time": "2024-07-20T14:09:00.345Z"
   },
   {
    "duration": 260,
    "start_time": "2024-07-20T14:09:00.957Z"
   },
   {
    "duration": 38,
    "start_time": "2024-07-20T14:09:01.221Z"
   },
   {
    "duration": 61,
    "start_time": "2024-07-20T14:09:01.263Z"
   },
   {
    "duration": 68,
    "start_time": "2024-07-20T14:09:01.328Z"
   },
   {
    "duration": 481,
    "start_time": "2024-07-20T14:09:01.412Z"
   },
   {
    "duration": 47,
    "start_time": "2024-07-20T14:09:01.897Z"
   },
   {
    "duration": 129,
    "start_time": "2024-07-20T14:09:01.952Z"
   },
   {
    "duration": 33,
    "start_time": "2024-07-20T14:09:02.085Z"
   },
   {
    "duration": 34,
    "start_time": "2024-07-20T14:09:02.122Z"
   },
   {
    "duration": 53,
    "start_time": "2024-07-20T14:09:02.161Z"
   },
   {
    "duration": 22,
    "start_time": "2024-07-20T14:09:02.217Z"
   },
   {
    "duration": 673,
    "start_time": "2024-07-20T14:09:02.243Z"
   },
   {
    "duration": 1491,
    "start_time": "2024-07-20T14:09:02.919Z"
   },
   {
    "duration": 104961,
    "start_time": "2024-07-20T14:09:04.413Z"
   },
   {
    "duration": 0,
    "start_time": "2024-07-20T14:10:49.382Z"
   },
   {
    "duration": 0,
    "start_time": "2024-07-20T14:10:49.390Z"
   },
   {
    "duration": 0,
    "start_time": "2024-07-20T14:10:49.393Z"
   },
   {
    "duration": 0,
    "start_time": "2024-07-20T14:10:49.395Z"
   },
   {
    "duration": 0,
    "start_time": "2024-07-20T14:10:49.397Z"
   },
   {
    "duration": 0,
    "start_time": "2024-07-20T14:10:49.413Z"
   },
   {
    "duration": 0,
    "start_time": "2024-07-20T14:10:49.416Z"
   },
   {
    "duration": 0,
    "start_time": "2024-07-20T14:10:49.418Z"
   },
   {
    "duration": 0,
    "start_time": "2024-07-20T14:10:49.421Z"
   },
   {
    "duration": 0,
    "start_time": "2024-07-20T14:10:49.423Z"
   },
   {
    "duration": 0,
    "start_time": "2024-07-20T14:10:49.425Z"
   },
   {
    "duration": 0,
    "start_time": "2024-07-20T14:10:49.428Z"
   },
   {
    "duration": 0,
    "start_time": "2024-07-20T14:10:49.430Z"
   },
   {
    "duration": 0,
    "start_time": "2024-07-20T14:10:49.432Z"
   },
   {
    "duration": 0,
    "start_time": "2024-07-20T14:10:49.434Z"
   },
   {
    "duration": 0,
    "start_time": "2024-07-20T14:10:49.451Z"
   },
   {
    "duration": 635,
    "start_time": "2024-07-20T14:12:07.778Z"
   },
   {
    "duration": 2168,
    "start_time": "2024-07-20T14:13:26.986Z"
   },
   {
    "duration": 1028,
    "start_time": "2024-07-20T14:13:29.158Z"
   },
   {
    "duration": 44,
    "start_time": "2024-07-20T14:13:30.189Z"
   },
   {
    "duration": 6,
    "start_time": "2024-07-20T14:13:30.236Z"
   },
   {
    "duration": 259,
    "start_time": "2024-07-20T14:13:30.248Z"
   },
   {
    "duration": 256,
    "start_time": "2024-07-20T14:13:30.514Z"
   },
   {
    "duration": 608,
    "start_time": "2024-07-20T14:13:30.774Z"
   },
   {
    "duration": 251,
    "start_time": "2024-07-20T14:13:31.385Z"
   },
   {
    "duration": 36,
    "start_time": "2024-07-20T14:13:31.640Z"
   },
   {
    "duration": 59,
    "start_time": "2024-07-20T14:13:31.679Z"
   },
   {
    "duration": 72,
    "start_time": "2024-07-20T14:13:31.742Z"
   },
   {
    "duration": 483,
    "start_time": "2024-07-20T14:13:31.818Z"
   },
   {
    "duration": 46,
    "start_time": "2024-07-20T14:13:32.304Z"
   },
   {
    "duration": 127,
    "start_time": "2024-07-20T14:13:32.357Z"
   },
   {
    "duration": 6,
    "start_time": "2024-07-20T14:13:32.487Z"
   },
   {
    "duration": 43,
    "start_time": "2024-07-20T14:13:32.496Z"
   },
   {
    "duration": 37,
    "start_time": "2024-07-20T14:13:32.543Z"
   },
   {
    "duration": 43,
    "start_time": "2024-07-20T14:13:32.584Z"
   },
   {
    "duration": 691,
    "start_time": "2024-07-20T14:13:32.632Z"
   },
   {
    "duration": 1481,
    "start_time": "2024-07-20T14:13:33.326Z"
   },
   {
    "duration": 627,
    "start_time": "2024-07-20T14:13:34.810Z"
   },
   {
    "duration": 2410,
    "start_time": "2024-07-20T14:13:35.441Z"
   },
   {
    "duration": 433,
    "start_time": "2024-07-20T14:13:37.858Z"
   },
   {
    "duration": 253,
    "start_time": "2024-07-20T14:13:38.293Z"
   },
   {
    "duration": 623,
    "start_time": "2024-07-20T14:13:38.550Z"
   },
   {
    "duration": 54,
    "start_time": "2024-07-20T14:13:39.176Z"
   },
   {
    "duration": 711,
    "start_time": "2024-07-20T14:13:39.234Z"
   },
   {
    "duration": 601,
    "start_time": "2024-07-20T14:13:39.948Z"
   },
   {
    "duration": 0,
    "start_time": "2024-07-20T14:13:40.553Z"
   },
   {
    "duration": 0,
    "start_time": "2024-07-20T14:13:40.555Z"
   },
   {
    "duration": 0,
    "start_time": "2024-07-20T14:13:40.558Z"
   },
   {
    "duration": 0,
    "start_time": "2024-07-20T14:13:40.560Z"
   },
   {
    "duration": 0,
    "start_time": "2024-07-20T14:13:40.563Z"
   },
   {
    "duration": 0,
    "start_time": "2024-07-20T14:13:40.565Z"
   },
   {
    "duration": 0,
    "start_time": "2024-07-20T14:13:40.568Z"
   },
   {
    "duration": 0,
    "start_time": "2024-07-20T14:13:40.570Z"
   },
   {
    "duration": 85219,
    "start_time": "2024-07-20T14:15:51.755Z"
   },
   {
    "duration": 104981,
    "start_time": "2024-07-20T14:29:26.202Z"
   },
   {
    "duration": 599,
    "start_time": "2024-07-20T14:31:26.490Z"
   },
   {
    "duration": 55,
    "start_time": "2024-07-20T15:10:31.285Z"
   },
   {
    "duration": 41,
    "start_time": "2024-07-20T15:10:46.507Z"
   },
   {
    "duration": 1895,
    "start_time": "2024-07-20T15:21:26.440Z"
   },
   {
    "duration": 803,
    "start_time": "2024-07-20T15:21:28.342Z"
   },
   {
    "duration": 28,
    "start_time": "2024-07-20T15:21:29.148Z"
   },
   {
    "duration": 6,
    "start_time": "2024-07-20T15:21:29.180Z"
   },
   {
    "duration": 189,
    "start_time": "2024-07-20T15:21:29.189Z"
   },
   {
    "duration": 166,
    "start_time": "2024-07-20T15:21:29.382Z"
   },
   {
    "duration": 414,
    "start_time": "2024-07-20T15:21:29.551Z"
   },
   {
    "duration": 161,
    "start_time": "2024-07-20T15:21:29.968Z"
   },
   {
    "duration": 27,
    "start_time": "2024-07-20T15:21:30.133Z"
   },
   {
    "duration": 46,
    "start_time": "2024-07-20T15:21:30.167Z"
   },
   {
    "duration": 46,
    "start_time": "2024-07-20T15:21:30.217Z"
   },
   {
    "duration": 302,
    "start_time": "2024-07-20T15:21:30.268Z"
   },
   {
    "duration": 46,
    "start_time": "2024-07-20T15:21:30.573Z"
   },
   {
    "duration": 103,
    "start_time": "2024-07-20T15:21:30.622Z"
   },
   {
    "duration": 6,
    "start_time": "2024-07-20T15:21:30.741Z"
   },
   {
    "duration": 24,
    "start_time": "2024-07-20T15:21:30.751Z"
   },
   {
    "duration": 42,
    "start_time": "2024-07-20T15:21:30.778Z"
   },
   {
    "duration": 17,
    "start_time": "2024-07-20T15:21:30.833Z"
   },
   {
    "duration": 525,
    "start_time": "2024-07-20T15:21:30.852Z"
   },
   {
    "duration": 1209,
    "start_time": "2024-07-20T15:21:31.380Z"
   },
   {
    "duration": 491,
    "start_time": "2024-07-20T15:21:32.592Z"
   },
   {
    "duration": 1972,
    "start_time": "2024-07-20T15:21:33.086Z"
   },
   {
    "duration": 329,
    "start_time": "2024-07-20T15:21:35.065Z"
   },
   {
    "duration": 47,
    "start_time": "2024-07-20T15:21:35.396Z"
   },
   {
    "duration": 31,
    "start_time": "2024-07-20T15:21:35.447Z"
   },
   {
    "duration": 184,
    "start_time": "2024-07-20T15:21:35.482Z"
   },
   {
    "duration": 467,
    "start_time": "2024-07-20T15:21:35.669Z"
   },
   {
    "duration": 29,
    "start_time": "2024-07-20T15:21:36.149Z"
   },
   {
    "duration": 547,
    "start_time": "2024-07-20T15:21:36.183Z"
   },
   {
    "duration": 126,
    "start_time": "2024-07-20T15:21:36.734Z"
   },
   {
    "duration": 1767,
    "start_time": "2024-07-20T15:21:36.863Z"
   },
   {
    "duration": 13595,
    "start_time": "2024-07-20T15:21:38.632Z"
   },
   {
    "duration": 533,
    "start_time": "2024-07-20T15:21:52.230Z"
   },
   {
    "duration": 35556,
    "start_time": "2024-07-20T15:21:52.766Z"
   },
   {
    "duration": 9113,
    "start_time": "2024-07-20T15:22:28.325Z"
   },
   {
    "duration": 3116,
    "start_time": "2024-07-20T15:22:37.443Z"
   },
   {
    "duration": 679,
    "start_time": "2024-07-20T15:22:40.564Z"
   },
   {
    "duration": 11,
    "start_time": "2024-07-20T20:41:25.692Z"
   },
   {
    "duration": 6,
    "start_time": "2024-07-20T20:42:05.783Z"
   },
   {
    "duration": 319,
    "start_time": "2024-07-21T00:21:24.028Z"
   },
   {
    "duration": 5346,
    "start_time": "2024-07-21T00:23:21.560Z"
   },
   {
    "duration": 789,
    "start_time": "2024-07-21T00:23:26.909Z"
   },
   {
    "duration": 42,
    "start_time": "2024-07-21T00:23:27.700Z"
   },
   {
    "duration": 5,
    "start_time": "2024-07-21T00:23:27.745Z"
   },
   {
    "duration": 161,
    "start_time": "2024-07-21T00:23:27.755Z"
   },
   {
    "duration": 153,
    "start_time": "2024-07-21T00:23:27.920Z"
   },
   {
    "duration": 408,
    "start_time": "2024-07-21T00:23:28.076Z"
   },
   {
    "duration": 151,
    "start_time": "2024-07-21T00:23:28.487Z"
   },
   {
    "duration": 27,
    "start_time": "2024-07-21T00:23:28.641Z"
   },
   {
    "duration": 27,
    "start_time": "2024-07-21T00:23:28.671Z"
   },
   {
    "duration": 64,
    "start_time": "2024-07-21T00:23:28.701Z"
   },
   {
    "duration": 25,
    "start_time": "2024-07-21T00:23:28.768Z"
   },
   {
    "duration": 68,
    "start_time": "2024-07-21T00:23:28.797Z"
   },
   {
    "duration": 57,
    "start_time": "2024-07-21T00:23:28.873Z"
   },
   {
    "duration": 502,
    "start_time": "2024-07-21T00:23:28.933Z"
   },
   {
    "duration": 0,
    "start_time": "2024-07-21T00:23:29.438Z"
   },
   {
    "duration": 0,
    "start_time": "2024-07-21T00:23:29.439Z"
   },
   {
    "duration": 0,
    "start_time": "2024-07-21T00:23:29.442Z"
   },
   {
    "duration": 0,
    "start_time": "2024-07-21T00:23:29.445Z"
   },
   {
    "duration": 0,
    "start_time": "2024-07-21T00:23:29.447Z"
   },
   {
    "duration": 0,
    "start_time": "2024-07-21T00:23:29.450Z"
   },
   {
    "duration": 0,
    "start_time": "2024-07-21T00:23:29.452Z"
   },
   {
    "duration": 0,
    "start_time": "2024-07-21T00:23:29.454Z"
   },
   {
    "duration": 0,
    "start_time": "2024-07-21T00:23:29.456Z"
   },
   {
    "duration": 0,
    "start_time": "2024-07-21T00:23:29.459Z"
   },
   {
    "duration": 0,
    "start_time": "2024-07-21T00:23:29.462Z"
   },
   {
    "duration": 0,
    "start_time": "2024-07-21T00:23:29.464Z"
   },
   {
    "duration": 0,
    "start_time": "2024-07-21T00:23:29.466Z"
   },
   {
    "duration": 0,
    "start_time": "2024-07-21T00:23:29.468Z"
   },
   {
    "duration": 0,
    "start_time": "2024-07-21T00:23:29.470Z"
   },
   {
    "duration": 0,
    "start_time": "2024-07-21T00:23:29.472Z"
   },
   {
    "duration": 0,
    "start_time": "2024-07-21T00:23:29.474Z"
   },
   {
    "duration": 0,
    "start_time": "2024-07-21T00:23:29.530Z"
   },
   {
    "duration": 0,
    "start_time": "2024-07-21T00:23:29.533Z"
   },
   {
    "duration": 0,
    "start_time": "2024-07-21T00:23:29.535Z"
   },
   {
    "duration": 0,
    "start_time": "2024-07-21T00:23:29.539Z"
   },
   {
    "duration": 0,
    "start_time": "2024-07-21T00:23:29.541Z"
   },
   {
    "duration": 0,
    "start_time": "2024-07-21T00:23:29.547Z"
   },
   {
    "duration": 0,
    "start_time": "2024-07-21T00:23:29.549Z"
   },
   {
    "duration": 0,
    "start_time": "2024-07-21T00:23:29.552Z"
   },
   {
    "duration": 0,
    "start_time": "2024-07-21T00:23:29.554Z"
   },
   {
    "duration": 28,
    "start_time": "2024-07-21T00:25:43.446Z"
   },
   {
    "duration": 43,
    "start_time": "2024-07-21T00:25:49.369Z"
   },
   {
    "duration": 26,
    "start_time": "2024-07-21T00:27:17.908Z"
   },
   {
    "duration": 39,
    "start_time": "2024-07-21T00:27:20.512Z"
   },
   {
    "duration": 1635,
    "start_time": "2024-07-21T00:36:44.291Z"
   },
   {
    "duration": 729,
    "start_time": "2024-07-21T00:36:45.930Z"
   },
   {
    "duration": 27,
    "start_time": "2024-07-21T00:36:46.662Z"
   },
   {
    "duration": 6,
    "start_time": "2024-07-21T00:36:46.695Z"
   },
   {
    "duration": 173,
    "start_time": "2024-07-21T00:36:46.731Z"
   },
   {
    "duration": 145,
    "start_time": "2024-07-21T00:36:46.910Z"
   },
   {
    "duration": 406,
    "start_time": "2024-07-21T00:36:47.058Z"
   },
   {
    "duration": 153,
    "start_time": "2024-07-21T00:36:47.467Z"
   },
   {
    "duration": 33,
    "start_time": "2024-07-21T00:36:47.623Z"
   },
   {
    "duration": 27,
    "start_time": "2024-07-21T00:36:47.663Z"
   },
   {
    "duration": 65,
    "start_time": "2024-07-21T00:36:47.693Z"
   },
   {
    "duration": 27,
    "start_time": "2024-07-21T00:36:47.761Z"
   },
   {
    "duration": 66,
    "start_time": "2024-07-21T00:36:47.791Z"
   },
   {
    "duration": 120,
    "start_time": "2024-07-21T00:36:47.859Z"
   },
   {
    "duration": 152,
    "start_time": "2024-07-21T00:36:47.982Z"
   },
   {
    "duration": 445,
    "start_time": "2024-07-21T00:36:48.137Z"
   },
   {
    "duration": 0,
    "start_time": "2024-07-21T00:36:48.586Z"
   },
   {
    "duration": 0,
    "start_time": "2024-07-21T00:36:48.588Z"
   },
   {
    "duration": 0,
    "start_time": "2024-07-21T00:36:48.591Z"
   },
   {
    "duration": 0,
    "start_time": "2024-07-21T00:36:48.593Z"
   },
   {
    "duration": 0,
    "start_time": "2024-07-21T00:36:48.596Z"
   },
   {
    "duration": 0,
    "start_time": "2024-07-21T00:36:48.598Z"
   },
   {
    "duration": 0,
    "start_time": "2024-07-21T00:36:48.599Z"
   },
   {
    "duration": 0,
    "start_time": "2024-07-21T00:36:48.600Z"
   },
   {
    "duration": 0,
    "start_time": "2024-07-21T00:36:48.603Z"
   },
   {
    "duration": 0,
    "start_time": "2024-07-21T00:36:48.632Z"
   },
   {
    "duration": 0,
    "start_time": "2024-07-21T00:36:48.634Z"
   },
   {
    "duration": 0,
    "start_time": "2024-07-21T00:36:48.636Z"
   },
   {
    "duration": 0,
    "start_time": "2024-07-21T00:36:48.637Z"
   },
   {
    "duration": 0,
    "start_time": "2024-07-21T00:36:48.639Z"
   },
   {
    "duration": 0,
    "start_time": "2024-07-21T00:36:48.643Z"
   },
   {
    "duration": 0,
    "start_time": "2024-07-21T00:36:48.645Z"
   },
   {
    "duration": 0,
    "start_time": "2024-07-21T00:36:48.651Z"
   },
   {
    "duration": 0,
    "start_time": "2024-07-21T00:36:48.653Z"
   },
   {
    "duration": 0,
    "start_time": "2024-07-21T00:36:48.655Z"
   },
   {
    "duration": 0,
    "start_time": "2024-07-21T00:36:48.657Z"
   },
   {
    "duration": 0,
    "start_time": "2024-07-21T00:36:48.659Z"
   },
   {
    "duration": 0,
    "start_time": "2024-07-21T00:36:48.661Z"
   },
   {
    "duration": 0,
    "start_time": "2024-07-21T00:36:48.663Z"
   },
   {
    "duration": 0,
    "start_time": "2024-07-21T00:36:48.665Z"
   },
   {
    "duration": 0,
    "start_time": "2024-07-21T00:36:48.667Z"
   },
   {
    "duration": 0,
    "start_time": "2024-07-21T00:36:48.669Z"
   },
   {
    "duration": 1638,
    "start_time": "2024-07-21T00:37:27.787Z"
   },
   {
    "duration": 729,
    "start_time": "2024-07-21T00:37:29.430Z"
   },
   {
    "duration": 28,
    "start_time": "2024-07-21T00:37:30.162Z"
   },
   {
    "duration": 6,
    "start_time": "2024-07-21T00:37:30.194Z"
   },
   {
    "duration": 180,
    "start_time": "2024-07-21T00:37:30.203Z"
   },
   {
    "duration": 155,
    "start_time": "2024-07-21T00:37:30.386Z"
   },
   {
    "duration": 428,
    "start_time": "2024-07-21T00:37:30.544Z"
   },
   {
    "duration": 168,
    "start_time": "2024-07-21T00:37:30.975Z"
   },
   {
    "duration": 27,
    "start_time": "2024-07-21T00:37:31.146Z"
   },
   {
    "duration": 50,
    "start_time": "2024-07-21T00:37:31.180Z"
   },
   {
    "duration": 40,
    "start_time": "2024-07-21T00:37:31.233Z"
   },
   {
    "duration": 26,
    "start_time": "2024-07-21T00:37:31.275Z"
   },
   {
    "duration": 40,
    "start_time": "2024-07-21T00:37:31.332Z"
   },
   {
    "duration": 131,
    "start_time": "2024-07-21T00:37:31.377Z"
   },
   {
    "duration": 152,
    "start_time": "2024-07-21T00:37:31.510Z"
   },
   {
    "duration": 170,
    "start_time": "2024-07-21T00:37:31.665Z"
   },
   {
    "duration": 466,
    "start_time": "2024-07-21T00:37:31.838Z"
   },
   {
    "duration": 0,
    "start_time": "2024-07-21T00:37:32.308Z"
   },
   {
    "duration": 0,
    "start_time": "2024-07-21T00:37:32.311Z"
   },
   {
    "duration": 0,
    "start_time": "2024-07-21T00:37:32.330Z"
   },
   {
    "duration": 0,
    "start_time": "2024-07-21T00:37:32.331Z"
   },
   {
    "duration": 0,
    "start_time": "2024-07-21T00:37:32.334Z"
   },
   {
    "duration": 0,
    "start_time": "2024-07-21T00:37:32.335Z"
   },
   {
    "duration": 0,
    "start_time": "2024-07-21T00:37:32.339Z"
   },
   {
    "duration": 0,
    "start_time": "2024-07-21T00:37:32.341Z"
   },
   {
    "duration": 0,
    "start_time": "2024-07-21T00:37:32.343Z"
   },
   {
    "duration": 0,
    "start_time": "2024-07-21T00:37:32.346Z"
   },
   {
    "duration": 0,
    "start_time": "2024-07-21T00:37:32.348Z"
   },
   {
    "duration": 0,
    "start_time": "2024-07-21T00:37:32.350Z"
   },
   {
    "duration": 0,
    "start_time": "2024-07-21T00:37:32.352Z"
   },
   {
    "duration": 0,
    "start_time": "2024-07-21T00:37:32.354Z"
   },
   {
    "duration": 0,
    "start_time": "2024-07-21T00:37:32.356Z"
   },
   {
    "duration": 0,
    "start_time": "2024-07-21T00:37:32.359Z"
   },
   {
    "duration": 0,
    "start_time": "2024-07-21T00:37:32.360Z"
   },
   {
    "duration": 0,
    "start_time": "2024-07-21T00:37:32.363Z"
   },
   {
    "duration": 0,
    "start_time": "2024-07-21T00:37:32.366Z"
   },
   {
    "duration": 0,
    "start_time": "2024-07-21T00:37:32.369Z"
   },
   {
    "duration": 0,
    "start_time": "2024-07-21T00:37:32.431Z"
   },
   {
    "duration": 0,
    "start_time": "2024-07-21T00:37:32.432Z"
   },
   {
    "duration": 0,
    "start_time": "2024-07-21T00:37:32.434Z"
   },
   {
    "duration": 0,
    "start_time": "2024-07-21T00:37:32.437Z"
   },
   {
    "duration": 0,
    "start_time": "2024-07-21T00:37:32.439Z"
   },
   {
    "duration": 0,
    "start_time": "2024-07-21T00:37:32.441Z"
   },
   {
    "duration": 2054,
    "start_time": "2024-07-21T00:59:50.902Z"
   },
   {
    "duration": 728,
    "start_time": "2024-07-21T00:59:52.960Z"
   },
   {
    "duration": 39,
    "start_time": "2024-07-21T00:59:53.691Z"
   },
   {
    "duration": 6,
    "start_time": "2024-07-21T00:59:53.733Z"
   },
   {
    "duration": 161,
    "start_time": "2024-07-21T00:59:53.745Z"
   },
   {
    "duration": 144,
    "start_time": "2024-07-21T00:59:53.909Z"
   },
   {
    "duration": 424,
    "start_time": "2024-07-21T00:59:54.055Z"
   },
   {
    "duration": 158,
    "start_time": "2024-07-21T00:59:54.482Z"
   },
   {
    "duration": 36,
    "start_time": "2024-07-21T00:59:54.643Z"
   },
   {
    "duration": 49,
    "start_time": "2024-07-21T00:59:54.682Z"
   },
   {
    "duration": 44,
    "start_time": "2024-07-21T00:59:54.735Z"
   },
   {
    "duration": 52,
    "start_time": "2024-07-21T00:59:54.783Z"
   },
   {
    "duration": 45,
    "start_time": "2024-07-21T00:59:54.843Z"
   },
   {
    "duration": 202,
    "start_time": "2024-07-21T00:59:54.930Z"
   },
   {
    "duration": 153,
    "start_time": "2024-07-21T00:59:55.135Z"
   },
   {
    "duration": 66,
    "start_time": "2024-07-21T00:59:55.291Z"
   },
   {
    "duration": 124,
    "start_time": "2024-07-21T00:59:55.360Z"
   },
   {
    "duration": 7,
    "start_time": "2024-07-21T00:59:55.488Z"
   },
   {
    "duration": 63,
    "start_time": "2024-07-21T00:59:55.499Z"
   },
   {
    "duration": 38,
    "start_time": "2024-07-21T00:59:55.565Z"
   },
   {
    "duration": 44,
    "start_time": "2024-07-21T00:59:55.607Z"
   },
   {
    "duration": 500,
    "start_time": "2024-07-21T00:59:55.655Z"
   },
   {
    "duration": 0,
    "start_time": "2024-07-21T00:59:56.157Z"
   },
   {
    "duration": 0,
    "start_time": "2024-07-21T00:59:56.160Z"
   },
   {
    "duration": 0,
    "start_time": "2024-07-21T00:59:56.163Z"
   },
   {
    "duration": 0,
    "start_time": "2024-07-21T00:59:56.165Z"
   },
   {
    "duration": 0,
    "start_time": "2024-07-21T00:59:56.167Z"
   },
   {
    "duration": 0,
    "start_time": "2024-07-21T00:59:56.169Z"
   },
   {
    "duration": 0,
    "start_time": "2024-07-21T00:59:56.171Z"
   },
   {
    "duration": 0,
    "start_time": "2024-07-21T00:59:56.172Z"
   },
   {
    "duration": 0,
    "start_time": "2024-07-21T00:59:56.175Z"
   },
   {
    "duration": 0,
    "start_time": "2024-07-21T00:59:56.177Z"
   },
   {
    "duration": 0,
    "start_time": "2024-07-21T00:59:56.179Z"
   },
   {
    "duration": 0,
    "start_time": "2024-07-21T00:59:56.181Z"
   },
   {
    "duration": 0,
    "start_time": "2024-07-21T00:59:56.184Z"
   },
   {
    "duration": 0,
    "start_time": "2024-07-21T00:59:56.230Z"
   },
   {
    "duration": 0,
    "start_time": "2024-07-21T00:59:56.233Z"
   },
   {
    "duration": 0,
    "start_time": "2024-07-21T00:59:56.236Z"
   },
   {
    "duration": 0,
    "start_time": "2024-07-21T00:59:56.237Z"
   },
   {
    "duration": 0,
    "start_time": "2024-07-21T00:59:56.240Z"
   },
   {
    "duration": 0,
    "start_time": "2024-07-21T00:59:56.242Z"
   },
   {
    "duration": 1710,
    "start_time": "2024-07-21T01:05:00.450Z"
   },
   {
    "duration": 767,
    "start_time": "2024-07-21T01:05:02.164Z"
   },
   {
    "duration": 28,
    "start_time": "2024-07-21T01:05:02.934Z"
   },
   {
    "duration": 6,
    "start_time": "2024-07-21T01:05:02.967Z"
   },
   {
    "duration": 178,
    "start_time": "2024-07-21T01:05:02.976Z"
   },
   {
    "duration": 139,
    "start_time": "2024-07-21T01:05:03.157Z"
   },
   {
    "duration": 432,
    "start_time": "2024-07-21T01:05:03.299Z"
   },
   {
    "duration": 154,
    "start_time": "2024-07-21T01:05:03.734Z"
   },
   {
    "duration": 40,
    "start_time": "2024-07-21T01:05:03.890Z"
   },
   {
    "duration": 27,
    "start_time": "2024-07-21T01:05:03.938Z"
   },
   {
    "duration": 40,
    "start_time": "2024-07-21T01:05:03.967Z"
   },
   {
    "duration": 27,
    "start_time": "2024-07-21T01:05:04.031Z"
   },
   {
    "duration": 41,
    "start_time": "2024-07-21T01:05:04.060Z"
   },
   {
    "duration": 134,
    "start_time": "2024-07-21T01:05:04.104Z"
   },
   {
    "duration": 141,
    "start_time": "2024-07-21T01:05:04.242Z"
   },
   {
    "duration": 67,
    "start_time": "2024-07-21T01:05:04.387Z"
   },
   {
    "duration": 99,
    "start_time": "2024-07-21T01:05:04.457Z"
   },
   {
    "duration": 6,
    "start_time": "2024-07-21T01:05:04.559Z"
   },
   {
    "duration": 62,
    "start_time": "2024-07-21T01:05:04.569Z"
   },
   {
    "duration": 41,
    "start_time": "2024-07-21T01:05:04.635Z"
   },
   {
    "duration": 16,
    "start_time": "2024-07-21T01:05:04.680Z"
   },
   {
    "duration": 583,
    "start_time": "2024-07-21T01:05:04.699Z"
   },
   {
    "duration": 1541,
    "start_time": "2024-07-21T01:05:05.285Z"
   },
   {
    "duration": 524,
    "start_time": "2024-07-21T01:05:06.831Z"
   },
   {
    "duration": 2766,
    "start_time": "2024-07-21T01:05:07.358Z"
   },
   {
    "duration": 360,
    "start_time": "2024-07-21T01:05:10.131Z"
   },
   {
    "duration": 44,
    "start_time": "2024-07-21T01:05:10.494Z"
   },
   {
    "duration": 39,
    "start_time": "2024-07-21T01:05:10.546Z"
   },
   {
    "duration": 222,
    "start_time": "2024-07-21T01:05:10.589Z"
   },
   {
    "duration": 493,
    "start_time": "2024-07-21T01:05:10.814Z"
   },
   {
    "duration": 53,
    "start_time": "2024-07-21T01:05:11.310Z"
   },
   {
    "duration": 618,
    "start_time": "2024-07-21T01:05:11.366Z"
   },
   {
    "duration": 208,
    "start_time": "2024-07-21T01:05:11.989Z"
   },
   {
    "duration": 2480,
    "start_time": "2024-07-21T01:05:12.200Z"
   },
   {
    "duration": 2162,
    "start_time": "2024-07-21T01:56:30.969Z"
   },
   {
    "duration": 1125,
    "start_time": "2024-07-21T01:56:33.136Z"
   },
   {
    "duration": 37,
    "start_time": "2024-07-21T01:56:34.265Z"
   },
   {
    "duration": 6,
    "start_time": "2024-07-21T01:56:34.307Z"
   },
   {
    "duration": 239,
    "start_time": "2024-07-21T01:56:34.333Z"
   },
   {
    "duration": 229,
    "start_time": "2024-07-21T01:56:34.576Z"
   },
   {
    "duration": 511,
    "start_time": "2024-07-21T01:56:34.809Z"
   },
   {
    "duration": 210,
    "start_time": "2024-07-21T01:56:35.332Z"
   },
   {
    "duration": 26,
    "start_time": "2024-07-21T01:56:35.547Z"
   },
   {
    "duration": 59,
    "start_time": "2024-07-21T01:56:35.581Z"
   },
   {
    "duration": 72,
    "start_time": "2024-07-21T01:56:35.643Z"
   },
   {
    "duration": 39,
    "start_time": "2024-07-21T01:56:35.719Z"
   },
   {
    "duration": 70,
    "start_time": "2024-07-21T01:56:35.762Z"
   },
   {
    "duration": 165,
    "start_time": "2024-07-21T01:56:35.838Z"
   },
   {
    "duration": 170,
    "start_time": "2024-07-21T01:56:36.006Z"
   },
   {
    "duration": 70,
    "start_time": "2024-07-21T01:56:36.179Z"
   },
   {
    "duration": 125,
    "start_time": "2024-07-21T01:56:36.252Z"
   },
   {
    "duration": 6,
    "start_time": "2024-07-21T01:56:36.381Z"
   },
   {
    "duration": 60,
    "start_time": "2024-07-21T01:56:36.392Z"
   },
   {
    "duration": 39,
    "start_time": "2024-07-21T01:56:36.455Z"
   },
   {
    "duration": 44,
    "start_time": "2024-07-21T01:56:36.497Z"
   },
   {
    "duration": 633,
    "start_time": "2024-07-21T01:56:36.545Z"
   },
   {
    "duration": 1555,
    "start_time": "2024-07-21T01:56:37.182Z"
   },
   {
    "duration": 567,
    "start_time": "2024-07-21T01:56:38.741Z"
   },
   {
    "duration": 3010,
    "start_time": "2024-07-21T01:56:39.311Z"
   },
   {
    "duration": 360,
    "start_time": "2024-07-21T01:56:42.324Z"
   },
   {
    "duration": 52,
    "start_time": "2024-07-21T01:56:42.689Z"
   },
   {
    "duration": 56,
    "start_time": "2024-07-21T01:56:42.753Z"
   },
   {
    "duration": 266,
    "start_time": "2024-07-21T01:56:42.814Z"
   },
   {
    "duration": 584,
    "start_time": "2024-07-21T01:56:43.084Z"
   },
   {
    "duration": 40,
    "start_time": "2024-07-21T01:56:43.672Z"
   },
   {
    "duration": 648,
    "start_time": "2024-07-21T01:56:43.731Z"
   },
   {
    "duration": 248,
    "start_time": "2024-07-21T01:56:44.383Z"
   },
   {
    "duration": 567,
    "start_time": "2024-07-21T01:56:44.636Z"
   },
   {
    "duration": 0,
    "start_time": "2024-07-21T01:56:45.206Z"
   },
   {
    "duration": 0,
    "start_time": "2024-07-21T01:56:45.209Z"
   },
   {
    "duration": 0,
    "start_time": "2024-07-21T01:56:45.211Z"
   },
   {
    "duration": 0,
    "start_time": "2024-07-21T01:56:45.232Z"
   },
   {
    "duration": 0,
    "start_time": "2024-07-21T01:56:45.235Z"
   },
   {
    "duration": 0,
    "start_time": "2024-07-21T01:56:45.237Z"
   },
   {
    "duration": 0,
    "start_time": "2024-07-21T01:56:45.240Z"
   },
   {
    "duration": 1806,
    "start_time": "2024-07-21T02:00:40.897Z"
   },
   {
    "duration": 820,
    "start_time": "2024-07-21T02:00:42.708Z"
   },
   {
    "duration": 26,
    "start_time": "2024-07-21T02:00:43.531Z"
   },
   {
    "duration": 6,
    "start_time": "2024-07-21T02:00:43.562Z"
   },
   {
    "duration": 176,
    "start_time": "2024-07-21T02:00:43.573Z"
   },
   {
    "duration": 153,
    "start_time": "2024-07-21T02:00:43.752Z"
   },
   {
    "duration": 418,
    "start_time": "2024-07-21T02:00:43.907Z"
   },
   {
    "duration": 157,
    "start_time": "2024-07-21T02:00:44.327Z"
   },
   {
    "duration": 31,
    "start_time": "2024-07-21T02:00:44.487Z"
   },
   {
    "duration": 32,
    "start_time": "2024-07-21T02:00:44.538Z"
   },
   {
    "duration": 61,
    "start_time": "2024-07-21T02:00:44.574Z"
   },
   {
    "duration": 27,
    "start_time": "2024-07-21T02:00:44.638Z"
   },
   {
    "duration": 62,
    "start_time": "2024-07-21T02:00:44.668Z"
   },
   {
    "duration": 129,
    "start_time": "2024-07-21T02:00:44.734Z"
   },
   {
    "duration": 148,
    "start_time": "2024-07-21T02:00:44.866Z"
   },
   {
    "duration": 50,
    "start_time": "2024-07-21T02:00:45.029Z"
   },
   {
    "duration": 103,
    "start_time": "2024-07-21T02:00:45.082Z"
   },
   {
    "duration": 5,
    "start_time": "2024-07-21T02:00:45.188Z"
   },
   {
    "duration": 59,
    "start_time": "2024-07-21T02:00:45.197Z"
   },
   {
    "duration": 38,
    "start_time": "2024-07-21T02:00:45.259Z"
   },
   {
    "duration": 34,
    "start_time": "2024-07-21T02:00:45.301Z"
   },
   {
    "duration": 584,
    "start_time": "2024-07-21T02:00:45.338Z"
   },
   {
    "duration": 1542,
    "start_time": "2024-07-21T02:00:45.925Z"
   },
   {
    "duration": 518,
    "start_time": "2024-07-21T02:00:47.469Z"
   },
   {
    "duration": 2715,
    "start_time": "2024-07-21T02:00:47.990Z"
   },
   {
    "duration": 330,
    "start_time": "2024-07-21T02:00:50.708Z"
   },
   {
    "duration": 41,
    "start_time": "2024-07-21T02:00:51.041Z"
   },
   {
    "duration": 61,
    "start_time": "2024-07-21T02:00:51.089Z"
   },
   {
    "duration": 220,
    "start_time": "2024-07-21T02:00:51.154Z"
   },
   {
    "duration": 521,
    "start_time": "2024-07-21T02:00:51.377Z"
   },
   {
    "duration": 49,
    "start_time": "2024-07-21T02:00:51.901Z"
   },
   {
    "duration": 643,
    "start_time": "2024-07-21T02:00:51.953Z"
   },
   {
    "duration": 192,
    "start_time": "2024-07-21T02:00:52.599Z"
   },
   {
    "duration": 5347,
    "start_time": "2024-07-21T04:40:56.492Z"
   },
   {
    "duration": 827,
    "start_time": "2024-07-21T04:41:01.843Z"
   },
   {
    "duration": 28,
    "start_time": "2024-07-21T04:41:02.673Z"
   },
   {
    "duration": 6,
    "start_time": "2024-07-21T04:41:02.704Z"
   },
   {
    "duration": 156,
    "start_time": "2024-07-21T04:41:02.733Z"
   },
   {
    "duration": 162,
    "start_time": "2024-07-21T04:41:02.892Z"
   },
   {
    "duration": 434,
    "start_time": "2024-07-21T04:41:03.058Z"
   },
   {
    "duration": 163,
    "start_time": "2024-07-21T04:41:03.495Z"
   },
   {
    "duration": 33,
    "start_time": "2024-07-21T04:41:03.661Z"
   },
   {
    "duration": 43,
    "start_time": "2024-07-21T04:41:03.697Z"
   },
   {
    "duration": 40,
    "start_time": "2024-07-21T04:41:03.744Z"
   },
   {
    "duration": 56,
    "start_time": "2024-07-21T04:41:03.787Z"
   },
   {
    "duration": 43,
    "start_time": "2024-07-21T04:41:03.846Z"
   },
   {
    "duration": 127,
    "start_time": "2024-07-21T04:41:03.897Z"
   },
   {
    "duration": 145,
    "start_time": "2024-07-21T04:41:04.031Z"
   },
   {
    "duration": 64,
    "start_time": "2024-07-21T04:41:04.181Z"
   },
   {
    "duration": 99,
    "start_time": "2024-07-21T04:41:04.248Z"
   },
   {
    "duration": 6,
    "start_time": "2024-07-21T04:41:04.350Z"
   },
   {
    "duration": 29,
    "start_time": "2024-07-21T04:41:04.359Z"
   },
   {
    "duration": 74,
    "start_time": "2024-07-21T04:41:04.391Z"
   },
   {
    "duration": 21,
    "start_time": "2024-07-21T04:41:04.468Z"
   },
   {
    "duration": 581,
    "start_time": "2024-07-21T04:41:04.493Z"
   },
   {
    "duration": 1622,
    "start_time": "2024-07-21T04:41:05.078Z"
   },
   {
    "duration": 529,
    "start_time": "2024-07-21T04:41:06.703Z"
   },
   {
    "duration": 2761,
    "start_time": "2024-07-21T04:41:07.236Z"
   },
   {
    "duration": 291,
    "start_time": "2024-07-21T04:41:10.000Z"
   },
   {
    "duration": 48,
    "start_time": "2024-07-21T04:41:10.294Z"
   },
   {
    "duration": 43,
    "start_time": "2024-07-21T04:41:10.345Z"
   },
   {
    "duration": 215,
    "start_time": "2024-07-21T04:41:10.392Z"
   },
   {
    "duration": 512,
    "start_time": "2024-07-21T04:41:10.609Z"
   },
   {
    "duration": 45,
    "start_time": "2024-07-21T04:41:11.124Z"
   },
   {
    "duration": 623,
    "start_time": "2024-07-21T04:41:11.172Z"
   },
   {
    "duration": 194,
    "start_time": "2024-07-21T04:41:11.801Z"
   },
   {
    "duration": 5,
    "start_time": "2024-07-21T04:41:11.999Z"
   },
   {
    "duration": 27,
    "start_time": "2024-07-21T04:41:12.008Z"
   },
   {
    "duration": 65,
    "start_time": "2024-07-21T04:41:12.038Z"
   },
   {
    "duration": 1175,
    "start_time": "2024-07-21T04:41:12.106Z"
   },
   {
    "duration": 5,
    "start_time": "2024-07-21T04:41:13.284Z"
   },
   {
    "duration": 13,
    "start_time": "2024-07-21T04:41:13.292Z"
   },
   {
    "duration": 1645,
    "start_time": "2024-07-21T04:52:16.488Z"
   },
   {
    "duration": 815,
    "start_time": "2024-07-21T04:52:18.137Z"
   },
   {
    "duration": 27,
    "start_time": "2024-07-21T04:52:18.955Z"
   },
   {
    "duration": 6,
    "start_time": "2024-07-21T04:52:18.985Z"
   },
   {
    "duration": 176,
    "start_time": "2024-07-21T04:52:18.997Z"
   },
   {
    "duration": 156,
    "start_time": "2024-07-21T04:52:19.176Z"
   },
   {
    "duration": 418,
    "start_time": "2024-07-21T04:52:19.335Z"
   },
   {
    "duration": 153,
    "start_time": "2024-07-21T04:52:19.756Z"
   },
   {
    "duration": 32,
    "start_time": "2024-07-21T04:52:19.912Z"
   },
   {
    "duration": 29,
    "start_time": "2024-07-21T04:52:19.948Z"
   },
   {
    "duration": 59,
    "start_time": "2024-07-21T04:52:19.980Z"
   },
   {
    "duration": 27,
    "start_time": "2024-07-21T04:52:20.043Z"
   },
   {
    "duration": 64,
    "start_time": "2024-07-21T04:52:20.073Z"
   },
   {
    "duration": 118,
    "start_time": "2024-07-21T04:52:20.145Z"
   },
   {
    "duration": 143,
    "start_time": "2024-07-21T04:52:20.266Z"
   },
   {
    "duration": 68,
    "start_time": "2024-07-21T04:52:20.412Z"
   },
   {
    "duration": 112,
    "start_time": "2024-07-21T04:52:20.483Z"
   },
   {
    "duration": 6,
    "start_time": "2024-07-21T04:52:20.597Z"
   },
   {
    "duration": 50,
    "start_time": "2024-07-21T04:52:20.605Z"
   },
   {
    "duration": 38,
    "start_time": "2024-07-21T04:52:20.658Z"
   },
   {
    "duration": 47,
    "start_time": "2024-07-21T04:52:20.700Z"
   },
   {
    "duration": 558,
    "start_time": "2024-07-21T04:52:20.751Z"
   },
   {
    "duration": 1556,
    "start_time": "2024-07-21T04:52:21.312Z"
   },
   {
    "duration": 524,
    "start_time": "2024-07-21T04:52:22.872Z"
   },
   {
    "duration": 2810,
    "start_time": "2024-07-21T04:52:23.399Z"
   },
   {
    "duration": 329,
    "start_time": "2024-07-21T04:52:26.212Z"
   },
   {
    "duration": 40,
    "start_time": "2024-07-21T04:52:26.544Z"
   },
   {
    "duration": 61,
    "start_time": "2024-07-21T04:52:26.587Z"
   },
   {
    "duration": 209,
    "start_time": "2024-07-21T04:52:26.651Z"
   },
   {
    "duration": 520,
    "start_time": "2024-07-21T04:52:26.863Z"
   },
   {
    "duration": 48,
    "start_time": "2024-07-21T04:52:27.386Z"
   },
   {
    "duration": 597,
    "start_time": "2024-07-21T04:52:27.438Z"
   },
   {
    "duration": 192,
    "start_time": "2024-07-21T04:52:28.038Z"
   },
   {
    "duration": 4,
    "start_time": "2024-07-21T04:52:28.234Z"
   },
   {
    "duration": 3,
    "start_time": "2024-07-21T04:52:28.243Z"
   },
   {
    "duration": 91,
    "start_time": "2024-07-21T04:52:28.250Z"
   },
   {
    "duration": 1072,
    "start_time": "2024-07-21T04:52:28.344Z"
   },
   {
    "duration": 12,
    "start_time": "2024-07-21T04:52:29.422Z"
   },
   {
    "duration": 6,
    "start_time": "2024-07-21T04:52:29.439Z"
   },
   {
    "duration": 15,
    "start_time": "2024-07-21T04:52:29.448Z"
   },
   {
    "duration": 5,
    "start_time": "2024-07-21T04:52:29.472Z"
   },
   {
    "duration": 1722,
    "start_time": "2024-07-21T05:01:32.368Z"
   },
   {
    "duration": 793,
    "start_time": "2024-07-21T05:01:34.093Z"
   },
   {
    "duration": 31,
    "start_time": "2024-07-21T05:01:34.891Z"
   },
   {
    "duration": 11,
    "start_time": "2024-07-21T05:01:34.925Z"
   },
   {
    "duration": 163,
    "start_time": "2024-07-21T05:01:34.939Z"
   },
   {
    "duration": 148,
    "start_time": "2024-07-21T05:01:35.105Z"
   },
   {
    "duration": 438,
    "start_time": "2024-07-21T05:01:35.255Z"
   },
   {
    "duration": 150,
    "start_time": "2024-07-21T05:01:35.696Z"
   },
   {
    "duration": 27,
    "start_time": "2024-07-21T05:01:35.849Z"
   },
   {
    "duration": 51,
    "start_time": "2024-07-21T05:01:35.883Z"
   },
   {
    "duration": 46,
    "start_time": "2024-07-21T05:01:35.937Z"
   },
   {
    "duration": 48,
    "start_time": "2024-07-21T05:01:35.986Z"
   },
   {
    "duration": 42,
    "start_time": "2024-07-21T05:01:36.037Z"
   },
   {
    "duration": 127,
    "start_time": "2024-07-21T05:01:36.082Z"
   },
   {
    "duration": 149,
    "start_time": "2024-07-21T05:01:36.211Z"
   },
   {
    "duration": 45,
    "start_time": "2024-07-21T05:01:36.363Z"
   },
   {
    "duration": 107,
    "start_time": "2024-07-21T05:01:36.432Z"
   },
   {
    "duration": 6,
    "start_time": "2024-07-21T05:01:36.541Z"
   },
   {
    "duration": 29,
    "start_time": "2024-07-21T05:01:36.550Z"
   },
   {
    "duration": 63,
    "start_time": "2024-07-21T05:01:36.582Z"
   },
   {
    "duration": 19,
    "start_time": "2024-07-21T05:01:36.648Z"
   },
   {
    "duration": 572,
    "start_time": "2024-07-21T05:01:36.670Z"
   },
   {
    "duration": 1534,
    "start_time": "2024-07-21T05:01:37.245Z"
   },
   {
    "duration": 522,
    "start_time": "2024-07-21T05:01:38.782Z"
   },
   {
    "duration": 2833,
    "start_time": "2024-07-21T05:01:39.308Z"
   },
   {
    "duration": 351,
    "start_time": "2024-07-21T05:01:42.146Z"
   },
   {
    "duration": 48,
    "start_time": "2024-07-21T05:01:42.500Z"
   },
   {
    "duration": 39,
    "start_time": "2024-07-21T05:01:42.557Z"
   },
   {
    "duration": 241,
    "start_time": "2024-07-21T05:01:42.600Z"
   },
   {
    "duration": 505,
    "start_time": "2024-07-21T05:01:42.845Z"
   },
   {
    "duration": 39,
    "start_time": "2024-07-21T05:01:43.353Z"
   },
   {
    "duration": 621,
    "start_time": "2024-07-21T05:01:43.395Z"
   },
   {
    "duration": 203,
    "start_time": "2024-07-21T05:01:44.019Z"
   },
   {
    "duration": 8,
    "start_time": "2024-07-21T05:01:44.225Z"
   },
   {
    "duration": 4,
    "start_time": "2024-07-21T05:01:44.236Z"
   },
   {
    "duration": 87,
    "start_time": "2024-07-21T05:01:44.243Z"
   },
   {
    "duration": 609,
    "start_time": "2024-07-21T05:01:44.333Z"
   },
   {
    "duration": 26617,
    "start_time": "2024-07-21T05:01:44.945Z"
   },
   {
    "duration": 5,
    "start_time": "2024-07-21T05:02:11.566Z"
   },
   {
    "duration": 14,
    "start_time": "2024-07-21T05:02:11.575Z"
   },
   {
    "duration": 5,
    "start_time": "2024-07-21T05:02:11.592Z"
   },
   {
    "duration": 35,
    "start_time": "2024-07-21T05:02:11.631Z"
   },
   {
    "duration": 394,
    "start_time": "2024-07-21T05:02:11.669Z"
   },
   {
    "duration": 0,
    "start_time": "2024-07-21T05:02:12.066Z"
   },
   {
    "duration": 0,
    "start_time": "2024-07-21T05:02:12.067Z"
   },
   {
    "duration": 0,
    "start_time": "2024-07-21T05:02:12.070Z"
   },
   {
    "duration": 0,
    "start_time": "2024-07-21T05:02:12.072Z"
   },
   {
    "duration": 0,
    "start_time": "2024-07-21T05:02:12.076Z"
   },
   {
    "duration": 0,
    "start_time": "2024-07-21T05:02:12.079Z"
   },
   {
    "duration": 0,
    "start_time": "2024-07-21T05:02:12.081Z"
   },
   {
    "duration": 1718,
    "start_time": "2024-07-21T05:44:31.735Z"
   },
   {
    "duration": 744,
    "start_time": "2024-07-21T05:44:33.456Z"
   },
   {
    "duration": 35,
    "start_time": "2024-07-21T05:44:34.202Z"
   },
   {
    "duration": 6,
    "start_time": "2024-07-21T05:44:34.241Z"
   },
   {
    "duration": 163,
    "start_time": "2024-07-21T05:44:34.250Z"
   },
   {
    "duration": 155,
    "start_time": "2024-07-21T05:44:34.416Z"
   },
   {
    "duration": 409,
    "start_time": "2024-07-21T05:44:34.574Z"
   },
   {
    "duration": 151,
    "start_time": "2024-07-21T05:44:34.986Z"
   },
   {
    "duration": 27,
    "start_time": "2024-07-21T05:44:35.140Z"
   },
   {
    "duration": 26,
    "start_time": "2024-07-21T05:44:35.174Z"
   },
   {
    "duration": 64,
    "start_time": "2024-07-21T05:44:35.203Z"
   },
   {
    "duration": 26,
    "start_time": "2024-07-21T05:44:35.269Z"
   },
   {
    "duration": 65,
    "start_time": "2024-07-21T05:44:35.298Z"
   },
   {
    "duration": 118,
    "start_time": "2024-07-21T05:44:35.365Z"
   },
   {
    "duration": 156,
    "start_time": "2024-07-21T05:44:35.486Z"
   },
   {
    "duration": 55,
    "start_time": "2024-07-21T05:44:35.646Z"
   },
   {
    "duration": 111,
    "start_time": "2024-07-21T05:44:35.704Z"
   },
   {
    "duration": 14,
    "start_time": "2024-07-21T05:44:35.819Z"
   },
   {
    "duration": 34,
    "start_time": "2024-07-21T05:44:35.837Z"
   },
   {
    "duration": 69,
    "start_time": "2024-07-21T05:44:35.874Z"
   },
   {
    "duration": 17,
    "start_time": "2024-07-21T05:44:35.946Z"
   },
   {
    "duration": 544,
    "start_time": "2024-07-21T05:44:35.967Z"
   },
   {
    "duration": 1529,
    "start_time": "2024-07-21T05:44:36.514Z"
   },
   {
    "duration": 536,
    "start_time": "2024-07-21T05:44:38.050Z"
   },
   {
    "duration": 2741,
    "start_time": "2024-07-21T05:44:38.589Z"
   },
   {
    "duration": 339,
    "start_time": "2024-07-21T05:44:41.333Z"
   },
   {
    "duration": 56,
    "start_time": "2024-07-21T05:44:41.674Z"
   },
   {
    "duration": 45,
    "start_time": "2024-07-21T05:44:41.737Z"
   },
   {
    "duration": 236,
    "start_time": "2024-07-21T05:44:41.785Z"
   },
   {
    "duration": 525,
    "start_time": "2024-07-21T05:44:42.024Z"
   },
   {
    "duration": 40,
    "start_time": "2024-07-21T05:44:42.552Z"
   },
   {
    "duration": 622,
    "start_time": "2024-07-21T05:44:42.598Z"
   },
   {
    "duration": 198,
    "start_time": "2024-07-21T05:44:43.222Z"
   },
   {
    "duration": 1108,
    "start_time": "2024-07-21T05:44:43.423Z"
   },
   {
    "duration": 451,
    "start_time": "2024-07-21T05:44:44.533Z"
   },
   {
    "duration": 0,
    "start_time": "2024-07-21T05:44:44.987Z"
   },
   {
    "duration": 0,
    "start_time": "2024-07-21T05:44:44.989Z"
   },
   {
    "duration": 0,
    "start_time": "2024-07-21T05:44:44.990Z"
   },
   {
    "duration": 0,
    "start_time": "2024-07-21T05:44:44.992Z"
   },
   {
    "duration": 0,
    "start_time": "2024-07-21T05:44:44.995Z"
   },
   {
    "duration": 0,
    "start_time": "2024-07-21T05:44:44.997Z"
   },
   {
    "duration": 0,
    "start_time": "2024-07-21T05:44:45.002Z"
   },
   {
    "duration": 0,
    "start_time": "2024-07-21T05:44:45.004Z"
   },
   {
    "duration": 0,
    "start_time": "2024-07-21T05:44:45.006Z"
   },
   {
    "duration": 0,
    "start_time": "2024-07-21T05:44:45.030Z"
   },
   {
    "duration": 17,
    "start_time": "2024-07-21T05:46:08.798Z"
   },
   {
    "duration": 1686,
    "start_time": "2024-07-21T05:46:43.952Z"
   },
   {
    "duration": 792,
    "start_time": "2024-07-21T05:46:45.642Z"
   },
   {
    "duration": 29,
    "start_time": "2024-07-21T05:46:46.437Z"
   },
   {
    "duration": 6,
    "start_time": "2024-07-21T05:46:46.470Z"
   },
   {
    "duration": 181,
    "start_time": "2024-07-21T05:46:46.479Z"
   },
   {
    "duration": 157,
    "start_time": "2024-07-21T05:46:46.663Z"
   },
   {
    "duration": 412,
    "start_time": "2024-07-21T05:46:46.823Z"
   },
   {
    "duration": 165,
    "start_time": "2024-07-21T05:46:47.238Z"
   },
   {
    "duration": 35,
    "start_time": "2024-07-21T05:46:47.406Z"
   },
   {
    "duration": 30,
    "start_time": "2024-07-21T05:46:47.450Z"
   },
   {
    "duration": 59,
    "start_time": "2024-07-21T05:46:47.484Z"
   },
   {
    "duration": 27,
    "start_time": "2024-07-21T05:46:47.546Z"
   },
   {
    "duration": 64,
    "start_time": "2024-07-21T05:46:47.576Z"
   },
   {
    "duration": 124,
    "start_time": "2024-07-21T05:46:47.646Z"
   },
   {
    "duration": 159,
    "start_time": "2024-07-21T05:46:47.772Z"
   },
   {
    "duration": 52,
    "start_time": "2024-07-21T05:46:47.934Z"
   },
   {
    "duration": 114,
    "start_time": "2024-07-21T05:46:47.989Z"
   },
   {
    "duration": 5,
    "start_time": "2024-07-21T05:46:48.106Z"
   },
   {
    "duration": 28,
    "start_time": "2024-07-21T05:46:48.130Z"
   },
   {
    "duration": 38,
    "start_time": "2024-07-21T05:46:48.162Z"
   },
   {
    "duration": 20,
    "start_time": "2024-07-21T05:46:48.229Z"
   },
   {
    "duration": 561,
    "start_time": "2024-07-21T05:46:48.252Z"
   },
   {
    "duration": 1541,
    "start_time": "2024-07-21T05:46:48.816Z"
   },
   {
    "duration": 530,
    "start_time": "2024-07-21T05:46:50.360Z"
   },
   {
    "duration": 2752,
    "start_time": "2024-07-21T05:46:50.893Z"
   },
   {
    "duration": 325,
    "start_time": "2024-07-21T05:46:53.648Z"
   },
   {
    "duration": 55,
    "start_time": "2024-07-21T05:46:53.977Z"
   },
   {
    "duration": 49,
    "start_time": "2024-07-21T05:46:54.040Z"
   },
   {
    "duration": 212,
    "start_time": "2024-07-21T05:46:54.095Z"
   },
   {
    "duration": 501,
    "start_time": "2024-07-21T05:46:54.310Z"
   },
   {
    "duration": 48,
    "start_time": "2024-07-21T05:46:54.815Z"
   },
   {
    "duration": 614,
    "start_time": "2024-07-21T05:46:54.867Z"
   },
   {
    "duration": 196,
    "start_time": "2024-07-21T05:46:55.484Z"
   },
   {
    "duration": 1122,
    "start_time": "2024-07-21T05:46:55.683Z"
   },
   {
    "duration": 25,
    "start_time": "2024-07-21T05:46:56.808Z"
   },
   {
    "duration": 320,
    "start_time": "2024-07-21T05:47:38.375Z"
   },
   {
    "duration": 1888,
    "start_time": "2024-07-21T05:47:49.172Z"
   },
   {
    "duration": 844,
    "start_time": "2024-07-21T05:47:51.064Z"
   },
   {
    "duration": 34,
    "start_time": "2024-07-21T05:47:51.911Z"
   },
   {
    "duration": 5,
    "start_time": "2024-07-21T05:47:51.951Z"
   },
   {
    "duration": 174,
    "start_time": "2024-07-21T05:47:51.959Z"
   },
   {
    "duration": 151,
    "start_time": "2024-07-21T05:47:52.137Z"
   },
   {
    "duration": 429,
    "start_time": "2024-07-21T05:47:52.290Z"
   },
   {
    "duration": 158,
    "start_time": "2024-07-21T05:47:52.721Z"
   },
   {
    "duration": 26,
    "start_time": "2024-07-21T05:47:52.882Z"
   },
   {
    "duration": 29,
    "start_time": "2024-07-21T05:47:52.932Z"
   },
   {
    "duration": 40,
    "start_time": "2024-07-21T05:47:52.964Z"
   },
   {
    "duration": 27,
    "start_time": "2024-07-21T05:47:53.030Z"
   },
   {
    "duration": 40,
    "start_time": "2024-07-21T05:47:53.061Z"
   },
   {
    "duration": 132,
    "start_time": "2024-07-21T05:47:53.104Z"
   },
   {
    "duration": 148,
    "start_time": "2024-07-21T05:47:53.239Z"
   },
   {
    "duration": 64,
    "start_time": "2024-07-21T05:47:53.390Z"
   },
   {
    "duration": 102,
    "start_time": "2024-07-21T05:47:53.457Z"
   },
   {
    "duration": 6,
    "start_time": "2024-07-21T05:47:53.562Z"
   },
   {
    "duration": 28,
    "start_time": "2024-07-21T05:47:53.572Z"
   },
   {
    "duration": 41,
    "start_time": "2024-07-21T05:47:53.632Z"
   },
   {
    "duration": 18,
    "start_time": "2024-07-21T05:47:53.678Z"
   },
   {
    "duration": 585,
    "start_time": "2024-07-21T05:47:53.699Z"
   },
   {
    "duration": 1543,
    "start_time": "2024-07-21T05:47:54.287Z"
   },
   {
    "duration": 528,
    "start_time": "2024-07-21T05:47:55.834Z"
   },
   {
    "duration": 2813,
    "start_time": "2024-07-21T05:47:56.365Z"
   },
   {
    "duration": 369,
    "start_time": "2024-07-21T05:47:59.182Z"
   },
   {
    "duration": 39,
    "start_time": "2024-07-21T05:47:59.555Z"
   },
   {
    "duration": 67,
    "start_time": "2024-07-21T05:47:59.631Z"
   },
   {
    "duration": 232,
    "start_time": "2024-07-21T05:47:59.701Z"
   },
   {
    "duration": 557,
    "start_time": "2024-07-21T05:47:59.936Z"
   },
   {
    "duration": 48,
    "start_time": "2024-07-21T05:48:00.499Z"
   },
   {
    "duration": 646,
    "start_time": "2024-07-21T05:48:00.550Z"
   },
   {
    "duration": 240,
    "start_time": "2024-07-21T05:48:01.199Z"
   },
   {
    "duration": 533,
    "start_time": "2024-07-21T05:48:01.442Z"
   },
   {
    "duration": 0,
    "start_time": "2024-07-21T05:48:01.979Z"
   },
   {
    "duration": 0,
    "start_time": "2024-07-21T05:48:01.982Z"
   },
   {
    "duration": 0,
    "start_time": "2024-07-21T05:48:01.984Z"
   },
   {
    "duration": 0,
    "start_time": "2024-07-21T05:48:01.987Z"
   },
   {
    "duration": 0,
    "start_time": "2024-07-21T05:48:01.990Z"
   },
   {
    "duration": 0,
    "start_time": "2024-07-21T05:48:01.992Z"
   },
   {
    "duration": 0,
    "start_time": "2024-07-21T05:48:02.000Z"
   },
   {
    "duration": 0,
    "start_time": "2024-07-21T05:48:02.002Z"
   },
   {
    "duration": 0,
    "start_time": "2024-07-21T05:48:02.003Z"
   },
   {
    "duration": 0,
    "start_time": "2024-07-21T05:48:02.004Z"
   },
   {
    "duration": 0,
    "start_time": "2024-07-21T05:48:02.006Z"
   },
   {
    "duration": 0,
    "start_time": "2024-07-21T05:48:02.007Z"
   },
   {
    "duration": 0,
    "start_time": "2024-07-21T05:48:02.036Z"
   },
   {
    "duration": 219,
    "start_time": "2024-07-21T05:48:17.394Z"
   },
   {
    "duration": 189,
    "start_time": "2024-07-21T05:48:22.864Z"
   },
   {
    "duration": 1737,
    "start_time": "2024-07-21T05:48:39.957Z"
   },
   {
    "duration": 798,
    "start_time": "2024-07-21T05:48:41.698Z"
   },
   {
    "duration": 37,
    "start_time": "2024-07-21T05:48:42.499Z"
   },
   {
    "duration": 6,
    "start_time": "2024-07-21T05:48:42.541Z"
   },
   {
    "duration": 176,
    "start_time": "2024-07-21T05:48:42.551Z"
   },
   {
    "duration": 150,
    "start_time": "2024-07-21T05:48:42.732Z"
   },
   {
    "duration": 420,
    "start_time": "2024-07-21T05:48:42.885Z"
   },
   {
    "duration": 156,
    "start_time": "2024-07-21T05:48:43.308Z"
   },
   {
    "duration": 27,
    "start_time": "2024-07-21T05:48:43.466Z"
   },
   {
    "duration": 47,
    "start_time": "2024-07-21T05:48:43.501Z"
   },
   {
    "duration": 47,
    "start_time": "2024-07-21T05:48:43.552Z"
   },
   {
    "duration": 47,
    "start_time": "2024-07-21T05:48:43.602Z"
   },
   {
    "duration": 41,
    "start_time": "2024-07-21T05:48:43.654Z"
   },
   {
    "duration": 150,
    "start_time": "2024-07-21T05:48:43.698Z"
   },
   {
    "duration": 146,
    "start_time": "2024-07-21T05:48:43.850Z"
   },
   {
    "duration": 68,
    "start_time": "2024-07-21T05:48:44.001Z"
   },
   {
    "duration": 105,
    "start_time": "2024-07-21T05:48:44.072Z"
   },
   {
    "duration": 6,
    "start_time": "2024-07-21T05:48:44.179Z"
   },
   {
    "duration": 54,
    "start_time": "2024-07-21T05:48:44.188Z"
   },
   {
    "duration": 41,
    "start_time": "2024-07-21T05:48:44.244Z"
   },
   {
    "duration": 46,
    "start_time": "2024-07-21T05:48:44.288Z"
   },
   {
    "duration": 585,
    "start_time": "2024-07-21T05:48:44.337Z"
   },
   {
    "duration": 1537,
    "start_time": "2024-07-21T05:48:44.930Z"
   },
   {
    "duration": 524,
    "start_time": "2024-07-21T05:48:46.470Z"
   },
   {
    "duration": 2736,
    "start_time": "2024-07-21T05:48:46.997Z"
   },
   {
    "duration": 329,
    "start_time": "2024-07-21T05:48:49.736Z"
   },
   {
    "duration": 40,
    "start_time": "2024-07-21T05:48:50.068Z"
   },
   {
    "duration": 39,
    "start_time": "2024-07-21T05:48:50.131Z"
   },
   {
    "duration": 229,
    "start_time": "2024-07-21T05:48:50.173Z"
   },
   {
    "duration": 495,
    "start_time": "2024-07-21T05:48:50.405Z"
   },
   {
    "duration": 47,
    "start_time": "2024-07-21T05:48:50.903Z"
   },
   {
    "duration": 618,
    "start_time": "2024-07-21T05:48:50.953Z"
   },
   {
    "duration": 221,
    "start_time": "2024-07-21T05:48:51.574Z"
   },
   {
    "duration": 1156,
    "start_time": "2024-07-21T05:48:51.798Z"
   },
   {
    "duration": 14,
    "start_time": "2024-07-21T05:48:52.956Z"
   },
   {
    "duration": 1286,
    "start_time": "2024-07-21T05:48:52.974Z"
   },
   {
    "duration": 8,
    "start_time": "2024-07-21T05:48:54.262Z"
   },
   {
    "duration": 325,
    "start_time": "2024-07-21T06:02:04.393Z"
   },
   {
    "duration": 1743,
    "start_time": "2024-07-21T06:02:16.934Z"
   },
   {
    "duration": 792,
    "start_time": "2024-07-21T06:02:18.682Z"
   },
   {
    "duration": 28,
    "start_time": "2024-07-21T06:02:19.476Z"
   },
   {
    "duration": 23,
    "start_time": "2024-07-21T06:02:19.507Z"
   },
   {
    "duration": 150,
    "start_time": "2024-07-21T06:02:19.535Z"
   },
   {
    "duration": 151,
    "start_time": "2024-07-21T06:02:19.688Z"
   },
   {
    "duration": 425,
    "start_time": "2024-07-21T06:02:19.842Z"
   },
   {
    "duration": 157,
    "start_time": "2024-07-21T06:02:20.270Z"
   },
   {
    "duration": 28,
    "start_time": "2024-07-21T06:02:20.430Z"
   },
   {
    "duration": 28,
    "start_time": "2024-07-21T06:02:20.461Z"
   },
   {
    "duration": 63,
    "start_time": "2024-07-21T06:02:20.492Z"
   },
   {
    "duration": 26,
    "start_time": "2024-07-21T06:02:20.558Z"
   },
   {
    "duration": 63,
    "start_time": "2024-07-21T06:02:20.587Z"
   },
   {
    "duration": 119,
    "start_time": "2024-07-21T06:02:20.657Z"
   },
   {
    "duration": 153,
    "start_time": "2024-07-21T06:02:20.778Z"
   },
   {
    "duration": 51,
    "start_time": "2024-07-21T06:02:20.934Z"
   },
   {
    "duration": 121,
    "start_time": "2024-07-21T06:02:20.990Z"
   },
   {
    "duration": 16,
    "start_time": "2024-07-21T06:02:21.114Z"
   },
   {
    "duration": 28,
    "start_time": "2024-07-21T06:02:21.133Z"
   },
   {
    "duration": 39,
    "start_time": "2024-07-21T06:02:21.164Z"
   },
   {
    "duration": 20,
    "start_time": "2024-07-21T06:02:21.231Z"
   },
   {
    "duration": 563,
    "start_time": "2024-07-21T06:02:21.254Z"
   },
   {
    "duration": 1561,
    "start_time": "2024-07-21T06:02:21.823Z"
   },
   {
    "duration": 515,
    "start_time": "2024-07-21T06:02:23.387Z"
   },
   {
    "duration": 2735,
    "start_time": "2024-07-21T06:02:23.905Z"
   },
   {
    "duration": 321,
    "start_time": "2024-07-21T06:02:26.644Z"
   },
   {
    "duration": 41,
    "start_time": "2024-07-21T06:02:26.968Z"
   },
   {
    "duration": 41,
    "start_time": "2024-07-21T06:02:27.030Z"
   },
   {
    "duration": 218,
    "start_time": "2024-07-21T06:02:27.074Z"
   },
   {
    "duration": 522,
    "start_time": "2024-07-21T06:02:27.295Z"
   },
   {
    "duration": 41,
    "start_time": "2024-07-21T06:02:27.820Z"
   },
   {
    "duration": 627,
    "start_time": "2024-07-21T06:02:27.867Z"
   },
   {
    "duration": 215,
    "start_time": "2024-07-21T06:02:28.497Z"
   },
   {
    "duration": 453,
    "start_time": "2024-07-21T06:02:28.715Z"
   },
   {
    "duration": 0,
    "start_time": "2024-07-21T06:02:29.172Z"
   },
   {
    "duration": 0,
    "start_time": "2024-07-21T06:02:29.173Z"
   },
   {
    "duration": 0,
    "start_time": "2024-07-21T06:02:29.175Z"
   },
   {
    "duration": 0,
    "start_time": "2024-07-21T06:02:29.177Z"
   },
   {
    "duration": 0,
    "start_time": "2024-07-21T06:02:29.179Z"
   },
   {
    "duration": 0,
    "start_time": "2024-07-21T06:02:29.182Z"
   },
   {
    "duration": 0,
    "start_time": "2024-07-21T06:02:29.183Z"
   },
   {
    "duration": 0,
    "start_time": "2024-07-21T06:02:29.185Z"
   },
   {
    "duration": 0,
    "start_time": "2024-07-21T06:02:29.188Z"
   },
   {
    "duration": 0,
    "start_time": "2024-07-21T06:02:29.193Z"
   },
   {
    "duration": 0,
    "start_time": "2024-07-21T06:02:29.230Z"
   },
   {
    "duration": 0,
    "start_time": "2024-07-21T06:02:29.233Z"
   },
   {
    "duration": 0,
    "start_time": "2024-07-21T06:02:29.235Z"
   },
   {
    "duration": 219,
    "start_time": "2024-07-21T06:03:09.613Z"
   },
   {
    "duration": 193,
    "start_time": "2024-07-21T06:03:15.886Z"
   },
   {
    "duration": 200,
    "start_time": "2024-07-21T06:03:29.166Z"
   },
   {
    "duration": 1165,
    "start_time": "2024-07-21T06:05:30.995Z"
   },
   {
    "duration": 15,
    "start_time": "2024-07-21T06:05:32.163Z"
   },
   {
    "duration": 1276,
    "start_time": "2024-07-21T06:05:32.181Z"
   },
   {
    "duration": 7,
    "start_time": "2024-07-21T06:05:33.461Z"
   },
   {
    "duration": 1912,
    "start_time": "2024-07-21T06:19:01.696Z"
   },
   {
    "duration": 771,
    "start_time": "2024-07-21T06:19:03.614Z"
   },
   {
    "duration": 26,
    "start_time": "2024-07-21T06:19:04.388Z"
   },
   {
    "duration": 15,
    "start_time": "2024-07-21T06:19:04.418Z"
   },
   {
    "duration": 172,
    "start_time": "2024-07-21T06:19:04.436Z"
   },
   {
    "duration": 152,
    "start_time": "2024-07-21T06:19:04.612Z"
   },
   {
    "duration": 418,
    "start_time": "2024-07-21T06:19:04.767Z"
   },
   {
    "duration": 153,
    "start_time": "2024-07-21T06:19:05.189Z"
   },
   {
    "duration": 28,
    "start_time": "2024-07-21T06:19:05.345Z"
   },
   {
    "duration": 51,
    "start_time": "2024-07-21T06:19:05.383Z"
   },
   {
    "duration": 41,
    "start_time": "2024-07-21T06:19:05.437Z"
   },
   {
    "duration": 49,
    "start_time": "2024-07-21T06:19:05.481Z"
   },
   {
    "duration": 40,
    "start_time": "2024-07-21T06:19:05.533Z"
   },
   {
    "duration": 157,
    "start_time": "2024-07-21T06:19:05.576Z"
   },
   {
    "duration": 153,
    "start_time": "2024-07-21T06:19:05.736Z"
   },
   {
    "duration": 68,
    "start_time": "2024-07-21T06:19:05.892Z"
   },
   {
    "duration": 104,
    "start_time": "2024-07-21T06:19:05.963Z"
   },
   {
    "duration": 6,
    "start_time": "2024-07-21T06:19:06.070Z"
   },
   {
    "duration": 53,
    "start_time": "2024-07-21T06:19:06.079Z"
   },
   {
    "duration": 39,
    "start_time": "2024-07-21T06:19:06.134Z"
   },
   {
    "duration": 19,
    "start_time": "2024-07-21T06:19:06.176Z"
   },
   {
    "duration": 589,
    "start_time": "2024-07-21T06:19:06.197Z"
   },
   {
    "duration": 1542,
    "start_time": "2024-07-21T06:19:06.790Z"
   },
   {
    "duration": 537,
    "start_time": "2024-07-21T06:19:08.335Z"
   },
   {
    "duration": 2751,
    "start_time": "2024-07-21T06:19:08.879Z"
   },
   {
    "duration": 349,
    "start_time": "2024-07-21T06:19:11.633Z"
   },
   {
    "duration": 62,
    "start_time": "2024-07-21T06:19:11.985Z"
   },
   {
    "duration": 48,
    "start_time": "2024-07-21T06:19:12.056Z"
   },
   {
    "duration": 229,
    "start_time": "2024-07-21T06:19:12.107Z"
   },
   {
    "duration": 509,
    "start_time": "2024-07-21T06:19:12.338Z"
   },
   {
    "duration": 48,
    "start_time": "2024-07-21T06:19:12.850Z"
   },
   {
    "duration": 620,
    "start_time": "2024-07-21T06:19:12.901Z"
   },
   {
    "duration": 227,
    "start_time": "2024-07-21T06:19:13.524Z"
   },
   {
    "duration": 1131,
    "start_time": "2024-07-21T06:19:13.754Z"
   },
   {
    "duration": 16,
    "start_time": "2024-07-21T06:19:14.888Z"
   },
   {
    "duration": 1244,
    "start_time": "2024-07-21T06:19:14.908Z"
   },
   {
    "duration": 7,
    "start_time": "2024-07-21T06:19:16.154Z"
   },
   {
    "duration": 5444,
    "start_time": "2024-07-21T12:05:14.872Z"
   },
   {
    "duration": 773,
    "start_time": "2024-07-21T12:05:20.320Z"
   },
   {
    "duration": 43,
    "start_time": "2024-07-21T12:05:21.096Z"
   },
   {
    "duration": 6,
    "start_time": "2024-07-21T12:05:21.144Z"
   },
   {
    "duration": 179,
    "start_time": "2024-07-21T12:05:21.153Z"
   },
   {
    "duration": 142,
    "start_time": "2024-07-21T12:05:21.335Z"
   },
   {
    "duration": 420,
    "start_time": "2024-07-21T12:05:21.480Z"
   },
   {
    "duration": 160,
    "start_time": "2024-07-21T12:05:21.903Z"
   },
   {
    "duration": 26,
    "start_time": "2024-07-21T12:05:22.066Z"
   },
   {
    "duration": 43,
    "start_time": "2024-07-21T12:05:22.098Z"
   },
   {
    "duration": 40,
    "start_time": "2024-07-21T12:05:22.146Z"
   },
   {
    "duration": 59,
    "start_time": "2024-07-21T12:05:22.189Z"
   },
   {
    "duration": 47,
    "start_time": "2024-07-21T12:05:22.251Z"
   },
   {
    "duration": 137,
    "start_time": "2024-07-21T12:05:22.304Z"
   },
   {
    "duration": 143,
    "start_time": "2024-07-21T12:05:22.444Z"
   },
   {
    "duration": 64,
    "start_time": "2024-07-21T12:05:22.590Z"
   },
   {
    "duration": 103,
    "start_time": "2024-07-21T12:05:22.656Z"
   },
   {
    "duration": 7,
    "start_time": "2024-07-21T12:05:22.762Z"
   },
   {
    "duration": 29,
    "start_time": "2024-07-21T12:05:22.772Z"
   },
   {
    "duration": 40,
    "start_time": "2024-07-21T12:05:22.831Z"
   },
   {
    "duration": 20,
    "start_time": "2024-07-21T12:05:22.874Z"
   },
   {
    "duration": 643,
    "start_time": "2024-07-21T12:05:22.898Z"
   },
   {
    "duration": 1623,
    "start_time": "2024-07-21T12:05:23.544Z"
   },
   {
    "duration": 562,
    "start_time": "2024-07-21T12:05:25.170Z"
   },
   {
    "duration": 2908,
    "start_time": "2024-07-21T12:05:25.735Z"
   },
   {
    "duration": 256,
    "start_time": "2024-07-21T12:05:28.646Z"
   },
   {
    "duration": 49,
    "start_time": "2024-07-21T12:05:28.905Z"
   },
   {
    "duration": 41,
    "start_time": "2024-07-21T12:05:28.961Z"
   },
   {
    "duration": 238,
    "start_time": "2024-07-21T12:05:29.005Z"
   },
   {
    "duration": 613,
    "start_time": "2024-07-21T12:05:29.246Z"
   },
   {
    "duration": 44,
    "start_time": "2024-07-21T12:05:29.862Z"
   },
   {
    "duration": 652,
    "start_time": "2024-07-21T12:05:29.909Z"
   },
   {
    "duration": 257,
    "start_time": "2024-07-21T12:05:30.564Z"
   },
   {
    "duration": 1181,
    "start_time": "2024-07-21T12:05:30.832Z"
   },
   {
    "duration": 27,
    "start_time": "2024-07-21T12:05:32.016Z"
   },
   {
    "duration": 1242,
    "start_time": "2024-07-21T12:05:32.045Z"
   },
   {
    "duration": 8,
    "start_time": "2024-07-21T12:05:33.291Z"
   },
   {
    "duration": 313,
    "start_time": "2024-07-21T12:06:57.120Z"
   },
   {
    "duration": 1659,
    "start_time": "2024-07-21T12:32:58.486Z"
   },
   {
    "duration": 801,
    "start_time": "2024-07-21T12:33:00.148Z"
   },
   {
    "duration": 28,
    "start_time": "2024-07-21T12:33:00.952Z"
   },
   {
    "duration": 5,
    "start_time": "2024-07-21T12:33:00.985Z"
   },
   {
    "duration": 173,
    "start_time": "2024-07-21T12:33:00.993Z"
   },
   {
    "duration": 152,
    "start_time": "2024-07-21T12:33:01.169Z"
   },
   {
    "duration": 448,
    "start_time": "2024-07-21T12:33:01.331Z"
   },
   {
    "duration": 155,
    "start_time": "2024-07-21T12:33:01.791Z"
   },
   {
    "duration": 26,
    "start_time": "2024-07-21T12:33:01.949Z"
   },
   {
    "duration": 52,
    "start_time": "2024-07-21T12:33:01.983Z"
   },
   {
    "duration": 40,
    "start_time": "2024-07-21T12:33:02.044Z"
   },
   {
    "duration": 44,
    "start_time": "2024-07-21T12:33:02.088Z"
   },
   {
    "duration": 41,
    "start_time": "2024-07-21T12:33:02.137Z"
   },
   {
    "duration": 125,
    "start_time": "2024-07-21T12:33:02.181Z"
   },
   {
    "duration": 148,
    "start_time": "2024-07-21T12:33:02.309Z"
   },
   {
    "duration": 71,
    "start_time": "2024-07-21T12:33:02.460Z"
   },
   {
    "duration": 122,
    "start_time": "2024-07-21T12:33:02.535Z"
   },
   {
    "duration": 6,
    "start_time": "2024-07-21T12:33:02.660Z"
   },
   {
    "duration": 31,
    "start_time": "2024-07-21T12:33:02.669Z"
   },
   {
    "duration": 43,
    "start_time": "2024-07-21T12:33:02.731Z"
   },
   {
    "duration": 20,
    "start_time": "2024-07-21T12:33:02.777Z"
   },
   {
    "duration": 562,
    "start_time": "2024-07-21T12:33:02.830Z"
   },
   {
    "duration": 1535,
    "start_time": "2024-07-21T12:33:03.395Z"
   },
   {
    "duration": 508,
    "start_time": "2024-07-21T12:33:04.934Z"
   },
   {
    "duration": 2785,
    "start_time": "2024-07-21T12:33:05.445Z"
   },
   {
    "duration": 328,
    "start_time": "2024-07-21T12:33:08.233Z"
   },
   {
    "duration": 40,
    "start_time": "2024-07-21T12:33:08.564Z"
   },
   {
    "duration": 39,
    "start_time": "2024-07-21T12:33:08.630Z"
   },
   {
    "duration": 219,
    "start_time": "2024-07-21T12:33:08.672Z"
   },
   {
    "duration": 504,
    "start_time": "2024-07-21T12:33:08.894Z"
   },
   {
    "duration": 48,
    "start_time": "2024-07-21T12:33:09.401Z"
   },
   {
    "duration": 602,
    "start_time": "2024-07-21T12:33:09.452Z"
   },
   {
    "duration": 260,
    "start_time": "2024-07-21T12:33:10.057Z"
   },
   {
    "duration": 1173,
    "start_time": "2024-07-21T12:33:10.322Z"
   },
   {
    "duration": 13,
    "start_time": "2024-07-21T12:33:11.499Z"
   },
   {
    "duration": 1294,
    "start_time": "2024-07-21T12:33:11.530Z"
   },
   {
    "duration": 8,
    "start_time": "2024-07-21T12:33:12.830Z"
   },
   {
    "duration": 9359,
    "start_time": "2024-07-21T12:33:12.841Z"
   },
   {
    "duration": 1702,
    "start_time": "2024-07-21T12:36:42.528Z"
   },
   {
    "duration": 783,
    "start_time": "2024-07-21T12:36:44.234Z"
   },
   {
    "duration": 36,
    "start_time": "2024-07-21T12:36:45.020Z"
   },
   {
    "duration": 6,
    "start_time": "2024-07-21T12:36:45.059Z"
   },
   {
    "duration": 167,
    "start_time": "2024-07-21T12:36:45.071Z"
   },
   {
    "duration": 146,
    "start_time": "2024-07-21T12:36:45.241Z"
   },
   {
    "duration": 417,
    "start_time": "2024-07-21T12:36:45.390Z"
   },
   {
    "duration": 153,
    "start_time": "2024-07-21T12:36:45.810Z"
   },
   {
    "duration": 26,
    "start_time": "2024-07-21T12:36:45.966Z"
   },
   {
    "duration": 48,
    "start_time": "2024-07-21T12:36:45.996Z"
   },
   {
    "duration": 39,
    "start_time": "2024-07-21T12:36:46.047Z"
   },
   {
    "duration": 51,
    "start_time": "2024-07-21T12:36:46.089Z"
   },
   {
    "duration": 39,
    "start_time": "2024-07-21T12:36:46.143Z"
   },
   {
    "duration": 124,
    "start_time": "2024-07-21T12:36:46.189Z"
   },
   {
    "duration": 156,
    "start_time": "2024-07-21T12:36:46.315Z"
   },
   {
    "duration": 59,
    "start_time": "2024-07-21T12:36:46.474Z"
   },
   {
    "duration": 104,
    "start_time": "2024-07-21T12:36:46.536Z"
   },
   {
    "duration": 5,
    "start_time": "2024-07-21T12:36:46.643Z"
   },
   {
    "duration": 31,
    "start_time": "2024-07-21T12:36:46.651Z"
   },
   {
    "duration": 62,
    "start_time": "2024-07-21T12:36:46.685Z"
   },
   {
    "duration": 19,
    "start_time": "2024-07-21T12:36:46.750Z"
   },
   {
    "duration": 536,
    "start_time": "2024-07-21T12:36:46.772Z"
   },
   {
    "duration": 1546,
    "start_time": "2024-07-21T12:36:47.312Z"
   },
   {
    "duration": 508,
    "start_time": "2024-07-21T12:36:48.861Z"
   },
   {
    "duration": 2758,
    "start_time": "2024-07-21T12:36:49.372Z"
   },
   {
    "duration": 333,
    "start_time": "2024-07-21T12:36:52.135Z"
   },
   {
    "duration": 58,
    "start_time": "2024-07-21T12:36:52.471Z"
   },
   {
    "duration": 44,
    "start_time": "2024-07-21T12:36:52.532Z"
   },
   {
    "duration": 213,
    "start_time": "2024-07-21T12:36:52.579Z"
   },
   {
    "duration": 510,
    "start_time": "2024-07-21T12:36:52.795Z"
   },
   {
    "duration": 49,
    "start_time": "2024-07-21T12:36:53.308Z"
   },
   {
    "duration": 609,
    "start_time": "2024-07-21T12:36:53.360Z"
   },
   {
    "duration": 247,
    "start_time": "2024-07-21T12:36:53.973Z"
   },
   {
    "duration": 1145,
    "start_time": "2024-07-21T12:36:54.223Z"
   },
   {
    "duration": 15,
    "start_time": "2024-07-21T12:36:55.371Z"
   },
   {
    "duration": 1248,
    "start_time": "2024-07-21T12:36:55.389Z"
   },
   {
    "duration": 8,
    "start_time": "2024-07-21T12:36:56.640Z"
   },
   {
    "duration": 9432,
    "start_time": "2024-07-21T12:36:56.651Z"
   },
   {
    "duration": 7,
    "start_time": "2024-07-21T12:37:06.085Z"
   },
   {
    "duration": 345,
    "start_time": "2024-07-21T12:38:39.868Z"
   },
   {
    "duration": 1714,
    "start_time": "2024-07-21T12:38:55.936Z"
   },
   {
    "duration": 805,
    "start_time": "2024-07-21T12:38:57.654Z"
   },
   {
    "duration": 27,
    "start_time": "2024-07-21T12:38:58.462Z"
   },
   {
    "duration": 6,
    "start_time": "2024-07-21T12:38:58.493Z"
   },
   {
    "duration": 175,
    "start_time": "2024-07-21T12:38:58.504Z"
   },
   {
    "duration": 153,
    "start_time": "2024-07-21T12:38:58.681Z"
   },
   {
    "duration": 418,
    "start_time": "2024-07-21T12:38:58.837Z"
   },
   {
    "duration": 151,
    "start_time": "2024-07-21T12:38:59.258Z"
   },
   {
    "duration": 31,
    "start_time": "2024-07-21T12:38:59.412Z"
   },
   {
    "duration": 27,
    "start_time": "2024-07-21T12:38:59.447Z"
   },
   {
    "duration": 66,
    "start_time": "2024-07-21T12:38:59.477Z"
   },
   {
    "duration": 34,
    "start_time": "2024-07-21T12:38:59.548Z"
   },
   {
    "duration": 59,
    "start_time": "2024-07-21T12:38:59.588Z"
   },
   {
    "duration": 119,
    "start_time": "2024-07-21T12:38:59.654Z"
   },
   {
    "duration": 144,
    "start_time": "2024-07-21T12:38:59.776Z"
   },
   {
    "duration": 53,
    "start_time": "2024-07-21T12:38:59.922Z"
   },
   {
    "duration": 118,
    "start_time": "2024-07-21T12:38:59.978Z"
   },
   {
    "duration": 7,
    "start_time": "2024-07-21T12:39:00.099Z"
   },
   {
    "duration": 50,
    "start_time": "2024-07-21T12:39:00.109Z"
   },
   {
    "duration": 40,
    "start_time": "2024-07-21T12:39:00.163Z"
   },
   {
    "duration": 20,
    "start_time": "2024-07-21T12:39:00.230Z"
   },
   {
    "duration": 549,
    "start_time": "2024-07-21T12:39:00.254Z"
   },
   {
    "duration": 1559,
    "start_time": "2024-07-21T12:39:00.806Z"
   },
   {
    "duration": 612,
    "start_time": "2024-07-21T12:39:02.369Z"
   },
   {
    "duration": 2777,
    "start_time": "2024-07-21T12:39:02.984Z"
   },
   {
    "duration": 247,
    "start_time": "2024-07-21T12:39:05.764Z"
   },
   {
    "duration": 49,
    "start_time": "2024-07-21T12:39:06.014Z"
   },
   {
    "duration": 39,
    "start_time": "2024-07-21T12:39:06.066Z"
   },
   {
    "duration": 224,
    "start_time": "2024-07-21T12:39:06.108Z"
   },
   {
    "duration": 520,
    "start_time": "2024-07-21T12:39:06.335Z"
   },
   {
    "duration": 40,
    "start_time": "2024-07-21T12:39:06.858Z"
   },
   {
    "duration": 608,
    "start_time": "2024-07-21T12:39:06.900Z"
   },
   {
    "duration": 240,
    "start_time": "2024-07-21T12:39:07.512Z"
   },
   {
    "duration": 187,
    "start_time": "2024-07-21T12:39:24.999Z"
   },
   {
    "duration": 1110,
    "start_time": "2024-07-21T12:39:34.041Z"
   },
   {
    "duration": 14,
    "start_time": "2024-07-21T12:39:35.948Z"
   },
   {
    "duration": 1673,
    "start_time": "2024-07-21T12:40:03.369Z"
   },
   {
    "duration": 806,
    "start_time": "2024-07-21T12:40:05.045Z"
   },
   {
    "duration": 27,
    "start_time": "2024-07-21T12:40:05.853Z"
   },
   {
    "duration": 6,
    "start_time": "2024-07-21T12:40:05.884Z"
   },
   {
    "duration": 170,
    "start_time": "2024-07-21T12:40:05.893Z"
   },
   {
    "duration": 140,
    "start_time": "2024-07-21T12:40:06.066Z"
   },
   {
    "duration": 422,
    "start_time": "2024-07-21T12:40:06.209Z"
   },
   {
    "duration": 151,
    "start_time": "2024-07-21T12:40:06.634Z"
   },
   {
    "duration": 26,
    "start_time": "2024-07-21T12:40:06.788Z"
   },
   {
    "duration": 29,
    "start_time": "2024-07-21T12:40:06.836Z"
   },
   {
    "duration": 40,
    "start_time": "2024-07-21T12:40:06.867Z"
   },
   {
    "duration": 27,
    "start_time": "2024-07-21T12:40:06.931Z"
   },
   {
    "duration": 40,
    "start_time": "2024-07-21T12:40:06.961Z"
   },
   {
    "duration": 136,
    "start_time": "2024-07-21T12:40:07.004Z"
   },
   {
    "duration": 141,
    "start_time": "2024-07-21T12:40:07.142Z"
   },
   {
    "duration": 64,
    "start_time": "2024-07-21T12:40:07.285Z"
   },
   {
    "duration": 106,
    "start_time": "2024-07-21T12:40:07.353Z"
   },
   {
    "duration": 6,
    "start_time": "2024-07-21T12:40:07.461Z"
   },
   {
    "duration": 28,
    "start_time": "2024-07-21T12:40:07.470Z"
   },
   {
    "duration": 67,
    "start_time": "2024-07-21T12:40:07.501Z"
   },
   {
    "duration": 19,
    "start_time": "2024-07-21T12:40:07.571Z"
   },
   {
    "duration": 553,
    "start_time": "2024-07-21T12:40:07.593Z"
   },
   {
    "duration": 1529,
    "start_time": "2024-07-21T12:40:08.150Z"
   },
   {
    "duration": 529,
    "start_time": "2024-07-21T12:40:09.682Z"
   },
   {
    "duration": 2729,
    "start_time": "2024-07-21T12:40:10.214Z"
   },
   {
    "duration": 326,
    "start_time": "2024-07-21T12:40:12.946Z"
   },
   {
    "duration": 39,
    "start_time": "2024-07-21T12:40:13.275Z"
   },
   {
    "duration": 40,
    "start_time": "2024-07-21T12:40:13.337Z"
   },
   {
    "duration": 212,
    "start_time": "2024-07-21T12:40:13.380Z"
   },
   {
    "duration": 509,
    "start_time": "2024-07-21T12:40:13.595Z"
   },
   {
    "duration": 47,
    "start_time": "2024-07-21T12:40:14.108Z"
   },
   {
    "duration": 598,
    "start_time": "2024-07-21T12:40:14.158Z"
   },
   {
    "duration": 183,
    "start_time": "2024-07-21T12:40:14.760Z"
   },
   {
    "duration": 1120,
    "start_time": "2024-07-21T12:40:14.946Z"
   },
   {
    "duration": 17,
    "start_time": "2024-07-21T12:40:16.070Z"
   },
   {
    "duration": 329,
    "start_time": "2024-07-21T12:40:40.877Z"
   },
   {
    "duration": 1672,
    "start_time": "2024-07-21T12:40:47.683Z"
   },
   {
    "duration": 808,
    "start_time": "2024-07-21T12:40:49.359Z"
   },
   {
    "duration": 27,
    "start_time": "2024-07-21T12:40:50.171Z"
   },
   {
    "duration": 29,
    "start_time": "2024-07-21T12:40:50.202Z"
   },
   {
    "duration": 159,
    "start_time": "2024-07-21T12:40:50.238Z"
   },
   {
    "duration": 147,
    "start_time": "2024-07-21T12:40:50.400Z"
   },
   {
    "duration": 426,
    "start_time": "2024-07-21T12:40:50.550Z"
   },
   {
    "duration": 152,
    "start_time": "2024-07-21T12:40:50.978Z"
   },
   {
    "duration": 26,
    "start_time": "2024-07-21T12:40:51.133Z"
   },
   {
    "duration": 28,
    "start_time": "2024-07-21T12:40:51.162Z"
   },
   {
    "duration": 63,
    "start_time": "2024-07-21T12:40:51.193Z"
   },
   {
    "duration": 28,
    "start_time": "2024-07-21T12:40:51.259Z"
   },
   {
    "duration": 64,
    "start_time": "2024-07-21T12:40:51.290Z"
   },
   {
    "duration": 122,
    "start_time": "2024-07-21T12:40:51.362Z"
   },
   {
    "duration": 152,
    "start_time": "2024-07-21T12:40:51.487Z"
   },
   {
    "duration": 46,
    "start_time": "2024-07-21T12:40:51.642Z"
   },
   {
    "duration": 141,
    "start_time": "2024-07-21T12:40:51.690Z"
   },
   {
    "duration": 6,
    "start_time": "2024-07-21T12:40:51.834Z"
   },
   {
    "duration": 32,
    "start_time": "2024-07-21T12:40:51.844Z"
   },
   {
    "duration": 67,
    "start_time": "2024-07-21T12:40:51.883Z"
   },
   {
    "duration": 19,
    "start_time": "2024-07-21T12:40:51.953Z"
   },
   {
    "duration": 563,
    "start_time": "2024-07-21T12:40:51.975Z"
   },
   {
    "duration": 1555,
    "start_time": "2024-07-21T12:40:52.541Z"
   },
   {
    "duration": 512,
    "start_time": "2024-07-21T12:40:54.099Z"
   },
   {
    "duration": 2691,
    "start_time": "2024-07-21T12:40:54.614Z"
   },
   {
    "duration": 334,
    "start_time": "2024-07-21T12:40:57.309Z"
   },
   {
    "duration": 41,
    "start_time": "2024-07-21T12:40:57.646Z"
   },
   {
    "duration": 60,
    "start_time": "2024-07-21T12:40:57.690Z"
   },
   {
    "duration": 208,
    "start_time": "2024-07-21T12:40:57.754Z"
   },
   {
    "duration": 513,
    "start_time": "2024-07-21T12:40:57.964Z"
   },
   {
    "duration": 39,
    "start_time": "2024-07-21T12:40:58.480Z"
   },
   {
    "duration": 597,
    "start_time": "2024-07-21T12:40:58.532Z"
   },
   {
    "duration": 180,
    "start_time": "2024-07-21T12:40:59.132Z"
   },
   {
    "duration": 1151,
    "start_time": "2024-07-21T12:40:59.315Z"
   },
   {
    "duration": 15,
    "start_time": "2024-07-21T12:41:00.468Z"
   },
   {
    "duration": 1730,
    "start_time": "2024-07-21T12:41:38.541Z"
   },
   {
    "duration": 790,
    "start_time": "2024-07-21T12:41:40.276Z"
   },
   {
    "duration": 29,
    "start_time": "2024-07-21T12:41:41.069Z"
   },
   {
    "duration": 6,
    "start_time": "2024-07-21T12:41:41.102Z"
   },
   {
    "duration": 153,
    "start_time": "2024-07-21T12:41:41.131Z"
   },
   {
    "duration": 145,
    "start_time": "2024-07-21T12:41:41.287Z"
   },
   {
    "duration": 431,
    "start_time": "2024-07-21T12:41:41.435Z"
   },
   {
    "duration": 163,
    "start_time": "2024-07-21T12:41:41.869Z"
   },
   {
    "duration": 39,
    "start_time": "2024-07-21T12:41:42.035Z"
   },
   {
    "duration": 28,
    "start_time": "2024-07-21T12:41:42.081Z"
   },
   {
    "duration": 56,
    "start_time": "2024-07-21T12:41:42.112Z"
   },
   {
    "duration": 26,
    "start_time": "2024-07-21T12:41:42.171Z"
   },
   {
    "duration": 72,
    "start_time": "2024-07-21T12:41:42.201Z"
   },
   {
    "duration": 124,
    "start_time": "2024-07-21T12:41:42.275Z"
   },
   {
    "duration": 152,
    "start_time": "2024-07-21T12:41:42.402Z"
   },
   {
    "duration": 46,
    "start_time": "2024-07-21T12:41:42.557Z"
   },
   {
    "duration": 102,
    "start_time": "2024-07-21T12:41:42.630Z"
   },
   {
    "duration": 5,
    "start_time": "2024-07-21T12:41:42.738Z"
   },
   {
    "duration": 31,
    "start_time": "2024-07-21T12:41:42.747Z"
   },
   {
    "duration": 66,
    "start_time": "2024-07-21T12:41:42.783Z"
   },
   {
    "duration": 16,
    "start_time": "2024-07-21T12:41:42.852Z"
   },
   {
    "duration": 543,
    "start_time": "2024-07-21T12:41:42.872Z"
   },
   {
    "duration": 1532,
    "start_time": "2024-07-21T12:41:43.418Z"
   },
   {
    "duration": 520,
    "start_time": "2024-07-21T12:41:44.953Z"
   },
   {
    "duration": 2755,
    "start_time": "2024-07-21T12:41:45.476Z"
   },
   {
    "duration": 347,
    "start_time": "2024-07-21T12:41:48.236Z"
   },
   {
    "duration": 47,
    "start_time": "2024-07-21T12:41:48.586Z"
   },
   {
    "duration": 41,
    "start_time": "2024-07-21T12:41:48.642Z"
   },
   {
    "duration": 225,
    "start_time": "2024-07-21T12:41:48.685Z"
   },
   {
    "duration": 519,
    "start_time": "2024-07-21T12:41:48.913Z"
   },
   {
    "duration": 40,
    "start_time": "2024-07-21T12:41:49.436Z"
   },
   {
    "duration": 605,
    "start_time": "2024-07-21T12:41:49.479Z"
   },
   {
    "duration": 189,
    "start_time": "2024-07-21T12:41:50.087Z"
   },
   {
    "duration": 1142,
    "start_time": "2024-07-21T12:41:50.279Z"
   },
   {
    "duration": 20,
    "start_time": "2024-07-21T12:41:51.424Z"
   },
   {
    "duration": 313,
    "start_time": "2024-07-21T12:42:40.574Z"
   },
   {
    "duration": 1719,
    "start_time": "2024-07-21T12:42:48.107Z"
   },
   {
    "duration": 784,
    "start_time": "2024-07-21T12:42:49.832Z"
   },
   {
    "duration": 32,
    "start_time": "2024-07-21T12:42:50.620Z"
   },
   {
    "duration": 6,
    "start_time": "2024-07-21T12:42:50.655Z"
   },
   {
    "duration": 170,
    "start_time": "2024-07-21T12:42:50.666Z"
   },
   {
    "duration": 152,
    "start_time": "2024-07-21T12:42:50.839Z"
   },
   {
    "duration": 412,
    "start_time": "2024-07-21T12:42:50.995Z"
   },
   {
    "duration": 152,
    "start_time": "2024-07-21T12:42:51.410Z"
   },
   {
    "duration": 28,
    "start_time": "2024-07-21T12:42:51.565Z"
   },
   {
    "duration": 48,
    "start_time": "2024-07-21T12:42:51.596Z"
   },
   {
    "duration": 39,
    "start_time": "2024-07-21T12:42:51.649Z"
   },
   {
    "duration": 46,
    "start_time": "2024-07-21T12:42:51.691Z"
   },
   {
    "duration": 53,
    "start_time": "2024-07-21T12:42:51.741Z"
   },
   {
    "duration": 131,
    "start_time": "2024-07-21T12:42:51.805Z"
   },
   {
    "duration": 164,
    "start_time": "2024-07-21T12:42:51.938Z"
   },
   {
    "duration": 66,
    "start_time": "2024-07-21T12:42:52.106Z"
   },
   {
    "duration": 107,
    "start_time": "2024-07-21T12:42:52.175Z"
   },
   {
    "duration": 6,
    "start_time": "2024-07-21T12:42:52.285Z"
   },
   {
    "duration": 55,
    "start_time": "2024-07-21T12:42:52.294Z"
   },
   {
    "duration": 49,
    "start_time": "2024-07-21T12:42:52.352Z"
   },
   {
    "duration": 44,
    "start_time": "2024-07-21T12:42:52.404Z"
   },
   {
    "duration": 558,
    "start_time": "2024-07-21T12:42:52.451Z"
   },
   {
    "duration": 1535,
    "start_time": "2024-07-21T12:42:53.012Z"
   },
   {
    "duration": 516,
    "start_time": "2024-07-21T12:42:54.550Z"
   },
   {
    "duration": 2740,
    "start_time": "2024-07-21T12:42:55.069Z"
   },
   {
    "duration": 336,
    "start_time": "2024-07-21T12:42:57.812Z"
   },
   {
    "duration": 40,
    "start_time": "2024-07-21T12:42:58.151Z"
   },
   {
    "duration": 58,
    "start_time": "2024-07-21T12:42:58.194Z"
   },
   {
    "duration": 211,
    "start_time": "2024-07-21T12:42:58.255Z"
   },
   {
    "duration": 512,
    "start_time": "2024-07-21T12:42:58.469Z"
   },
   {
    "duration": 46,
    "start_time": "2024-07-21T12:42:58.984Z"
   },
   {
    "duration": 589,
    "start_time": "2024-07-21T12:42:59.033Z"
   },
   {
    "duration": 200,
    "start_time": "2024-07-21T12:42:59.625Z"
   },
   {
    "duration": 1113,
    "start_time": "2024-07-21T12:42:59.831Z"
   },
   {
    "duration": 14,
    "start_time": "2024-07-21T12:43:00.947Z"
   },
   {
    "duration": 317,
    "start_time": "2024-07-21T12:44:07.064Z"
   },
   {
    "duration": 1730,
    "start_time": "2024-07-21T12:44:14.738Z"
   },
   {
    "duration": 768,
    "start_time": "2024-07-21T12:44:16.471Z"
   },
   {
    "duration": 30,
    "start_time": "2024-07-21T12:44:17.242Z"
   },
   {
    "duration": 6,
    "start_time": "2024-07-21T12:44:17.275Z"
   },
   {
    "duration": 187,
    "start_time": "2024-07-21T12:44:17.284Z"
   },
   {
    "duration": 156,
    "start_time": "2024-07-21T12:44:17.474Z"
   },
   {
    "duration": 399,
    "start_time": "2024-07-21T12:44:17.633Z"
   },
   {
    "duration": 151,
    "start_time": "2024-07-21T12:44:18.034Z"
   },
   {
    "duration": 25,
    "start_time": "2024-07-21T12:44:18.188Z"
   },
   {
    "duration": 27,
    "start_time": "2024-07-21T12:44:18.234Z"
   },
   {
    "duration": 39,
    "start_time": "2024-07-21T12:44:18.266Z"
   },
   {
    "duration": 27,
    "start_time": "2024-07-21T12:44:18.329Z"
   },
   {
    "duration": 40,
    "start_time": "2024-07-21T12:44:18.359Z"
   },
   {
    "duration": 144,
    "start_time": "2024-07-21T12:44:18.402Z"
   },
   {
    "duration": 142,
    "start_time": "2024-07-21T12:44:18.550Z"
   },
   {
    "duration": 65,
    "start_time": "2024-07-21T12:44:18.695Z"
   },
   {
    "duration": 98,
    "start_time": "2024-07-21T12:44:18.763Z"
   },
   {
    "duration": 5,
    "start_time": "2024-07-21T12:44:18.864Z"
   },
   {
    "duration": 27,
    "start_time": "2024-07-21T12:44:18.873Z"
   },
   {
    "duration": 42,
    "start_time": "2024-07-21T12:44:18.930Z"
   },
   {
    "duration": 20,
    "start_time": "2024-07-21T12:44:18.975Z"
   },
   {
    "duration": 582,
    "start_time": "2024-07-21T12:44:18.997Z"
   },
   {
    "duration": 1542,
    "start_time": "2024-07-21T12:44:19.584Z"
   },
   {
    "duration": 519,
    "start_time": "2024-07-21T12:44:21.132Z"
   },
   {
    "duration": 2827,
    "start_time": "2024-07-21T12:44:21.654Z"
   },
   {
    "duration": 396,
    "start_time": "2024-07-21T12:44:24.487Z"
   },
   {
    "duration": 54,
    "start_time": "2024-07-21T12:44:24.885Z"
   },
   {
    "duration": 47,
    "start_time": "2024-07-21T12:44:24.949Z"
   },
   {
    "duration": 310,
    "start_time": "2024-07-21T12:44:24.999Z"
   },
   {
    "duration": 545,
    "start_time": "2024-07-21T12:44:25.313Z"
   },
   {
    "duration": 39,
    "start_time": "2024-07-21T12:44:25.861Z"
   },
   {
    "duration": 756,
    "start_time": "2024-07-21T12:44:25.903Z"
   },
   {
    "duration": 220,
    "start_time": "2024-07-21T12:44:26.662Z"
   },
   {
    "duration": 1139,
    "start_time": "2024-07-21T12:44:26.885Z"
   },
   {
    "duration": 15,
    "start_time": "2024-07-21T12:44:28.030Z"
   },
   {
    "duration": 358,
    "start_time": "2024-07-21T12:45:31.723Z"
   },
   {
    "duration": 1747,
    "start_time": "2024-07-21T12:45:39.401Z"
   },
   {
    "duration": 792,
    "start_time": "2024-07-21T12:45:41.152Z"
   },
   {
    "duration": 27,
    "start_time": "2024-07-21T12:45:41.947Z"
   },
   {
    "duration": 5,
    "start_time": "2024-07-21T12:45:41.979Z"
   },
   {
    "duration": 213,
    "start_time": "2024-07-21T12:45:41.988Z"
   },
   {
    "duration": 156,
    "start_time": "2024-07-21T12:45:42.204Z"
   },
   {
    "duration": 420,
    "start_time": "2024-07-21T12:45:42.363Z"
   },
   {
    "duration": 155,
    "start_time": "2024-07-21T12:45:42.786Z"
   },
   {
    "duration": 26,
    "start_time": "2024-07-21T12:45:42.945Z"
   },
   {
    "duration": 27,
    "start_time": "2024-07-21T12:45:42.979Z"
   },
   {
    "duration": 43,
    "start_time": "2024-07-21T12:45:43.031Z"
   },
   {
    "duration": 26,
    "start_time": "2024-07-21T12:45:43.076Z"
   },
   {
    "duration": 40,
    "start_time": "2024-07-21T12:45:43.132Z"
   },
   {
    "duration": 135,
    "start_time": "2024-07-21T12:45:43.176Z"
   },
   {
    "duration": 149,
    "start_time": "2024-07-21T12:45:43.314Z"
   },
   {
    "duration": 70,
    "start_time": "2024-07-21T12:45:43.466Z"
   },
   {
    "duration": 107,
    "start_time": "2024-07-21T12:45:43.539Z"
   },
   {
    "duration": 6,
    "start_time": "2024-07-21T12:45:43.649Z"
   },
   {
    "duration": 28,
    "start_time": "2024-07-21T12:45:43.658Z"
   },
   {
    "duration": 62,
    "start_time": "2024-07-21T12:45:43.689Z"
   },
   {
    "duration": 18,
    "start_time": "2024-07-21T12:45:43.754Z"
   },
   {
    "duration": 536,
    "start_time": "2024-07-21T12:45:43.775Z"
   },
   {
    "duration": 1541,
    "start_time": "2024-07-21T12:45:44.314Z"
   },
   {
    "duration": 512,
    "start_time": "2024-07-21T12:45:45.858Z"
   },
   {
    "duration": 2732,
    "start_time": "2024-07-21T12:45:46.374Z"
   },
   {
    "duration": 328,
    "start_time": "2024-07-21T12:45:49.109Z"
   },
   {
    "duration": 40,
    "start_time": "2024-07-21T12:45:49.440Z"
   },
   {
    "duration": 61,
    "start_time": "2024-07-21T12:45:49.489Z"
   },
   {
    "duration": 223,
    "start_time": "2024-07-21T12:45:49.553Z"
   },
   {
    "duration": 498,
    "start_time": "2024-07-21T12:45:49.779Z"
   },
   {
    "duration": 39,
    "start_time": "2024-07-21T12:45:50.281Z"
   },
   {
    "duration": 610,
    "start_time": "2024-07-21T12:45:50.332Z"
   },
   {
    "duration": 206,
    "start_time": "2024-07-21T12:45:50.945Z"
   },
   {
    "duration": 1147,
    "start_time": "2024-07-21T12:45:51.155Z"
   },
   {
    "duration": 15,
    "start_time": "2024-07-21T12:45:52.305Z"
   },
   {
    "duration": 1670,
    "start_time": "2024-07-21T12:49:05.667Z"
   },
   {
    "duration": 777,
    "start_time": "2024-07-21T12:49:07.344Z"
   },
   {
    "duration": 32,
    "start_time": "2024-07-21T12:49:08.124Z"
   },
   {
    "duration": 6,
    "start_time": "2024-07-21T12:49:08.158Z"
   },
   {
    "duration": 175,
    "start_time": "2024-07-21T12:49:08.170Z"
   },
   {
    "duration": 158,
    "start_time": "2024-07-21T12:49:08.348Z"
   },
   {
    "duration": 415,
    "start_time": "2024-07-21T12:49:08.509Z"
   },
   {
    "duration": 149,
    "start_time": "2024-07-21T12:49:08.932Z"
   },
   {
    "duration": 26,
    "start_time": "2024-07-21T12:49:09.084Z"
   },
   {
    "duration": 44,
    "start_time": "2024-07-21T12:49:09.113Z"
   },
   {
    "duration": 39,
    "start_time": "2024-07-21T12:49:09.160Z"
   },
   {
    "duration": 27,
    "start_time": "2024-07-21T12:49:09.229Z"
   },
   {
    "duration": 40,
    "start_time": "2024-07-21T12:49:09.259Z"
   },
   {
    "duration": 136,
    "start_time": "2024-07-21T12:49:09.306Z"
   },
   {
    "duration": 152,
    "start_time": "2024-07-21T12:49:09.444Z"
   },
   {
    "duration": 62,
    "start_time": "2024-07-21T12:49:09.599Z"
   },
   {
    "duration": 107,
    "start_time": "2024-07-21T12:49:09.664Z"
   },
   {
    "duration": 6,
    "start_time": "2024-07-21T12:49:09.773Z"
   },
   {
    "duration": 52,
    "start_time": "2024-07-21T12:49:09.782Z"
   },
   {
    "duration": 38,
    "start_time": "2024-07-21T12:49:09.837Z"
   },
   {
    "duration": 18,
    "start_time": "2024-07-21T12:49:09.878Z"
   },
   {
    "duration": 581,
    "start_time": "2024-07-21T12:49:09.900Z"
   },
   {
    "duration": 1561,
    "start_time": "2024-07-21T12:49:10.484Z"
   },
   {
    "duration": 512,
    "start_time": "2024-07-21T12:49:12.048Z"
   },
   {
    "duration": 3070,
    "start_time": "2024-07-21T12:49:12.563Z"
   },
   {
    "duration": 332,
    "start_time": "2024-07-21T12:49:15.636Z"
   },
   {
    "duration": 39,
    "start_time": "2024-07-21T12:49:15.971Z"
   },
   {
    "duration": 41,
    "start_time": "2024-07-21T12:49:16.030Z"
   },
   {
    "duration": 212,
    "start_time": "2024-07-21T12:49:16.074Z"
   },
   {
    "duration": 496,
    "start_time": "2024-07-21T12:49:16.290Z"
   },
   {
    "duration": 49,
    "start_time": "2024-07-21T12:49:16.788Z"
   },
   {
    "duration": 617,
    "start_time": "2024-07-21T12:49:16.839Z"
   },
   {
    "duration": 205,
    "start_time": "2024-07-21T12:49:17.459Z"
   },
   {
    "duration": 1091,
    "start_time": "2024-07-21T12:49:17.667Z"
   },
   {
    "duration": 14,
    "start_time": "2024-07-21T12:49:18.761Z"
   },
   {
    "duration": 1750,
    "start_time": "2024-07-21T12:49:59.699Z"
   },
   {
    "duration": 909,
    "start_time": "2024-07-21T12:50:01.453Z"
   },
   {
    "duration": 36,
    "start_time": "2024-07-21T12:50:02.366Z"
   },
   {
    "duration": 26,
    "start_time": "2024-07-21T12:50:02.406Z"
   },
   {
    "duration": 164,
    "start_time": "2024-07-21T12:50:02.438Z"
   },
   {
    "duration": 176,
    "start_time": "2024-07-21T12:50:02.605Z"
   },
   {
    "duration": 787,
    "start_time": "2024-07-21T12:50:02.785Z"
   },
   {
    "duration": 172,
    "start_time": "2024-07-21T12:50:03.579Z"
   },
   {
    "duration": 37,
    "start_time": "2024-07-21T12:50:03.754Z"
   },
   {
    "duration": 43,
    "start_time": "2024-07-21T12:50:03.799Z"
   },
   {
    "duration": 43,
    "start_time": "2024-07-21T12:50:03.845Z"
   },
   {
    "duration": 54,
    "start_time": "2024-07-21T12:50:03.891Z"
   },
   {
    "duration": 40,
    "start_time": "2024-07-21T12:50:03.949Z"
   },
   {
    "duration": 177,
    "start_time": "2024-07-21T12:50:03.992Z"
   },
   {
    "duration": 176,
    "start_time": "2024-07-21T12:50:04.172Z"
   },
   {
    "duration": 49,
    "start_time": "2024-07-21T12:50:04.355Z"
   },
   {
    "duration": 170,
    "start_time": "2024-07-21T12:50:04.407Z"
   },
   {
    "duration": 6,
    "start_time": "2024-07-21T12:50:04.580Z"
   },
   {
    "duration": 52,
    "start_time": "2024-07-21T12:50:04.588Z"
   },
   {
    "duration": 45,
    "start_time": "2024-07-21T12:50:04.643Z"
   },
   {
    "duration": 47,
    "start_time": "2024-07-21T12:50:04.691Z"
   },
   {
    "duration": 558,
    "start_time": "2024-07-21T12:50:04.741Z"
   },
   {
    "duration": 1607,
    "start_time": "2024-07-21T12:50:05.303Z"
   },
   {
    "duration": 522,
    "start_time": "2024-07-21T12:50:06.913Z"
   },
   {
    "duration": 3022,
    "start_time": "2024-07-21T12:50:07.439Z"
   },
   {
    "duration": 342,
    "start_time": "2024-07-21T12:50:10.464Z"
   },
   {
    "duration": 57,
    "start_time": "2024-07-21T12:50:10.810Z"
   },
   {
    "duration": 57,
    "start_time": "2024-07-21T12:50:10.877Z"
   },
   {
    "duration": 225,
    "start_time": "2024-07-21T12:50:10.936Z"
   },
   {
    "duration": 562,
    "start_time": "2024-07-21T12:50:11.164Z"
   },
   {
    "duration": 48,
    "start_time": "2024-07-21T12:50:11.732Z"
   },
   {
    "duration": 683,
    "start_time": "2024-07-21T12:50:11.788Z"
   },
   {
    "duration": 240,
    "start_time": "2024-07-21T12:50:12.473Z"
   },
   {
    "duration": 1159,
    "start_time": "2024-07-21T12:50:12.716Z"
   },
   {
    "duration": 15,
    "start_time": "2024-07-21T12:50:13.878Z"
   },
   {
    "duration": 1344,
    "start_time": "2024-07-21T12:50:13.896Z"
   },
   {
    "duration": 9,
    "start_time": "2024-07-21T12:50:15.243Z"
   },
   {
    "duration": 13541,
    "start_time": "2024-07-21T12:50:15.256Z"
   },
   {
    "duration": 10,
    "start_time": "2024-07-21T12:50:28.801Z"
   },
   {
    "duration": 1944,
    "start_time": "2024-07-21T12:56:18.520Z"
   },
   {
    "duration": 0,
    "start_time": "2024-07-21T12:56:20.471Z"
   },
   {
    "duration": 1,
    "start_time": "2024-07-21T12:56:20.472Z"
   },
   {
    "duration": 0,
    "start_time": "2024-07-21T12:56:20.475Z"
   },
   {
    "duration": 0,
    "start_time": "2024-07-21T12:56:20.477Z"
   },
   {
    "duration": 0,
    "start_time": "2024-07-21T12:56:20.479Z"
   },
   {
    "duration": 0,
    "start_time": "2024-07-21T12:56:20.480Z"
   },
   {
    "duration": 0,
    "start_time": "2024-07-21T12:56:20.484Z"
   },
   {
    "duration": 0,
    "start_time": "2024-07-21T12:56:20.487Z"
   },
   {
    "duration": 0,
    "start_time": "2024-07-21T12:56:20.490Z"
   },
   {
    "duration": 0,
    "start_time": "2024-07-21T12:56:20.492Z"
   },
   {
    "duration": 0,
    "start_time": "2024-07-21T12:56:20.531Z"
   },
   {
    "duration": 0,
    "start_time": "2024-07-21T12:56:20.533Z"
   },
   {
    "duration": 0,
    "start_time": "2024-07-21T12:56:20.536Z"
   },
   {
    "duration": 0,
    "start_time": "2024-07-21T12:56:20.538Z"
   },
   {
    "duration": 0,
    "start_time": "2024-07-21T12:56:20.540Z"
   },
   {
    "duration": 0,
    "start_time": "2024-07-21T12:56:20.543Z"
   },
   {
    "duration": 0,
    "start_time": "2024-07-21T12:56:20.545Z"
   },
   {
    "duration": 0,
    "start_time": "2024-07-21T12:56:20.546Z"
   },
   {
    "duration": 0,
    "start_time": "2024-07-21T12:56:20.548Z"
   },
   {
    "duration": 0,
    "start_time": "2024-07-21T12:56:20.550Z"
   },
   {
    "duration": 0,
    "start_time": "2024-07-21T12:56:20.552Z"
   },
   {
    "duration": 0,
    "start_time": "2024-07-21T12:56:20.555Z"
   },
   {
    "duration": 0,
    "start_time": "2024-07-21T12:56:20.557Z"
   },
   {
    "duration": 0,
    "start_time": "2024-07-21T12:56:20.559Z"
   },
   {
    "duration": 0,
    "start_time": "2024-07-21T12:56:20.562Z"
   },
   {
    "duration": 0,
    "start_time": "2024-07-21T12:56:20.564Z"
   },
   {
    "duration": 0,
    "start_time": "2024-07-21T12:56:20.567Z"
   },
   {
    "duration": 0,
    "start_time": "2024-07-21T12:56:20.568Z"
   },
   {
    "duration": 0,
    "start_time": "2024-07-21T12:56:20.570Z"
   },
   {
    "duration": 0,
    "start_time": "2024-07-21T12:56:20.635Z"
   },
   {
    "duration": 0,
    "start_time": "2024-07-21T12:56:20.636Z"
   },
   {
    "duration": 0,
    "start_time": "2024-07-21T12:56:20.638Z"
   },
   {
    "duration": 0,
    "start_time": "2024-07-21T12:56:20.640Z"
   },
   {
    "duration": 0,
    "start_time": "2024-07-21T12:56:20.641Z"
   },
   {
    "duration": 0,
    "start_time": "2024-07-21T12:56:20.644Z"
   },
   {
    "duration": 0,
    "start_time": "2024-07-21T12:56:20.646Z"
   },
   {
    "duration": 0,
    "start_time": "2024-07-21T12:56:20.648Z"
   },
   {
    "duration": 0,
    "start_time": "2024-07-21T12:56:20.650Z"
   },
   {
    "duration": 0,
    "start_time": "2024-07-21T12:56:20.653Z"
   },
   {
    "duration": 0,
    "start_time": "2024-07-21T12:56:20.654Z"
   },
   {
    "duration": 0,
    "start_time": "2024-07-21T12:56:20.656Z"
   },
   {
    "duration": 0,
    "start_time": "2024-07-21T12:56:20.659Z"
   },
   {
    "duration": 0,
    "start_time": "2024-07-21T12:56:20.660Z"
   },
   {
    "duration": 0,
    "start_time": "2024-07-21T12:56:20.662Z"
   },
   {
    "duration": 0,
    "start_time": "2024-07-21T12:56:20.663Z"
   },
   {
    "duration": 0,
    "start_time": "2024-07-21T12:56:20.665Z"
   },
   {
    "duration": 1920,
    "start_time": "2024-07-21T12:56:58.352Z"
   },
   {
    "duration": 0,
    "start_time": "2024-07-21T12:57:00.279Z"
   },
   {
    "duration": 0,
    "start_time": "2024-07-21T12:57:00.281Z"
   },
   {
    "duration": 0,
    "start_time": "2024-07-21T12:57:00.283Z"
   },
   {
    "duration": 0,
    "start_time": "2024-07-21T12:57:00.285Z"
   },
   {
    "duration": 0,
    "start_time": "2024-07-21T12:57:00.288Z"
   },
   {
    "duration": 0,
    "start_time": "2024-07-21T12:57:00.290Z"
   },
   {
    "duration": 0,
    "start_time": "2024-07-21T12:57:00.292Z"
   },
   {
    "duration": 0,
    "start_time": "2024-07-21T12:57:00.294Z"
   },
   {
    "duration": 0,
    "start_time": "2024-07-21T12:57:00.296Z"
   },
   {
    "duration": 0,
    "start_time": "2024-07-21T12:57:00.331Z"
   },
   {
    "duration": 0,
    "start_time": "2024-07-21T12:57:00.332Z"
   },
   {
    "duration": 1,
    "start_time": "2024-07-21T12:57:00.335Z"
   },
   {
    "duration": 0,
    "start_time": "2024-07-21T12:57:00.337Z"
   },
   {
    "duration": 0,
    "start_time": "2024-07-21T12:57:00.340Z"
   },
   {
    "duration": 0,
    "start_time": "2024-07-21T12:57:00.341Z"
   },
   {
    "duration": 0,
    "start_time": "2024-07-21T12:57:00.344Z"
   },
   {
    "duration": 0,
    "start_time": "2024-07-21T12:57:00.346Z"
   },
   {
    "duration": 0,
    "start_time": "2024-07-21T12:57:00.347Z"
   },
   {
    "duration": 0,
    "start_time": "2024-07-21T12:57:00.350Z"
   },
   {
    "duration": 0,
    "start_time": "2024-07-21T12:57:00.352Z"
   },
   {
    "duration": 0,
    "start_time": "2024-07-21T12:57:00.353Z"
   },
   {
    "duration": 0,
    "start_time": "2024-07-21T12:57:00.356Z"
   },
   {
    "duration": 0,
    "start_time": "2024-07-21T12:57:00.358Z"
   },
   {
    "duration": 0,
    "start_time": "2024-07-21T12:57:00.359Z"
   },
   {
    "duration": 0,
    "start_time": "2024-07-21T12:57:00.361Z"
   },
   {
    "duration": 0,
    "start_time": "2024-07-21T12:57:00.364Z"
   },
   {
    "duration": 0,
    "start_time": "2024-07-21T12:57:00.365Z"
   },
   {
    "duration": 0,
    "start_time": "2024-07-21T12:57:00.368Z"
   },
   {
    "duration": 0,
    "start_time": "2024-07-21T12:57:00.369Z"
   },
   {
    "duration": 0,
    "start_time": "2024-07-21T12:57:00.432Z"
   },
   {
    "duration": 0,
    "start_time": "2024-07-21T12:57:00.435Z"
   },
   {
    "duration": 0,
    "start_time": "2024-07-21T12:57:00.438Z"
   },
   {
    "duration": 0,
    "start_time": "2024-07-21T12:57:00.440Z"
   },
   {
    "duration": 0,
    "start_time": "2024-07-21T12:57:00.444Z"
   },
   {
    "duration": 0,
    "start_time": "2024-07-21T12:57:00.446Z"
   },
   {
    "duration": 0,
    "start_time": "2024-07-21T12:57:00.448Z"
   },
   {
    "duration": 0,
    "start_time": "2024-07-21T12:57:00.451Z"
   },
   {
    "duration": 0,
    "start_time": "2024-07-21T12:57:00.453Z"
   },
   {
    "duration": 0,
    "start_time": "2024-07-21T12:57:00.456Z"
   },
   {
    "duration": 0,
    "start_time": "2024-07-21T12:57:00.458Z"
   },
   {
    "duration": 0,
    "start_time": "2024-07-21T12:57:00.461Z"
   },
   {
    "duration": 0,
    "start_time": "2024-07-21T12:57:00.463Z"
   },
   {
    "duration": 0,
    "start_time": "2024-07-21T12:57:00.466Z"
   },
   {
    "duration": 0,
    "start_time": "2024-07-21T12:57:00.468Z"
   },
   {
    "duration": 0,
    "start_time": "2024-07-21T12:57:00.471Z"
   },
   {
    "duration": 0,
    "start_time": "2024-07-21T12:57:00.533Z"
   },
   {
    "duration": 32,
    "start_time": "2024-07-21T12:58:13.451Z"
   },
   {
    "duration": 1688,
    "start_time": "2024-07-21T13:00:18.435Z"
   },
   {
    "duration": 789,
    "start_time": "2024-07-21T13:00:20.126Z"
   },
   {
    "duration": 35,
    "start_time": "2024-07-21T13:00:20.917Z"
   },
   {
    "duration": 5,
    "start_time": "2024-07-21T13:00:20.956Z"
   },
   {
    "duration": 172,
    "start_time": "2024-07-21T13:00:20.965Z"
   },
   {
    "duration": 144,
    "start_time": "2024-07-21T13:00:21.140Z"
   },
   {
    "duration": 424,
    "start_time": "2024-07-21T13:00:21.286Z"
   },
   {
    "duration": 169,
    "start_time": "2024-07-21T13:00:21.713Z"
   },
   {
    "duration": 26,
    "start_time": "2024-07-21T13:00:21.887Z"
   },
   {
    "duration": 26,
    "start_time": "2024-07-21T13:00:21.932Z"
   },
   {
    "duration": 41,
    "start_time": "2024-07-21T13:00:21.961Z"
   },
   {
    "duration": 31,
    "start_time": "2024-07-21T13:00:22.030Z"
   },
   {
    "duration": 40,
    "start_time": "2024-07-21T13:00:22.064Z"
   },
   {
    "duration": 123,
    "start_time": "2024-07-21T13:00:22.131Z"
   },
   {
    "duration": 147,
    "start_time": "2024-07-21T13:00:22.257Z"
   },
   {
    "duration": 65,
    "start_time": "2024-07-21T13:00:22.407Z"
   },
   {
    "duration": 113,
    "start_time": "2024-07-21T13:00:22.476Z"
   },
   {
    "duration": 5,
    "start_time": "2024-07-21T13:00:22.592Z"
   },
   {
    "duration": 51,
    "start_time": "2024-07-21T13:00:22.600Z"
   },
   {
    "duration": 38,
    "start_time": "2024-07-21T13:00:22.654Z"
   },
   {
    "duration": 44,
    "start_time": "2024-07-21T13:00:22.696Z"
   },
   {
    "duration": 560,
    "start_time": "2024-07-21T13:00:22.743Z"
   },
   {
    "duration": 1599,
    "start_time": "2024-07-21T13:00:23.306Z"
   },
   {
    "duration": 580,
    "start_time": "2024-07-21T13:00:24.908Z"
   },
   {
    "duration": 2802,
    "start_time": "2024-07-21T13:00:25.495Z"
   },
   {
    "duration": 346,
    "start_time": "2024-07-21T13:00:28.299Z"
   },
   {
    "duration": 40,
    "start_time": "2024-07-21T13:00:28.651Z"
   },
   {
    "duration": 56,
    "start_time": "2024-07-21T13:00:28.699Z"
   },
   {
    "duration": 235,
    "start_time": "2024-07-21T13:00:28.758Z"
   },
   {
    "duration": 550,
    "start_time": "2024-07-21T13:00:28.996Z"
   },
   {
    "duration": 40,
    "start_time": "2024-07-21T13:00:29.549Z"
   },
   {
    "duration": 610,
    "start_time": "2024-07-21T13:00:29.592Z"
   },
   {
    "duration": 213,
    "start_time": "2024-07-21T13:00:30.206Z"
   },
   {
    "duration": 1119,
    "start_time": "2024-07-21T13:00:30.430Z"
   },
   {
    "duration": 21,
    "start_time": "2024-07-21T13:00:31.552Z"
   },
   {
    "duration": 1431,
    "start_time": "2024-07-21T13:00:31.577Z"
   },
   {
    "duration": 8,
    "start_time": "2024-07-21T13:00:33.010Z"
   },
   {
    "duration": 12786,
    "start_time": "2024-07-21T13:00:33.031Z"
   },
   {
    "duration": 12,
    "start_time": "2024-07-21T13:00:45.820Z"
   },
   {
    "duration": 738,
    "start_time": "2024-07-21T13:00:45.835Z"
   },
   {
    "duration": 0,
    "start_time": "2024-07-21T13:00:46.577Z"
   },
   {
    "duration": 0,
    "start_time": "2024-07-21T13:00:46.579Z"
   },
   {
    "duration": 0,
    "start_time": "2024-07-21T13:00:46.581Z"
   },
   {
    "duration": 0,
    "start_time": "2024-07-21T13:00:46.584Z"
   },
   {
    "duration": 0,
    "start_time": "2024-07-21T13:00:46.587Z"
   },
   {
    "duration": 0,
    "start_time": "2024-07-21T13:00:46.590Z"
   },
   {
    "duration": 0,
    "start_time": "2024-07-21T13:00:46.592Z"
   },
   {
    "duration": 1663,
    "start_time": "2024-07-21T13:01:48.761Z"
   },
   {
    "duration": 760,
    "start_time": "2024-07-21T13:01:50.428Z"
   },
   {
    "duration": 26,
    "start_time": "2024-07-21T13:01:51.191Z"
   },
   {
    "duration": 6,
    "start_time": "2024-07-21T13:01:51.233Z"
   },
   {
    "duration": 163,
    "start_time": "2024-07-21T13:01:51.242Z"
   },
   {
    "duration": 144,
    "start_time": "2024-07-21T13:01:51.407Z"
   },
   {
    "duration": 432,
    "start_time": "2024-07-21T13:01:51.553Z"
   },
   {
    "duration": 185,
    "start_time": "2024-07-21T13:01:51.989Z"
   },
   {
    "duration": 28,
    "start_time": "2024-07-21T13:01:52.176Z"
   },
   {
    "duration": 43,
    "start_time": "2024-07-21T13:01:52.212Z"
   },
   {
    "duration": 40,
    "start_time": "2024-07-21T13:01:52.258Z"
   },
   {
    "duration": 48,
    "start_time": "2024-07-21T13:01:52.302Z"
   },
   {
    "duration": 43,
    "start_time": "2024-07-21T13:01:52.353Z"
   },
   {
    "duration": 129,
    "start_time": "2024-07-21T13:01:52.401Z"
   },
   {
    "duration": 150,
    "start_time": "2024-07-21T13:01:52.535Z"
   },
   {
    "duration": 59,
    "start_time": "2024-07-21T13:01:52.688Z"
   },
   {
    "duration": 100,
    "start_time": "2024-07-21T13:01:52.749Z"
   },
   {
    "duration": 5,
    "start_time": "2024-07-21T13:01:52.852Z"
   },
   {
    "duration": 28,
    "start_time": "2024-07-21T13:01:52.860Z"
   },
   {
    "duration": 73,
    "start_time": "2024-07-21T13:01:52.891Z"
   },
   {
    "duration": 17,
    "start_time": "2024-07-21T13:01:52.966Z"
   },
   {
    "duration": 579,
    "start_time": "2024-07-21T13:01:52.986Z"
   },
   {
    "duration": 1544,
    "start_time": "2024-07-21T13:01:53.568Z"
   },
   {
    "duration": 529,
    "start_time": "2024-07-21T13:01:55.115Z"
   },
   {
    "duration": 2733,
    "start_time": "2024-07-21T13:01:55.649Z"
   },
   {
    "duration": 357,
    "start_time": "2024-07-21T13:01:58.386Z"
   },
   {
    "duration": 41,
    "start_time": "2024-07-21T13:01:58.746Z"
   },
   {
    "duration": 58,
    "start_time": "2024-07-21T13:01:58.796Z"
   },
   {
    "duration": 204,
    "start_time": "2024-07-21T13:01:58.857Z"
   },
   {
    "duration": 500,
    "start_time": "2024-07-21T13:01:59.065Z"
   },
   {
    "duration": 39,
    "start_time": "2024-07-21T13:01:59.568Z"
   },
   {
    "duration": 631,
    "start_time": "2024-07-21T13:01:59.610Z"
   },
   {
    "duration": 213,
    "start_time": "2024-07-21T13:02:00.244Z"
   },
   {
    "duration": 1091,
    "start_time": "2024-07-21T13:02:00.460Z"
   },
   {
    "duration": 14,
    "start_time": "2024-07-21T13:02:01.554Z"
   },
   {
    "duration": 1314,
    "start_time": "2024-07-21T13:02:01.571Z"
   },
   {
    "duration": 8,
    "start_time": "2024-07-21T13:02:02.888Z"
   },
   {
    "duration": 12931,
    "start_time": "2024-07-21T13:02:02.899Z"
   },
   {
    "duration": 6,
    "start_time": "2024-07-21T13:02:15.833Z"
   },
   {
    "duration": 1673,
    "start_time": "2024-07-21T13:02:44.071Z"
   },
   {
    "duration": 774,
    "start_time": "2024-07-21T13:02:45.748Z"
   },
   {
    "duration": 32,
    "start_time": "2024-07-21T13:02:46.524Z"
   },
   {
    "duration": 6,
    "start_time": "2024-07-21T13:02:46.560Z"
   },
   {
    "duration": 168,
    "start_time": "2024-07-21T13:02:46.570Z"
   },
   {
    "duration": 144,
    "start_time": "2024-07-21T13:02:46.741Z"
   },
   {
    "duration": 401,
    "start_time": "2024-07-21T13:02:46.888Z"
   },
   {
    "duration": 152,
    "start_time": "2024-07-21T13:02:47.292Z"
   },
   {
    "duration": 27,
    "start_time": "2024-07-21T13:02:47.447Z"
   },
   {
    "duration": 50,
    "start_time": "2024-07-21T13:02:47.482Z"
   },
   {
    "duration": 43,
    "start_time": "2024-07-21T13:02:47.535Z"
   },
   {
    "duration": 50,
    "start_time": "2024-07-21T13:02:47.582Z"
   },
   {
    "duration": 41,
    "start_time": "2024-07-21T13:02:47.635Z"
   },
   {
    "duration": 128,
    "start_time": "2024-07-21T13:02:47.678Z"
   },
   {
    "duration": 143,
    "start_time": "2024-07-21T13:02:47.809Z"
   },
   {
    "duration": 45,
    "start_time": "2024-07-21T13:02:47.954Z"
   },
   {
    "duration": 120,
    "start_time": "2024-07-21T13:02:48.002Z"
   },
   {
    "duration": 5,
    "start_time": "2024-07-21T13:02:48.131Z"
   },
   {
    "duration": 29,
    "start_time": "2024-07-21T13:02:48.139Z"
   },
   {
    "duration": 65,
    "start_time": "2024-07-21T13:02:48.170Z"
   },
   {
    "duration": 22,
    "start_time": "2024-07-21T13:02:48.237Z"
   },
   {
    "duration": 568,
    "start_time": "2024-07-21T13:02:48.262Z"
   },
   {
    "duration": 1587,
    "start_time": "2024-07-21T13:02:48.834Z"
   },
   {
    "duration": 521,
    "start_time": "2024-07-21T13:02:50.424Z"
   },
   {
    "duration": 2770,
    "start_time": "2024-07-21T13:02:50.948Z"
   },
   {
    "duration": 333,
    "start_time": "2024-07-21T13:02:53.721Z"
   },
   {
    "duration": 45,
    "start_time": "2024-07-21T13:02:54.057Z"
   },
   {
    "duration": 64,
    "start_time": "2024-07-21T13:02:54.110Z"
   },
   {
    "duration": 212,
    "start_time": "2024-07-21T13:02:54.178Z"
   },
   {
    "duration": 500,
    "start_time": "2024-07-21T13:02:54.393Z"
   },
   {
    "duration": 47,
    "start_time": "2024-07-21T13:02:54.896Z"
   },
   {
    "duration": 606,
    "start_time": "2024-07-21T13:02:54.946Z"
   },
   {
    "duration": 221,
    "start_time": "2024-07-21T13:02:55.556Z"
   },
   {
    "duration": 1121,
    "start_time": "2024-07-21T13:02:55.782Z"
   },
   {
    "duration": 16,
    "start_time": "2024-07-21T13:02:56.906Z"
   },
   {
    "duration": 1233,
    "start_time": "2024-07-21T13:02:56.932Z"
   },
   {
    "duration": 8,
    "start_time": "2024-07-21T13:02:58.168Z"
   },
   {
    "duration": 4,
    "start_time": "2024-07-21T13:02:58.179Z"
   },
   {
    "duration": 3,
    "start_time": "2024-07-21T13:02:58.187Z"
   },
   {
    "duration": 5299,
    "start_time": "2024-07-21T13:28:34.220Z"
   },
   {
    "duration": 811,
    "start_time": "2024-07-21T13:28:39.524Z"
   },
   {
    "duration": 28,
    "start_time": "2024-07-21T13:28:40.338Z"
   },
   {
    "duration": 5,
    "start_time": "2024-07-21T13:28:40.371Z"
   },
   {
    "duration": 186,
    "start_time": "2024-07-21T13:28:40.380Z"
   },
   {
    "duration": 151,
    "start_time": "2024-07-21T13:28:40.569Z"
   },
   {
    "duration": 408,
    "start_time": "2024-07-21T13:28:40.723Z"
   },
   {
    "duration": 151,
    "start_time": "2024-07-21T13:28:41.134Z"
   },
   {
    "duration": 27,
    "start_time": "2024-07-21T13:28:41.288Z"
   },
   {
    "duration": 29,
    "start_time": "2024-07-21T13:28:41.336Z"
   },
   {
    "duration": 64,
    "start_time": "2024-07-21T13:28:41.368Z"
   },
   {
    "duration": 28,
    "start_time": "2024-07-21T13:28:41.435Z"
   },
   {
    "duration": 40,
    "start_time": "2024-07-21T13:28:41.466Z"
   },
   {
    "duration": 126,
    "start_time": "2024-07-21T13:28:41.532Z"
   },
   {
    "duration": 170,
    "start_time": "2024-07-21T13:28:41.663Z"
   },
   {
    "duration": 49,
    "start_time": "2024-07-21T13:28:41.836Z"
   },
   {
    "duration": 118,
    "start_time": "2024-07-21T13:28:41.888Z"
   },
   {
    "duration": 10,
    "start_time": "2024-07-21T13:28:42.009Z"
   },
   {
    "duration": 40,
    "start_time": "2024-07-21T13:28:42.035Z"
   },
   {
    "duration": 63,
    "start_time": "2024-07-21T13:28:42.079Z"
   },
   {
    "duration": 19,
    "start_time": "2024-07-21T13:28:42.145Z"
   },
   {
    "duration": 568,
    "start_time": "2024-07-21T13:28:42.167Z"
   },
   {
    "duration": 1617,
    "start_time": "2024-07-21T13:28:42.738Z"
   },
   {
    "duration": 527,
    "start_time": "2024-07-21T13:28:44.358Z"
   },
   {
    "duration": 2727,
    "start_time": "2024-07-21T13:28:44.890Z"
   },
   {
    "duration": 253,
    "start_time": "2024-07-21T13:28:47.620Z"
   },
   {
    "duration": 55,
    "start_time": "2024-07-21T13:28:47.876Z"
   },
   {
    "duration": 41,
    "start_time": "2024-07-21T13:28:47.939Z"
   },
   {
    "duration": 212,
    "start_time": "2024-07-21T13:28:47.983Z"
   },
   {
    "duration": 501,
    "start_time": "2024-07-21T13:28:48.198Z"
   },
   {
    "duration": 56,
    "start_time": "2024-07-21T13:28:48.702Z"
   },
   {
    "duration": 623,
    "start_time": "2024-07-21T13:28:48.761Z"
   },
   {
    "duration": 233,
    "start_time": "2024-07-21T13:28:49.387Z"
   },
   {
    "duration": 1095,
    "start_time": "2024-07-21T13:28:49.623Z"
   },
   {
    "duration": 109,
    "start_time": "2024-07-21T13:28:50.721Z"
   },
   {
    "duration": 1281,
    "start_time": "2024-07-21T13:28:50.833Z"
   },
   {
    "duration": 7,
    "start_time": "2024-07-21T13:28:52.116Z"
   },
   {
    "duration": 5,
    "start_time": "2024-07-21T13:28:52.133Z"
   },
   {
    "duration": 3,
    "start_time": "2024-07-21T13:28:52.142Z"
   },
   {
    "duration": 1722,
    "start_time": "2024-07-21T14:15:39.341Z"
   },
   {
    "duration": 802,
    "start_time": "2024-07-21T14:15:41.067Z"
   },
   {
    "duration": 28,
    "start_time": "2024-07-21T14:15:41.871Z"
   },
   {
    "duration": 5,
    "start_time": "2024-07-21T14:15:41.903Z"
   },
   {
    "duration": 169,
    "start_time": "2024-07-21T14:15:41.930Z"
   },
   {
    "duration": 162,
    "start_time": "2024-07-21T14:15:42.101Z"
   },
   {
    "duration": 428,
    "start_time": "2024-07-21T14:15:42.266Z"
   },
   {
    "duration": 154,
    "start_time": "2024-07-21T14:15:42.698Z"
   },
   {
    "duration": 26,
    "start_time": "2024-07-21T14:15:42.856Z"
   },
   {
    "duration": 49,
    "start_time": "2024-07-21T14:15:42.890Z"
   },
   {
    "duration": 40,
    "start_time": "2024-07-21T14:15:42.942Z"
   },
   {
    "duration": 47,
    "start_time": "2024-07-21T14:15:42.985Z"
   },
   {
    "duration": 45,
    "start_time": "2024-07-21T14:15:43.035Z"
   },
   {
    "duration": 133,
    "start_time": "2024-07-21T14:15:43.083Z"
   },
   {
    "duration": 159,
    "start_time": "2024-07-21T14:15:43.219Z"
   },
   {
    "duration": 64,
    "start_time": "2024-07-21T14:15:43.383Z"
   },
   {
    "duration": 107,
    "start_time": "2024-07-21T14:15:43.451Z"
   },
   {
    "duration": 6,
    "start_time": "2024-07-21T14:15:43.561Z"
   },
   {
    "duration": 28,
    "start_time": "2024-07-21T14:15:43.569Z"
   },
   {
    "duration": 39,
    "start_time": "2024-07-21T14:15:43.630Z"
   },
   {
    "duration": 20,
    "start_time": "2024-07-21T14:15:43.671Z"
   },
   {
    "duration": 547,
    "start_time": "2024-07-21T14:15:43.695Z"
   },
   {
    "duration": 1541,
    "start_time": "2024-07-21T14:15:44.245Z"
   },
   {
    "duration": 520,
    "start_time": "2024-07-21T14:15:45.790Z"
   },
   {
    "duration": 2731,
    "start_time": "2024-07-21T14:15:46.312Z"
   },
   {
    "duration": 322,
    "start_time": "2024-07-21T14:15:49.047Z"
   },
   {
    "duration": 40,
    "start_time": "2024-07-21T14:15:49.373Z"
   },
   {
    "duration": 40,
    "start_time": "2024-07-21T14:15:49.437Z"
   },
   {
    "duration": 210,
    "start_time": "2024-07-21T14:15:49.480Z"
   },
   {
    "duration": 502,
    "start_time": "2024-07-21T14:15:49.693Z"
   },
   {
    "duration": 48,
    "start_time": "2024-07-21T14:15:50.198Z"
   },
   {
    "duration": 596,
    "start_time": "2024-07-21T14:15:50.249Z"
   },
   {
    "duration": 208,
    "start_time": "2024-07-21T14:15:50.848Z"
   },
   {
    "duration": 4,
    "start_time": "2024-07-21T14:15:51.059Z"
   },
   {
    "duration": 546,
    "start_time": "2024-07-21T14:15:51.066Z"
   },
   {
    "duration": 0,
    "start_time": "2024-07-21T14:15:51.614Z"
   },
   {
    "duration": 0,
    "start_time": "2024-07-21T14:15:51.616Z"
   },
   {
    "duration": 0,
    "start_time": "2024-07-21T14:15:51.618Z"
   },
   {
    "duration": 0,
    "start_time": "2024-07-21T14:15:51.630Z"
   },
   {
    "duration": 0,
    "start_time": "2024-07-21T14:15:51.632Z"
   },
   {
    "duration": 0,
    "start_time": "2024-07-21T14:15:51.634Z"
   },
   {
    "duration": 0,
    "start_time": "2024-07-21T14:15:51.636Z"
   },
   {
    "duration": 0,
    "start_time": "2024-07-21T14:15:51.638Z"
   },
   {
    "duration": 0,
    "start_time": "2024-07-21T14:15:51.639Z"
   },
   {
    "duration": 0,
    "start_time": "2024-07-21T14:15:51.642Z"
   },
   {
    "duration": 0,
    "start_time": "2024-07-21T14:15:51.645Z"
   },
   {
    "duration": 0,
    "start_time": "2024-07-21T14:15:51.648Z"
   },
   {
    "duration": 0,
    "start_time": "2024-07-21T14:15:51.651Z"
   },
   {
    "duration": 0,
    "start_time": "2024-07-21T14:15:51.653Z"
   },
   {
    "duration": 0,
    "start_time": "2024-07-21T14:15:51.655Z"
   },
   {
    "duration": 0,
    "start_time": "2024-07-21T14:15:51.657Z"
   },
   {
    "duration": 48,
    "start_time": "2024-07-21T14:17:09.100Z"
   },
   {
    "duration": 46,
    "start_time": "2024-07-21T14:17:20.144Z"
   },
   {
    "duration": 1075,
    "start_time": "2024-07-21T14:17:22.505Z"
   },
   {
    "duration": 12,
    "start_time": "2024-07-21T14:17:24.315Z"
   },
   {
    "duration": 372,
    "start_time": "2024-07-21T14:17:25.424Z"
   },
   {
    "duration": 362,
    "start_time": "2024-07-21T14:19:50.091Z"
   },
   {
    "duration": 1664,
    "start_time": "2024-07-21T14:19:56.380Z"
   },
   {
    "duration": 760,
    "start_time": "2024-07-21T14:19:58.048Z"
   },
   {
    "duration": 36,
    "start_time": "2024-07-21T14:19:58.812Z"
   },
   {
    "duration": 6,
    "start_time": "2024-07-21T14:19:58.850Z"
   },
   {
    "duration": 179,
    "start_time": "2024-07-21T14:19:58.861Z"
   },
   {
    "duration": 163,
    "start_time": "2024-07-21T14:19:59.044Z"
   },
   {
    "duration": 409,
    "start_time": "2024-07-21T14:19:59.210Z"
   },
   {
    "duration": 152,
    "start_time": "2024-07-21T14:19:59.622Z"
   },
   {
    "duration": 25,
    "start_time": "2024-07-21T14:19:59.777Z"
   },
   {
    "duration": 45,
    "start_time": "2024-07-21T14:19:59.806Z"
   },
   {
    "duration": 41,
    "start_time": "2024-07-21T14:19:59.854Z"
   },
   {
    "duration": 46,
    "start_time": "2024-07-21T14:19:59.898Z"
   },
   {
    "duration": 40,
    "start_time": "2024-07-21T14:19:59.947Z"
   },
   {
    "duration": 150,
    "start_time": "2024-07-21T14:19:59.994Z"
   },
   {
    "duration": 152,
    "start_time": "2024-07-21T14:20:00.147Z"
   },
   {
    "duration": 65,
    "start_time": "2024-07-21T14:20:00.302Z"
   },
   {
    "duration": 137,
    "start_time": "2024-07-21T14:20:00.370Z"
   },
   {
    "duration": 5,
    "start_time": "2024-07-21T14:20:00.510Z"
   },
   {
    "duration": 40,
    "start_time": "2024-07-21T14:20:00.518Z"
   },
   {
    "duration": 39,
    "start_time": "2024-07-21T14:20:00.561Z"
   },
   {
    "duration": 20,
    "start_time": "2024-07-21T14:20:00.630Z"
   },
   {
    "duration": 548,
    "start_time": "2024-07-21T14:20:00.653Z"
   },
   {
    "duration": 1556,
    "start_time": "2024-07-21T14:20:01.206Z"
   },
   {
    "duration": 521,
    "start_time": "2024-07-21T14:20:02.765Z"
   },
   {
    "duration": 2760,
    "start_time": "2024-07-21T14:20:03.289Z"
   },
   {
    "duration": 326,
    "start_time": "2024-07-21T14:20:06.054Z"
   },
   {
    "duration": 49,
    "start_time": "2024-07-21T14:20:06.383Z"
   },
   {
    "duration": 44,
    "start_time": "2024-07-21T14:20:06.435Z"
   },
   {
    "duration": 215,
    "start_time": "2024-07-21T14:20:06.482Z"
   },
   {
    "duration": 509,
    "start_time": "2024-07-21T14:20:06.700Z"
   },
   {
    "duration": 49,
    "start_time": "2024-07-21T14:20:07.212Z"
   },
   {
    "duration": 597,
    "start_time": "2024-07-21T14:20:07.263Z"
   },
   {
    "duration": 221,
    "start_time": "2024-07-21T14:20:07.863Z"
   },
   {
    "duration": 8,
    "start_time": "2024-07-21T14:20:08.087Z"
   },
   {
    "duration": 66,
    "start_time": "2024-07-21T14:20:08.099Z"
   },
   {
    "duration": 1076,
    "start_time": "2024-07-21T14:20:08.169Z"
   },
   {
    "duration": 13,
    "start_time": "2024-07-21T14:20:09.248Z"
   },
   {
    "duration": 380,
    "start_time": "2024-07-21T14:20:09.267Z"
   },
   {
    "duration": 1711,
    "start_time": "2024-07-21T14:20:39.831Z"
   },
   {
    "duration": 812,
    "start_time": "2024-07-21T14:20:41.546Z"
   },
   {
    "duration": 29,
    "start_time": "2024-07-21T14:20:42.361Z"
   },
   {
    "duration": 5,
    "start_time": "2024-07-21T14:20:42.396Z"
   },
   {
    "duration": 169,
    "start_time": "2024-07-21T14:20:42.405Z"
   },
   {
    "duration": 155,
    "start_time": "2024-07-21T14:20:42.577Z"
   },
   {
    "duration": 412,
    "start_time": "2024-07-21T14:20:42.735Z"
   },
   {
    "duration": 149,
    "start_time": "2024-07-21T14:20:43.151Z"
   },
   {
    "duration": 30,
    "start_time": "2024-07-21T14:20:43.303Z"
   },
   {
    "duration": 27,
    "start_time": "2024-07-21T14:20:43.341Z"
   },
   {
    "duration": 63,
    "start_time": "2024-07-21T14:20:43.371Z"
   },
   {
    "duration": 28,
    "start_time": "2024-07-21T14:20:43.437Z"
   },
   {
    "duration": 62,
    "start_time": "2024-07-21T14:20:43.470Z"
   },
   {
    "duration": 115,
    "start_time": "2024-07-21T14:20:43.535Z"
   },
   {
    "duration": 145,
    "start_time": "2024-07-21T14:20:43.653Z"
   },
   {
    "duration": 65,
    "start_time": "2024-07-21T14:20:43.801Z"
   },
   {
    "duration": 103,
    "start_time": "2024-07-21T14:20:43.869Z"
   },
   {
    "duration": 5,
    "start_time": "2024-07-21T14:20:43.975Z"
   },
   {
    "duration": 54,
    "start_time": "2024-07-21T14:20:43.983Z"
   },
   {
    "duration": 44,
    "start_time": "2024-07-21T14:20:44.041Z"
   },
   {
    "duration": 44,
    "start_time": "2024-07-21T14:20:44.089Z"
   },
   {
    "duration": 556,
    "start_time": "2024-07-21T14:20:44.136Z"
   },
   {
    "duration": 1535,
    "start_time": "2024-07-21T14:20:44.695Z"
   },
   {
    "duration": 537,
    "start_time": "2024-07-21T14:20:46.234Z"
   },
   {
    "duration": 2760,
    "start_time": "2024-07-21T14:20:46.775Z"
   },
   {
    "duration": 343,
    "start_time": "2024-07-21T14:20:49.538Z"
   },
   {
    "duration": 48,
    "start_time": "2024-07-21T14:20:49.884Z"
   },
   {
    "duration": 40,
    "start_time": "2024-07-21T14:20:49.941Z"
   },
   {
    "duration": 215,
    "start_time": "2024-07-21T14:20:49.984Z"
   },
   {
    "duration": 500,
    "start_time": "2024-07-21T14:20:50.202Z"
   },
   {
    "duration": 50,
    "start_time": "2024-07-21T14:20:50.704Z"
   },
   {
    "duration": 605,
    "start_time": "2024-07-21T14:20:50.757Z"
   },
   {
    "duration": 228,
    "start_time": "2024-07-21T14:20:51.366Z"
   },
   {
    "duration": 4,
    "start_time": "2024-07-21T14:20:51.596Z"
   },
   {
    "duration": 62,
    "start_time": "2024-07-21T14:20:51.603Z"
   },
   {
    "duration": 1105,
    "start_time": "2024-07-21T14:20:51.668Z"
   },
   {
    "duration": 11,
    "start_time": "2024-07-21T14:20:52.776Z"
   },
   {
    "duration": 403,
    "start_time": "2024-07-21T14:20:52.790Z"
   },
   {
    "duration": 1717,
    "start_time": "2024-07-21T14:21:46.303Z"
   },
   {
    "duration": 799,
    "start_time": "2024-07-21T14:21:48.023Z"
   },
   {
    "duration": 31,
    "start_time": "2024-07-21T14:21:48.825Z"
   },
   {
    "duration": 6,
    "start_time": "2024-07-21T14:21:48.860Z"
   },
   {
    "duration": 175,
    "start_time": "2024-07-21T14:21:48.869Z"
   },
   {
    "duration": 145,
    "start_time": "2024-07-21T14:21:49.047Z"
   },
   {
    "duration": 406,
    "start_time": "2024-07-21T14:21:49.195Z"
   },
   {
    "duration": 151,
    "start_time": "2024-07-21T14:21:49.604Z"
   },
   {
    "duration": 26,
    "start_time": "2024-07-21T14:21:49.757Z"
   },
   {
    "duration": 47,
    "start_time": "2024-07-21T14:21:49.791Z"
   },
   {
    "duration": 42,
    "start_time": "2024-07-21T14:21:49.843Z"
   },
   {
    "duration": 50,
    "start_time": "2024-07-21T14:21:49.889Z"
   },
   {
    "duration": 39,
    "start_time": "2024-07-21T14:21:49.942Z"
   },
   {
    "duration": 126,
    "start_time": "2024-07-21T14:21:49.985Z"
   },
   {
    "duration": 144,
    "start_time": "2024-07-21T14:21:50.114Z"
   },
   {
    "duration": 47,
    "start_time": "2024-07-21T14:21:50.261Z"
   },
   {
    "duration": 104,
    "start_time": "2024-07-21T14:21:50.332Z"
   },
   {
    "duration": 11,
    "start_time": "2024-07-21T14:21:50.438Z"
   },
   {
    "duration": 30,
    "start_time": "2024-07-21T14:21:50.452Z"
   },
   {
    "duration": 67,
    "start_time": "2024-07-21T14:21:50.484Z"
   },
   {
    "duration": 18,
    "start_time": "2024-07-21T14:21:50.554Z"
   },
   {
    "duration": 533,
    "start_time": "2024-07-21T14:21:50.577Z"
   },
   {
    "duration": 1575,
    "start_time": "2024-07-21T14:21:51.113Z"
   },
   {
    "duration": 520,
    "start_time": "2024-07-21T14:21:52.691Z"
   },
   {
    "duration": 2703,
    "start_time": "2024-07-21T14:21:53.214Z"
   },
   {
    "duration": 322,
    "start_time": "2024-07-21T14:21:55.920Z"
   },
   {
    "duration": 42,
    "start_time": "2024-07-21T14:21:56.245Z"
   },
   {
    "duration": 56,
    "start_time": "2024-07-21T14:21:56.295Z"
   },
   {
    "duration": 224,
    "start_time": "2024-07-21T14:21:56.354Z"
   },
   {
    "duration": 512,
    "start_time": "2024-07-21T14:21:56.582Z"
   },
   {
    "duration": 48,
    "start_time": "2024-07-21T14:21:57.097Z"
   },
   {
    "duration": 599,
    "start_time": "2024-07-21T14:21:57.148Z"
   },
   {
    "duration": 232,
    "start_time": "2024-07-21T14:21:57.750Z"
   },
   {
    "duration": 4,
    "start_time": "2024-07-21T14:21:57.985Z"
   },
   {
    "duration": 63,
    "start_time": "2024-07-21T14:21:57.992Z"
   },
   {
    "duration": 1050,
    "start_time": "2024-07-21T14:21:58.057Z"
   },
   {
    "duration": 21,
    "start_time": "2024-07-21T14:21:59.110Z"
   },
   {
    "duration": 379,
    "start_time": "2024-07-21T14:21:59.134Z"
   },
   {
    "duration": 1743,
    "start_time": "2024-07-21T14:26:51.632Z"
   },
   {
    "duration": 801,
    "start_time": "2024-07-21T14:26:53.379Z"
   },
   {
    "duration": 28,
    "start_time": "2024-07-21T14:26:54.183Z"
   },
   {
    "duration": 17,
    "start_time": "2024-07-21T14:26:54.216Z"
   },
   {
    "duration": 171,
    "start_time": "2024-07-21T14:26:54.236Z"
   },
   {
    "duration": 146,
    "start_time": "2024-07-21T14:26:54.410Z"
   },
   {
    "duration": 423,
    "start_time": "2024-07-21T14:26:54.560Z"
   },
   {
    "duration": 153,
    "start_time": "2024-07-21T14:26:54.986Z"
   },
   {
    "duration": 27,
    "start_time": "2024-07-21T14:26:55.142Z"
   },
   {
    "duration": 28,
    "start_time": "2024-07-21T14:26:55.175Z"
   },
   {
    "duration": 41,
    "start_time": "2024-07-21T14:26:55.232Z"
   },
   {
    "duration": 26,
    "start_time": "2024-07-21T14:26:55.277Z"
   },
   {
    "duration": 61,
    "start_time": "2024-07-21T14:26:55.307Z"
   },
   {
    "duration": 132,
    "start_time": "2024-07-21T14:26:55.371Z"
   },
   {
    "duration": 146,
    "start_time": "2024-07-21T14:26:55.506Z"
   },
   {
    "duration": 50,
    "start_time": "2024-07-21T14:26:55.654Z"
   },
   {
    "duration": 122,
    "start_time": "2024-07-21T14:26:55.708Z"
   },
   {
    "duration": 5,
    "start_time": "2024-07-21T14:26:55.833Z"
   },
   {
    "duration": 30,
    "start_time": "2024-07-21T14:26:55.841Z"
   },
   {
    "duration": 68,
    "start_time": "2024-07-21T14:26:55.873Z"
   },
   {
    "duration": 19,
    "start_time": "2024-07-21T14:26:55.944Z"
   },
   {
    "duration": 552,
    "start_time": "2024-07-21T14:26:55.966Z"
   },
   {
    "duration": 1540,
    "start_time": "2024-07-21T14:26:56.522Z"
   },
   {
    "duration": 535,
    "start_time": "2024-07-21T14:26:58.065Z"
   },
   {
    "duration": 2717,
    "start_time": "2024-07-21T14:26:58.603Z"
   },
   {
    "duration": 347,
    "start_time": "2024-07-21T14:27:01.323Z"
   },
   {
    "duration": 40,
    "start_time": "2024-07-21T14:27:01.673Z"
   },
   {
    "duration": 46,
    "start_time": "2024-07-21T14:27:01.739Z"
   },
   {
    "duration": 218,
    "start_time": "2024-07-21T14:27:01.789Z"
   },
   {
    "duration": 537,
    "start_time": "2024-07-21T14:27:02.011Z"
   },
   {
    "duration": 39,
    "start_time": "2024-07-21T14:27:02.551Z"
   },
   {
    "duration": 632,
    "start_time": "2024-07-21T14:27:02.594Z"
   },
   {
    "duration": 219,
    "start_time": "2024-07-21T14:27:03.231Z"
   },
   {
    "duration": 3,
    "start_time": "2024-07-21T14:27:03.453Z"
   },
   {
    "duration": 47,
    "start_time": "2024-07-21T14:27:03.459Z"
   },
   {
    "duration": 778,
    "start_time": "2024-07-21T14:27:03.531Z"
   },
   {
    "duration": 21,
    "start_time": "2024-07-21T14:27:04.312Z"
   },
   {
    "duration": 288,
    "start_time": "2024-07-21T14:27:04.336Z"
   },
   {
    "duration": 12501,
    "start_time": "2024-07-21T14:27:04.630Z"
   },
   {
    "duration": 146,
    "start_time": "2024-07-21T14:27:17.133Z"
   },
   {
    "duration": 444,
    "start_time": "2024-07-21T14:27:17.281Z"
   },
   {
    "duration": 0,
    "start_time": "2024-07-21T14:27:17.731Z"
   },
   {
    "duration": 0,
    "start_time": "2024-07-21T14:27:17.733Z"
   },
   {
    "duration": 0,
    "start_time": "2024-07-21T14:27:17.735Z"
   },
   {
    "duration": 0,
    "start_time": "2024-07-21T14:27:17.737Z"
   },
   {
    "duration": 0,
    "start_time": "2024-07-21T14:27:17.739Z"
   },
   {
    "duration": 0,
    "start_time": "2024-07-21T14:27:17.741Z"
   },
   {
    "duration": 0,
    "start_time": "2024-07-21T14:27:17.744Z"
   },
   {
    "duration": 0,
    "start_time": "2024-07-21T14:27:17.746Z"
   },
   {
    "duration": 0,
    "start_time": "2024-07-21T14:27:17.748Z"
   },
   {
    "duration": 0,
    "start_time": "2024-07-21T14:27:17.751Z"
   },
   {
    "duration": 4,
    "start_time": "2024-07-21T14:29:48.359Z"
   },
   {
    "duration": 57,
    "start_time": "2024-07-21T14:29:57.410Z"
   },
   {
    "duration": 592,
    "start_time": "2024-07-21T14:29:59.428Z"
   },
   {
    "duration": 8160,
    "start_time": "2024-07-21T14:30:00.873Z"
   },
   {
    "duration": 9254,
    "start_time": "2024-07-21T14:30:10.417Z"
   },
   {
    "duration": 3050,
    "start_time": "2024-07-21T14:30:19.674Z"
   },
   {
    "duration": 185,
    "start_time": "2024-07-21T14:30:22.726Z"
   },
   {
    "duration": 1672,
    "start_time": "2024-07-21T14:32:25.867Z"
   },
   {
    "duration": 737,
    "start_time": "2024-07-21T14:32:27.542Z"
   },
   {
    "duration": 27,
    "start_time": "2024-07-21T14:32:28.282Z"
   },
   {
    "duration": 19,
    "start_time": "2024-07-21T14:32:28.314Z"
   },
   {
    "duration": 157,
    "start_time": "2024-07-21T14:32:28.336Z"
   },
   {
    "duration": 154,
    "start_time": "2024-07-21T14:32:28.496Z"
   },
   {
    "duration": 410,
    "start_time": "2024-07-21T14:32:28.653Z"
   },
   {
    "duration": 165,
    "start_time": "2024-07-21T14:32:29.066Z"
   },
   {
    "duration": 27,
    "start_time": "2024-07-21T14:32:29.234Z"
   },
   {
    "duration": 26,
    "start_time": "2024-07-21T14:32:29.268Z"
   },
   {
    "duration": 64,
    "start_time": "2024-07-21T14:32:29.297Z"
   },
   {
    "duration": 26,
    "start_time": "2024-07-21T14:32:29.365Z"
   },
   {
    "duration": 65,
    "start_time": "2024-07-21T14:32:29.395Z"
   },
   {
    "duration": 119,
    "start_time": "2024-07-21T14:32:29.462Z"
   },
   {
    "duration": 153,
    "start_time": "2024-07-21T14:32:29.583Z"
   },
   {
    "duration": 44,
    "start_time": "2024-07-21T14:32:29.739Z"
   },
   {
    "duration": 115,
    "start_time": "2024-07-21T14:32:29.786Z"
   },
   {
    "duration": 5,
    "start_time": "2024-07-21T14:32:29.904Z"
   },
   {
    "duration": 45,
    "start_time": "2024-07-21T14:32:29.913Z"
   },
   {
    "duration": 38,
    "start_time": "2024-07-21T14:32:29.961Z"
   },
   {
    "duration": 43,
    "start_time": "2024-07-21T14:32:30.002Z"
   },
   {
    "duration": 558,
    "start_time": "2024-07-21T14:32:30.048Z"
   },
   {
    "duration": 1550,
    "start_time": "2024-07-21T14:32:30.609Z"
   },
   {
    "duration": 544,
    "start_time": "2024-07-21T14:32:32.162Z"
   },
   {
    "duration": 2710,
    "start_time": "2024-07-21T14:32:32.709Z"
   },
   {
    "duration": 359,
    "start_time": "2024-07-21T14:32:35.422Z"
   },
   {
    "duration": 57,
    "start_time": "2024-07-21T14:32:35.784Z"
   },
   {
    "duration": 44,
    "start_time": "2024-07-21T14:32:35.851Z"
   },
   {
    "duration": 239,
    "start_time": "2024-07-21T14:32:35.898Z"
   },
   {
    "duration": 503,
    "start_time": "2024-07-21T14:32:36.140Z"
   },
   {
    "duration": 39,
    "start_time": "2024-07-21T14:32:36.649Z"
   },
   {
    "duration": 631,
    "start_time": "2024-07-21T14:32:36.690Z"
   },
   {
    "duration": 203,
    "start_time": "2024-07-21T14:32:37.324Z"
   },
   {
    "duration": 4,
    "start_time": "2024-07-21T14:32:37.529Z"
   },
   {
    "duration": 47,
    "start_time": "2024-07-21T14:32:37.536Z"
   },
   {
    "duration": 797,
    "start_time": "2024-07-21T14:32:37.587Z"
   },
   {
    "duration": 9,
    "start_time": "2024-07-21T14:32:38.388Z"
   },
   {
    "duration": 285,
    "start_time": "2024-07-21T14:32:38.401Z"
   },
   {
    "duration": 12663,
    "start_time": "2024-07-21T14:32:38.689Z"
   },
   {
    "duration": 146,
    "start_time": "2024-07-21T14:32:51.432Z"
   },
   {
    "duration": 5,
    "start_time": "2024-07-21T14:32:51.581Z"
   },
   {
    "duration": 3,
    "start_time": "2024-07-21T14:32:51.590Z"
   },
   {
    "duration": 4,
    "start_time": "2024-07-21T14:32:51.596Z"
   },
   {
    "duration": 4,
    "start_time": "2024-07-21T14:32:51.631Z"
   },
   {
    "duration": 5,
    "start_time": "2024-07-21T14:32:51.638Z"
   },
   {
    "duration": 97,
    "start_time": "2024-07-21T14:32:51.648Z"
   },
   {
    "duration": 726,
    "start_time": "2024-07-21T14:32:51.748Z"
   },
   {
    "duration": 7971,
    "start_time": "2024-07-21T14:32:52.477Z"
   },
   {
    "duration": 8803,
    "start_time": "2024-07-21T14:33:00.451Z"
   },
   {
    "duration": 3016,
    "start_time": "2024-07-21T14:33:09.256Z"
   },
   {
    "duration": 859,
    "start_time": "2024-07-21T14:33:12.275Z"
   },
   {
    "duration": 1115,
    "start_time": "2024-07-21T14:33:13.137Z"
   },
   {
    "duration": 1645,
    "start_time": "2024-07-21T14:47:06.062Z"
   },
   {
    "duration": 710,
    "start_time": "2024-07-21T14:47:07.711Z"
   },
   {
    "duration": 33,
    "start_time": "2024-07-21T14:47:08.423Z"
   },
   {
    "duration": 6,
    "start_time": "2024-07-21T14:47:08.461Z"
   },
   {
    "duration": 174,
    "start_time": "2024-07-21T14:47:08.470Z"
   },
   {
    "duration": 150,
    "start_time": "2024-07-21T14:47:08.648Z"
   },
   {
    "duration": 421,
    "start_time": "2024-07-21T14:47:08.802Z"
   },
   {
    "duration": 148,
    "start_time": "2024-07-21T14:47:09.230Z"
   },
   {
    "duration": 28,
    "start_time": "2024-07-21T14:47:09.381Z"
   },
   {
    "duration": 29,
    "start_time": "2024-07-21T14:47:09.432Z"
   },
   {
    "duration": 39,
    "start_time": "2024-07-21T14:47:09.464Z"
   },
   {
    "duration": 43,
    "start_time": "2024-07-21T14:47:09.506Z"
   },
   {
    "duration": 40,
    "start_time": "2024-07-21T14:47:09.552Z"
   },
   {
    "duration": 149,
    "start_time": "2024-07-21T14:47:09.595Z"
   },
   {
    "duration": 146,
    "start_time": "2024-07-21T14:47:09.746Z"
   },
   {
    "duration": 69,
    "start_time": "2024-07-21T14:47:09.895Z"
   },
   {
    "duration": 101,
    "start_time": "2024-07-21T14:47:09.967Z"
   },
   {
    "duration": 5,
    "start_time": "2024-07-21T14:47:10.072Z"
   },
   {
    "duration": 57,
    "start_time": "2024-07-21T14:47:10.080Z"
   },
   {
    "duration": 54,
    "start_time": "2024-07-21T14:47:10.140Z"
   },
   {
    "duration": 35,
    "start_time": "2024-07-21T14:47:10.197Z"
   },
   {
    "duration": 557,
    "start_time": "2024-07-21T14:47:10.236Z"
   },
   {
    "duration": 1566,
    "start_time": "2024-07-21T14:47:10.796Z"
   },
   {
    "duration": 523,
    "start_time": "2024-07-21T14:47:12.365Z"
   },
   {
    "duration": 2733,
    "start_time": "2024-07-21T14:47:12.891Z"
   },
   {
    "duration": 325,
    "start_time": "2024-07-21T14:47:15.631Z"
   },
   {
    "duration": 40,
    "start_time": "2024-07-21T14:47:15.959Z"
   },
   {
    "duration": 60,
    "start_time": "2024-07-21T14:47:16.007Z"
   },
   {
    "duration": 204,
    "start_time": "2024-07-21T14:47:16.070Z"
   },
   {
    "duration": 520,
    "start_time": "2024-07-21T14:47:16.277Z"
   },
   {
    "duration": 49,
    "start_time": "2024-07-21T14:47:16.799Z"
   },
   {
    "duration": 597,
    "start_time": "2024-07-21T14:47:16.851Z"
   },
   {
    "duration": 217,
    "start_time": "2024-07-21T14:47:17.451Z"
   },
   {
    "duration": 3,
    "start_time": "2024-07-21T14:47:17.671Z"
   },
   {
    "duration": 63,
    "start_time": "2024-07-21T14:47:17.678Z"
   },
   {
    "duration": 1072,
    "start_time": "2024-07-21T14:47:17.745Z"
   },
   {
    "duration": 16,
    "start_time": "2024-07-21T14:47:18.819Z"
   },
   {
    "duration": 389,
    "start_time": "2024-07-21T14:47:18.838Z"
   },
   {
    "duration": 1659,
    "start_time": "2024-07-21T14:51:06.197Z"
   },
   {
    "duration": 795,
    "start_time": "2024-07-21T14:51:07.860Z"
   },
   {
    "duration": 28,
    "start_time": "2024-07-21T14:51:08.658Z"
   },
   {
    "duration": 5,
    "start_time": "2024-07-21T14:51:08.691Z"
   },
   {
    "duration": 172,
    "start_time": "2024-07-21T14:51:08.699Z"
   },
   {
    "duration": 154,
    "start_time": "2024-07-21T14:51:08.876Z"
   },
   {
    "duration": 466,
    "start_time": "2024-07-21T14:51:09.032Z"
   },
   {
    "duration": 152,
    "start_time": "2024-07-21T14:51:09.501Z"
   },
   {
    "duration": 25,
    "start_time": "2024-07-21T14:51:09.656Z"
   },
   {
    "duration": 46,
    "start_time": "2024-07-21T14:51:09.689Z"
   },
   {
    "duration": 40,
    "start_time": "2024-07-21T14:51:09.738Z"
   },
   {
    "duration": 49,
    "start_time": "2024-07-21T14:51:09.781Z"
   },
   {
    "duration": 40,
    "start_time": "2024-07-21T14:51:09.833Z"
   },
   {
    "duration": 127,
    "start_time": "2024-07-21T14:51:09.876Z"
   },
   {
    "duration": 178,
    "start_time": "2024-07-21T14:51:10.005Z"
   },
   {
    "duration": 58,
    "start_time": "2024-07-21T14:51:10.186Z"
   },
   {
    "duration": 123,
    "start_time": "2024-07-21T14:51:10.246Z"
   },
   {
    "duration": 6,
    "start_time": "2024-07-21T14:51:10.372Z"
   },
   {
    "duration": 53,
    "start_time": "2024-07-21T14:51:10.383Z"
   },
   {
    "duration": 42,
    "start_time": "2024-07-21T14:51:10.440Z"
   },
   {
    "duration": 20,
    "start_time": "2024-07-21T14:51:10.485Z"
   },
   {
    "duration": 558,
    "start_time": "2024-07-21T14:51:10.530Z"
   },
   {
    "duration": 1556,
    "start_time": "2024-07-21T14:51:11.091Z"
   },
   {
    "duration": 517,
    "start_time": "2024-07-21T14:51:12.651Z"
   },
   {
    "duration": 2766,
    "start_time": "2024-07-21T14:51:13.172Z"
   },
   {
    "duration": 327,
    "start_time": "2024-07-21T14:51:15.941Z"
   },
   {
    "duration": 40,
    "start_time": "2024-07-21T14:51:16.271Z"
   },
   {
    "duration": 41,
    "start_time": "2024-07-21T14:51:16.336Z"
   },
   {
    "duration": 208,
    "start_time": "2024-07-21T14:51:16.379Z"
   },
   {
    "duration": 497,
    "start_time": "2024-07-21T14:51:16.590Z"
   },
   {
    "duration": 47,
    "start_time": "2024-07-21T14:51:17.090Z"
   },
   {
    "duration": 598,
    "start_time": "2024-07-21T14:51:17.141Z"
   },
   {
    "duration": 224,
    "start_time": "2024-07-21T14:51:17.742Z"
   },
   {
    "duration": 4,
    "start_time": "2024-07-21T14:51:17.969Z"
   },
   {
    "duration": 63,
    "start_time": "2024-07-21T14:51:17.977Z"
   },
   {
    "duration": 1071,
    "start_time": "2024-07-21T14:51:18.043Z"
   },
   {
    "duration": 21,
    "start_time": "2024-07-21T14:51:19.116Z"
   },
   {
    "duration": 411,
    "start_time": "2024-07-21T14:51:19.140Z"
   },
   {
    "duration": 332,
    "start_time": "2024-07-21T14:51:54.689Z"
   },
   {
    "duration": 1699,
    "start_time": "2024-07-21T14:52:00.190Z"
   },
   {
    "duration": 807,
    "start_time": "2024-07-21T14:52:01.893Z"
   },
   {
    "duration": 44,
    "start_time": "2024-07-21T14:52:02.703Z"
   },
   {
    "duration": 10,
    "start_time": "2024-07-21T14:52:02.752Z"
   },
   {
    "duration": 172,
    "start_time": "2024-07-21T14:52:02.766Z"
   },
   {
    "duration": 151,
    "start_time": "2024-07-21T14:52:02.942Z"
   },
   {
    "duration": 415,
    "start_time": "2024-07-21T14:52:03.096Z"
   },
   {
    "duration": 154,
    "start_time": "2024-07-21T14:52:03.513Z"
   },
   {
    "duration": 27,
    "start_time": "2024-07-21T14:52:03.669Z"
   },
   {
    "duration": 45,
    "start_time": "2024-07-21T14:52:03.703Z"
   },
   {
    "duration": 45,
    "start_time": "2024-07-21T14:52:03.751Z"
   },
   {
    "duration": 52,
    "start_time": "2024-07-21T14:52:03.800Z"
   },
   {
    "duration": 43,
    "start_time": "2024-07-21T14:52:03.856Z"
   },
   {
    "duration": 117,
    "start_time": "2024-07-21T14:52:03.930Z"
   },
   {
    "duration": 169,
    "start_time": "2024-07-21T14:52:04.049Z"
   },
   {
    "duration": 50,
    "start_time": "2024-07-21T14:52:04.229Z"
   },
   {
    "duration": 114,
    "start_time": "2024-07-21T14:52:04.282Z"
   },
   {
    "duration": 5,
    "start_time": "2024-07-21T14:52:04.401Z"
   },
   {
    "duration": 52,
    "start_time": "2024-07-21T14:52:04.409Z"
   },
   {
    "duration": 38,
    "start_time": "2024-07-21T14:52:04.464Z"
   },
   {
    "duration": 19,
    "start_time": "2024-07-21T14:52:04.532Z"
   },
   {
    "duration": 565,
    "start_time": "2024-07-21T14:52:04.554Z"
   },
   {
    "duration": 1546,
    "start_time": "2024-07-21T14:52:05.122Z"
   },
   {
    "duration": 510,
    "start_time": "2024-07-21T14:52:06.671Z"
   },
   {
    "duration": 2722,
    "start_time": "2024-07-21T14:52:07.186Z"
   },
   {
    "duration": 348,
    "start_time": "2024-07-21T14:52:09.910Z"
   },
   {
    "duration": 40,
    "start_time": "2024-07-21T14:52:10.261Z"
   },
   {
    "duration": 39,
    "start_time": "2024-07-21T14:52:10.330Z"
   },
   {
    "duration": 215,
    "start_time": "2024-07-21T14:52:10.372Z"
   },
   {
    "duration": 510,
    "start_time": "2024-07-21T14:52:10.590Z"
   },
   {
    "duration": 47,
    "start_time": "2024-07-21T14:52:11.104Z"
   },
   {
    "duration": 608,
    "start_time": "2024-07-21T14:52:11.154Z"
   },
   {
    "duration": 209,
    "start_time": "2024-07-21T14:52:11.770Z"
   },
   {
    "duration": 5,
    "start_time": "2024-07-21T14:52:11.981Z"
   },
   {
    "duration": 74,
    "start_time": "2024-07-21T14:52:11.989Z"
   },
   {
    "duration": 1089,
    "start_time": "2024-07-21T14:52:12.066Z"
   },
   {
    "duration": 10,
    "start_time": "2024-07-21T14:52:13.158Z"
   },
   {
    "duration": 378,
    "start_time": "2024-07-21T14:52:13.171Z"
   },
   {
    "duration": 1839,
    "start_time": "2024-07-21T14:55:59.504Z"
   },
   {
    "duration": 910,
    "start_time": "2024-07-21T14:56:01.347Z"
   },
   {
    "duration": 28,
    "start_time": "2024-07-21T14:56:02.263Z"
   },
   {
    "duration": 6,
    "start_time": "2024-07-21T14:56:02.296Z"
   },
   {
    "duration": 194,
    "start_time": "2024-07-21T14:56:02.305Z"
   },
   {
    "duration": 163,
    "start_time": "2024-07-21T14:56:02.503Z"
   },
   {
    "duration": 462,
    "start_time": "2024-07-21T14:56:02.669Z"
   },
   {
    "duration": 189,
    "start_time": "2024-07-21T14:56:03.135Z"
   },
   {
    "duration": 29,
    "start_time": "2024-07-21T14:56:03.331Z"
   },
   {
    "duration": 32,
    "start_time": "2024-07-21T14:56:03.368Z"
   },
   {
    "duration": 70,
    "start_time": "2024-07-21T14:56:03.404Z"
   },
   {
    "duration": 27,
    "start_time": "2024-07-21T14:56:03.478Z"
   },
   {
    "duration": 62,
    "start_time": "2024-07-21T14:56:03.509Z"
   },
   {
    "duration": 127,
    "start_time": "2024-07-21T14:56:03.575Z"
   },
   {
    "duration": 150,
    "start_time": "2024-07-21T14:56:03.705Z"
   },
   {
    "duration": 45,
    "start_time": "2024-07-21T14:56:03.859Z"
   },
   {
    "duration": 125,
    "start_time": "2024-07-21T14:56:03.908Z"
   },
   {
    "duration": 12,
    "start_time": "2024-07-21T14:56:04.037Z"
   },
   {
    "duration": 44,
    "start_time": "2024-07-21T14:56:04.052Z"
   },
   {
    "duration": 66,
    "start_time": "2024-07-21T14:56:04.100Z"
   },
   {
    "duration": 21,
    "start_time": "2024-07-21T14:56:04.170Z"
   },
   {
    "duration": 578,
    "start_time": "2024-07-21T14:56:04.194Z"
   },
   {
    "duration": 1575,
    "start_time": "2024-07-21T14:56:04.775Z"
   },
   {
    "duration": 551,
    "start_time": "2024-07-21T14:56:06.353Z"
   },
   {
    "duration": 2807,
    "start_time": "2024-07-21T14:56:06.908Z"
   },
   {
    "duration": 342,
    "start_time": "2024-07-21T14:56:09.718Z"
   },
   {
    "duration": 41,
    "start_time": "2024-07-21T14:56:10.063Z"
   },
   {
    "duration": 59,
    "start_time": "2024-07-21T14:56:10.129Z"
   },
   {
    "duration": 210,
    "start_time": "2024-07-21T14:56:10.192Z"
   },
   {
    "duration": 515,
    "start_time": "2024-07-21T14:56:10.405Z"
   },
   {
    "duration": 45,
    "start_time": "2024-07-21T14:56:10.923Z"
   },
   {
    "duration": 612,
    "start_time": "2024-07-21T14:56:10.970Z"
   },
   {
    "duration": 4,
    "start_time": "2024-07-21T14:56:11.585Z"
   },
   {
    "duration": 1752,
    "start_time": "2024-07-21T14:57:32.100Z"
   },
   {
    "duration": 774,
    "start_time": "2024-07-21T14:57:33.857Z"
   },
   {
    "duration": 26,
    "start_time": "2024-07-21T14:57:34.635Z"
   },
   {
    "duration": 6,
    "start_time": "2024-07-21T14:57:34.664Z"
   },
   {
    "duration": 186,
    "start_time": "2024-07-21T14:57:34.676Z"
   },
   {
    "duration": 172,
    "start_time": "2024-07-21T14:57:34.866Z"
   },
   {
    "duration": 417,
    "start_time": "2024-07-21T14:57:35.041Z"
   },
   {
    "duration": 153,
    "start_time": "2024-07-21T14:57:35.461Z"
   },
   {
    "duration": 44,
    "start_time": "2024-07-21T14:57:35.617Z"
   },
   {
    "duration": 34,
    "start_time": "2024-07-21T14:57:35.664Z"
   },
   {
    "duration": 56,
    "start_time": "2024-07-21T14:57:35.706Z"
   },
   {
    "duration": 26,
    "start_time": "2024-07-21T14:57:35.766Z"
   },
   {
    "duration": 62,
    "start_time": "2024-07-21T14:57:35.796Z"
   },
   {
    "duration": 143,
    "start_time": "2024-07-21T14:57:35.865Z"
   },
   {
    "duration": 148,
    "start_time": "2024-07-21T14:57:36.011Z"
   },
   {
    "duration": 44,
    "start_time": "2024-07-21T14:57:36.162Z"
   },
   {
    "duration": 103,
    "start_time": "2024-07-21T14:57:36.230Z"
   },
   {
    "duration": 6,
    "start_time": "2024-07-21T14:57:36.335Z"
   },
   {
    "duration": 28,
    "start_time": "2024-07-21T14:57:36.345Z"
   },
   {
    "duration": 67,
    "start_time": "2024-07-21T14:57:36.376Z"
   },
   {
    "duration": 21,
    "start_time": "2024-07-21T14:57:36.446Z"
   },
   {
    "duration": 551,
    "start_time": "2024-07-21T14:57:36.470Z"
   },
   {
    "duration": 1551,
    "start_time": "2024-07-21T14:57:37.024Z"
   },
   {
    "duration": 527,
    "start_time": "2024-07-21T14:57:38.577Z"
   },
   {
    "duration": 2723,
    "start_time": "2024-07-21T14:57:39.107Z"
   },
   {
    "duration": 350,
    "start_time": "2024-07-21T14:57:41.833Z"
   },
   {
    "duration": 46,
    "start_time": "2024-07-21T14:57:42.186Z"
   },
   {
    "duration": 42,
    "start_time": "2024-07-21T14:57:42.237Z"
   },
   {
    "duration": 221,
    "start_time": "2024-07-21T14:57:42.282Z"
   },
   {
    "duration": 527,
    "start_time": "2024-07-21T14:57:42.507Z"
   },
   {
    "duration": 44,
    "start_time": "2024-07-21T14:57:43.039Z"
   },
   {
    "duration": 610,
    "start_time": "2024-07-21T14:57:43.087Z"
   },
   {
    "duration": 4,
    "start_time": "2024-07-21T14:57:43.700Z"
   },
   {
    "duration": 245,
    "start_time": "2024-07-21T14:57:43.706Z"
   },
   {
    "duration": 4,
    "start_time": "2024-07-21T14:57:43.953Z"
   },
   {
    "duration": 46,
    "start_time": "2024-07-21T14:57:43.961Z"
   },
   {
    "duration": 1052,
    "start_time": "2024-07-21T14:57:44.031Z"
   },
   {
    "duration": 11,
    "start_time": "2024-07-21T14:57:45.085Z"
   },
   {
    "duration": 1690,
    "start_time": "2024-07-21T15:01:18.663Z"
   },
   {
    "duration": 752,
    "start_time": "2024-07-21T15:01:20.356Z"
   },
   {
    "duration": 36,
    "start_time": "2024-07-21T15:01:21.110Z"
   },
   {
    "duration": 6,
    "start_time": "2024-07-21T15:01:21.149Z"
   },
   {
    "duration": 174,
    "start_time": "2024-07-21T15:01:21.159Z"
   },
   {
    "duration": 145,
    "start_time": "2024-07-21T15:01:21.337Z"
   },
   {
    "duration": 418,
    "start_time": "2024-07-21T15:01:21.486Z"
   },
   {
    "duration": 174,
    "start_time": "2024-07-21T15:01:21.907Z"
   },
   {
    "duration": 26,
    "start_time": "2024-07-21T15:01:22.084Z"
   },
   {
    "duration": 51,
    "start_time": "2024-07-21T15:01:22.113Z"
   },
   {
    "duration": 39,
    "start_time": "2024-07-21T15:01:22.170Z"
   },
   {
    "duration": 29,
    "start_time": "2024-07-21T15:01:22.233Z"
   },
   {
    "duration": 65,
    "start_time": "2024-07-21T15:01:22.265Z"
   },
   {
    "duration": 118,
    "start_time": "2024-07-21T15:01:22.338Z"
   },
   {
    "duration": 152,
    "start_time": "2024-07-21T15:01:22.460Z"
   },
   {
    "duration": 57,
    "start_time": "2024-07-21T15:01:22.615Z"
   },
   {
    "duration": 108,
    "start_time": "2024-07-21T15:01:22.674Z"
   },
   {
    "duration": 5,
    "start_time": "2024-07-21T15:01:22.785Z"
   },
   {
    "duration": 56,
    "start_time": "2024-07-21T15:01:22.794Z"
   },
   {
    "duration": 38,
    "start_time": "2024-07-21T15:01:22.853Z"
   },
   {
    "duration": 39,
    "start_time": "2024-07-21T15:01:22.895Z"
   },
   {
    "duration": 562,
    "start_time": "2024-07-21T15:01:22.937Z"
   },
   {
    "duration": 1548,
    "start_time": "2024-07-21T15:01:23.502Z"
   },
   {
    "duration": 512,
    "start_time": "2024-07-21T15:01:25.052Z"
   },
   {
    "duration": 2776,
    "start_time": "2024-07-21T15:01:25.568Z"
   },
   {
    "duration": 327,
    "start_time": "2024-07-21T15:01:28.347Z"
   },
   {
    "duration": 40,
    "start_time": "2024-07-21T15:01:28.677Z"
   },
   {
    "duration": 42,
    "start_time": "2024-07-21T15:01:28.732Z"
   },
   {
    "duration": 217,
    "start_time": "2024-07-21T15:01:28.776Z"
   },
   {
    "duration": 521,
    "start_time": "2024-07-21T15:01:28.996Z"
   },
   {
    "duration": 49,
    "start_time": "2024-07-21T15:01:29.520Z"
   },
   {
    "duration": 604,
    "start_time": "2024-07-21T15:01:29.571Z"
   },
   {
    "duration": 5,
    "start_time": "2024-07-21T15:01:30.178Z"
   },
   {
    "duration": 237,
    "start_time": "2024-07-21T15:01:30.186Z"
   },
   {
    "duration": 3,
    "start_time": "2024-07-21T15:01:30.430Z"
   },
   {
    "duration": 46,
    "start_time": "2024-07-21T15:01:30.437Z"
   },
   {
    "duration": 1070,
    "start_time": "2024-07-21T15:01:30.486Z"
   },
   {
    "duration": 5,
    "start_time": "2024-07-21T15:01:31.559Z"
   },
   {
    "duration": 469,
    "start_time": "2024-07-21T15:01:31.567Z"
   },
   {
    "duration": 0,
    "start_time": "2024-07-21T15:01:32.043Z"
   },
   {
    "duration": 0,
    "start_time": "2024-07-21T15:01:32.045Z"
   },
   {
    "duration": 0,
    "start_time": "2024-07-21T15:01:32.046Z"
   },
   {
    "duration": 0,
    "start_time": "2024-07-21T15:01:32.048Z"
   },
   {
    "duration": 0,
    "start_time": "2024-07-21T15:01:32.049Z"
   },
   {
    "duration": 0,
    "start_time": "2024-07-21T15:01:32.053Z"
   },
   {
    "duration": 0,
    "start_time": "2024-07-21T15:01:32.054Z"
   },
   {
    "duration": 0,
    "start_time": "2024-07-21T15:01:32.060Z"
   },
   {
    "duration": 0,
    "start_time": "2024-07-21T15:01:32.062Z"
   },
   {
    "duration": 0,
    "start_time": "2024-07-21T15:01:32.064Z"
   },
   {
    "duration": 0,
    "start_time": "2024-07-21T15:01:32.066Z"
   },
   {
    "duration": 0,
    "start_time": "2024-07-21T15:01:32.068Z"
   },
   {
    "duration": 13,
    "start_time": "2024-07-21T15:02:32.107Z"
   },
   {
    "duration": 1708,
    "start_time": "2024-07-21T15:02:51.178Z"
   },
   {
    "duration": 770,
    "start_time": "2024-07-21T15:02:52.890Z"
   },
   {
    "duration": 27,
    "start_time": "2024-07-21T15:02:53.663Z"
   },
   {
    "duration": 5,
    "start_time": "2024-07-21T15:02:53.694Z"
   },
   {
    "duration": 146,
    "start_time": "2024-07-21T15:02:53.729Z"
   },
   {
    "duration": 152,
    "start_time": "2024-07-21T15:02:53.878Z"
   },
   {
    "duration": 407,
    "start_time": "2024-07-21T15:02:54.033Z"
   },
   {
    "duration": 155,
    "start_time": "2024-07-21T15:02:54.442Z"
   },
   {
    "duration": 35,
    "start_time": "2024-07-21T15:02:54.600Z"
   },
   {
    "duration": 28,
    "start_time": "2024-07-21T15:02:54.643Z"
   },
   {
    "duration": 65,
    "start_time": "2024-07-21T15:02:54.674Z"
   },
   {
    "duration": 26,
    "start_time": "2024-07-21T15:02:54.743Z"
   },
   {
    "duration": 63,
    "start_time": "2024-07-21T15:02:54.772Z"
   },
   {
    "duration": 122,
    "start_time": "2024-07-21T15:02:54.838Z"
   },
   {
    "duration": 142,
    "start_time": "2024-07-21T15:02:54.962Z"
   },
   {
    "duration": 59,
    "start_time": "2024-07-21T15:02:55.107Z"
   },
   {
    "duration": 107,
    "start_time": "2024-07-21T15:02:55.168Z"
   },
   {
    "duration": 5,
    "start_time": "2024-07-21T15:02:55.279Z"
   },
   {
    "duration": 60,
    "start_time": "2024-07-21T15:02:55.288Z"
   },
   {
    "duration": 44,
    "start_time": "2024-07-21T15:02:55.352Z"
   },
   {
    "duration": 36,
    "start_time": "2024-07-21T15:02:55.399Z"
   },
   {
    "duration": 565,
    "start_time": "2024-07-21T15:02:55.443Z"
   },
   {
    "duration": 1551,
    "start_time": "2024-07-21T15:02:56.011Z"
   },
   {
    "duration": 542,
    "start_time": "2024-07-21T15:02:57.565Z"
   },
   {
    "duration": 2842,
    "start_time": "2024-07-21T15:02:58.110Z"
   },
   {
    "duration": 377,
    "start_time": "2024-07-21T15:03:00.955Z"
   },
   {
    "duration": 53,
    "start_time": "2024-07-21T15:03:01.335Z"
   },
   {
    "duration": 61,
    "start_time": "2024-07-21T15:03:01.397Z"
   },
   {
    "duration": 216,
    "start_time": "2024-07-21T15:03:01.461Z"
   },
   {
    "duration": 563,
    "start_time": "2024-07-21T15:03:01.682Z"
   },
   {
    "duration": 49,
    "start_time": "2024-07-21T15:03:02.253Z"
   },
   {
    "duration": 665,
    "start_time": "2024-07-21T15:03:02.307Z"
   },
   {
    "duration": 4,
    "start_time": "2024-07-21T15:03:02.978Z"
   },
   {
    "duration": 259,
    "start_time": "2024-07-21T15:03:02.987Z"
   },
   {
    "duration": 4,
    "start_time": "2024-07-21T15:03:03.250Z"
   },
   {
    "duration": 74,
    "start_time": "2024-07-21T15:03:03.258Z"
   },
   {
    "duration": 1087,
    "start_time": "2024-07-21T15:03:03.338Z"
   },
   {
    "duration": 5,
    "start_time": "2024-07-21T15:03:04.432Z"
   },
   {
    "duration": 12,
    "start_time": "2024-07-21T15:03:04.440Z"
   },
   {
    "duration": 1715,
    "start_time": "2024-07-21T15:06:44.807Z"
   },
   {
    "duration": 823,
    "start_time": "2024-07-21T15:06:46.525Z"
   },
   {
    "duration": 26,
    "start_time": "2024-07-21T15:06:47.360Z"
   },
   {
    "duration": 6,
    "start_time": "2024-07-21T15:06:47.389Z"
   },
   {
    "duration": 150,
    "start_time": "2024-07-21T15:06:47.430Z"
   },
   {
    "duration": 150,
    "start_time": "2024-07-21T15:06:47.583Z"
   },
   {
    "duration": 415,
    "start_time": "2024-07-21T15:06:47.736Z"
   },
   {
    "duration": 151,
    "start_time": "2024-07-21T15:06:48.154Z"
   },
   {
    "duration": 36,
    "start_time": "2024-07-21T15:06:48.307Z"
   },
   {
    "duration": 34,
    "start_time": "2024-07-21T15:06:48.346Z"
   },
   {
    "duration": 66,
    "start_time": "2024-07-21T15:06:48.384Z"
   },
   {
    "duration": 30,
    "start_time": "2024-07-21T15:06:48.458Z"
   },
   {
    "duration": 62,
    "start_time": "2024-07-21T15:06:48.492Z"
   },
   {
    "duration": 119,
    "start_time": "2024-07-21T15:06:48.557Z"
   },
   {
    "duration": 144,
    "start_time": "2024-07-21T15:06:48.679Z"
   },
   {
    "duration": 51,
    "start_time": "2024-07-21T15:06:48.833Z"
   },
   {
    "duration": 130,
    "start_time": "2024-07-21T15:06:48.887Z"
   },
   {
    "duration": 6,
    "start_time": "2024-07-21T15:06:49.031Z"
   },
   {
    "duration": 29,
    "start_time": "2024-07-21T15:06:49.040Z"
   },
   {
    "duration": 67,
    "start_time": "2024-07-21T15:06:49.072Z"
   },
   {
    "duration": 17,
    "start_time": "2024-07-21T15:06:49.142Z"
   },
   {
    "duration": 546,
    "start_time": "2024-07-21T15:06:49.162Z"
   },
   {
    "duration": 1550,
    "start_time": "2024-07-21T15:06:49.711Z"
   },
   {
    "duration": 529,
    "start_time": "2024-07-21T15:06:51.264Z"
   },
   {
    "duration": 2816,
    "start_time": "2024-07-21T15:06:51.795Z"
   },
   {
    "duration": 333,
    "start_time": "2024-07-21T15:06:54.615Z"
   },
   {
    "duration": 45,
    "start_time": "2024-07-21T15:06:54.951Z"
   },
   {
    "duration": 60,
    "start_time": "2024-07-21T15:06:54.999Z"
   },
   {
    "duration": 209,
    "start_time": "2024-07-21T15:06:55.062Z"
   },
   {
    "duration": 499,
    "start_time": "2024-07-21T15:06:55.274Z"
   },
   {
    "duration": 55,
    "start_time": "2024-07-21T15:06:55.776Z"
   },
   {
    "duration": 605,
    "start_time": "2024-07-21T15:06:55.833Z"
   },
   {
    "duration": 4,
    "start_time": "2024-07-21T15:06:56.441Z"
   },
   {
    "duration": 235,
    "start_time": "2024-07-21T15:06:56.449Z"
   },
   {
    "duration": 4,
    "start_time": "2024-07-21T15:06:56.688Z"
   },
   {
    "duration": 68,
    "start_time": "2024-07-21T15:06:56.696Z"
   },
   {
    "duration": 1069,
    "start_time": "2024-07-21T15:06:56.768Z"
   },
   {
    "duration": 11,
    "start_time": "2024-07-21T15:06:57.840Z"
   },
   {
    "duration": 12,
    "start_time": "2024-07-21T15:06:57.862Z"
   },
   {
    "duration": 455,
    "start_time": "2024-07-21T15:06:57.877Z"
   },
   {
    "duration": 0,
    "start_time": "2024-07-21T15:06:58.334Z"
   },
   {
    "duration": 0,
    "start_time": "2024-07-21T15:06:58.336Z"
   },
   {
    "duration": 0,
    "start_time": "2024-07-21T15:06:58.338Z"
   },
   {
    "duration": 0,
    "start_time": "2024-07-21T15:06:58.341Z"
   },
   {
    "duration": 0,
    "start_time": "2024-07-21T15:06:58.342Z"
   },
   {
    "duration": 0,
    "start_time": "2024-07-21T15:06:58.346Z"
   },
   {
    "duration": 0,
    "start_time": "2024-07-21T15:06:58.348Z"
   },
   {
    "duration": 0,
    "start_time": "2024-07-21T15:06:58.350Z"
   },
   {
    "duration": 0,
    "start_time": "2024-07-21T15:06:58.353Z"
   },
   {
    "duration": 0,
    "start_time": "2024-07-21T15:06:58.355Z"
   },
   {
    "duration": 0,
    "start_time": "2024-07-21T15:06:58.357Z"
   },
   {
    "duration": 13,
    "start_time": "2024-07-21T15:07:36.442Z"
   },
   {
    "duration": 12,
    "start_time": "2024-07-21T15:07:56.427Z"
   },
   {
    "duration": 17,
    "start_time": "2024-07-21T15:08:09.772Z"
   },
   {
    "duration": 6,
    "start_time": "2024-07-21T15:21:14.982Z"
   },
   {
    "duration": 6,
    "start_time": "2024-07-21T15:21:16.537Z"
   },
   {
    "duration": 6,
    "start_time": "2024-07-21T15:21:18.026Z"
   },
   {
    "duration": 5,
    "start_time": "2024-07-21T15:22:18.235Z"
   },
   {
    "duration": 6,
    "start_time": "2024-07-21T15:23:13.297Z"
   },
   {
    "duration": 6,
    "start_time": "2024-07-21T15:23:16.409Z"
   },
   {
    "duration": 1741,
    "start_time": "2024-07-21T15:24:59.729Z"
   },
   {
    "duration": 799,
    "start_time": "2024-07-21T15:25:01.473Z"
   },
   {
    "duration": 30,
    "start_time": "2024-07-21T15:25:02.276Z"
   },
   {
    "duration": 23,
    "start_time": "2024-07-21T15:25:02.310Z"
   },
   {
    "duration": 174,
    "start_time": "2024-07-21T15:25:02.341Z"
   },
   {
    "duration": 150,
    "start_time": "2024-07-21T15:25:02.532Z"
   },
   {
    "duration": 472,
    "start_time": "2024-07-21T15:25:02.688Z"
   },
   {
    "duration": 154,
    "start_time": "2024-07-21T15:25:03.166Z"
   },
   {
    "duration": 27,
    "start_time": "2024-07-21T15:25:03.330Z"
   },
   {
    "duration": 41,
    "start_time": "2024-07-21T15:25:03.362Z"
   },
   {
    "duration": 79,
    "start_time": "2024-07-21T15:25:03.409Z"
   },
   {
    "duration": 46,
    "start_time": "2024-07-21T15:25:03.491Z"
   },
   {
    "duration": 63,
    "start_time": "2024-07-21T15:25:03.541Z"
   },
   {
    "duration": 147,
    "start_time": "2024-07-21T15:25:03.633Z"
   },
   {
    "duration": 163,
    "start_time": "2024-07-21T15:25:03.786Z"
   },
   {
    "duration": 52,
    "start_time": "2024-07-21T15:25:03.952Z"
   },
   {
    "duration": 170,
    "start_time": "2024-07-21T15:25:04.007Z"
   },
   {
    "duration": 6,
    "start_time": "2024-07-21T15:25:04.181Z"
   },
   {
    "duration": 50,
    "start_time": "2024-07-21T15:25:04.191Z"
   },
   {
    "duration": 40,
    "start_time": "2024-07-21T15:25:04.246Z"
   },
   {
    "duration": 50,
    "start_time": "2024-07-21T15:25:04.289Z"
   },
   {
    "duration": 580,
    "start_time": "2024-07-21T15:25:04.342Z"
   },
   {
    "duration": 1567,
    "start_time": "2024-07-21T15:25:04.930Z"
   },
   {
    "duration": 518,
    "start_time": "2024-07-21T15:25:06.501Z"
   },
   {
    "duration": 2811,
    "start_time": "2024-07-21T15:25:07.022Z"
   },
   {
    "duration": 348,
    "start_time": "2024-07-21T15:25:09.837Z"
   },
   {
    "duration": 55,
    "start_time": "2024-07-21T15:25:10.188Z"
   },
   {
    "duration": 45,
    "start_time": "2024-07-21T15:25:10.247Z"
   },
   {
    "duration": 240,
    "start_time": "2024-07-21T15:25:10.298Z"
   },
   {
    "duration": 552,
    "start_time": "2024-07-21T15:25:10.542Z"
   },
   {
    "duration": 48,
    "start_time": "2024-07-21T15:25:11.097Z"
   },
   {
    "duration": 641,
    "start_time": "2024-07-21T15:25:11.148Z"
   },
   {
    "duration": 3,
    "start_time": "2024-07-21T15:25:11.792Z"
   },
   {
    "duration": 231,
    "start_time": "2024-07-21T15:25:11.800Z"
   },
   {
    "duration": 4,
    "start_time": "2024-07-21T15:25:12.035Z"
   },
   {
    "duration": 60,
    "start_time": "2024-07-21T15:25:12.042Z"
   },
   {
    "duration": 1101,
    "start_time": "2024-07-21T15:25:12.105Z"
   },
   {
    "duration": 7,
    "start_time": "2024-07-21T15:25:13.211Z"
   },
   {
    "duration": 16,
    "start_time": "2024-07-21T15:25:13.231Z"
   },
   {
    "duration": 343,
    "start_time": "2024-07-21T15:26:20.796Z"
   },
   {
    "duration": 2222,
    "start_time": "2024-07-21T15:26:26.238Z"
   },
   {
    "duration": 921,
    "start_time": "2024-07-21T15:26:28.463Z"
   },
   {
    "duration": 46,
    "start_time": "2024-07-21T15:26:29.387Z"
   },
   {
    "duration": 5,
    "start_time": "2024-07-21T15:26:29.438Z"
   },
   {
    "duration": 196,
    "start_time": "2024-07-21T15:26:29.447Z"
   },
   {
    "duration": 150,
    "start_time": "2024-07-21T15:26:29.646Z"
   },
   {
    "duration": 426,
    "start_time": "2024-07-21T15:26:29.800Z"
   },
   {
    "duration": 179,
    "start_time": "2024-07-21T15:26:30.232Z"
   },
   {
    "duration": 40,
    "start_time": "2024-07-21T15:26:30.414Z"
   },
   {
    "duration": 32,
    "start_time": "2024-07-21T15:26:30.463Z"
   },
   {
    "duration": 63,
    "start_time": "2024-07-21T15:26:30.499Z"
   },
   {
    "duration": 27,
    "start_time": "2024-07-21T15:26:30.565Z"
   },
   {
    "duration": 76,
    "start_time": "2024-07-21T15:26:30.595Z"
   },
   {
    "duration": 121,
    "start_time": "2024-07-21T15:26:30.674Z"
   },
   {
    "duration": 175,
    "start_time": "2024-07-21T15:26:30.798Z"
   },
   {
    "duration": 57,
    "start_time": "2024-07-21T15:26:30.978Z"
   },
   {
    "duration": 107,
    "start_time": "2024-07-21T15:26:31.038Z"
   },
   {
    "duration": 6,
    "start_time": "2024-07-21T15:26:31.149Z"
   },
   {
    "duration": 31,
    "start_time": "2024-07-21T15:26:31.158Z"
   },
   {
    "duration": 79,
    "start_time": "2024-07-21T15:26:31.192Z"
   },
   {
    "duration": 22,
    "start_time": "2024-07-21T15:26:31.275Z"
   },
   {
    "duration": 620,
    "start_time": "2024-07-21T15:26:31.302Z"
   },
   {
    "duration": 1806,
    "start_time": "2024-07-21T15:26:31.924Z"
   },
   {
    "duration": 563,
    "start_time": "2024-07-21T15:26:33.734Z"
   },
   {
    "duration": 2834,
    "start_time": "2024-07-21T15:26:34.303Z"
   },
   {
    "duration": 386,
    "start_time": "2024-07-21T15:26:37.141Z"
   },
   {
    "duration": 43,
    "start_time": "2024-07-21T15:26:37.530Z"
   },
   {
    "duration": 58,
    "start_time": "2024-07-21T15:26:37.582Z"
   },
   {
    "duration": 244,
    "start_time": "2024-07-21T15:26:37.643Z"
   },
   {
    "duration": 511,
    "start_time": "2024-07-21T15:26:37.890Z"
   },
   {
    "duration": 54,
    "start_time": "2024-07-21T15:26:38.405Z"
   },
   {
    "duration": 693,
    "start_time": "2024-07-21T15:26:38.462Z"
   },
   {
    "duration": 4,
    "start_time": "2024-07-21T15:26:39.158Z"
   },
   {
    "duration": 255,
    "start_time": "2024-07-21T15:26:39.165Z"
   },
   {
    "duration": 10,
    "start_time": "2024-07-21T15:26:39.422Z"
   },
   {
    "duration": 48,
    "start_time": "2024-07-21T15:26:39.436Z"
   },
   {
    "duration": 1163,
    "start_time": "2024-07-21T15:26:39.489Z"
   },
   {
    "duration": 5,
    "start_time": "2024-07-21T15:26:40.655Z"
   },
   {
    "duration": 469,
    "start_time": "2024-07-21T15:26:40.664Z"
   },
   {
    "duration": 0,
    "start_time": "2024-07-21T15:26:41.136Z"
   },
   {
    "duration": 0,
    "start_time": "2024-07-21T15:26:41.139Z"
   },
   {
    "duration": 0,
    "start_time": "2024-07-21T15:26:41.141Z"
   },
   {
    "duration": 0,
    "start_time": "2024-07-21T15:26:41.143Z"
   },
   {
    "duration": 0,
    "start_time": "2024-07-21T15:26:41.146Z"
   },
   {
    "duration": 0,
    "start_time": "2024-07-21T15:26:41.148Z"
   },
   {
    "duration": 0,
    "start_time": "2024-07-21T15:26:41.150Z"
   },
   {
    "duration": 0,
    "start_time": "2024-07-21T15:26:41.153Z"
   },
   {
    "duration": 0,
    "start_time": "2024-07-21T15:26:41.155Z"
   },
   {
    "duration": 0,
    "start_time": "2024-07-21T15:26:41.158Z"
   },
   {
    "duration": 0,
    "start_time": "2024-07-21T15:26:41.160Z"
   },
   {
    "duration": 0,
    "start_time": "2024-07-21T15:26:41.163Z"
   },
   {
    "duration": 1880,
    "start_time": "2024-07-21T15:27:38.640Z"
   },
   {
    "duration": 759,
    "start_time": "2024-07-21T15:27:40.524Z"
   },
   {
    "duration": 28,
    "start_time": "2024-07-21T15:27:41.286Z"
   },
   {
    "duration": 6,
    "start_time": "2024-07-21T15:27:41.332Z"
   },
   {
    "duration": 162,
    "start_time": "2024-07-21T15:27:41.342Z"
   },
   {
    "duration": 179,
    "start_time": "2024-07-21T15:27:41.507Z"
   },
   {
    "duration": 560,
    "start_time": "2024-07-21T15:27:41.689Z"
   },
   {
    "duration": 236,
    "start_time": "2024-07-21T15:27:42.252Z"
   },
   {
    "duration": 39,
    "start_time": "2024-07-21T15:27:42.491Z"
   },
   {
    "duration": 31,
    "start_time": "2024-07-21T15:27:42.539Z"
   },
   {
    "duration": 74,
    "start_time": "2024-07-21T15:27:42.577Z"
   },
   {
    "duration": 35,
    "start_time": "2024-07-21T15:27:42.655Z"
   },
   {
    "duration": 70,
    "start_time": "2024-07-21T15:27:42.692Z"
   },
   {
    "duration": 130,
    "start_time": "2024-07-21T15:27:42.769Z"
   },
   {
    "duration": 158,
    "start_time": "2024-07-21T15:27:42.903Z"
   },
   {
    "duration": 44,
    "start_time": "2024-07-21T15:27:43.065Z"
   },
   {
    "duration": 130,
    "start_time": "2024-07-21T15:27:43.112Z"
   },
   {
    "duration": 10,
    "start_time": "2024-07-21T15:27:43.248Z"
   },
   {
    "duration": 30,
    "start_time": "2024-07-21T15:27:43.262Z"
   },
   {
    "duration": 59,
    "start_time": "2024-07-21T15:27:43.295Z"
   },
   {
    "duration": 24,
    "start_time": "2024-07-21T15:27:43.357Z"
   },
   {
    "duration": 593,
    "start_time": "2024-07-21T15:27:43.385Z"
   },
   {
    "duration": 1559,
    "start_time": "2024-07-21T15:27:43.981Z"
   },
   {
    "duration": 565,
    "start_time": "2024-07-21T15:27:45.543Z"
   },
   {
    "duration": 2778,
    "start_time": "2024-07-21T15:27:46.115Z"
   },
   {
    "duration": 338,
    "start_time": "2024-07-21T15:27:48.897Z"
   },
   {
    "duration": 42,
    "start_time": "2024-07-21T15:27:49.238Z"
   },
   {
    "duration": 71,
    "start_time": "2024-07-21T15:27:49.290Z"
   },
   {
    "duration": 227,
    "start_time": "2024-07-21T15:27:49.364Z"
   },
   {
    "duration": 548,
    "start_time": "2024-07-21T15:27:49.601Z"
   },
   {
    "duration": 48,
    "start_time": "2024-07-21T15:27:50.153Z"
   },
   {
    "duration": 645,
    "start_time": "2024-07-21T15:27:50.205Z"
   },
   {
    "duration": 4,
    "start_time": "2024-07-21T15:27:50.854Z"
   },
   {
    "duration": 225,
    "start_time": "2024-07-21T15:27:50.862Z"
   },
   {
    "duration": 5,
    "start_time": "2024-07-21T15:27:51.091Z"
   },
   {
    "duration": 82,
    "start_time": "2024-07-21T15:27:51.099Z"
   },
   {
    "duration": 1144,
    "start_time": "2024-07-21T15:27:51.187Z"
   },
   {
    "duration": 6,
    "start_time": "2024-07-21T15:27:52.334Z"
   },
   {
    "duration": 1424,
    "start_time": "2024-07-21T15:27:52.344Z"
   },
   {
    "duration": 0,
    "start_time": "2024-07-21T15:27:53.771Z"
   },
   {
    "duration": 0,
    "start_time": "2024-07-21T15:27:53.773Z"
   },
   {
    "duration": 0,
    "start_time": "2024-07-21T15:27:53.776Z"
   },
   {
    "duration": 0,
    "start_time": "2024-07-21T15:27:53.778Z"
   },
   {
    "duration": 0,
    "start_time": "2024-07-21T15:27:53.780Z"
   },
   {
    "duration": 0,
    "start_time": "2024-07-21T15:27:53.782Z"
   },
   {
    "duration": 0,
    "start_time": "2024-07-21T15:27:53.788Z"
   },
   {
    "duration": 0,
    "start_time": "2024-07-21T15:27:53.790Z"
   },
   {
    "duration": 0,
    "start_time": "2024-07-21T15:27:53.792Z"
   },
   {
    "duration": 1,
    "start_time": "2024-07-21T15:27:53.794Z"
   },
   {
    "duration": 0,
    "start_time": "2024-07-21T15:27:53.831Z"
   },
   {
    "duration": 0,
    "start_time": "2024-07-21T15:27:53.834Z"
   },
   {
    "duration": 1818,
    "start_time": "2024-07-21T15:28:29.859Z"
   },
   {
    "duration": 888,
    "start_time": "2024-07-21T15:28:31.680Z"
   },
   {
    "duration": 38,
    "start_time": "2024-07-21T15:28:32.571Z"
   },
   {
    "duration": 21,
    "start_time": "2024-07-21T15:28:32.614Z"
   },
   {
    "duration": 217,
    "start_time": "2024-07-21T15:28:32.639Z"
   },
   {
    "duration": 192,
    "start_time": "2024-07-21T15:28:32.866Z"
   },
   {
    "duration": 468,
    "start_time": "2024-07-21T15:28:33.062Z"
   },
   {
    "duration": 191,
    "start_time": "2024-07-21T15:28:33.534Z"
   },
   {
    "duration": 30,
    "start_time": "2024-07-21T15:28:33.727Z"
   },
   {
    "duration": 39,
    "start_time": "2024-07-21T15:28:33.765Z"
   },
   {
    "duration": 67,
    "start_time": "2024-07-21T15:28:33.836Z"
   },
   {
    "duration": 43,
    "start_time": "2024-07-21T15:28:33.907Z"
   },
   {
    "duration": 66,
    "start_time": "2024-07-21T15:28:33.953Z"
   },
   {
    "duration": 133,
    "start_time": "2024-07-21T15:28:34.033Z"
   },
   {
    "duration": 142,
    "start_time": "2024-07-21T15:28:34.169Z"
   },
   {
    "duration": 60,
    "start_time": "2024-07-21T15:28:34.314Z"
   },
   {
    "duration": 113,
    "start_time": "2024-07-21T15:28:34.377Z"
   },
   {
    "duration": 6,
    "start_time": "2024-07-21T15:28:34.495Z"
   },
   {
    "duration": 58,
    "start_time": "2024-07-21T15:28:34.507Z"
   },
   {
    "duration": 46,
    "start_time": "2024-07-21T15:28:34.569Z"
   },
   {
    "duration": 23,
    "start_time": "2024-07-21T15:28:34.631Z"
   },
   {
    "duration": 592,
    "start_time": "2024-07-21T15:28:34.657Z"
   },
   {
    "duration": 1570,
    "start_time": "2024-07-21T15:28:35.256Z"
   },
   {
    "duration": 534,
    "start_time": "2024-07-21T15:28:36.832Z"
   },
   {
    "duration": 2804,
    "start_time": "2024-07-21T15:28:37.369Z"
   },
   {
    "duration": 362,
    "start_time": "2024-07-21T15:28:40.176Z"
   },
   {
    "duration": 41,
    "start_time": "2024-07-21T15:28:40.542Z"
   },
   {
    "duration": 81,
    "start_time": "2024-07-21T15:28:40.592Z"
   },
   {
    "duration": 235,
    "start_time": "2024-07-21T15:28:40.677Z"
   },
   {
    "duration": 535,
    "start_time": "2024-07-21T15:28:40.915Z"
   },
   {
    "duration": 54,
    "start_time": "2024-07-21T15:28:41.454Z"
   },
   {
    "duration": 689,
    "start_time": "2024-07-21T15:28:41.513Z"
   },
   {
    "duration": 3,
    "start_time": "2024-07-21T15:28:42.207Z"
   },
   {
    "duration": 238,
    "start_time": "2024-07-21T15:28:42.214Z"
   },
   {
    "duration": 4,
    "start_time": "2024-07-21T15:28:42.456Z"
   },
   {
    "duration": 70,
    "start_time": "2024-07-21T15:28:42.463Z"
   },
   {
    "duration": 1091,
    "start_time": "2024-07-21T15:28:42.539Z"
   },
   {
    "duration": 6,
    "start_time": "2024-07-21T15:28:43.633Z"
   },
   {
    "duration": 14,
    "start_time": "2024-07-21T15:28:43.643Z"
   },
   {
    "duration": 1103,
    "start_time": "2024-07-21T15:28:43.661Z"
   },
   {
    "duration": 2139,
    "start_time": "2024-07-21T15:32:30.660Z"
   },
   {
    "duration": 916,
    "start_time": "2024-07-21T15:32:32.805Z"
   },
   {
    "duration": 38,
    "start_time": "2024-07-21T15:32:33.725Z"
   },
   {
    "duration": 7,
    "start_time": "2024-07-21T15:32:33.770Z"
   },
   {
    "duration": 163,
    "start_time": "2024-07-21T15:32:33.784Z"
   },
   {
    "duration": 155,
    "start_time": "2024-07-21T15:32:33.951Z"
   },
   {
    "duration": 452,
    "start_time": "2024-07-21T15:32:34.110Z"
   },
   {
    "duration": 156,
    "start_time": "2024-07-21T15:32:34.565Z"
   },
   {
    "duration": 28,
    "start_time": "2024-07-21T15:32:34.732Z"
   },
   {
    "duration": 36,
    "start_time": "2024-07-21T15:32:34.764Z"
   },
   {
    "duration": 41,
    "start_time": "2024-07-21T15:32:34.831Z"
   },
   {
    "duration": 27,
    "start_time": "2024-07-21T15:32:34.876Z"
   },
   {
    "duration": 62,
    "start_time": "2024-07-21T15:32:34.907Z"
   },
   {
    "duration": 166,
    "start_time": "2024-07-21T15:32:34.980Z"
   },
   {
    "duration": 143,
    "start_time": "2024-07-21T15:32:35.149Z"
   },
   {
    "duration": 63,
    "start_time": "2024-07-21T15:32:35.295Z"
   },
   {
    "duration": 105,
    "start_time": "2024-07-21T15:32:35.361Z"
   },
   {
    "duration": 10,
    "start_time": "2024-07-21T15:32:35.470Z"
   },
   {
    "duration": 56,
    "start_time": "2024-07-21T15:32:35.483Z"
   },
   {
    "duration": 49,
    "start_time": "2024-07-21T15:32:35.542Z"
   },
   {
    "duration": 65,
    "start_time": "2024-07-21T15:32:35.595Z"
   },
   {
    "duration": 552,
    "start_time": "2024-07-21T15:32:35.668Z"
   },
   {
    "duration": 1663,
    "start_time": "2024-07-21T15:32:36.222Z"
   },
   {
    "duration": 628,
    "start_time": "2024-07-21T15:32:37.889Z"
   },
   {
    "duration": 3216,
    "start_time": "2024-07-21T15:32:38.520Z"
   },
   {
    "duration": 466,
    "start_time": "2024-07-21T15:32:41.748Z"
   },
   {
    "duration": 76,
    "start_time": "2024-07-21T15:32:42.220Z"
   },
   {
    "duration": 77,
    "start_time": "2024-07-21T15:32:42.299Z"
   },
   {
    "duration": 323,
    "start_time": "2024-07-21T15:32:42.379Z"
   },
   {
    "duration": 587,
    "start_time": "2024-07-21T15:32:42.706Z"
   },
   {
    "duration": 54,
    "start_time": "2024-07-21T15:32:43.302Z"
   },
   {
    "duration": 626,
    "start_time": "2024-07-21T15:32:43.363Z"
   },
   {
    "duration": 5,
    "start_time": "2024-07-21T15:32:43.992Z"
   },
   {
    "duration": 236,
    "start_time": "2024-07-21T15:32:44.001Z"
   },
   {
    "duration": 5,
    "start_time": "2024-07-21T15:32:44.240Z"
   },
   {
    "duration": 49,
    "start_time": "2024-07-21T15:32:44.249Z"
   },
   {
    "duration": 1115,
    "start_time": "2024-07-21T15:32:44.330Z"
   },
   {
    "duration": 5,
    "start_time": "2024-07-21T15:32:45.448Z"
   },
   {
    "duration": 15,
    "start_time": "2024-07-21T15:32:45.457Z"
   },
   {
    "duration": 1107,
    "start_time": "2024-07-21T15:32:45.476Z"
   },
   {
    "duration": 10,
    "start_time": "2024-07-21T15:32:46.593Z"
   },
   {
    "duration": 474,
    "start_time": "2024-07-21T15:32:46.609Z"
   },
   {
    "duration": 0,
    "start_time": "2024-07-21T15:32:47.087Z"
   },
   {
    "duration": 0,
    "start_time": "2024-07-21T15:32:47.089Z"
   },
   {
    "duration": 0,
    "start_time": "2024-07-21T15:32:47.091Z"
   },
   {
    "duration": 0,
    "start_time": "2024-07-21T15:32:47.093Z"
   },
   {
    "duration": 0,
    "start_time": "2024-07-21T15:32:47.096Z"
   },
   {
    "duration": 0,
    "start_time": "2024-07-21T15:32:47.098Z"
   },
   {
    "duration": 0,
    "start_time": "2024-07-21T15:32:47.101Z"
   },
   {
    "duration": 0,
    "start_time": "2024-07-21T15:32:47.102Z"
   },
   {
    "duration": 0,
    "start_time": "2024-07-21T15:32:47.132Z"
   },
   {
    "duration": 0,
    "start_time": "2024-07-21T15:32:47.135Z"
   },
   {
    "duration": 0,
    "start_time": "2024-07-21T15:32:47.137Z"
   },
   {
    "duration": 1806,
    "start_time": "2024-07-21T15:35:38.088Z"
   },
   {
    "duration": 792,
    "start_time": "2024-07-21T15:35:39.898Z"
   },
   {
    "duration": 45,
    "start_time": "2024-07-21T15:35:40.694Z"
   },
   {
    "duration": 6,
    "start_time": "2024-07-21T15:35:40.744Z"
   },
   {
    "duration": 170,
    "start_time": "2024-07-21T15:35:40.754Z"
   },
   {
    "duration": 147,
    "start_time": "2024-07-21T15:35:40.927Z"
   },
   {
    "duration": 483,
    "start_time": "2024-07-21T15:35:41.079Z"
   },
   {
    "duration": 166,
    "start_time": "2024-07-21T15:35:41.565Z"
   },
   {
    "duration": 40,
    "start_time": "2024-07-21T15:35:41.734Z"
   },
   {
    "duration": 47,
    "start_time": "2024-07-21T15:35:41.783Z"
   },
   {
    "duration": 44,
    "start_time": "2024-07-21T15:35:41.834Z"
   },
   {
    "duration": 49,
    "start_time": "2024-07-21T15:35:41.881Z"
   },
   {
    "duration": 62,
    "start_time": "2024-07-21T15:35:41.934Z"
   },
   {
    "duration": 175,
    "start_time": "2024-07-21T15:35:42.008Z"
   },
   {
    "duration": 168,
    "start_time": "2024-07-21T15:35:42.185Z"
   },
   {
    "duration": 54,
    "start_time": "2024-07-21T15:35:42.358Z"
   },
   {
    "duration": 129,
    "start_time": "2024-07-21T15:35:42.415Z"
   },
   {
    "duration": 7,
    "start_time": "2024-07-21T15:35:42.547Z"
   },
   {
    "duration": 38,
    "start_time": "2024-07-21T15:35:42.558Z"
   },
   {
    "duration": 66,
    "start_time": "2024-07-21T15:35:42.599Z"
   },
   {
    "duration": 22,
    "start_time": "2024-07-21T15:35:42.668Z"
   },
   {
    "duration": 580,
    "start_time": "2024-07-21T15:35:42.696Z"
   },
   {
    "duration": 1583,
    "start_time": "2024-07-21T15:35:43.280Z"
   },
   {
    "duration": 556,
    "start_time": "2024-07-21T15:35:44.867Z"
   },
   {
    "duration": 2834,
    "start_time": "2024-07-21T15:35:45.425Z"
   },
   {
    "duration": 372,
    "start_time": "2024-07-21T15:35:48.262Z"
   },
   {
    "duration": 55,
    "start_time": "2024-07-21T15:35:48.638Z"
   },
   {
    "duration": 81,
    "start_time": "2024-07-21T15:35:48.704Z"
   },
   {
    "duration": 223,
    "start_time": "2024-07-21T15:35:48.788Z"
   },
   {
    "duration": 522,
    "start_time": "2024-07-21T15:35:49.014Z"
   },
   {
    "duration": 50,
    "start_time": "2024-07-21T15:35:49.541Z"
   },
   {
    "duration": 623,
    "start_time": "2024-07-21T15:35:49.594Z"
   },
   {
    "duration": 11,
    "start_time": "2024-07-21T15:35:50.221Z"
   },
   {
    "duration": 247,
    "start_time": "2024-07-21T15:35:50.237Z"
   },
   {
    "duration": 4,
    "start_time": "2024-07-21T15:35:50.487Z"
   },
   {
    "duration": 74,
    "start_time": "2024-07-21T15:35:50.495Z"
   },
   {
    "duration": 626,
    "start_time": "2024-07-21T15:35:50.575Z"
   },
   {
    "duration": 5,
    "start_time": "2024-07-21T15:35:51.204Z"
   },
   {
    "duration": 25,
    "start_time": "2024-07-21T15:35:51.212Z"
   },
   {
    "duration": 117,
    "start_time": "2024-07-21T15:35:51.240Z"
   },
   {
    "duration": 597,
    "start_time": "2024-07-21T15:35:51.361Z"
   },
   {
    "duration": 0,
    "start_time": "2024-07-21T15:35:51.961Z"
   },
   {
    "duration": 0,
    "start_time": "2024-07-21T15:35:51.964Z"
   },
   {
    "duration": 0,
    "start_time": "2024-07-21T15:35:51.965Z"
   },
   {
    "duration": 0,
    "start_time": "2024-07-21T15:35:51.968Z"
   },
   {
    "duration": 0,
    "start_time": "2024-07-21T15:35:51.970Z"
   },
   {
    "duration": 0,
    "start_time": "2024-07-21T15:35:51.971Z"
   },
   {
    "duration": 0,
    "start_time": "2024-07-21T15:35:51.972Z"
   },
   {
    "duration": 0,
    "start_time": "2024-07-21T15:35:51.975Z"
   },
   {
    "duration": 0,
    "start_time": "2024-07-21T15:35:51.976Z"
   },
   {
    "duration": 0,
    "start_time": "2024-07-21T15:35:51.979Z"
   },
   {
    "duration": 0,
    "start_time": "2024-07-21T15:35:51.981Z"
   },
   {
    "duration": 0,
    "start_time": "2024-07-21T15:35:51.983Z"
   },
   {
    "duration": 0,
    "start_time": "2024-07-21T15:35:51.985Z"
   },
   {
    "duration": 4,
    "start_time": "2024-07-21T15:36:11.301Z"
   },
   {
    "duration": 5,
    "start_time": "2024-07-21T15:36:11.941Z"
   },
   {
    "duration": 32184,
    "start_time": "2024-07-21T15:36:18.196Z"
   },
   {
    "duration": 108,
    "start_time": "2024-07-21T15:37:20.454Z"
   },
   {
    "duration": 1765,
    "start_time": "2024-07-21T15:37:36.903Z"
   },
   {
    "duration": 764,
    "start_time": "2024-07-21T15:37:38.672Z"
   },
   {
    "duration": 29,
    "start_time": "2024-07-21T15:37:39.439Z"
   },
   {
    "duration": 6,
    "start_time": "2024-07-21T15:37:39.473Z"
   },
   {
    "duration": 193,
    "start_time": "2024-07-21T15:37:39.483Z"
   },
   {
    "duration": 196,
    "start_time": "2024-07-21T15:37:39.680Z"
   },
   {
    "duration": 488,
    "start_time": "2024-07-21T15:37:39.879Z"
   },
   {
    "duration": 175,
    "start_time": "2024-07-21T15:37:40.371Z"
   },
   {
    "duration": 34,
    "start_time": "2024-07-21T15:37:40.549Z"
   },
   {
    "duration": 47,
    "start_time": "2024-07-21T15:37:40.591Z"
   },
   {
    "duration": 59,
    "start_time": "2024-07-21T15:37:40.642Z"
   },
   {
    "duration": 53,
    "start_time": "2024-07-21T15:37:40.704Z"
   },
   {
    "duration": 71,
    "start_time": "2024-07-21T15:37:40.761Z"
   },
   {
    "duration": 161,
    "start_time": "2024-07-21T15:37:40.836Z"
   },
   {
    "duration": 150,
    "start_time": "2024-07-21T15:37:41.000Z"
   },
   {
    "duration": 46,
    "start_time": "2024-07-21T15:37:41.153Z"
   },
   {
    "duration": 145,
    "start_time": "2024-07-21T15:37:41.202Z"
   },
   {
    "duration": 6,
    "start_time": "2024-07-21T15:37:41.350Z"
   },
   {
    "duration": 35,
    "start_time": "2024-07-21T15:37:41.360Z"
   },
   {
    "duration": 71,
    "start_time": "2024-07-21T15:37:41.398Z"
   },
   {
    "duration": 19,
    "start_time": "2024-07-21T15:37:41.475Z"
   },
   {
    "duration": 591,
    "start_time": "2024-07-21T15:37:41.499Z"
   },
   {
    "duration": 1612,
    "start_time": "2024-07-21T15:37:42.093Z"
   },
   {
    "duration": 537,
    "start_time": "2024-07-21T15:37:43.709Z"
   },
   {
    "duration": 2855,
    "start_time": "2024-07-21T15:37:44.249Z"
   },
   {
    "duration": 343,
    "start_time": "2024-07-21T15:37:47.107Z"
   },
   {
    "duration": 45,
    "start_time": "2024-07-21T15:37:47.453Z"
   },
   {
    "duration": 57,
    "start_time": "2024-07-21T15:37:47.508Z"
   },
   {
    "duration": 233,
    "start_time": "2024-07-21T15:37:47.569Z"
   },
   {
    "duration": 565,
    "start_time": "2024-07-21T15:37:47.806Z"
   },
   {
    "duration": 68,
    "start_time": "2024-07-21T15:37:48.375Z"
   },
   {
    "duration": 648,
    "start_time": "2024-07-21T15:37:48.447Z"
   },
   {
    "duration": 7,
    "start_time": "2024-07-21T15:37:49.099Z"
   },
   {
    "duration": 248,
    "start_time": "2024-07-21T15:37:49.109Z"
   },
   {
    "duration": 4,
    "start_time": "2024-07-21T15:37:49.360Z"
   },
   {
    "duration": 74,
    "start_time": "2024-07-21T15:37:49.368Z"
   },
   {
    "duration": 602,
    "start_time": "2024-07-21T15:37:49.449Z"
   },
   {
    "duration": 8,
    "start_time": "2024-07-21T15:37:50.054Z"
   },
   {
    "duration": 13,
    "start_time": "2024-07-21T15:37:50.067Z"
   },
   {
    "duration": 124,
    "start_time": "2024-07-21T15:37:50.083Z"
   },
   {
    "duration": 4,
    "start_time": "2024-07-21T15:37:50.210Z"
   },
   {
    "duration": 5,
    "start_time": "2024-07-21T15:37:50.231Z"
   },
   {
    "duration": 30738,
    "start_time": "2024-07-21T15:37:50.239Z"
   },
   {
    "duration": 376,
    "start_time": "2024-07-21T15:38:20.980Z"
   },
   {
    "duration": 0,
    "start_time": "2024-07-21T15:38:21.359Z"
   },
   {
    "duration": 0,
    "start_time": "2024-07-21T15:38:21.362Z"
   },
   {
    "duration": 0,
    "start_time": "2024-07-21T15:38:21.364Z"
   },
   {
    "duration": 0,
    "start_time": "2024-07-21T15:38:21.366Z"
   },
   {
    "duration": 0,
    "start_time": "2024-07-21T15:38:21.369Z"
   },
   {
    "duration": 0,
    "start_time": "2024-07-21T15:38:21.371Z"
   },
   {
    "duration": 0,
    "start_time": "2024-07-21T15:38:21.373Z"
   },
   {
    "duration": 0,
    "start_time": "2024-07-21T15:38:21.375Z"
   },
   {
    "duration": 0,
    "start_time": "2024-07-21T15:38:21.379Z"
   },
   {
    "duration": 5,
    "start_time": "2024-07-21T15:42:55.395Z"
   },
   {
    "duration": 673,
    "start_time": "2024-07-21T15:44:14.329Z"
   },
   {
    "duration": 1811,
    "start_time": "2024-07-21T15:44:28.262Z"
   },
   {
    "duration": 755,
    "start_time": "2024-07-21T15:44:30.078Z"
   },
   {
    "duration": 34,
    "start_time": "2024-07-21T15:44:30.836Z"
   },
   {
    "duration": 6,
    "start_time": "2024-07-21T15:44:30.873Z"
   },
   {
    "duration": 171,
    "start_time": "2024-07-21T15:44:30.885Z"
   },
   {
    "duration": 143,
    "start_time": "2024-07-21T15:44:31.062Z"
   },
   {
    "duration": 431,
    "start_time": "2024-07-21T15:44:31.210Z"
   },
   {
    "duration": 239,
    "start_time": "2024-07-21T15:44:31.648Z"
   },
   {
    "duration": 40,
    "start_time": "2024-07-21T15:44:31.892Z"
   },
   {
    "duration": 42,
    "start_time": "2024-07-21T15:44:31.936Z"
   },
   {
    "duration": 87,
    "start_time": "2024-07-21T15:44:31.982Z"
   },
   {
    "duration": 36,
    "start_time": "2024-07-21T15:44:32.075Z"
   },
   {
    "duration": 55,
    "start_time": "2024-07-21T15:44:32.115Z"
   },
   {
    "duration": 121,
    "start_time": "2024-07-21T15:44:32.178Z"
   },
   {
    "duration": 158,
    "start_time": "2024-07-21T15:44:32.302Z"
   },
   {
    "duration": 68,
    "start_time": "2024-07-21T15:44:32.464Z"
   },
   {
    "duration": 102,
    "start_time": "2024-07-21T15:44:32.537Z"
   },
   {
    "duration": 6,
    "start_time": "2024-07-21T15:44:32.642Z"
   },
   {
    "duration": 31,
    "start_time": "2024-07-21T15:44:32.652Z"
   },
   {
    "duration": 74,
    "start_time": "2024-07-21T15:44:32.686Z"
   },
   {
    "duration": 23,
    "start_time": "2024-07-21T15:44:32.763Z"
   },
   {
    "duration": 587,
    "start_time": "2024-07-21T15:44:32.790Z"
   },
   {
    "duration": 1560,
    "start_time": "2024-07-21T15:44:33.381Z"
   },
   {
    "duration": 547,
    "start_time": "2024-07-21T15:44:34.945Z"
   },
   {
    "duration": 2794,
    "start_time": "2024-07-21T15:44:35.496Z"
   },
   {
    "duration": 338,
    "start_time": "2024-07-21T15:44:38.295Z"
   },
   {
    "duration": 44,
    "start_time": "2024-07-21T15:44:38.636Z"
   },
   {
    "duration": 59,
    "start_time": "2024-07-21T15:44:38.683Z"
   },
   {
    "duration": 239,
    "start_time": "2024-07-21T15:44:38.746Z"
   },
   {
    "duration": 514,
    "start_time": "2024-07-21T15:44:38.988Z"
   },
   {
    "duration": 72,
    "start_time": "2024-07-21T15:44:39.506Z"
   },
   {
    "duration": 672,
    "start_time": "2024-07-21T15:44:39.582Z"
   },
   {
    "duration": 4,
    "start_time": "2024-07-21T15:44:40.258Z"
   },
   {
    "duration": 243,
    "start_time": "2024-07-21T15:44:40.266Z"
   },
   {
    "duration": 5,
    "start_time": "2024-07-21T15:44:40.512Z"
   },
   {
    "duration": 71,
    "start_time": "2024-07-21T15:44:40.519Z"
   },
   {
    "duration": 668,
    "start_time": "2024-07-21T15:44:40.593Z"
   },
   {
    "duration": 6,
    "start_time": "2024-07-21T15:44:41.264Z"
   },
   {
    "duration": 14,
    "start_time": "2024-07-21T15:44:41.273Z"
   },
   {
    "duration": 124,
    "start_time": "2024-07-21T15:44:41.290Z"
   },
   {
    "duration": 5,
    "start_time": "2024-07-21T15:44:41.433Z"
   },
   {
    "duration": 28107,
    "start_time": "2024-07-21T15:44:41.442Z"
   },
   {
    "duration": 6,
    "start_time": "2024-07-21T15:45:09.553Z"
   },
   {
    "duration": 929,
    "start_time": "2024-07-21T15:45:09.562Z"
   },
   {
    "duration": 0,
    "start_time": "2024-07-21T15:45:10.494Z"
   },
   {
    "duration": 0,
    "start_time": "2024-07-21T15:45:10.496Z"
   },
   {
    "duration": 0,
    "start_time": "2024-07-21T15:45:10.498Z"
   },
   {
    "duration": 0,
    "start_time": "2024-07-21T15:45:10.503Z"
   },
   {
    "duration": 0,
    "start_time": "2024-07-21T15:45:10.504Z"
   },
   {
    "duration": 0,
    "start_time": "2024-07-21T15:45:10.507Z"
   },
   {
    "duration": 0,
    "start_time": "2024-07-21T15:45:10.509Z"
   },
   {
    "duration": 0,
    "start_time": "2024-07-21T15:45:10.511Z"
   },
   {
    "duration": 0,
    "start_time": "2024-07-21T15:45:10.531Z"
   },
   {
    "duration": 0,
    "start_time": "2024-07-21T15:45:10.533Z"
   },
   {
    "duration": 0,
    "start_time": "2024-07-21T15:45:10.535Z"
   },
   {
    "duration": 4,
    "start_time": "2024-07-21T18:00:39.974Z"
   },
   {
    "duration": 1695,
    "start_time": "2024-07-21T18:00:45.888Z"
   },
   {
    "duration": 715,
    "start_time": "2024-07-21T18:00:47.587Z"
   },
   {
    "duration": 36,
    "start_time": "2024-07-21T18:00:48.304Z"
   },
   {
    "duration": 6,
    "start_time": "2024-07-21T18:00:48.343Z"
   },
   {
    "duration": 190,
    "start_time": "2024-07-21T18:00:48.356Z"
   },
   {
    "duration": 149,
    "start_time": "2024-07-21T18:00:48.550Z"
   },
   {
    "duration": 432,
    "start_time": "2024-07-21T18:00:48.702Z"
   },
   {
    "duration": 151,
    "start_time": "2024-07-21T18:00:49.138Z"
   },
   {
    "duration": 40,
    "start_time": "2024-07-21T18:00:49.293Z"
   },
   {
    "duration": 29,
    "start_time": "2024-07-21T18:00:49.336Z"
   },
   {
    "duration": 62,
    "start_time": "2024-07-21T18:00:49.368Z"
   },
   {
    "duration": 28,
    "start_time": "2024-07-21T18:00:49.433Z"
   },
   {
    "duration": 40,
    "start_time": "2024-07-21T18:00:49.464Z"
   },
   {
    "duration": 125,
    "start_time": "2024-07-21T18:00:49.535Z"
   },
   {
    "duration": 147,
    "start_time": "2024-07-21T18:00:49.662Z"
   },
   {
    "duration": 60,
    "start_time": "2024-07-21T18:00:49.811Z"
   },
   {
    "duration": 108,
    "start_time": "2024-07-21T18:00:49.874Z"
   },
   {
    "duration": 5,
    "start_time": "2024-07-21T18:00:49.985Z"
   },
   {
    "duration": 51,
    "start_time": "2024-07-21T18:00:49.993Z"
   },
   {
    "duration": 40,
    "start_time": "2024-07-21T18:00:50.047Z"
   },
   {
    "duration": 42,
    "start_time": "2024-07-21T18:00:50.090Z"
   },
   {
    "duration": 574,
    "start_time": "2024-07-21T18:00:50.135Z"
   },
   {
    "duration": 1549,
    "start_time": "2024-07-21T18:00:50.712Z"
   },
   {
    "duration": 537,
    "start_time": "2024-07-21T18:00:52.264Z"
   },
   {
    "duration": 2747,
    "start_time": "2024-07-21T18:00:52.804Z"
   },
   {
    "duration": 330,
    "start_time": "2024-07-21T18:00:55.554Z"
   },
   {
    "duration": 55,
    "start_time": "2024-07-21T18:00:55.889Z"
   },
   {
    "duration": 41,
    "start_time": "2024-07-21T18:00:55.948Z"
   },
   {
    "duration": 218,
    "start_time": "2024-07-21T18:00:55.992Z"
   },
   {
    "duration": 545,
    "start_time": "2024-07-21T18:00:56.212Z"
   },
   {
    "duration": 39,
    "start_time": "2024-07-21T18:00:56.760Z"
   },
   {
    "duration": 614,
    "start_time": "2024-07-21T18:00:56.802Z"
   },
   {
    "duration": 11,
    "start_time": "2024-07-21T18:00:57.419Z"
   },
   {
    "duration": 228,
    "start_time": "2024-07-21T18:00:57.434Z"
   },
   {
    "duration": 3,
    "start_time": "2024-07-21T18:00:57.666Z"
   },
   {
    "duration": 66,
    "start_time": "2024-07-21T18:00:57.673Z"
   },
   {
    "duration": 598,
    "start_time": "2024-07-21T18:00:57.742Z"
   },
   {
    "duration": 4,
    "start_time": "2024-07-21T18:00:58.342Z"
   },
   {
    "duration": 13,
    "start_time": "2024-07-21T18:00:58.348Z"
   },
   {
    "duration": 7,
    "start_time": "2024-07-21T18:00:58.363Z"
   },
   {
    "duration": 93,
    "start_time": "2024-07-21T18:00:58.379Z"
   },
   {
    "duration": 40,
    "start_time": "2024-07-21T18:00:58.475Z"
   },
   {
    "duration": 15,
    "start_time": "2024-07-21T18:00:58.518Z"
   },
   {
    "duration": 13809,
    "start_time": "2024-07-21T18:00:58.537Z"
   },
   {
    "duration": 80,
    "start_time": "2024-07-21T18:01:12.351Z"
   },
   {
    "duration": 4,
    "start_time": "2024-07-21T18:01:12.435Z"
   },
   {
    "duration": 3,
    "start_time": "2024-07-21T18:01:12.443Z"
   },
   {
    "duration": 4,
    "start_time": "2024-07-21T18:01:12.449Z"
   },
   {
    "duration": 4,
    "start_time": "2024-07-21T18:01:12.456Z"
   },
   {
    "duration": 4,
    "start_time": "2024-07-21T18:01:12.463Z"
   },
   {
    "duration": 3,
    "start_time": "2024-07-21T18:01:12.471Z"
   },
   {
    "duration": 129,
    "start_time": "2024-07-21T18:01:12.477Z"
   },
   {
    "duration": 4,
    "start_time": "2024-07-21T18:01:12.609Z"
   },
   {
    "duration": 106,
    "start_time": "2024-07-21T18:01:12.631Z"
   },
   {
    "duration": 264,
    "start_time": "2024-07-21T18:01:12.740Z"
   },
   {
    "duration": 6648,
    "start_time": "2024-07-21T18:01:13.008Z"
   },
   {
    "duration": 486,
    "start_time": "2024-07-21T18:01:19.659Z"
   },
   {
    "duration": 3095,
    "start_time": "2024-07-21T18:01:20.148Z"
   },
   {
    "duration": 617,
    "start_time": "2024-07-21T18:01:23.246Z"
   },
   {
    "duration": 0,
    "start_time": "2024-07-21T18:01:23.866Z"
   },
   {
    "duration": 1732,
    "start_time": "2024-07-21T18:08:50.597Z"
   },
   {
    "duration": 741,
    "start_time": "2024-07-21T18:08:52.339Z"
   },
   {
    "duration": 29,
    "start_time": "2024-07-21T18:08:53.083Z"
   },
   {
    "duration": 20,
    "start_time": "2024-07-21T18:08:53.115Z"
   },
   {
    "duration": 160,
    "start_time": "2024-07-21T18:08:53.141Z"
   },
   {
    "duration": 149,
    "start_time": "2024-07-21T18:08:53.304Z"
   },
   {
    "duration": 426,
    "start_time": "2024-07-21T18:08:53.456Z"
   },
   {
    "duration": 151,
    "start_time": "2024-07-21T18:08:53.885Z"
   },
   {
    "duration": 26,
    "start_time": "2024-07-21T18:08:54.039Z"
   },
   {
    "duration": 28,
    "start_time": "2024-07-21T18:08:54.069Z"
   },
   {
    "duration": 66,
    "start_time": "2024-07-21T18:08:54.100Z"
   },
   {
    "duration": 26,
    "start_time": "2024-07-21T18:08:54.169Z"
   },
   {
    "duration": 67,
    "start_time": "2024-07-21T18:08:54.198Z"
   },
   {
    "duration": 127,
    "start_time": "2024-07-21T18:08:54.272Z"
   },
   {
    "duration": 147,
    "start_time": "2024-07-21T18:08:54.402Z"
   },
   {
    "duration": 47,
    "start_time": "2024-07-21T18:08:54.553Z"
   },
   {
    "duration": 127,
    "start_time": "2024-07-21T18:08:54.603Z"
   },
   {
    "duration": 5,
    "start_time": "2024-07-21T18:08:54.733Z"
   },
   {
    "duration": 31,
    "start_time": "2024-07-21T18:08:54.741Z"
   },
   {
    "duration": 59,
    "start_time": "2024-07-21T18:08:54.777Z"
   },
   {
    "duration": 19,
    "start_time": "2024-07-21T18:08:54.840Z"
   },
   {
    "duration": 539,
    "start_time": "2024-07-21T18:08:54.863Z"
   },
   {
    "duration": 1543,
    "start_time": "2024-07-21T18:08:55.405Z"
   },
   {
    "duration": 517,
    "start_time": "2024-07-21T18:08:56.951Z"
   },
   {
    "duration": 2774,
    "start_time": "2024-07-21T18:08:57.471Z"
   },
   {
    "duration": 328,
    "start_time": "2024-07-21T18:09:00.249Z"
   },
   {
    "duration": 53,
    "start_time": "2024-07-21T18:09:00.579Z"
   },
   {
    "duration": 40,
    "start_time": "2024-07-21T18:09:00.637Z"
   },
   {
    "duration": 212,
    "start_time": "2024-07-21T18:09:00.682Z"
   },
   {
    "duration": 545,
    "start_time": "2024-07-21T18:09:00.897Z"
   },
   {
    "duration": 41,
    "start_time": "2024-07-21T18:09:01.445Z"
   },
   {
    "duration": 632,
    "start_time": "2024-07-21T18:09:01.489Z"
   },
   {
    "duration": 4,
    "start_time": "2024-07-21T18:09:02.133Z"
   },
   {
    "duration": 236,
    "start_time": "2024-07-21T18:09:02.140Z"
   },
   {
    "duration": 4,
    "start_time": "2024-07-21T18:09:02.379Z"
   },
   {
    "duration": 73,
    "start_time": "2024-07-21T18:09:02.386Z"
   },
   {
    "duration": 599,
    "start_time": "2024-07-21T18:09:02.462Z"
   },
   {
    "duration": 12,
    "start_time": "2024-07-21T18:09:03.064Z"
   },
   {
    "duration": 4,
    "start_time": "2024-07-21T18:09:03.079Z"
   },
   {
    "duration": 84,
    "start_time": "2024-07-21T18:09:03.087Z"
   },
   {
    "duration": 55,
    "start_time": "2024-07-21T18:09:03.179Z"
   },
   {
    "duration": 6,
    "start_time": "2024-07-21T18:09:03.237Z"
   },
   {
    "duration": 13785,
    "start_time": "2024-07-21T18:09:03.246Z"
   },
   {
    "duration": 5,
    "start_time": "2024-07-21T18:09:17.034Z"
   },
   {
    "duration": 155,
    "start_time": "2024-07-21T18:09:17.048Z"
   },
   {
    "duration": 68,
    "start_time": "2024-07-21T18:09:17.207Z"
   },
   {
    "duration": 316,
    "start_time": "2024-07-21T18:09:17.278Z"
   },
   {
    "duration": 6941,
    "start_time": "2024-07-21T18:09:17.597Z"
   },
   {
    "duration": 491,
    "start_time": "2024-07-21T18:09:24.541Z"
   },
   {
    "duration": 2965,
    "start_time": "2024-07-21T18:09:25.035Z"
   },
   {
    "duration": 616,
    "start_time": "2024-07-21T18:09:28.003Z"
   },
   {
    "duration": 0,
    "start_time": "2024-07-21T18:09:28.631Z"
   },
   {
    "duration": 1698,
    "start_time": "2024-07-21T18:18:21.465Z"
   },
   {
    "duration": 753,
    "start_time": "2024-07-21T18:18:23.168Z"
   },
   {
    "duration": 31,
    "start_time": "2024-07-21T18:18:23.923Z"
   },
   {
    "duration": 5,
    "start_time": "2024-07-21T18:18:23.958Z"
   },
   {
    "duration": 175,
    "start_time": "2024-07-21T18:18:23.969Z"
   },
   {
    "duration": 139,
    "start_time": "2024-07-21T18:18:24.147Z"
   },
   {
    "duration": 432,
    "start_time": "2024-07-21T18:18:24.289Z"
   },
   {
    "duration": 150,
    "start_time": "2024-07-21T18:18:24.730Z"
   },
   {
    "duration": 27,
    "start_time": "2024-07-21T18:18:24.883Z"
   },
   {
    "duration": 27,
    "start_time": "2024-07-21T18:18:24.930Z"
   },
   {
    "duration": 40,
    "start_time": "2024-07-21T18:18:24.961Z"
   },
   {
    "duration": 46,
    "start_time": "2024-07-21T18:18:25.004Z"
   },
   {
    "duration": 40,
    "start_time": "2024-07-21T18:18:25.053Z"
   },
   {
    "duration": 106,
    "start_time": "2024-07-21T18:18:25.130Z"
   },
   {
    "duration": 147,
    "start_time": "2024-07-21T18:18:25.239Z"
   },
   {
    "duration": 57,
    "start_time": "2024-07-21T18:18:25.389Z"
   },
   {
    "duration": 106,
    "start_time": "2024-07-21T18:18:25.449Z"
   },
   {
    "duration": 5,
    "start_time": "2024-07-21T18:18:25.558Z"
   },
   {
    "duration": 29,
    "start_time": "2024-07-21T18:18:25.566Z"
   },
   {
    "duration": 67,
    "start_time": "2024-07-21T18:18:25.598Z"
   },
   {
    "duration": 21,
    "start_time": "2024-07-21T18:18:25.668Z"
   },
   {
    "duration": 573,
    "start_time": "2024-07-21T18:18:25.692Z"
   },
   {
    "duration": 1548,
    "start_time": "2024-07-21T18:18:26.270Z"
   },
   {
    "duration": 529,
    "start_time": "2024-07-21T18:18:27.821Z"
   },
   {
    "duration": 2770,
    "start_time": "2024-07-21T18:18:28.353Z"
   },
   {
    "duration": 357,
    "start_time": "2024-07-21T18:18:31.131Z"
   },
   {
    "duration": 44,
    "start_time": "2024-07-21T18:18:31.491Z"
   },
   {
    "duration": 40,
    "start_time": "2024-07-21T18:18:31.538Z"
   },
   {
    "duration": 238,
    "start_time": "2024-07-21T18:18:31.581Z"
   },
   {
    "duration": 524,
    "start_time": "2024-07-21T18:18:31.821Z"
   },
   {
    "duration": 40,
    "start_time": "2024-07-21T18:18:32.348Z"
   },
   {
    "duration": 638,
    "start_time": "2024-07-21T18:18:32.393Z"
   },
   {
    "duration": 4,
    "start_time": "2024-07-21T18:18:33.034Z"
   },
   {
    "duration": 234,
    "start_time": "2024-07-21T18:18:33.042Z"
   },
   {
    "duration": 4,
    "start_time": "2024-07-21T18:18:33.279Z"
   },
   {
    "duration": 66,
    "start_time": "2024-07-21T18:18:33.287Z"
   },
   {
    "duration": 636,
    "start_time": "2024-07-21T18:18:33.356Z"
   },
   {
    "duration": 12,
    "start_time": "2024-07-21T18:18:33.995Z"
   },
   {
    "duration": 5,
    "start_time": "2024-07-21T18:18:34.009Z"
   },
   {
    "duration": 430,
    "start_time": "2024-07-21T18:18:34.032Z"
   },
   {
    "duration": 0,
    "start_time": "2024-07-21T18:18:34.466Z"
   },
   {
    "duration": 0,
    "start_time": "2024-07-21T18:18:34.468Z"
   },
   {
    "duration": 0,
    "start_time": "2024-07-21T18:18:34.470Z"
   },
   {
    "duration": 0,
    "start_time": "2024-07-21T18:18:34.473Z"
   },
   {
    "duration": 0,
    "start_time": "2024-07-21T18:18:34.475Z"
   },
   {
    "duration": 0,
    "start_time": "2024-07-21T18:18:34.477Z"
   },
   {
    "duration": 0,
    "start_time": "2024-07-21T18:18:34.479Z"
   },
   {
    "duration": 0,
    "start_time": "2024-07-21T18:18:34.481Z"
   },
   {
    "duration": 0,
    "start_time": "2024-07-21T18:18:34.482Z"
   },
   {
    "duration": 0,
    "start_time": "2024-07-21T18:18:34.485Z"
   },
   {
    "duration": 0,
    "start_time": "2024-07-21T18:18:34.486Z"
   },
   {
    "duration": 1720,
    "start_time": "2024-07-21T18:28:06.016Z"
   },
   {
    "duration": 749,
    "start_time": "2024-07-21T18:28:07.740Z"
   },
   {
    "duration": 27,
    "start_time": "2024-07-21T18:28:08.491Z"
   },
   {
    "duration": 8,
    "start_time": "2024-07-21T18:28:08.529Z"
   },
   {
    "duration": 158,
    "start_time": "2024-07-21T18:28:08.541Z"
   },
   {
    "duration": 148,
    "start_time": "2024-07-21T18:28:08.702Z"
   },
   {
    "duration": 411,
    "start_time": "2024-07-21T18:28:08.853Z"
   },
   {
    "duration": 153,
    "start_time": "2024-07-21T18:28:09.267Z"
   },
   {
    "duration": 35,
    "start_time": "2024-07-21T18:28:09.423Z"
   },
   {
    "duration": 33,
    "start_time": "2024-07-21T18:28:09.468Z"
   },
   {
    "duration": 62,
    "start_time": "2024-07-21T18:28:09.504Z"
   },
   {
    "duration": 27,
    "start_time": "2024-07-21T18:28:09.569Z"
   },
   {
    "duration": 64,
    "start_time": "2024-07-21T18:28:09.600Z"
   },
   {
    "duration": 120,
    "start_time": "2024-07-21T18:28:09.667Z"
   },
   {
    "duration": 156,
    "start_time": "2024-07-21T18:28:09.790Z"
   },
   {
    "duration": 47,
    "start_time": "2024-07-21T18:28:09.949Z"
   },
   {
    "duration": 115,
    "start_time": "2024-07-21T18:28:09.999Z"
   },
   {
    "duration": 13,
    "start_time": "2024-07-21T18:28:10.118Z"
   },
   {
    "duration": 34,
    "start_time": "2024-07-21T18:28:10.134Z"
   },
   {
    "duration": 71,
    "start_time": "2024-07-21T18:28:10.170Z"
   },
   {
    "duration": 16,
    "start_time": "2024-07-21T18:28:10.246Z"
   },
   {
    "duration": 565,
    "start_time": "2024-07-21T18:28:10.265Z"
   },
   {
    "duration": 1548,
    "start_time": "2024-07-21T18:28:10.833Z"
   },
   {
    "duration": 528,
    "start_time": "2024-07-21T18:28:12.385Z"
   },
   {
    "duration": 3091,
    "start_time": "2024-07-21T18:28:12.919Z"
   },
   {
    "duration": 349,
    "start_time": "2024-07-21T18:28:16.012Z"
   },
   {
    "duration": 40,
    "start_time": "2024-07-21T18:28:16.365Z"
   },
   {
    "duration": 57,
    "start_time": "2024-07-21T18:28:16.413Z"
   },
   {
    "duration": 219,
    "start_time": "2024-07-21T18:28:16.473Z"
   },
   {
    "duration": 494,
    "start_time": "2024-07-21T18:28:16.695Z"
   },
   {
    "duration": 44,
    "start_time": "2024-07-21T18:28:17.191Z"
   },
   {
    "duration": 614,
    "start_time": "2024-07-21T18:28:17.238Z"
   },
   {
    "duration": 4,
    "start_time": "2024-07-21T18:28:17.855Z"
   },
   {
    "duration": 225,
    "start_time": "2024-07-21T18:28:17.863Z"
   },
   {
    "duration": 4,
    "start_time": "2024-07-21T18:28:18.091Z"
   },
   {
    "duration": 62,
    "start_time": "2024-07-21T18:28:18.098Z"
   },
   {
    "duration": 625,
    "start_time": "2024-07-21T18:28:18.163Z"
   },
   {
    "duration": 3,
    "start_time": "2024-07-21T18:28:18.791Z"
   },
   {
    "duration": 439,
    "start_time": "2024-07-21T18:28:18.797Z"
   },
   {
    "duration": 0,
    "start_time": "2024-07-21T18:28:19.239Z"
   },
   {
    "duration": 0,
    "start_time": "2024-07-21T18:28:19.247Z"
   },
   {
    "duration": 0,
    "start_time": "2024-07-21T18:28:19.249Z"
   },
   {
    "duration": 0,
    "start_time": "2024-07-21T18:28:19.252Z"
   },
   {
    "duration": 0,
    "start_time": "2024-07-21T18:28:19.254Z"
   },
   {
    "duration": 0,
    "start_time": "2024-07-21T18:28:19.258Z"
   },
   {
    "duration": 0,
    "start_time": "2024-07-21T18:28:19.260Z"
   },
   {
    "duration": 0,
    "start_time": "2024-07-21T18:28:19.262Z"
   },
   {
    "duration": 0,
    "start_time": "2024-07-21T18:28:19.264Z"
   },
   {
    "duration": 0,
    "start_time": "2024-07-21T18:28:19.267Z"
   },
   {
    "duration": 0,
    "start_time": "2024-07-21T18:28:19.269Z"
   },
   {
    "duration": 0,
    "start_time": "2024-07-21T18:28:19.271Z"
   },
   {
    "duration": 0,
    "start_time": "2024-07-21T18:28:19.272Z"
   },
   {
    "duration": 1711,
    "start_time": "2024-07-21T18:28:40.781Z"
   },
   {
    "duration": 741,
    "start_time": "2024-07-21T18:28:42.495Z"
   },
   {
    "duration": 29,
    "start_time": "2024-07-21T18:28:43.239Z"
   },
   {
    "duration": 6,
    "start_time": "2024-07-21T18:28:43.273Z"
   },
   {
    "duration": 186,
    "start_time": "2024-07-21T18:28:43.281Z"
   },
   {
    "duration": 149,
    "start_time": "2024-07-21T18:28:43.470Z"
   },
   {
    "duration": 422,
    "start_time": "2024-07-21T18:28:43.630Z"
   },
   {
    "duration": 161,
    "start_time": "2024-07-21T18:28:44.055Z"
   },
   {
    "duration": 35,
    "start_time": "2024-07-21T18:28:44.218Z"
   },
   {
    "duration": 27,
    "start_time": "2024-07-21T18:28:44.260Z"
   },
   {
    "duration": 59,
    "start_time": "2024-07-21T18:28:44.290Z"
   },
   {
    "duration": 26,
    "start_time": "2024-07-21T18:28:44.352Z"
   },
   {
    "duration": 61,
    "start_time": "2024-07-21T18:28:44.382Z"
   },
   {
    "duration": 130,
    "start_time": "2024-07-21T18:28:44.447Z"
   },
   {
    "duration": 157,
    "start_time": "2024-07-21T18:28:44.579Z"
   },
   {
    "duration": 52,
    "start_time": "2024-07-21T18:28:44.739Z"
   },
   {
    "duration": 120,
    "start_time": "2024-07-21T18:28:44.794Z"
   },
   {
    "duration": 14,
    "start_time": "2024-07-21T18:28:44.917Z"
   },
   {
    "duration": 30,
    "start_time": "2024-07-21T18:28:44.934Z"
   },
   {
    "duration": 65,
    "start_time": "2024-07-21T18:28:44.967Z"
   },
   {
    "duration": 20,
    "start_time": "2024-07-21T18:28:45.034Z"
   },
   {
    "duration": 559,
    "start_time": "2024-07-21T18:28:45.056Z"
   },
   {
    "duration": 1536,
    "start_time": "2024-07-21T18:28:45.618Z"
   },
   {
    "duration": 535,
    "start_time": "2024-07-21T18:28:47.159Z"
   },
   {
    "duration": 2734,
    "start_time": "2024-07-21T18:28:47.697Z"
   },
   {
    "duration": 334,
    "start_time": "2024-07-21T18:28:50.435Z"
   },
   {
    "duration": 40,
    "start_time": "2024-07-21T18:28:50.772Z"
   },
   {
    "duration": 42,
    "start_time": "2024-07-21T18:28:50.836Z"
   },
   {
    "duration": 211,
    "start_time": "2024-07-21T18:28:50.881Z"
   },
   {
    "duration": 500,
    "start_time": "2024-07-21T18:28:51.095Z"
   },
   {
    "duration": 44,
    "start_time": "2024-07-21T18:28:51.598Z"
   },
   {
    "duration": 652,
    "start_time": "2024-07-21T18:28:51.646Z"
   },
   {
    "duration": 4,
    "start_time": "2024-07-21T18:28:52.301Z"
   },
   {
    "duration": 225,
    "start_time": "2024-07-21T18:28:52.307Z"
   },
   {
    "duration": 6,
    "start_time": "2024-07-21T18:28:52.536Z"
   },
   {
    "duration": 45,
    "start_time": "2024-07-21T18:28:52.546Z"
   },
   {
    "duration": 631,
    "start_time": "2024-07-21T18:28:52.595Z"
   },
   {
    "duration": 13,
    "start_time": "2024-07-21T18:28:53.233Z"
   },
   {
    "duration": 4,
    "start_time": "2024-07-21T18:28:53.249Z"
   },
   {
    "duration": 81,
    "start_time": "2024-07-21T18:28:53.256Z"
   },
   {
    "duration": 43,
    "start_time": "2024-07-21T18:28:53.340Z"
   },
   {
    "duration": 5,
    "start_time": "2024-07-21T18:28:53.386Z"
   },
   {
    "duration": 13837,
    "start_time": "2024-07-21T18:28:53.394Z"
   },
   {
    "duration": 5,
    "start_time": "2024-07-21T18:29:07.234Z"
   },
   {
    "duration": 153,
    "start_time": "2024-07-21T18:29:07.244Z"
   },
   {
    "duration": 135,
    "start_time": "2024-07-21T18:29:07.399Z"
   },
   {
    "duration": 277,
    "start_time": "2024-07-21T18:29:07.539Z"
   },
   {
    "duration": 6821,
    "start_time": "2024-07-21T18:29:07.819Z"
   },
   {
    "duration": 406,
    "start_time": "2024-07-21T18:29:14.643Z"
   },
   {
    "duration": 2946,
    "start_time": "2024-07-21T18:29:15.052Z"
   },
   {
    "duration": 613,
    "start_time": "2024-07-21T18:29:18.000Z"
   },
   {
    "duration": 0,
    "start_time": "2024-07-21T18:29:18.616Z"
   },
   {
    "duration": 1711,
    "start_time": "2024-07-21T18:30:40.861Z"
   },
   {
    "duration": 748,
    "start_time": "2024-07-21T18:30:42.576Z"
   },
   {
    "duration": 26,
    "start_time": "2024-07-21T18:30:43.330Z"
   },
   {
    "duration": 7,
    "start_time": "2024-07-21T18:30:43.360Z"
   },
   {
    "duration": 172,
    "start_time": "2024-07-21T18:30:43.370Z"
   },
   {
    "duration": 143,
    "start_time": "2024-07-21T18:30:43.545Z"
   },
   {
    "duration": 439,
    "start_time": "2024-07-21T18:30:43.691Z"
   },
   {
    "duration": 146,
    "start_time": "2024-07-21T18:30:44.133Z"
   },
   {
    "duration": 25,
    "start_time": "2024-07-21T18:30:44.283Z"
   },
   {
    "duration": 27,
    "start_time": "2024-07-21T18:30:44.331Z"
   },
   {
    "duration": 41,
    "start_time": "2024-07-21T18:30:44.361Z"
   },
   {
    "duration": 48,
    "start_time": "2024-07-21T18:30:44.405Z"
   },
   {
    "duration": 40,
    "start_time": "2024-07-21T18:30:44.456Z"
   },
   {
    "duration": 136,
    "start_time": "2024-07-21T18:30:44.498Z"
   },
   {
    "duration": 145,
    "start_time": "2024-07-21T18:30:44.637Z"
   },
   {
    "duration": 63,
    "start_time": "2024-07-21T18:30:44.785Z"
   },
   {
    "duration": 102,
    "start_time": "2024-07-21T18:30:44.851Z"
   },
   {
    "duration": 5,
    "start_time": "2024-07-21T18:30:44.956Z"
   },
   {
    "duration": 28,
    "start_time": "2024-07-21T18:30:44.965Z"
   },
   {
    "duration": 73,
    "start_time": "2024-07-21T18:30:44.996Z"
   },
   {
    "duration": 18,
    "start_time": "2024-07-21T18:30:45.071Z"
   },
   {
    "duration": 549,
    "start_time": "2024-07-21T18:30:45.092Z"
   },
   {
    "duration": 1544,
    "start_time": "2024-07-21T18:30:45.644Z"
   },
   {
    "duration": 533,
    "start_time": "2024-07-21T18:30:47.191Z"
   },
   {
    "duration": 2789,
    "start_time": "2024-07-21T18:30:47.730Z"
   },
   {
    "duration": 339,
    "start_time": "2024-07-21T18:30:50.530Z"
   },
   {
    "duration": 40,
    "start_time": "2024-07-21T18:30:50.872Z"
   },
   {
    "duration": 40,
    "start_time": "2024-07-21T18:30:50.936Z"
   },
   {
    "duration": 212,
    "start_time": "2024-07-21T18:30:50.978Z"
   },
   {
    "duration": 518,
    "start_time": "2024-07-21T18:30:51.193Z"
   },
   {
    "duration": 50,
    "start_time": "2024-07-21T18:30:51.714Z"
   },
   {
    "duration": 639,
    "start_time": "2024-07-21T18:30:51.767Z"
   },
   {
    "duration": 214,
    "start_time": "2024-07-21T18:30:52.410Z"
   },
   {
    "duration": 5,
    "start_time": "2024-07-21T18:30:52.631Z"
   },
   {
    "duration": 50,
    "start_time": "2024-07-21T18:30:52.639Z"
   },
   {
    "duration": 622,
    "start_time": "2024-07-21T18:30:52.692Z"
   },
   {
    "duration": 16,
    "start_time": "2024-07-21T18:30:53.317Z"
   },
   {
    "duration": 4,
    "start_time": "2024-07-21T18:30:53.336Z"
   },
   {
    "duration": 55,
    "start_time": "2024-07-21T18:30:53.343Z"
   },
   {
    "duration": 66,
    "start_time": "2024-07-21T18:30:53.401Z"
   },
   {
    "duration": 5,
    "start_time": "2024-07-21T18:30:53.469Z"
   },
   {
    "duration": 13854,
    "start_time": "2024-07-21T18:30:53.477Z"
   },
   {
    "duration": 8,
    "start_time": "2024-07-21T18:31:07.339Z"
   },
   {
    "duration": 147,
    "start_time": "2024-07-21T18:31:07.354Z"
   },
   {
    "duration": 64,
    "start_time": "2024-07-21T18:31:07.504Z"
   },
   {
    "duration": 326,
    "start_time": "2024-07-21T18:31:07.571Z"
   },
   {
    "duration": 7055,
    "start_time": "2024-07-21T18:31:07.901Z"
   },
   {
    "duration": 476,
    "start_time": "2024-07-21T18:31:14.959Z"
   },
   {
    "duration": 3047,
    "start_time": "2024-07-21T18:31:15.438Z"
   },
   {
    "duration": 600,
    "start_time": "2024-07-21T18:31:18.488Z"
   },
   {
    "duration": 0,
    "start_time": "2024-07-21T18:31:19.091Z"
   },
   {
    "duration": 176,
    "start_time": "2024-07-21T19:47:42.968Z"
   },
   {
    "duration": 1773,
    "start_time": "2024-07-21T19:48:25.588Z"
   },
   {
    "duration": 732,
    "start_time": "2024-07-21T19:48:27.364Z"
   },
   {
    "duration": 35,
    "start_time": "2024-07-21T19:48:28.100Z"
   },
   {
    "duration": 5,
    "start_time": "2024-07-21T19:48:28.140Z"
   },
   {
    "duration": 166,
    "start_time": "2024-07-21T19:48:28.149Z"
   },
   {
    "duration": 141,
    "start_time": "2024-07-21T19:48:28.330Z"
   },
   {
    "duration": 413,
    "start_time": "2024-07-21T19:48:28.474Z"
   },
   {
    "duration": 150,
    "start_time": "2024-07-21T19:48:28.890Z"
   },
   {
    "duration": 28,
    "start_time": "2024-07-21T19:48:29.056Z"
   },
   {
    "duration": 42,
    "start_time": "2024-07-21T19:48:29.095Z"
   },
   {
    "duration": 43,
    "start_time": "2024-07-21T19:48:29.140Z"
   },
   {
    "duration": 46,
    "start_time": "2024-07-21T19:48:29.186Z"
   },
   {
    "duration": 41,
    "start_time": "2024-07-21T19:48:29.235Z"
   },
   {
    "duration": 141,
    "start_time": "2024-07-21T19:48:29.278Z"
   },
   {
    "duration": 150,
    "start_time": "2024-07-21T19:48:29.422Z"
   },
   {
    "duration": 60,
    "start_time": "2024-07-21T19:48:29.575Z"
   },
   {
    "duration": 107,
    "start_time": "2024-07-21T19:48:29.638Z"
   },
   {
    "duration": 6,
    "start_time": "2024-07-21T19:48:29.747Z"
   },
   {
    "duration": 27,
    "start_time": "2024-07-21T19:48:29.756Z"
   },
   {
    "duration": 69,
    "start_time": "2024-07-21T19:48:29.786Z"
   },
   {
    "duration": 19,
    "start_time": "2024-07-21T19:48:29.858Z"
   },
   {
    "duration": 556,
    "start_time": "2024-07-21T19:48:29.880Z"
   },
   {
    "duration": 1545,
    "start_time": "2024-07-21T19:48:30.439Z"
   },
   {
    "duration": 557,
    "start_time": "2024-07-21T19:48:31.987Z"
   },
   {
    "duration": 2766,
    "start_time": "2024-07-21T19:48:32.546Z"
   },
   {
    "duration": 339,
    "start_time": "2024-07-21T19:48:35.315Z"
   },
   {
    "duration": 53,
    "start_time": "2024-07-21T19:48:35.658Z"
   },
   {
    "duration": 48,
    "start_time": "2024-07-21T19:48:35.735Z"
   },
   {
    "duration": 219,
    "start_time": "2024-07-21T19:48:35.788Z"
   },
   {
    "duration": 508,
    "start_time": "2024-07-21T19:48:36.010Z"
   },
   {
    "duration": 46,
    "start_time": "2024-07-21T19:48:36.521Z"
   },
   {
    "duration": 636,
    "start_time": "2024-07-21T19:48:36.570Z"
   },
   {
    "duration": 230,
    "start_time": "2024-07-21T19:48:37.209Z"
   },
   {
    "duration": 4,
    "start_time": "2024-07-21T19:48:37.442Z"
   },
   {
    "duration": 47,
    "start_time": "2024-07-21T19:48:37.449Z"
   },
   {
    "duration": 635,
    "start_time": "2024-07-21T19:48:37.499Z"
   },
   {
    "duration": 12,
    "start_time": "2024-07-21T19:48:38.136Z"
   },
   {
    "duration": 4,
    "start_time": "2024-07-21T19:48:38.151Z"
   },
   {
    "duration": 81,
    "start_time": "2024-07-21T19:48:38.158Z"
   },
   {
    "duration": 42,
    "start_time": "2024-07-21T19:48:38.241Z"
   },
   {
    "duration": 5,
    "start_time": "2024-07-21T19:48:38.285Z"
   },
   {
    "duration": 13743,
    "start_time": "2024-07-21T19:48:38.294Z"
   },
   {
    "duration": 16,
    "start_time": "2024-07-21T19:48:52.040Z"
   },
   {
    "duration": 80,
    "start_time": "2024-07-21T19:48:52.131Z"
   },
   {
    "duration": 120,
    "start_time": "2024-07-21T19:48:52.214Z"
   },
   {
    "duration": 261,
    "start_time": "2024-07-21T19:48:52.337Z"
   },
   {
    "duration": 6541,
    "start_time": "2024-07-21T19:48:52.601Z"
   },
   {
    "duration": 3156,
    "start_time": "2024-07-21T19:48:59.145Z"
   },
   {
    "duration": 1055,
    "start_time": "2024-07-21T19:49:02.304Z"
   },
   {
    "duration": 351,
    "start_time": "2024-07-21T19:49:03.362Z"
   },
   {
    "duration": 1,
    "start_time": "2024-07-21T19:49:03.715Z"
   },
   {
    "duration": 1690,
    "start_time": "2024-07-21T19:49:57.836Z"
   },
   {
    "duration": 719,
    "start_time": "2024-07-21T19:49:59.532Z"
   },
   {
    "duration": 34,
    "start_time": "2024-07-21T19:50:00.254Z"
   },
   {
    "duration": 7,
    "start_time": "2024-07-21T19:50:00.292Z"
   },
   {
    "duration": 187,
    "start_time": "2024-07-21T19:50:00.304Z"
   },
   {
    "duration": 150,
    "start_time": "2024-07-21T19:50:00.494Z"
   },
   {
    "duration": 412,
    "start_time": "2024-07-21T19:50:00.650Z"
   },
   {
    "duration": 150,
    "start_time": "2024-07-21T19:50:01.065Z"
   },
   {
    "duration": 31,
    "start_time": "2024-07-21T19:50:01.218Z"
   },
   {
    "duration": 27,
    "start_time": "2024-07-21T19:50:01.252Z"
   },
   {
    "duration": 69,
    "start_time": "2024-07-21T19:50:01.283Z"
   },
   {
    "duration": 31,
    "start_time": "2024-07-21T19:50:01.355Z"
   },
   {
    "duration": 63,
    "start_time": "2024-07-21T19:50:01.392Z"
   },
   {
    "duration": 130,
    "start_time": "2024-07-21T19:50:01.464Z"
   },
   {
    "duration": 152,
    "start_time": "2024-07-21T19:50:01.597Z"
   },
   {
    "duration": 58,
    "start_time": "2024-07-21T19:50:01.754Z"
   },
   {
    "duration": 117,
    "start_time": "2024-07-21T19:50:01.815Z"
   },
   {
    "duration": 7,
    "start_time": "2024-07-21T19:50:01.935Z"
   },
   {
    "duration": 29,
    "start_time": "2024-07-21T19:50:01.945Z"
   },
   {
    "duration": 71,
    "start_time": "2024-07-21T19:50:01.977Z"
   },
   {
    "duration": 19,
    "start_time": "2024-07-21T19:50:02.056Z"
   },
   {
    "duration": 584,
    "start_time": "2024-07-21T19:50:02.078Z"
   },
   {
    "duration": 1540,
    "start_time": "2024-07-21T19:50:02.665Z"
   },
   {
    "duration": 531,
    "start_time": "2024-07-21T19:50:04.208Z"
   },
   {
    "duration": 2791,
    "start_time": "2024-07-21T19:50:04.742Z"
   },
   {
    "duration": 335,
    "start_time": "2024-07-21T19:50:07.537Z"
   },
   {
    "duration": 55,
    "start_time": "2024-07-21T19:50:07.875Z"
   },
   {
    "duration": 40,
    "start_time": "2024-07-21T19:50:07.933Z"
   },
   {
    "duration": 226,
    "start_time": "2024-07-21T19:50:07.976Z"
   },
   {
    "duration": 498,
    "start_time": "2024-07-21T19:50:08.206Z"
   },
   {
    "duration": 48,
    "start_time": "2024-07-21T19:50:08.707Z"
   },
   {
    "duration": 605,
    "start_time": "2024-07-21T19:50:08.758Z"
   },
   {
    "duration": 234,
    "start_time": "2024-07-21T19:50:09.367Z"
   },
   {
    "duration": 4,
    "start_time": "2024-07-21T19:50:09.604Z"
   },
   {
    "duration": 63,
    "start_time": "2024-07-21T19:50:09.612Z"
   },
   {
    "duration": 610,
    "start_time": "2024-07-21T19:50:09.678Z"
   },
   {
    "duration": 12,
    "start_time": "2024-07-21T19:50:10.290Z"
   },
   {
    "duration": 3,
    "start_time": "2024-07-21T19:50:10.305Z"
   },
   {
    "duration": 60,
    "start_time": "2024-07-21T19:50:10.331Z"
   },
   {
    "duration": 65,
    "start_time": "2024-07-21T19:50:10.394Z"
   },
   {
    "duration": 4,
    "start_time": "2024-07-21T19:50:10.469Z"
   },
   {
    "duration": 14572,
    "start_time": "2024-07-21T19:50:10.477Z"
   },
   {
    "duration": 7,
    "start_time": "2024-07-21T19:50:25.052Z"
   },
   {
    "duration": 81,
    "start_time": "2024-07-21T19:50:25.131Z"
   },
   {
    "duration": 215,
    "start_time": "2024-07-21T19:50:25.215Z"
   },
   {
    "duration": 259,
    "start_time": "2024-07-21T19:50:25.439Z"
   },
   {
    "duration": 7548,
    "start_time": "2024-07-21T19:50:25.701Z"
   },
   {
    "duration": 3204,
    "start_time": "2024-07-21T19:50:33.255Z"
   },
   {
    "duration": 1105,
    "start_time": "2024-07-21T19:50:36.463Z"
   },
   {
    "duration": 348,
    "start_time": "2024-07-21T19:50:37.572Z"
   },
   {
    "duration": 0,
    "start_time": "2024-07-21T19:50:37.923Z"
   },
   {
    "duration": 20,
    "start_time": "2024-07-21T19:53:46.959Z"
   },
   {
    "duration": 1773,
    "start_time": "2024-07-21T19:54:38.868Z"
   },
   {
    "duration": 741,
    "start_time": "2024-07-21T19:54:40.646Z"
   },
   {
    "duration": 49,
    "start_time": "2024-07-21T19:54:41.391Z"
   },
   {
    "duration": 11,
    "start_time": "2024-07-21T19:54:41.443Z"
   },
   {
    "duration": 173,
    "start_time": "2024-07-21T19:54:41.459Z"
   },
   {
    "duration": 165,
    "start_time": "2024-07-21T19:54:41.635Z"
   },
   {
    "duration": 429,
    "start_time": "2024-07-21T19:54:41.810Z"
   },
   {
    "duration": 153,
    "start_time": "2024-07-21T19:54:42.244Z"
   },
   {
    "duration": 36,
    "start_time": "2024-07-21T19:54:42.401Z"
   },
   {
    "duration": 37,
    "start_time": "2024-07-21T19:54:42.440Z"
   },
   {
    "duration": 64,
    "start_time": "2024-07-21T19:54:42.480Z"
   },
   {
    "duration": 28,
    "start_time": "2024-07-21T19:54:42.548Z"
   },
   {
    "duration": 61,
    "start_time": "2024-07-21T19:54:42.579Z"
   },
   {
    "duration": 130,
    "start_time": "2024-07-21T19:54:42.653Z"
   },
   {
    "duration": 160,
    "start_time": "2024-07-21T19:54:42.786Z"
   },
   {
    "duration": 51,
    "start_time": "2024-07-21T19:54:42.949Z"
   },
   {
    "duration": 118,
    "start_time": "2024-07-21T19:54:43.002Z"
   },
   {
    "duration": 6,
    "start_time": "2024-07-21T19:54:43.131Z"
   },
   {
    "duration": 30,
    "start_time": "2024-07-21T19:54:43.140Z"
   },
   {
    "duration": 67,
    "start_time": "2024-07-21T19:54:43.172Z"
   },
   {
    "duration": 20,
    "start_time": "2024-07-21T19:54:43.243Z"
   },
   {
    "duration": 552,
    "start_time": "2024-07-21T19:54:43.266Z"
   },
   {
    "duration": 1532,
    "start_time": "2024-07-21T19:54:43.821Z"
   },
   {
    "duration": 520,
    "start_time": "2024-07-21T19:54:45.355Z"
   },
   {
    "duration": 2745,
    "start_time": "2024-07-21T19:54:45.879Z"
   },
   {
    "duration": 340,
    "start_time": "2024-07-21T19:54:48.631Z"
   },
   {
    "duration": 56,
    "start_time": "2024-07-21T19:54:48.974Z"
   },
   {
    "duration": 41,
    "start_time": "2024-07-21T19:54:49.033Z"
   },
   {
    "duration": 231,
    "start_time": "2024-07-21T19:54:49.077Z"
   },
   {
    "duration": 524,
    "start_time": "2024-07-21T19:54:49.310Z"
   },
   {
    "duration": 39,
    "start_time": "2024-07-21T19:54:49.838Z"
   },
   {
    "duration": 623,
    "start_time": "2024-07-21T19:54:49.880Z"
   },
   {
    "duration": 216,
    "start_time": "2024-07-21T19:54:50.506Z"
   },
   {
    "duration": 4,
    "start_time": "2024-07-21T19:54:50.730Z"
   },
   {
    "duration": 47,
    "start_time": "2024-07-21T19:54:50.737Z"
   },
   {
    "duration": 608,
    "start_time": "2024-07-21T19:54:50.787Z"
   },
   {
    "duration": 14,
    "start_time": "2024-07-21T19:54:51.398Z"
   },
   {
    "duration": 16,
    "start_time": "2024-07-21T19:54:51.415Z"
   },
   {
    "duration": 61,
    "start_time": "2024-07-21T19:54:51.434Z"
   },
   {
    "duration": 67,
    "start_time": "2024-07-21T19:54:51.498Z"
   },
   {
    "duration": 4,
    "start_time": "2024-07-21T19:54:51.574Z"
   },
   {
    "duration": 13956,
    "start_time": "2024-07-21T19:54:51.581Z"
   },
   {
    "duration": 5,
    "start_time": "2024-07-21T19:55:05.540Z"
   },
   {
    "duration": 163,
    "start_time": "2024-07-21T19:55:05.548Z"
   },
   {
    "duration": 116,
    "start_time": "2024-07-21T19:55:05.715Z"
   },
   {
    "duration": 262,
    "start_time": "2024-07-21T19:55:05.834Z"
   },
   {
    "duration": 6532,
    "start_time": "2024-07-21T19:55:06.100Z"
   },
   {
    "duration": 97886,
    "start_time": "2024-07-21T19:55:12.635Z"
   },
   {
    "duration": 993,
    "start_time": "2024-07-21T19:56:50.531Z"
   },
   {
    "duration": 358,
    "start_time": "2024-07-21T19:56:51.532Z"
   },
   {
    "duration": 0,
    "start_time": "2024-07-21T19:56:51.892Z"
   },
   {
    "duration": 171904,
    "start_time": "2024-07-21T20:18:09.433Z"
   },
   {
    "duration": 43127,
    "start_time": "2024-07-21T20:22:15.409Z"
   },
   {
    "duration": 193,
    "start_time": "2024-07-21T20:22:58.540Z"
   },
   {
    "duration": 20,
    "start_time": "2024-07-21T20:30:02.737Z"
   },
   {
    "duration": 28,
    "start_time": "2024-07-21T20:30:11.693Z"
   },
   {
    "duration": 6,
    "start_time": "2024-07-21T20:30:19.376Z"
   },
   {
    "duration": 50,
    "start_time": "2024-07-21T20:30:24.654Z"
   },
   {
    "duration": 47,
    "start_time": "2024-07-21T20:30:55.373Z"
   },
   {
    "duration": 79,
    "start_time": "2024-07-21T20:30:58.055Z"
   },
   {
    "duration": 6,
    "start_time": "2024-07-21T20:31:12.305Z"
   },
   {
    "duration": 52,
    "start_time": "2024-07-21T20:31:19.711Z"
   },
   {
    "duration": 7,
    "start_time": "2024-07-21T20:33:02.798Z"
   },
   {
    "duration": 53,
    "start_time": "2024-07-21T20:33:06.494Z"
   },
   {
    "duration": 189,
    "start_time": "2024-07-21T20:34:17.350Z"
   },
   {
    "duration": 4173,
    "start_time": "2024-07-21T20:56:21.070Z"
   },
   {
    "duration": 78415,
    "start_time": "2024-07-21T21:00:31.123Z"
   },
   {
    "duration": 11219,
    "start_time": "2024-07-21T21:04:48.641Z"
   },
   {
    "duration": 11149,
    "start_time": "2024-07-21T21:05:08.347Z"
   },
   {
    "duration": 11227,
    "start_time": "2024-07-21T21:05:31.436Z"
   },
   {
    "duration": 35,
    "start_time": "2024-07-21T21:09:57.601Z"
   },
   {
    "duration": 1706,
    "start_time": "2024-07-21T21:36:19.298Z"
   },
   {
    "duration": 725,
    "start_time": "2024-07-21T21:36:21.008Z"
   },
   {
    "duration": 33,
    "start_time": "2024-07-21T21:36:21.735Z"
   },
   {
    "duration": 7,
    "start_time": "2024-07-21T21:36:21.771Z"
   },
   {
    "duration": 170,
    "start_time": "2024-07-21T21:36:21.783Z"
   },
   {
    "duration": 163,
    "start_time": "2024-07-21T21:36:21.956Z"
   },
   {
    "duration": 414,
    "start_time": "2024-07-21T21:36:22.122Z"
   },
   {
    "duration": 154,
    "start_time": "2024-07-21T21:36:22.540Z"
   },
   {
    "duration": 38,
    "start_time": "2024-07-21T21:36:22.697Z"
   },
   {
    "duration": 28,
    "start_time": "2024-07-21T21:36:22.737Z"
   },
   {
    "duration": 40,
    "start_time": "2024-07-21T21:36:22.768Z"
   },
   {
    "duration": 30,
    "start_time": "2024-07-21T21:36:22.832Z"
   },
   {
    "duration": 67,
    "start_time": "2024-07-21T21:36:22.865Z"
   },
   {
    "duration": 114,
    "start_time": "2024-07-21T21:36:22.941Z"
   },
   {
    "duration": 148,
    "start_time": "2024-07-21T21:36:23.058Z"
   },
   {
    "duration": 52,
    "start_time": "2024-07-21T21:36:23.212Z"
   },
   {
    "duration": 116,
    "start_time": "2024-07-21T21:36:23.267Z"
   },
   {
    "duration": 7,
    "start_time": "2024-07-21T21:36:23.388Z"
   },
   {
    "duration": 54,
    "start_time": "2024-07-21T21:36:23.399Z"
   },
   {
    "duration": 40,
    "start_time": "2024-07-21T21:36:23.456Z"
   },
   {
    "duration": 41,
    "start_time": "2024-07-21T21:36:23.499Z"
   },
   {
    "duration": 559,
    "start_time": "2024-07-21T21:36:23.543Z"
   },
   {
    "duration": 1631,
    "start_time": "2024-07-21T21:36:24.105Z"
   },
   {
    "duration": 639,
    "start_time": "2024-07-21T21:36:25.739Z"
   },
   {
    "duration": 2960,
    "start_time": "2024-07-21T21:36:26.382Z"
   },
   {
    "duration": 387,
    "start_time": "2024-07-21T21:36:29.348Z"
   },
   {
    "duration": 66,
    "start_time": "2024-07-21T21:36:29.739Z"
   },
   {
    "duration": 56,
    "start_time": "2024-07-21T21:36:29.809Z"
   },
   {
    "duration": 210,
    "start_time": "2024-07-21T21:36:29.868Z"
   },
   {
    "duration": 517,
    "start_time": "2024-07-21T21:36:30.086Z"
   },
   {
    "duration": 45,
    "start_time": "2024-07-21T21:36:30.606Z"
   },
   {
    "duration": 607,
    "start_time": "2024-07-21T21:36:30.654Z"
   },
   {
    "duration": 220,
    "start_time": "2024-07-21T21:36:31.265Z"
   },
   {
    "duration": 4,
    "start_time": "2024-07-21T21:36:31.487Z"
   },
   {
    "duration": 65,
    "start_time": "2024-07-21T21:36:31.494Z"
   },
   {
    "duration": 692,
    "start_time": "2024-07-21T21:36:31.562Z"
   },
   {
    "duration": 13,
    "start_time": "2024-07-21T21:36:32.257Z"
   },
   {
    "duration": 4,
    "start_time": "2024-07-21T21:36:32.273Z"
   },
   {
    "duration": 97,
    "start_time": "2024-07-21T21:36:32.281Z"
   },
   {
    "duration": 71,
    "start_time": "2024-07-21T21:36:32.384Z"
   },
   {
    "duration": 11,
    "start_time": "2024-07-21T21:36:32.480Z"
   },
   {
    "duration": 13839,
    "start_time": "2024-07-21T21:36:32.495Z"
   },
   {
    "duration": 4,
    "start_time": "2024-07-21T21:36:46.337Z"
   },
   {
    "duration": 154,
    "start_time": "2024-07-21T21:36:46.344Z"
   },
   {
    "duration": 64,
    "start_time": "2024-07-21T21:36:46.501Z"
   },
   {
    "duration": 335,
    "start_time": "2024-07-21T21:36:46.568Z"
   },
   {
    "duration": 3934,
    "start_time": "2024-07-21T21:36:46.907Z"
   },
   {
    "duration": 46207,
    "start_time": "2024-07-21T21:36:50.847Z"
   },
   {
    "duration": 1715,
    "start_time": "2024-07-21T21:52:47.909Z"
   },
   {
    "duration": 738,
    "start_time": "2024-07-21T21:52:49.630Z"
   },
   {
    "duration": 29,
    "start_time": "2024-07-21T21:52:50.371Z"
   },
   {
    "duration": 6,
    "start_time": "2024-07-21T21:52:50.403Z"
   },
   {
    "duration": 149,
    "start_time": "2024-07-21T21:52:50.433Z"
   },
   {
    "duration": 150,
    "start_time": "2024-07-21T21:52:50.586Z"
   },
   {
    "duration": 431,
    "start_time": "2024-07-21T21:52:50.738Z"
   },
   {
    "duration": 150,
    "start_time": "2024-07-21T21:52:51.175Z"
   },
   {
    "duration": 27,
    "start_time": "2024-07-21T21:52:51.331Z"
   },
   {
    "duration": 28,
    "start_time": "2024-07-21T21:52:51.366Z"
   },
   {
    "duration": 67,
    "start_time": "2024-07-21T21:52:51.397Z"
   },
   {
    "duration": 26,
    "start_time": "2024-07-21T21:52:51.467Z"
   },
   {
    "duration": 61,
    "start_time": "2024-07-21T21:52:51.496Z"
   },
   {
    "duration": 124,
    "start_time": "2024-07-21T21:52:51.560Z"
   },
   {
    "duration": 165,
    "start_time": "2024-07-21T21:52:51.686Z"
   },
   {
    "duration": 46,
    "start_time": "2024-07-21T21:52:51.854Z"
   },
   {
    "duration": 133,
    "start_time": "2024-07-21T21:52:51.903Z"
   },
   {
    "duration": 13,
    "start_time": "2024-07-21T21:52:52.040Z"
   },
   {
    "duration": 28,
    "start_time": "2024-07-21T21:52:52.058Z"
   },
   {
    "duration": 61,
    "start_time": "2024-07-21T21:52:52.089Z"
   },
   {
    "duration": 17,
    "start_time": "2024-07-21T21:52:52.154Z"
   },
   {
    "duration": 546,
    "start_time": "2024-07-21T21:52:52.174Z"
   },
   {
    "duration": 1545,
    "start_time": "2024-07-21T21:52:52.723Z"
   },
   {
    "duration": 524,
    "start_time": "2024-07-21T21:52:54.271Z"
   },
   {
    "duration": 2767,
    "start_time": "2024-07-21T21:52:54.798Z"
   },
   {
    "duration": 341,
    "start_time": "2024-07-21T21:52:57.568Z"
   },
   {
    "duration": 49,
    "start_time": "2024-07-21T21:52:57.912Z"
   },
   {
    "duration": 39,
    "start_time": "2024-07-21T21:52:57.968Z"
   },
   {
    "duration": 204,
    "start_time": "2024-07-21T21:52:58.030Z"
   },
   {
    "duration": 492,
    "start_time": "2024-07-21T21:52:58.239Z"
   },
   {
    "duration": 40,
    "start_time": "2024-07-21T21:52:58.734Z"
   },
   {
    "duration": 612,
    "start_time": "2024-07-21T21:52:58.777Z"
   },
   {
    "duration": 219,
    "start_time": "2024-07-21T21:52:59.392Z"
   },
   {
    "duration": 4,
    "start_time": "2024-07-21T21:52:59.614Z"
   },
   {
    "duration": 47,
    "start_time": "2024-07-21T21:52:59.632Z"
   },
   {
    "duration": 609,
    "start_time": "2024-07-21T21:52:59.682Z"
   },
   {
    "duration": 15,
    "start_time": "2024-07-21T21:53:00.293Z"
   },
   {
    "duration": 4,
    "start_time": "2024-07-21T21:53:00.311Z"
   },
   {
    "duration": 57,
    "start_time": "2024-07-21T21:53:00.332Z"
   },
   {
    "duration": 65,
    "start_time": "2024-07-21T21:53:00.392Z"
   },
   {
    "duration": 6,
    "start_time": "2024-07-21T21:53:00.459Z"
   },
   {
    "duration": 15063,
    "start_time": "2024-07-21T21:53:00.468Z"
   },
   {
    "duration": 9,
    "start_time": "2024-07-21T21:53:15.533Z"
   },
   {
    "duration": 153,
    "start_time": "2024-07-21T21:53:15.548Z"
   },
   {
    "duration": 65,
    "start_time": "2024-07-21T21:53:15.704Z"
   },
   {
    "duration": 315,
    "start_time": "2024-07-21T21:53:15.772Z"
   },
   {
    "duration": 4274,
    "start_time": "2024-07-21T21:53:16.090Z"
   },
   {
    "duration": 43485,
    "start_time": "2024-07-21T21:53:20.368Z"
   },
   {
    "duration": 62152,
    "start_time": "2024-07-21T21:54:03.856Z"
   },
   {
    "duration": 645,
    "start_time": "2024-07-21T21:55:06.012Z"
   },
   {
    "duration": 592,
    "start_time": "2024-07-21T21:55:25.667Z"
   },
   {
    "duration": 1709,
    "start_time": "2024-07-21T22:02:59.844Z"
   },
   {
    "duration": 752,
    "start_time": "2024-07-21T22:03:01.556Z"
   },
   {
    "duration": 44,
    "start_time": "2024-07-21T22:03:02.312Z"
   },
   {
    "duration": 6,
    "start_time": "2024-07-21T22:03:02.361Z"
   },
   {
    "duration": 176,
    "start_time": "2024-07-21T22:03:02.370Z"
   },
   {
    "duration": 146,
    "start_time": "2024-07-21T22:03:02.550Z"
   },
   {
    "duration": 415,
    "start_time": "2024-07-21T22:03:02.700Z"
   },
   {
    "duration": 150,
    "start_time": "2024-07-21T22:03:03.118Z"
   },
   {
    "duration": 27,
    "start_time": "2024-07-21T22:03:03.272Z"
   },
   {
    "duration": 43,
    "start_time": "2024-07-21T22:03:03.305Z"
   },
   {
    "duration": 45,
    "start_time": "2024-07-21T22:03:03.351Z"
   },
   {
    "duration": 50,
    "start_time": "2024-07-21T22:03:03.400Z"
   },
   {
    "duration": 41,
    "start_time": "2024-07-21T22:03:03.454Z"
   },
   {
    "duration": 132,
    "start_time": "2024-07-21T22:03:03.498Z"
   },
   {
    "duration": 143,
    "start_time": "2024-07-21T22:03:03.633Z"
   },
   {
    "duration": 63,
    "start_time": "2024-07-21T22:03:03.780Z"
   },
   {
    "duration": 100,
    "start_time": "2024-07-21T22:03:03.846Z"
   },
   {
    "duration": 5,
    "start_time": "2024-07-21T22:03:03.949Z"
   },
   {
    "duration": 28,
    "start_time": "2024-07-21T22:03:03.958Z"
   },
   {
    "duration": 73,
    "start_time": "2024-07-21T22:03:03.989Z"
   },
   {
    "duration": 19,
    "start_time": "2024-07-21T22:03:04.065Z"
   },
   {
    "duration": 857,
    "start_time": "2024-07-21T22:03:04.087Z"
   },
   {
    "duration": 1572,
    "start_time": "2024-07-21T22:03:04.946Z"
   },
   {
    "duration": 559,
    "start_time": "2024-07-21T22:03:06.522Z"
   },
   {
    "duration": 2719,
    "start_time": "2024-07-21T22:03:07.084Z"
   },
   {
    "duration": 328,
    "start_time": "2024-07-21T22:03:09.805Z"
   },
   {
    "duration": 63,
    "start_time": "2024-07-21T22:03:10.137Z"
   },
   {
    "duration": 45,
    "start_time": "2024-07-21T22:03:10.231Z"
   },
   {
    "duration": 214,
    "start_time": "2024-07-21T22:03:10.281Z"
   },
   {
    "duration": 497,
    "start_time": "2024-07-21T22:03:10.498Z"
   },
   {
    "duration": 48,
    "start_time": "2024-07-21T22:03:10.998Z"
   },
   {
    "duration": 637,
    "start_time": "2024-07-21T22:03:11.049Z"
   },
   {
    "duration": 228,
    "start_time": "2024-07-21T22:03:11.689Z"
   },
   {
    "duration": 10,
    "start_time": "2024-07-21T22:03:11.921Z"
   },
   {
    "duration": 47,
    "start_time": "2024-07-21T22:03:11.934Z"
   },
   {
    "duration": 660,
    "start_time": "2024-07-21T22:03:11.984Z"
   },
   {
    "duration": 13,
    "start_time": "2024-07-21T22:03:12.648Z"
   },
   {
    "duration": 4,
    "start_time": "2024-07-21T22:03:12.664Z"
   },
   {
    "duration": 87,
    "start_time": "2024-07-21T22:03:12.671Z"
   },
   {
    "duration": 41,
    "start_time": "2024-07-21T22:03:12.761Z"
   },
   {
    "duration": 25,
    "start_time": "2024-07-21T22:03:12.805Z"
   },
   {
    "duration": 13711,
    "start_time": "2024-07-21T22:03:12.834Z"
   },
   {
    "duration": 5,
    "start_time": "2024-07-21T22:03:26.548Z"
   },
   {
    "duration": 100,
    "start_time": "2024-07-21T22:03:26.632Z"
   },
   {
    "duration": 102,
    "start_time": "2024-07-21T22:03:26.735Z"
   },
   {
    "duration": 287,
    "start_time": "2024-07-21T22:03:26.839Z"
   },
   {
    "duration": 6533,
    "start_time": "2024-07-21T22:03:27.132Z"
   },
   {
    "duration": 47090,
    "start_time": "2024-07-21T22:03:33.669Z"
   },
   {
    "duration": 64524,
    "start_time": "2024-07-21T22:04:20.762Z"
   },
   {
    "duration": 663,
    "start_time": "2024-07-21T22:05:25.289Z"
   },
   {
    "duration": 1653,
    "start_time": "2024-07-21T22:12:24.381Z"
   },
   {
    "duration": 1567,
    "start_time": "2024-07-21T22:12:35.471Z"
   },
   {
    "duration": 13968,
    "start_time": "2024-07-21T22:25:41.863Z"
   },
   {
    "duration": 11,
    "start_time": "2024-07-21T22:42:06.423Z"
   },
   {
    "duration": 9,
    "start_time": "2024-07-21T22:42:10.883Z"
   },
   {
    "duration": 42704,
    "start_time": "2024-07-21T22:42:14.426Z"
   },
   {
    "duration": 1661,
    "start_time": "2024-07-21T23:18:54.189Z"
   },
   {
    "duration": 740,
    "start_time": "2024-07-21T23:18:55.853Z"
   },
   {
    "duration": 40,
    "start_time": "2024-07-21T23:18:56.596Z"
   },
   {
    "duration": 5,
    "start_time": "2024-07-21T23:18:56.639Z"
   },
   {
    "duration": 162,
    "start_time": "2024-07-21T23:18:56.650Z"
   },
   {
    "duration": 152,
    "start_time": "2024-07-21T23:18:56.816Z"
   },
   {
    "duration": 425,
    "start_time": "2024-07-21T23:18:56.972Z"
   },
   {
    "duration": 152,
    "start_time": "2024-07-21T23:18:57.400Z"
   },
   {
    "duration": 25,
    "start_time": "2024-07-21T23:18:57.556Z"
   },
   {
    "duration": 48,
    "start_time": "2024-07-21T23:18:57.585Z"
   },
   {
    "duration": 41,
    "start_time": "2024-07-21T23:18:57.635Z"
   },
   {
    "duration": 25,
    "start_time": "2024-07-21T23:18:57.679Z"
   },
   {
    "duration": 40,
    "start_time": "2024-07-21T23:18:57.731Z"
   },
   {
    "duration": 125,
    "start_time": "2024-07-21T23:18:57.779Z"
   },
   {
    "duration": 148,
    "start_time": "2024-07-21T23:18:57.906Z"
   },
   {
    "duration": 44,
    "start_time": "2024-07-21T23:18:58.057Z"
   },
   {
    "duration": 127,
    "start_time": "2024-07-21T23:18:58.104Z"
   },
   {
    "duration": 5,
    "start_time": "2024-07-21T23:18:58.234Z"
   },
   {
    "duration": 34,
    "start_time": "2024-07-21T23:18:58.241Z"
   },
   {
    "duration": 66,
    "start_time": "2024-07-21T23:18:58.277Z"
   },
   {
    "duration": 18,
    "start_time": "2024-07-21T23:18:58.346Z"
   },
   {
    "duration": 557,
    "start_time": "2024-07-21T23:18:58.369Z"
   },
   {
    "duration": 1551,
    "start_time": "2024-07-21T23:18:58.931Z"
   },
   {
    "duration": 545,
    "start_time": "2024-07-21T23:19:00.485Z"
   },
   {
    "duration": 2853,
    "start_time": "2024-07-21T23:19:01.034Z"
   },
   {
    "duration": 602,
    "start_time": "2024-07-21T23:19:03.889Z"
   },
   {
    "duration": 64,
    "start_time": "2024-07-21T23:19:04.495Z"
   },
   {
    "duration": 40,
    "start_time": "2024-07-21T23:19:04.563Z"
   },
   {
    "duration": 203,
    "start_time": "2024-07-21T23:19:04.630Z"
   },
   {
    "duration": 518,
    "start_time": "2024-07-21T23:19:04.837Z"
   },
   {
    "duration": 40,
    "start_time": "2024-07-21T23:19:05.357Z"
   },
   {
    "duration": 646,
    "start_time": "2024-07-21T23:19:05.400Z"
   },
   {
    "duration": 232,
    "start_time": "2024-07-21T23:19:06.049Z"
   },
   {
    "duration": 66,
    "start_time": "2024-07-21T23:19:06.284Z"
   },
   {
    "duration": 615,
    "start_time": "2024-07-21T23:19:06.353Z"
   },
   {
    "duration": 12,
    "start_time": "2024-07-21T23:19:06.971Z"
   },
   {
    "duration": 4,
    "start_time": "2024-07-21T23:19:06.986Z"
   },
   {
    "duration": 85,
    "start_time": "2024-07-21T23:19:06.994Z"
   },
   {
    "duration": 54,
    "start_time": "2024-07-21T23:19:07.082Z"
   },
   {
    "duration": 6,
    "start_time": "2024-07-21T23:19:07.139Z"
   },
   {
    "duration": 14202,
    "start_time": "2024-07-21T23:19:07.154Z"
   },
   {
    "duration": 72,
    "start_time": "2024-07-21T23:19:21.360Z"
   },
   {
    "duration": 135,
    "start_time": "2024-07-21T23:19:21.436Z"
   },
   {
    "duration": 71,
    "start_time": "2024-07-21T23:19:21.574Z"
   },
   {
    "duration": 347,
    "start_time": "2024-07-21T23:19:21.648Z"
   },
   {
    "duration": 5066,
    "start_time": "2024-07-21T23:19:21.999Z"
   },
   {
    "duration": 43785,
    "start_time": "2024-07-21T23:19:27.070Z"
   },
   {
    "duration": 62462,
    "start_time": "2024-07-21T23:20:10.858Z"
   },
   {
    "duration": 706,
    "start_time": "2024-07-21T23:21:13.324Z"
   },
   {
    "duration": 12,
    "start_time": "2024-07-22T08:55:33.310Z"
   }
  ],
  "kernelspec": {
   "display_name": "Python 3 (ipykernel)",
   "language": "python",
   "name": "python3"
  },
  "language_info": {
   "codemirror_mode": {
    "name": "ipython",
    "version": 3
   },
   "file_extension": ".py",
   "mimetype": "text/x-python",
   "name": "python",
   "nbconvert_exporter": "python",
   "pygments_lexer": "ipython3",
   "version": "3.9.19"
  },
  "toc": {
   "base_numbering": 1,
   "nav_menu": {},
   "number_sections": true,
   "sideBar": true,
   "skip_h1_title": true,
   "title_cell": "Table of Contents",
   "title_sidebar": "Contents",
   "toc_cell": false,
   "toc_position": {},
   "toc_section_display": true,
   "toc_window_display": false
  }
 },
 "nbformat": 4,
 "nbformat_minor": 2
}
